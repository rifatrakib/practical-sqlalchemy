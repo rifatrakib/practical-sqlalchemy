{
 "cells": [
  {
   "cell_type": "markdown",
   "metadata": {},
   "source": [
    "#### Mapping a Subset of Table Columns\n",
    "\n",
    "Sometimes, a `Table` object was _made available_ using the __reflection process__ described at `Reflecting Database Objects` to _load the table's structure from the database_. For such a table that has lots of columns that don't need to be referenced in the application, the `include_properties` or `exclude_properties` arguments _can specify_ that __only a subset of columns should be mapped__."
   ]
  },
  {
   "cell_type": "code",
   "execution_count": 1,
   "metadata": {},
   "outputs": [],
   "source": [
    "from sqlalchemy import Column, ForeignKey, Integer, String, Table\n",
    "from sqlalchemy.orm import declarative_base"
   ]
  },
  {
   "cell_type": "code",
   "execution_count": 2,
   "metadata": {},
   "outputs": [],
   "source": [
    "Base = declarative_base()"
   ]
  },
  {
   "cell_type": "code",
   "execution_count": 3,
   "metadata": {},
   "outputs": [],
   "source": [
    "user_table = Table(\n",
    "    \"user_table\",\n",
    "    Base.metadata,\n",
    "    Column(\"id\", Integer, primary_key=True),\n",
    "    Column(\"user_name\", String),\n",
    "    Column(\"first_name\", String),\n",
    "    Column(\"last_name\", String),\n",
    ")"
   ]
  },
  {
   "cell_type": "code",
   "execution_count": 4,
   "metadata": {},
   "outputs": [],
   "source": [
    "address_table = Table(\n",
    "    \"address_table\",\n",
    "    Base.metadata,\n",
    "    Column(\"id\", Integer, primary_key=True),\n",
    "    Column(\"user_id\", Integer, ForeignKey(\"user_table.id\")),\n",
    "    Column(\"street\", String),\n",
    "    Column(\"city\", String),\n",
    "    Column(\"state\", String),\n",
    "    Column(\"zip\", String),\n",
    ")"
   ]
  },
  {
   "cell_type": "code",
   "execution_count": 5,
   "metadata": {},
   "outputs": [],
   "source": [
    "class User(Base):\n",
    "    __table__ = user_table\n",
    "    __mapper_args__ = {\"include_properties\": [\"id\", \"user_name\"]}"
   ]
  },
  {
   "cell_type": "markdown",
   "metadata": {},
   "source": [
    "...will map the `User` class to the `user_table` table, only including the `id` and `user_name` columns - the rest are not referenced. Similarly:"
   ]
  },
  {
   "cell_type": "code",
   "execution_count": 6,
   "metadata": {},
   "outputs": [],
   "source": [
    "class Address(Base):\n",
    "    __table__ = address_table\n",
    "    __mapper_args__ = {\"exclude_properties\": [\"street\", \"city\", \"state\", \"zip\"]}"
   ]
  },
  {
   "cell_type": "markdown",
   "metadata": {},
   "source": [
    "...will map the `Address` class to the `address_table` table, including all columns present except street, city, state, and zip."
   ]
  },
  {
   "cell_type": "markdown",
   "metadata": {},
   "source": [
    "When this mapping is used, the _columns that are not included_ __will not be referenced__ in any `SELECT` statements _emitted by_ `Query`, __nor__ will there be _any mapped attribute_ on the mapped class which represents the column; _assigning an attribute of that name_ will __have no effect__ beyond that of a normal Python attribute assignment.\n",
    "\n",
    "In some cases, _multiple columns may have the same name_, such as when __mapping to a join of two or more tables__ that share some column name. `include_properties` and `exclude_properties` can also accommodate `Column` objects to __more accurately describe which columns should be included or excluded__."
   ]
  },
  {
   "cell_type": "code",
   "execution_count": 7,
   "metadata": {},
   "outputs": [],
   "source": [
    "class UserAddress(Base):\n",
    "    __table__ = user_table.join(address_table)\n",
    "    __mapper_args__ = {\n",
    "        \"exclude_properties\": [address_table.c.id],\n",
    "        \"primary_key\": [user_table.c.id]\n",
    "    }"
   ]
  },
  {
   "cell_type": "markdown",
   "metadata": {},
   "source": [
    "> ##### Note\n",
    "> \n",
    "> `insert` and `update` defaults configured on individual `Column` objects, i.e. those described at Column `INSERT/UPDATE Defaults` including those configured by the `Column.default`, `Column.onupdate`, `Column.server_default` and `Column.server_onupdate` parameters, will __continue to function normally__ even if those `Column` objects are _not mapped_. This is because in the case of `Column.default` and `Column.onupdate`, the `Column` object is __still present on the underlying `Table`__, thus _allowing the default functions_ to take place when the __ORM emits__ an `INSERT` or `UPDATE`, and in the case of `Column.server_default` and `Column.server_onupdate`, the __relational database itself emits__ these defaults as a `server side behavior`."
   ]
  },
  {
   "cell_type": "code",
   "execution_count": null,
   "metadata": {},
   "outputs": [],
   "source": []
  }
 ],
 "metadata": {
  "kernelspec": {
   "display_name": "Python 3.9.6 ('sql-env': venv)",
   "language": "python",
   "name": "python3"
  },
  "language_info": {
   "codemirror_mode": {
    "name": "ipython",
    "version": 3
   },
   "file_extension": ".py",
   "mimetype": "text/x-python",
   "name": "python",
   "nbconvert_exporter": "python",
   "pygments_lexer": "ipython3",
   "version": "3.9.6"
  },
  "orig_nbformat": 4,
  "vscode": {
   "interpreter": {
    "hash": "3b00ed0d5d9853c9f0267ee6e89091ab706130aa0b00cb1356a08ef47194a158"
   }
  }
 },
 "nbformat": 4,
 "nbformat_minor": 2
}
