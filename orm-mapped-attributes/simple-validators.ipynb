{
 "cells": [
  {
   "cell_type": "markdown",
   "metadata": {},
   "source": [
    "#### Simple Validators\n",
    "\n",
    "A quick way to add a __\"validation\" routine__ to an attribute is to use the `validates()` decorator. An _attribute validator_ can raise an exception, halting the process of _mutating the attribute's value_, or can _change the given value into something different_. _Validators_, like all attribute extensions, are __only called by normal userland code__; they are __not issued when the ORM is populating the object__."
   ]
  },
  {
   "cell_type": "code",
   "execution_count": 1,
   "metadata": {},
   "outputs": [],
   "source": [
    "from sqlalchemy import Column, ForeignKey, Integer, String\n",
    "from sqlalchemy.orm import declarative_base, validates, relationship"
   ]
  },
  {
   "cell_type": "code",
   "execution_count": 2,
   "metadata": {},
   "outputs": [],
   "source": [
    "Base = declarative_base()"
   ]
  },
  {
   "cell_type": "code",
   "execution_count": 3,
   "metadata": {},
   "outputs": [],
   "source": [
    "class EmailAddress(Base):\n",
    "    __tablename__ = \"address\"\n",
    "    \n",
    "    id = Column(Integer, primary_key=True)\n",
    "    email = Column(String)\n",
    "    \n",
    "    @validates(\"email\")\n",
    "    def validate_email(self, key, address):\n",
    "        if \"@\" not in address.email:\n",
    "            raise ValueError(\"failed simplified email validation\")\n",
    "        return address"
   ]
  },
  {
   "cell_type": "markdown",
   "metadata": {},
   "source": [
    "_Validators_ also `receive` _collection append events_, when _items_ are __added to a collection__."
   ]
  },
  {
   "cell_type": "code",
   "execution_count": 4,
   "metadata": {},
   "outputs": [],
   "source": [
    "class User(Base):\n",
    "    __tablename__ = \"user\"\n",
    "    \n",
    "    id = Column(Integer, primary_key=True)\n",
    "    name = Column(String(30))\n",
    "    fullname = Column(String)\n",
    "    \n",
    "    addresses = relationship(\"Address\")\n",
    "    \n",
    "    @validates(\"addresses\")\n",
    "    def validate_addresses(self, key, address):\n",
    "        if \"@\" not in address.email:\n",
    "            raise ValueError(\"failed simplified email validation\")\n",
    "        return address"
   ]
  },
  {
   "cell_type": "markdown",
   "metadata": {},
   "source": [
    "The _validation function_ __by default does not get emitted__ for __collection remove events__, as the typical expectation is that a _value being discarded doesn't require validation_. However, `validates()` supports reception of these events by specifying `include_removes=True` to the decorator. When this _flag is set_, the _validation function_ __must receive an additional boolean argument__ which if True indicates that the operation is a removal."
   ]
  },
  {
   "cell_type": "code",
   "execution_count": 5,
   "metadata": {},
   "outputs": [],
   "source": [
    "class UserRedundant(Base):\n",
    "    __tablename__ = \"user_redundant\"\n",
    "    \n",
    "    id = Column(Integer, primary_key=True)\n",
    "    name = Column(String(30))\n",
    "    fullname = Column(String)\n",
    "    \n",
    "    addresses = relationship(\"Address\")\n",
    "    \n",
    "    @validates(\"addresses\", include_removes=True)\n",
    "    def validate_addresses(self, key, address):\n",
    "        if \"@\" not in address.email:\n",
    "            raise ValueError(\"failed simplified email validation\")\n",
    "        return address"
   ]
  },
  {
   "cell_type": "markdown",
   "metadata": {},
   "source": [
    "The case where _mutually dependent validators_ are _linked via a backref_ can also be tailored, using the `include_backrefs=False` option; this option, when set to `False`, __prevents a validation function from emitting__ if the event occurs as a result of a backref."
   ]
  },
  {
   "cell_type": "code",
   "execution_count": 6,
   "metadata": {},
   "outputs": [],
   "source": [
    "class Address(Base):\n",
    "    __tablename__ = \"address_backref\"\n",
    "    \n",
    "    id = Column(Integer, primary_key=True)\n",
    "    email = Column(String)\n",
    "    user_id = Column(Integer, ForeignKey(\"user_backref.id\"), nullable=False)\n",
    "    \n",
    "    @validates(\"email\")\n",
    "    def validate_email(self, key, address):\n",
    "        if \"@\" not in address.email:\n",
    "            raise ValueError(\"failed simplified email validation\")\n",
    "        return address"
   ]
  },
  {
   "cell_type": "code",
   "execution_count": 7,
   "metadata": {},
   "outputs": [],
   "source": [
    "class UserBackref(Base):\n",
    "    __tablename__ = \"user_backref\"\n",
    "    \n",
    "    id = Column(Integer, primary_key=True)\n",
    "    name = Column(String(30))\n",
    "    fullname = Column(String)\n",
    "    \n",
    "    addresses = relationship(\"Address\", backref=\"user\")\n",
    "    \n",
    "    @validates(\"addresses\", include_backrefs=False)\n",
    "    def validate_addresses(self, key, address):\n",
    "        if \"@\" not in address.email:\n",
    "            raise ValueError(\"failed simplified email validation\")\n",
    "        return address"
   ]
  },
  {
   "cell_type": "markdown",
   "metadata": {},
   "source": [
    "Above, if we were to assign to `Address.user` as in `some_address.user = some_user`, the `validate_address()` function __would not be emitted__, even though an append occurs to `some_user.addresses` - the event is _caused by a backref_.\n",
    "\n",
    "Note that the `validates()` decorator is a _convenience function_ built on top of _attribute events_. An application that requires _more control over configuration of attribute change behavior_ can make use of this system, described at `AttributeEvents`."
   ]
  },
  {
   "cell_type": "code",
   "execution_count": null,
   "metadata": {},
   "outputs": [],
   "source": []
  }
 ],
 "metadata": {
  "kernelspec": {
   "display_name": "Python 3.9.6 ('sql-env': venv)",
   "language": "python",
   "name": "python3"
  },
  "language_info": {
   "codemirror_mode": {
    "name": "ipython",
    "version": 3
   },
   "file_extension": ".py",
   "mimetype": "text/x-python",
   "name": "python",
   "nbconvert_exporter": "python",
   "pygments_lexer": "ipython3",
   "version": "3.9.6"
  },
  "orig_nbformat": 4,
  "vscode": {
   "interpreter": {
    "hash": "3b00ed0d5d9853c9f0267ee6e89091ab706130aa0b00cb1356a08ef47194a158"
   }
  }
 },
 "nbformat": 4,
 "nbformat_minor": 2
}
