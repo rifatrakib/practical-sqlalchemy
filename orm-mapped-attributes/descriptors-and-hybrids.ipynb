{
 "cells": [
  {
   "cell_type": "markdown",
   "metadata": {},
   "source": [
    "#### Using Descriptors and Hybrids\n",
    "\n",
    "A _more comprehensive way_ to produce _modified behavior_ for an attribute is __to use descriptors__. These are commonly used in Python using the `property()` function. The standard SQLAlchemy technique for descriptors is to __create a plain descriptor__, and to have it _read/write from a mapped attribute with a different name_. Below we illustrate this using Python 2.6-style properties."
   ]
  },
  {
   "cell_type": "code",
   "execution_count": 1,
   "metadata": {},
   "outputs": [],
   "source": [
    "from sqlalchemy import Column, Integer, String, func\n",
    "from sqlalchemy.orm import declarative_base\n",
    "from sqlalchemy.ext.hybrid import hybrid_property"
   ]
  },
  {
   "cell_type": "code",
   "execution_count": 2,
   "metadata": {},
   "outputs": [],
   "source": [
    "Base = declarative_base()"
   ]
  },
  {
   "cell_type": "code",
   "execution_count": 3,
   "metadata": {},
   "outputs": [],
   "source": [
    "class EmailAddressWithProperty(Base):\n",
    "    __tablename__ = \"email_address\"\n",
    "    \n",
    "    id = Column(Integer, primary_key=True)\n",
    "    # name the attribute with an underscore, different from the column name\n",
    "    _email = Column(\"email\", String)\n",
    "    \n",
    "    # then create an \".email\" attribute, to get/set \"._email\"\n",
    "    @property\n",
    "    def email(self):\n",
    "        return self._email\n",
    "    \n",
    "    @email.setter\n",
    "    def email(self, email):\n",
    "        self._email = email"
   ]
  },
  {
   "cell_type": "markdown",
   "metadata": {},
   "source": [
    "The approach above will work, but there's more we can add. While our `EmailAddressWithProperty` object will __shuttle the value__ through the _email descriptor_ and into the *_email mapped attribute*, the _class level_ `EmailAddressWithProperty.email` _attribute_ __does not have the usual expression semantics usable with `Query`__. To provide these, we instead use the `hybrid extension`."
   ]
  },
  {
   "cell_type": "code",
   "execution_count": 4,
   "metadata": {},
   "outputs": [],
   "source": [
    "class EmailAddressHybridExtension(Base):\n",
    "    __tablename__ = \"email_address_hybrid\"\n",
    "    \n",
    "    id = Column(Integer, primary_key=True)\n",
    "    _email = Column(\"email\", String)\n",
    "    \n",
    "    @hybrid_property\n",
    "    def email(self):\n",
    "        return self._email\n",
    "    \n",
    "    @email.setter\n",
    "    def email(self, email):\n",
    "        self._email = email"
   ]
  },
  {
   "cell_type": "markdown",
   "metadata": {},
   "source": [
    "The `.email` attribute, in addition to providing _getter/setter behavior_ when we have an instance of `EmailAddressHybridExtension`, also _provides a SQL expression_ when __used at the class level__, that is, from the `EmailAddressHybridExtension` class __directly__.\n",
    "\n",
    "```\n",
    "address = (\n",
    "    session.query(EmailAddressHybridExtension).\n",
    "    filter(\n",
    "        EmailAddressHybridExtension.email == \"address@example.com\"\n",
    "    ).one()\n",
    ")\n",
    "```\n",
    "\n",
    "The `hybrid_property` also allows us to __change the behavior of the attribute__, including _defining separate behaviors_ when the attribute is _accessed at the instance level_ versus at the _class/expression level_, using the `hybrid_property.expression()` _modifier_. Such as, if we wanted to _add a host name automatically_, we might define __two sets of string manipulation logic__."
   ]
  },
  {
   "cell_type": "code",
   "execution_count": 5,
   "metadata": {},
   "outputs": [],
   "source": [
    "class EmailAddressPropertyExpression(Base):\n",
    "    __tablename__ = \"email_address_expression\"\n",
    "    \n",
    "    id = Column(Integer, primary_key=True)\n",
    "    _email = Column(\"email\", String)\n",
    "    \n",
    "    @hybrid_property\n",
    "    def email(self):\n",
    "        \"\"\"Return the value of _email up until the last twelve characters.\"\"\"\n",
    "        return self._email[:-12]\n",
    "    \n",
    "    @email.setter\n",
    "    def email(self, email):\n",
    "        \"\"\"Set the value of _email, tacking on the twelve character value @example.com.\"\"\"\n",
    "        self._email = f\"{email}@example.com\"\n",
    "    \n",
    "    @email.expression\n",
    "    def email(cls):\n",
    "        \"\"\"Produce a SQL expression that represents the value\n",
    "        of the _email column, minus the last twelve characters.\"\"\"\n",
    "        return func.substr(cls._email, 0, func.length(cls._email) - 12)"
   ]
  },
  {
   "cell_type": "markdown",
   "metadata": {},
   "source": [
    "Above, accessing the _email_ property of an instance of `EmailAddressPropertyExpression` will return the value of the *_email* attribute, __removing or adding the hostname__ `@example.com` from the value. When we _query against the email attribute_, a __SQL function is rendered__ which produces the _same effect_.\n",
    "\n",
    "```\n",
    "sqladdress = (\n",
    "    session.query(EmailAddressPropertyExpression).\n",
    "    filter(EmailAddressPropertyExpression.email == \"address\").one()\n",
    ")\n",
    "```"
   ]
  },
  {
   "cell_type": "code",
   "execution_count": null,
   "metadata": {},
   "outputs": [],
   "source": []
  }
 ],
 "metadata": {
  "kernelspec": {
   "display_name": "Python 3.9.6 ('sql-env': venv)",
   "language": "python",
   "name": "python3"
  },
  "language_info": {
   "codemirror_mode": {
    "name": "ipython",
    "version": 3
   },
   "file_extension": ".py",
   "mimetype": "text/x-python",
   "name": "python",
   "nbconvert_exporter": "python",
   "pygments_lexer": "ipython3",
   "version": "3.9.6"
  },
  "orig_nbformat": 4,
  "vscode": {
   "interpreter": {
    "hash": "3b00ed0d5d9853c9f0267ee6e89091ab706130aa0b00cb1356a08ef47194a158"
   }
  }
 },
 "nbformat": 4,
 "nbformat_minor": 2
}
