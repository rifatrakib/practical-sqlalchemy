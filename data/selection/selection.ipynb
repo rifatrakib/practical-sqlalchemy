{
 "cells": [
  {
   "cell_type": "markdown",
   "metadata": {},
   "source": [
    "## Selecting Rows with Core or ORM\n",
    "\n",
    "For both Core and ORM, the `select()` function generates a `Select construct` which is used for all `SELECT` queries. Passed to methods like _`Connection.execute()` in Core_ and _`Session.execute()` in ORM_, a `SELECT statement` is emitted in the _current transaction_ and the result rows available via the returned `Result` object."
   ]
  },
  {
   "cell_type": "markdown",
   "metadata": {},
   "source": [
    "#### Initialize tables with some data"
   ]
  },
  {
   "cell_type": "code",
   "execution_count": 29,
   "metadata": {},
   "outputs": [],
   "source": [
    "from sqlalchemy import (\n",
    "    MetaData, Table, Column, Integer, String, ForeignKey, create_engine,\n",
    "    insert, select, bindparam, func, cast, text, literal_column, and_, or_,\n",
    ")\n",
    "from sqlalchemy.orm import Session, registry, relationship"
   ]
  },
  {
   "cell_type": "code",
   "execution_count": 2,
   "metadata": {},
   "outputs": [],
   "source": [
    "engine = create_engine(\"sqlite+pysqlite:///:memory:\", echo=True, future=True)\n",
    "metadata_obj = MetaData()"
   ]
  },
  {
   "cell_type": "code",
   "execution_count": 3,
   "metadata": {},
   "outputs": [
    {
     "name": "stdout",
     "output_type": "stream",
     "text": [
      "2022-09-25 09:49:41,611 INFO sqlalchemy.engine.Engine BEGIN (implicit)\n",
      "2022-09-25 09:49:41,612 INFO sqlalchemy.engine.Engine PRAGMA main.table_info(\"user_account\")\n",
      "2022-09-25 09:49:41,613 INFO sqlalchemy.engine.Engine [raw sql] ()\n",
      "2022-09-25 09:49:41,614 INFO sqlalchemy.engine.Engine PRAGMA temp.table_info(\"user_account\")\n",
      "2022-09-25 09:49:41,615 INFO sqlalchemy.engine.Engine [raw sql] ()\n",
      "2022-09-25 09:49:41,617 INFO sqlalchemy.engine.Engine PRAGMA main.table_info(\"address\")\n",
      "2022-09-25 09:49:41,618 INFO sqlalchemy.engine.Engine [raw sql] ()\n",
      "2022-09-25 09:49:41,620 INFO sqlalchemy.engine.Engine PRAGMA temp.table_info(\"address\")\n",
      "2022-09-25 09:49:41,621 INFO sqlalchemy.engine.Engine [raw sql] ()\n",
      "2022-09-25 09:49:41,623 INFO sqlalchemy.engine.Engine \n",
      "CREATE TABLE user_account (\n",
      "\tid INTEGER NOT NULL, \n",
      "\tname VARCHAR(30), \n",
      "\tfullname VARCHAR, \n",
      "\tPRIMARY KEY (id)\n",
      ")\n",
      "\n",
      "\n",
      "2022-09-25 09:49:41,623 INFO sqlalchemy.engine.Engine [no key 0.00083s] ()\n",
      "2022-09-25 09:49:41,626 INFO sqlalchemy.engine.Engine \n",
      "CREATE TABLE address (\n",
      "\tid INTEGER NOT NULL, \n",
      "\tuser_id INTEGER NOT NULL, \n",
      "\temail_address VARCHAR NOT NULL, \n",
      "\tPRIMARY KEY (id), \n",
      "\tFOREIGN KEY(user_id) REFERENCES user_account (id)\n",
      ")\n",
      "\n",
      "\n",
      "2022-09-25 09:49:41,627 INFO sqlalchemy.engine.Engine [no key 0.00066s] ()\n",
      "2022-09-25 09:49:41,628 INFO sqlalchemy.engine.Engine COMMIT\n"
     ]
    }
   ],
   "source": [
    "user_table = Table(\n",
    "    \"user_account\", metadata_obj,\n",
    "    Column(\"id\", Integer, primary_key=True),\n",
    "    Column(\"name\", String(30)),\n",
    "    Column(\"fullname\", String),\n",
    ")\n",
    "\n",
    "address_table = Table(\n",
    "    \"address\", metadata_obj,\n",
    "    Column(\"id\", Integer, primary_key=True),\n",
    "    Column(\"user_id\", ForeignKey(\"user_account.id\"), nullable=False),\n",
    "    Column(\"email_address\", String, nullable=False)\n",
    ")\n",
    "\n",
    "metadata_obj.create_all(engine)"
   ]
  },
  {
   "cell_type": "code",
   "execution_count": 4,
   "metadata": {},
   "outputs": [
    {
     "name": "stdout",
     "output_type": "stream",
     "text": [
      "2022-09-25 09:49:41,733 INFO sqlalchemy.engine.Engine BEGIN (implicit)\n",
      "2022-09-25 09:49:41,734 INFO sqlalchemy.engine.Engine INSERT INTO user_account (name, fullname) VALUES (?, ?)\n",
      "2022-09-25 09:49:41,736 INFO sqlalchemy.engine.Engine [generated in 0.00287s] ('spongebob', 'Spongebob Squarepants')\n",
      "2022-09-25 09:49:41,737 INFO sqlalchemy.engine.Engine COMMIT\n",
      "2022-09-25 09:49:41,739 INFO sqlalchemy.engine.Engine BEGIN (implicit)\n",
      "2022-09-25 09:49:41,740 INFO sqlalchemy.engine.Engine INSERT INTO user_account (name, fullname) VALUES (?, ?)\n",
      "2022-09-25 09:49:41,741 INFO sqlalchemy.engine.Engine [generated in 0.00224s] (('sandy', 'Sandy Cheeks'), ('patrick', 'Patrick Star'))\n",
      "2022-09-25 09:49:41,743 INFO sqlalchemy.engine.Engine COMMIT\n"
     ]
    }
   ],
   "source": [
    "stmt = insert(user_table).values(name=\"spongebob\", fullname=\"Spongebob Squarepants\")\n",
    "with engine.connect() as conn:\n",
    "    result = conn.execute(stmt)\n",
    "    conn.commit()\n",
    "\n",
    "with engine.connect() as conn:\n",
    "    result = conn.execute(\n",
    "        insert(user_table),\n",
    "        [\n",
    "            {\"name\": \"sandy\", \"fullname\": \"Sandy Cheeks\"},\n",
    "            {\"name\": \"patrick\", \"fullname\": \"Patrick Star\"}\n",
    "        ]\n",
    "    )\n",
    "    conn.commit()"
   ]
  },
  {
   "cell_type": "code",
   "execution_count": 5,
   "metadata": {},
   "outputs": [
    {
     "name": "stdout",
     "output_type": "stream",
     "text": [
      "2022-09-25 09:49:41,841 INFO sqlalchemy.engine.Engine BEGIN (implicit)\n",
      "2022-09-25 09:49:41,842 INFO sqlalchemy.engine.Engine INSERT INTO address (user_id, email_address) VALUES ((SELECT user_account.id \n",
      "FROM user_account \n",
      "WHERE user_account.name = ?), ?)\n",
      "2022-09-25 09:49:41,843 INFO sqlalchemy.engine.Engine [generated in 0.00216s] (('spongebob', 'spongebob@sqlalchemy.org'), ('sandy', 'sandy@sqlalchemy.org'), ('sandy', 'sandy@squirrelpower.org'))\n",
      "2022-09-25 09:49:41,845 INFO sqlalchemy.engine.Engine COMMIT\n"
     ]
    }
   ],
   "source": [
    "scalar_subq = (\n",
    "    select(user_table.c.id).\n",
    "    where(user_table.c.name == bindparam(\"username\")).\n",
    "    scalar_subquery()\n",
    ")\n",
    "\n",
    "with engine.connect() as conn:\n",
    "    result = conn.execute(\n",
    "        insert(address_table).values(user_id=scalar_subq),\n",
    "        [\n",
    "            {\"username\": 'spongebob', \"email_address\": \"spongebob@sqlalchemy.org\"},\n",
    "            {\"username\": 'sandy', \"email_address\": \"sandy@sqlalchemy.org\"},\n",
    "            {\"username\": 'sandy', \"email_address\": \"sandy@squirrelpower.org\"},\n",
    "        ]\n",
    "    )\n",
    "    conn.commit()"
   ]
  },
  {
   "cell_type": "code",
   "execution_count": 6,
   "metadata": {},
   "outputs": [],
   "source": [
    "mapped_registry = registry()\n",
    "Base = mapped_registry.generate_base()"
   ]
  },
  {
   "cell_type": "code",
   "execution_count": 7,
   "metadata": {},
   "outputs": [],
   "source": [
    "class User(Base):\n",
    "    __tablename__ = \"user_account\"\n",
    "    \n",
    "    id = Column(Integer, primary_key=True)\n",
    "    name = Column(String(30))\n",
    "    fullname = Column(String)\n",
    "    \n",
    "    addresses = relationship(\"Address\", back_populates=\"user\")\n",
    "    \n",
    "    def __repr__(self):\n",
    "        return f\"User(id={self.id!r}, name={self.name!r}, fullname={self.fullname!r})\""
   ]
  },
  {
   "cell_type": "code",
   "execution_count": 8,
   "metadata": {},
   "outputs": [],
   "source": [
    "class Address(Base):\n",
    "    __tablename__ = \"address\"\n",
    "    \n",
    "    id = Column(Integer, primary_key=True)\n",
    "    email_address = Column(String, nullable=False)\n",
    "    user_id = Column(Integer, ForeignKey(\"user_account.id\"))\n",
    "    \n",
    "    user = relationship(\"User\", back_populates=\"addresses\")\n",
    "    \n",
    "    def __repr__(self):\n",
    "        return f\"Address(id={self.id!r}, email_address={self.email_address!r})\""
   ]
  },
  {
   "cell_type": "code",
   "execution_count": 9,
   "metadata": {},
   "outputs": [
    {
     "name": "stdout",
     "output_type": "stream",
     "text": [
      "2022-09-25 09:49:42,245 INFO sqlalchemy.engine.Engine BEGIN (implicit)\n",
      "2022-09-25 09:49:42,247 INFO sqlalchemy.engine.Engine PRAGMA main.table_info(\"user_account\")\n",
      "2022-09-25 09:49:42,248 INFO sqlalchemy.engine.Engine [raw sql] ()\n",
      "2022-09-25 09:49:42,250 INFO sqlalchemy.engine.Engine PRAGMA main.table_info(\"address\")\n",
      "2022-09-25 09:49:42,251 INFO sqlalchemy.engine.Engine [raw sql] ()\n",
      "2022-09-25 09:49:42,253 INFO sqlalchemy.engine.Engine COMMIT\n"
     ]
    }
   ],
   "source": [
    "mapped_registry.metadata.create_all(engine)"
   ]
  },
  {
   "cell_type": "markdown",
   "metadata": {},
   "source": [
    "#### The `select()` SQL Expression Construct\n",
    "\n",
    "The `select()` construct builds up a statement in the same way as that of `insert()`, using a _generative approach_ where each method builds more state onto the object. Like the other SQL constructs, it can be _stringified_ in place."
   ]
  },
  {
   "cell_type": "code",
   "execution_count": 10,
   "metadata": {},
   "outputs": [
    {
     "name": "stdout",
     "output_type": "stream",
     "text": [
      "SELECT user_account.id, user_account.name, user_account.fullname \n",
      "FROM user_account \n",
      "WHERE user_account.name = :name_1\n"
     ]
    }
   ],
   "source": [
    "stmt = select(user_table).where(user_table.c.name == \"spongebob\")\n",
    "print(stmt)"
   ]
  },
  {
   "cell_type": "markdown",
   "metadata": {},
   "source": [
    "Also in the same manner as all other statement-level `SQL constructs`, _to actually run the statement_ we pass it to an `execution` method. Since a `SELECT statement` returns _rows_ we can always iterate the result object to get _Row_ objects back."
   ]
  },
  {
   "cell_type": "code",
   "execution_count": 11,
   "metadata": {},
   "outputs": [
    {
     "name": "stdout",
     "output_type": "stream",
     "text": [
      "2022-09-25 09:49:42,435 INFO sqlalchemy.engine.Engine BEGIN (implicit)\n",
      "2022-09-25 09:49:42,437 INFO sqlalchemy.engine.Engine SELECT user_account.id, user_account.name, user_account.fullname \n",
      "FROM user_account \n",
      "WHERE user_account.name = ?\n",
      "2022-09-25 09:49:42,438 INFO sqlalchemy.engine.Engine [generated in 0.00322s] ('spongebob',)\n",
      "(1, 'spongebob', 'Spongebob Squarepants')\n",
      "2022-09-25 09:49:42,441 INFO sqlalchemy.engine.Engine ROLLBACK\n"
     ]
    }
   ],
   "source": [
    "with engine.connect() as conn:\n",
    "    for row in conn.execute(stmt):\n",
    "        print(row)"
   ]
  },
  {
   "cell_type": "markdown",
   "metadata": {},
   "source": [
    "When using the ORM, particularly with a `select()` construct that's _composed against ORM entities_, we will want to execute it using the `Session.execute()` method on the `Session`; using this approach, we continue to get `Row` objects from the result, however these rows are now _capable of including **complete entities**_, such as instances of the `User` class, as individual elements within each row."
   ]
  },
  {
   "cell_type": "code",
   "execution_count": 12,
   "metadata": {},
   "outputs": [
    {
     "name": "stdout",
     "output_type": "stream",
     "text": [
      "2022-09-25 09:49:42,549 INFO sqlalchemy.engine.Engine BEGIN (implicit)\n",
      "2022-09-25 09:49:42,557 INFO sqlalchemy.engine.Engine SELECT user_account.id, user_account.name, user_account.fullname \n",
      "FROM user_account \n",
      "WHERE user_account.name = ?\n",
      "2022-09-25 09:49:42,559 INFO sqlalchemy.engine.Engine [generated in 0.00212s] ('spongebob',)\n",
      "(User(id=1, name='spongebob', fullname='Spongebob Squarepants'),)\n",
      "2022-09-25 09:49:42,561 INFO sqlalchemy.engine.Engine ROLLBACK\n"
     ]
    }
   ],
   "source": [
    "stmt = select(User).where(User.name == \"spongebob\")\n",
    "with Session(engine) as session:\n",
    "    for row in session.execute(stmt):\n",
    "        print(row)"
   ]
  },
  {
   "cell_type": "markdown",
   "metadata": {},
   "source": [
    "While the SQL generated in these examples looks the same whether we invoke `select(user_table)` or `select(User)`, in the more general case they _do not necessarily render the same thing_, as an ORM-mapped class may be mapped to other kinds of `\"selectables\"` besides tables. __The `select()` that's against an ORM entity also indicates that ORM-mapped instances should be returned in a result, which is not the case when SELECTing from a Table object.__"
   ]
  },
  {
   "cell_type": "markdown",
   "metadata": {},
   "source": [
    "#### Setting the COLUMNS and FROM clause\n",
    "\n",
    "The `select()` function accepts positional elements representing any number of `Column` and/or `Table` expressions, as well as a _wide range of compatible objects_, which are resolved into a __list of SQL expressions__ to be `SELECT`ed from that will be returned as columns in the result set. These elements also serve in simpler cases to create the `FROM` clause, which is inferred from the _columns and table-like expressions_ passed."
   ]
  },
  {
   "cell_type": "code",
   "execution_count": 13,
   "metadata": {},
   "outputs": [
    {
     "name": "stdout",
     "output_type": "stream",
     "text": [
      "SELECT user_account.id, user_account.name, user_account.fullname \n",
      "FROM user_account\n"
     ]
    }
   ],
   "source": [
    "print(select(user_table))"
   ]
  },
  {
   "cell_type": "markdown",
   "metadata": {},
   "source": [
    "To `SELECT` from individual columns using a Core approach, `Column` objects are accessed from the _`Table.c` accessor_ and __can be sent directly__; the `FROM` clause will be inferred as the set of all `Table` and other `FromClause` objects that are represented by those columns."
   ]
  },
  {
   "cell_type": "code",
   "execution_count": 14,
   "metadata": {},
   "outputs": [
    {
     "name": "stdout",
     "output_type": "stream",
     "text": [
      "SELECT user_account.name, user_account.fullname \n",
      "FROM user_account\n"
     ]
    }
   ],
   "source": [
    "print(select(user_table.c.name, user_table.c.fullname))"
   ]
  },
  {
   "cell_type": "markdown",
   "metadata": {},
   "source": [
    "##### Selecting ORM Entities and Columns\n",
    "\n",
    "_ORM entities_, such our `User class` as well as the _column-mapped attributes upon it_ such as `User.name`, also participate in the `SQL Expression Language system` representing __tables and columns__. Below illustrates an example of `SELECT`ing from the `User` entity, which ultimately renders in the same way as if we had used `user_table` directly."
   ]
  },
  {
   "cell_type": "code",
   "execution_count": 15,
   "metadata": {},
   "outputs": [
    {
     "name": "stdout",
     "output_type": "stream",
     "text": [
      "SELECT user_account.id, user_account.name, user_account.fullname \n",
      "FROM user_account\n"
     ]
    }
   ],
   "source": [
    "print(select(User))"
   ]
  },
  {
   "cell_type": "markdown",
   "metadata": {},
   "source": [
    "When executing a statement like the above using the _ORM `Session.execute()` method_, there is __an important difference__ when we _select from a full entity such as `User`, as opposed to `user_table`_, which is that the `entity` itself is returned as _a single element_ within each row. That is, when we fetch rows from the above statement, as there is only the User entity in the list of things to fetch, we get back `Row` objects that have only one element, which contain _instances of the `User` class_."
   ]
  },
  {
   "cell_type": "code",
   "execution_count": 16,
   "metadata": {},
   "outputs": [
    {
     "name": "stdout",
     "output_type": "stream",
     "text": [
      "2022-09-25 09:49:42,990 INFO sqlalchemy.engine.Engine BEGIN (implicit)\n",
      "2022-09-25 09:49:42,992 INFO sqlalchemy.engine.Engine SELECT user_account.id, user_account.name, user_account.fullname \n",
      "FROM user_account\n",
      "2022-09-25 09:49:42,993 INFO sqlalchemy.engine.Engine [generated in 0.00162s] ()\n",
      "(User(id=1, name='spongebob', fullname='Spongebob Squarepants'),)\n"
     ]
    }
   ],
   "source": [
    "row = session.execute(select(User)).first()\n",
    "print(row)"
   ]
  },
  {
   "cell_type": "markdown",
   "metadata": {},
   "source": [
    "The above `Row` has just one element, representing the `User` entity."
   ]
  },
  {
   "cell_type": "code",
   "execution_count": 17,
   "metadata": {},
   "outputs": [
    {
     "name": "stdout",
     "output_type": "stream",
     "text": [
      "User(id=1, name='spongebob', fullname='Spongebob Squarepants')\n"
     ]
    }
   ],
   "source": [
    "print(row[0])"
   ]
  },
  {
   "cell_type": "markdown",
   "metadata": {},
   "source": [
    "A highly recommended convenience method of achieving the same result as above is to use the `Session.scalars()` method to _execute the statement **directly**_; this method will return a `ScalarResult` object that delivers the _first `column` of each row at once_, in this case, _instances of the `User` class_."
   ]
  },
  {
   "cell_type": "code",
   "execution_count": 18,
   "metadata": {},
   "outputs": [
    {
     "name": "stdout",
     "output_type": "stream",
     "text": [
      "2022-09-25 09:49:43,181 INFO sqlalchemy.engine.Engine SELECT user_account.id, user_account.name, user_account.fullname \n",
      "FROM user_account\n",
      "2022-09-25 09:49:43,182 INFO sqlalchemy.engine.Engine [cached since 0.1905s ago] ()\n",
      "User(id=1, name='spongebob', fullname='Spongebob Squarepants')\n"
     ]
    }
   ],
   "source": [
    "user = session.scalars(select(User)).first()\n",
    "print(user)"
   ]
  },
  {
   "cell_type": "markdown",
   "metadata": {},
   "source": [
    "Alternatively, we can _select individual columns_ of an ORM entity as `distinct` elements within result rows, by _using the class-bound attributes_; when these are passed to a construct such as `select()`, they are resolved into the `Column` or other SQL expression represented by each attribute."
   ]
  },
  {
   "cell_type": "code",
   "execution_count": 19,
   "metadata": {},
   "outputs": [
    {
     "name": "stdout",
     "output_type": "stream",
     "text": [
      "SELECT user_account.name, user_account.fullname \n",
      "FROM user_account\n"
     ]
    }
   ],
   "source": [
    "print(select(User.name, User.fullname))"
   ]
  },
  {
   "cell_type": "markdown",
   "metadata": {},
   "source": [
    "When we invoke this statement using `Session.execute()`, we now receive rows that have _individual elements per value_, each corresponding to a separate column or other SQL expression."
   ]
  },
  {
   "cell_type": "code",
   "execution_count": 20,
   "metadata": {},
   "outputs": [
    {
     "name": "stdout",
     "output_type": "stream",
     "text": [
      "2022-09-25 09:49:43,350 INFO sqlalchemy.engine.Engine SELECT user_account.name, user_account.fullname \n",
      "FROM user_account\n",
      "2022-09-25 09:49:43,352 INFO sqlalchemy.engine.Engine [generated in 0.00159s] ()\n",
      "('spongebob', 'Spongebob Squarepants')\n"
     ]
    }
   ],
   "source": [
    "row = session.execute(select(User.name, User.fullname)).first()\n",
    "print(row)"
   ]
  },
  {
   "cell_type": "markdown",
   "metadata": {},
   "source": [
    "The approaches can also be mixed, as below where we `SELECT` the _name attribute_ of the User entity as the `first element of the row`, and **combine** it with _full Address entities_ in the `second element`."
   ]
  },
  {
   "cell_type": "code",
   "execution_count": 21,
   "metadata": {},
   "outputs": [
    {
     "name": "stdout",
     "output_type": "stream",
     "text": [
      "2022-09-25 09:49:43,433 INFO sqlalchemy.engine.Engine SELECT user_account.name, address.id, address.email_address, address.user_id \n",
      "FROM user_account, address \n",
      "WHERE user_account.id = address.id ORDER BY address.id\n",
      "2022-09-25 09:49:43,434 INFO sqlalchemy.engine.Engine [generated in 0.00123s] ()\n"
     ]
    },
    {
     "data": {
      "text/plain": [
       "[('spongebob', Address(id=1, email_address='spongebob@sqlalchemy.org')),\n",
       " ('sandy', Address(id=2, email_address='sandy@sqlalchemy.org')),\n",
       " ('patrick', Address(id=3, email_address='sandy@squirrelpower.org'))]"
      ]
     },
     "execution_count": 21,
     "metadata": {},
     "output_type": "execute_result"
    }
   ],
   "source": [
    "session.execute(\n",
    "    select(User.name, Address).\n",
    "    where(User.id==Address.id).\n",
    "    order_by(Address.id)\n",
    ").all()"
   ]
  },
  {
   "cell_type": "markdown",
   "metadata": {},
   "source": [
    "Approaches towards _selecting ORM entities and columns_ as well as common methods for _converting rows_ are discussed further at `Selecting ORM Entities and Attributes`."
   ]
  },
  {
   "cell_type": "markdown",
   "metadata": {},
   "source": [
    "##### Selecting from Labeled SQL Expressions\n",
    "\n",
    "The `ColumnElement.label()` method as well as the _same-named method_ available on `ORM attributes` provides a _SQL label of a column or expression_, allowing it to have a **specific name** in a result set. This can be helpful when _referring to arbitrary SQL expressions in a result row by name_."
   ]
  },
  {
   "cell_type": "code",
   "execution_count": 22,
   "metadata": {},
   "outputs": [
    {
     "name": "stdout",
     "output_type": "stream",
     "text": [
      "2022-09-25 09:49:43,539 INFO sqlalchemy.engine.Engine BEGIN (implicit)\n",
      "2022-09-25 09:49:43,540 INFO sqlalchemy.engine.Engine SELECT ? || user_account.name AS username \n",
      "FROM user_account ORDER BY user_account.name\n",
      "2022-09-25 09:49:43,541 INFO sqlalchemy.engine.Engine [generated in 0.00245s] ('Username: ',)\n",
      "Username: patrick\n",
      "Username: sandy\n",
      "Username: spongebob\n",
      "2022-09-25 09:49:43,544 INFO sqlalchemy.engine.Engine ROLLBACK\n"
     ]
    }
   ],
   "source": [
    "stmt = (\n",
    "    select(\n",
    "        (\"Username: \" + user_table.c.name).label(\"username\"),\n",
    "    ).order_by(user_table.c.name)\n",
    ")\n",
    "\n",
    "with engine.connect() as conn:\n",
    "    for row in conn.execute(stmt):\n",
    "        print(f\"{row.username}\")"
   ]
  },
  {
   "cell_type": "markdown",
   "metadata": {},
   "source": [
    "##### Selecting with Textual Column Expressions\n",
    "\n",
    "When we construct a `Select` object using the `select()` function, we are normally passing to it _a series of `Table` and `Column` objects_ that were defined using table metadata, or when using the ORM we may be sending `ORM-mapped attributes` that represent _table columns_. However, sometimes there is also the need to _manufacture arbitrary SQL blocks inside of statements_, such as `constant string expressions`, or just some arbitrary SQL that's quicker to write literally.\n",
    "\n",
    "The `text()` construct introduced at `Working with Transactions and the DBAPI` can in fact be _embedded into a `Select` construct directly_, such as below where we manufacture a hardcoded string literal `'some label'` and __embed__ it within the `SELECT` statement."
   ]
  },
  {
   "cell_type": "code",
   "execution_count": 23,
   "metadata": {},
   "outputs": [
    {
     "name": "stdout",
     "output_type": "stream",
     "text": [
      "2022-09-25 09:49:43,619 INFO sqlalchemy.engine.Engine BEGIN (implicit)\n",
      "2022-09-25 09:49:43,621 INFO sqlalchemy.engine.Engine SELECT 'some phrase', user_account.name \n",
      "FROM user_account ORDER BY user_account.name\n",
      "2022-09-25 09:49:43,622 INFO sqlalchemy.engine.Engine [generated in 0.00252s] ()\n",
      "[('some phrase', 'patrick'), ('some phrase', 'sandy'), ('some phrase', 'spongebob')]\n",
      "2022-09-25 09:49:43,624 INFO sqlalchemy.engine.Engine ROLLBACK\n"
     ]
    }
   ],
   "source": [
    "stmt = (\n",
    "    select(\n",
    "        text(\"'some phrase'\"), user_table.c.name\n",
    "    ).order_by(user_table.c.name)\n",
    ")\n",
    "\n",
    "with engine.connect() as conn:\n",
    "    print(conn.execute(stmt).all())"
   ]
  },
  {
   "cell_type": "markdown",
   "metadata": {},
   "source": [
    "While the `text()` construct can be used in most places to _inject literal SQL phrases_, more often than not we are actually dealing with textual units that each represent an individual column expression. In this common case we can get more functionality out of our textual fragment using the `literal_column()` construct instead. This object is similar to `text()` except that _instead of representing arbitrary SQL of any form, it **explicitly represents `a single column`** and can then be `labeled and referred` towards in `subqueries and other expressions`_."
   ]
  },
  {
   "cell_type": "code",
   "execution_count": 24,
   "metadata": {},
   "outputs": [
    {
     "name": "stdout",
     "output_type": "stream",
     "text": [
      "2022-09-25 09:49:43,700 INFO sqlalchemy.engine.Engine BEGIN (implicit)\n",
      "2022-09-25 09:49:43,702 INFO sqlalchemy.engine.Engine SELECT 'some phrase' AS p, user_account.name \n",
      "FROM user_account ORDER BY user_account.name\n",
      "2022-09-25 09:49:43,703 INFO sqlalchemy.engine.Engine [generated in 0.00318s] ()\n",
      "some phrase, patrick\n",
      "some phrase, sandy\n",
      "some phrase, spongebob\n",
      "2022-09-25 09:49:43,705 INFO sqlalchemy.engine.Engine ROLLBACK\n"
     ]
    }
   ],
   "source": [
    "stmt = (\n",
    "    select(\n",
    "        literal_column(\"'some phrase'\").label(\"p\"), user_table.c.name,\n",
    "    ).order_by(user_table.c.name)\n",
    ")\n",
    "\n",
    "with engine.connect() as conn:\n",
    "    for row in conn.execute(stmt):\n",
    "        print(f\"{row.p}, {row.name}\")"
   ]
  },
  {
   "cell_type": "markdown",
   "metadata": {},
   "source": [
    "Note that _in both cases_, when using `text()` or `literal_column()`, we are writing a **syntactical SQL expression**, and _not a literal value_. We therefore have to include whatever quoting or syntaxes are necessary for the SQL we want to see rendered."
   ]
  },
  {
   "cell_type": "markdown",
   "metadata": {},
   "source": [
    "#### The WHERE clause\n",
    "\n",
    "SQLAlchemy allows us to _compose SQL expressions_, such as `name = 'squidward'` or `user_id > 10`, by making use of _standard `Python operators` in conjunction with `Column` and similar objects_. For `boolean expressions`, most Python operators such as `==, !=, <, >= etc.` _generate new SQL Expression objects, rather than plain boolean `True/False` values_."
   ]
  },
  {
   "cell_type": "code",
   "execution_count": 25,
   "metadata": {},
   "outputs": [
    {
     "name": "stdout",
     "output_type": "stream",
     "text": [
      "user_account.name = :name_1\n",
      "address.user_id > :user_id_1\n"
     ]
    }
   ],
   "source": [
    "print(user_table.c.name == \"squidward\")\n",
    "print(address_table.c.user_id > 10)"
   ]
  },
  {
   "cell_type": "markdown",
   "metadata": {},
   "source": [
    "We can use expressions like these to _generate the `WHERE` clause_ by passing the resulting objects to the `Select.where()` method."
   ]
  },
  {
   "cell_type": "code",
   "execution_count": 26,
   "metadata": {},
   "outputs": [
    {
     "name": "stdout",
     "output_type": "stream",
     "text": [
      "SELECT user_account.id, user_account.name, user_account.fullname \n",
      "FROM user_account \n",
      "WHERE user_account.name = :name_1\n"
     ]
    }
   ],
   "source": [
    "print(select(user_table).where(user_table.c.name == \"squidward\"))"
   ]
  },
  {
   "cell_type": "markdown",
   "metadata": {},
   "source": [
    "To produce _multiple expressions `joined by AND`_, the `Select.where()` method may be _invoked any number of times_."
   ]
  },
  {
   "cell_type": "code",
   "execution_count": 27,
   "metadata": {},
   "outputs": [
    {
     "name": "stdout",
     "output_type": "stream",
     "text": [
      "SELECT address.email_address \n",
      "FROM address, user_account \n",
      "WHERE user_account.name = :name_1 AND address.user_id = user_account.id\n"
     ]
    }
   ],
   "source": [
    "print(\n",
    "    select(address_table.c.email_address).\n",
    "    where(user_table.c.name == \"squidward\").\n",
    "    where(address_table.c.user_id == user_table.c.id)\n",
    ")"
   ]
  },
  {
   "cell_type": "markdown",
   "metadata": {},
   "source": [
    "A single call to `Select.where()` also _accepts multiple expressions_ with the same effect."
   ]
  },
  {
   "cell_type": "code",
   "execution_count": 28,
   "metadata": {},
   "outputs": [
    {
     "name": "stdout",
     "output_type": "stream",
     "text": [
      "SELECT address.email_address \n",
      "FROM address, user_account \n",
      "WHERE user_account.name = :name_1 AND address.user_id = user_account.id\n"
     ]
    }
   ],
   "source": [
    "print(\n",
    "    select(address_table.c.email_address).\n",
    "    where(\n",
    "        user_table.c.name == \"squidward\",\n",
    "        address_table.c.user_id == user_table.c.id\n",
    "    )\n",
    ")"
   ]
  },
  {
   "cell_type": "markdown",
   "metadata": {},
   "source": [
    "`AND` and `OR` conjunctions are both __available directly__ using the `and_()` and `or_()` functions, illustrated below in terms of _ORM entities_."
   ]
  },
  {
   "cell_type": "code",
   "execution_count": 30,
   "metadata": {},
   "outputs": [
    {
     "name": "stdout",
     "output_type": "stream",
     "text": [
      "SELECT address.email_address \n",
      "FROM address, user_account \n",
      "WHERE (user_account.name = :name_1 OR user_account.name = :name_2) AND address.user_id = user_account.id\n"
     ]
    }
   ],
   "source": [
    "print(\n",
    "    select(Address.email_address).\n",
    "    where(\n",
    "        and_(\n",
    "            or_(User.name == \"squidward\", User.name == \"sandy\"),\n",
    "            Address.user_id == User.id\n",
    "        )\n",
    "    )\n",
    ")"
   ]
  },
  {
   "cell_type": "markdown",
   "metadata": {},
   "source": [
    "For *simple `\"equality\"` comparisons against a __single entity__*, there's also a popular method known as `Select.filter_by()` which accepts _keyword arguments that match to column keys or ORM attribute names_. It will filter against the _leftmost `FROM` clause_ or the _last entity joined_."
   ]
  },
  {
   "cell_type": "code",
   "execution_count": 31,
   "metadata": {},
   "outputs": [
    {
     "name": "stdout",
     "output_type": "stream",
     "text": [
      "SELECT user_account.id, user_account.name, user_account.fullname \n",
      "FROM user_account \n",
      "WHERE user_account.name = :name_1 AND user_account.fullname = :fullname_1\n"
     ]
    }
   ],
   "source": [
    "print(select(User).filter_by(name=\"spongebob\", fullname=\"Spongebob Squarepants\"))"
   ]
  },
  {
   "cell_type": "code",
   "execution_count": null,
   "metadata": {},
   "outputs": [],
   "source": []
  }
 ],
 "metadata": {
  "kernelspec": {
   "display_name": "Python 3.9.6 ('sql-env': venv)",
   "language": "python",
   "name": "python3"
  },
  "language_info": {
   "codemirror_mode": {
    "name": "ipython",
    "version": 3
   },
   "file_extension": ".py",
   "mimetype": "text/x-python",
   "name": "python",
   "nbconvert_exporter": "python",
   "pygments_lexer": "ipython3",
   "version": "3.9.6"
  },
  "orig_nbformat": 4,
  "vscode": {
   "interpreter": {
    "hash": "3b00ed0d5d9853c9f0267ee6e89091ab706130aa0b00cb1356a08ef47194a158"
   }
  }
 },
 "nbformat": 4,
 "nbformat_minor": 2
}
