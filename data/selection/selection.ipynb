{
 "cells": [
  {
   "cell_type": "markdown",
   "metadata": {},
   "source": [
    "## Selecting Rows with Core or ORM\n",
    "\n",
    "For both Core and ORM, the `select()` function generates a `Select construct` which is used for all `SELECT` queries. Passed to methods like _`Connection.execute()` in Core_ and _`Session.execute()` in ORM_, a `SELECT statement` is emitted in the _current transaction_ and the result rows available via the returned `Result` object."
   ]
  },
  {
   "cell_type": "markdown",
   "metadata": {},
   "source": [
    "#### Initialize tables with some data"
   ]
  },
  {
   "cell_type": "code",
   "execution_count": 1,
   "metadata": {},
   "outputs": [],
   "source": [
    "from sqlalchemy import (\n",
    "    MetaData, Table, Column, Integer, String, ForeignKey, JSON, create_engine, insert,\n",
    "    select, bindparam, func, cast, text, literal_column, and_, or_, desc, union_all,\n",
    ")\n",
    "from sqlalchemy.orm import Session, registry, aliased, relationship\n",
    "from sqlalchemy.dialects import postgresql, oracle"
   ]
  },
  {
   "cell_type": "code",
   "execution_count": 2,
   "metadata": {},
   "outputs": [],
   "source": [
    "engine = create_engine(\"sqlite+pysqlite:///:memory:\", echo=True, future=True)\n",
    "metadata_obj = MetaData()"
   ]
  },
  {
   "cell_type": "code",
   "execution_count": 3,
   "metadata": {},
   "outputs": [
    {
     "name": "stdout",
     "output_type": "stream",
     "text": [
      "2022-10-03 17:23:50,014 INFO sqlalchemy.engine.Engine BEGIN (implicit)\n",
      "2022-10-03 17:23:50,017 INFO sqlalchemy.engine.Engine PRAGMA main.table_info(\"user_account\")\n",
      "2022-10-03 17:23:50,019 INFO sqlalchemy.engine.Engine [raw sql] ()\n",
      "2022-10-03 17:23:50,020 INFO sqlalchemy.engine.Engine PRAGMA temp.table_info(\"user_account\")\n",
      "2022-10-03 17:23:50,022 INFO sqlalchemy.engine.Engine [raw sql] ()\n",
      "2022-10-03 17:23:50,023 INFO sqlalchemy.engine.Engine PRAGMA main.table_info(\"address\")\n",
      "2022-10-03 17:23:50,024 INFO sqlalchemy.engine.Engine [raw sql] ()\n",
      "2022-10-03 17:23:50,025 INFO sqlalchemy.engine.Engine PRAGMA temp.table_info(\"address\")\n",
      "2022-10-03 17:23:50,025 INFO sqlalchemy.engine.Engine [raw sql] ()\n",
      "2022-10-03 17:23:50,027 INFO sqlalchemy.engine.Engine \n",
      "CREATE TABLE user_account (\n",
      "\tid INTEGER NOT NULL, \n",
      "\tname VARCHAR(30), \n",
      "\tfullname VARCHAR, \n",
      "\tPRIMARY KEY (id)\n",
      ")\n",
      "\n",
      "\n",
      "2022-10-03 17:23:50,029 INFO sqlalchemy.engine.Engine [no key 0.00172s] ()\n",
      "2022-10-03 17:23:50,033 INFO sqlalchemy.engine.Engine \n",
      "CREATE TABLE address (\n",
      "\tid INTEGER NOT NULL, \n",
      "\tuser_id INTEGER NOT NULL, \n",
      "\temail_address VARCHAR NOT NULL, \n",
      "\tPRIMARY KEY (id), \n",
      "\tFOREIGN KEY(user_id) REFERENCES user_account (id)\n",
      ")\n",
      "\n",
      "\n",
      "2022-10-03 17:23:50,035 INFO sqlalchemy.engine.Engine [no key 0.00197s] ()\n",
      "2022-10-03 17:23:50,037 INFO sqlalchemy.engine.Engine COMMIT\n"
     ]
    }
   ],
   "source": [
    "user_table = Table(\n",
    "    \"user_account\", metadata_obj,\n",
    "    Column(\"id\", Integer, primary_key=True),\n",
    "    Column(\"name\", String(30)),\n",
    "    Column(\"fullname\", String),\n",
    ")\n",
    "\n",
    "address_table = Table(\n",
    "    \"address\", metadata_obj,\n",
    "    Column(\"id\", Integer, primary_key=True),\n",
    "    Column(\"user_id\", ForeignKey(\"user_account.id\"), nullable=False),\n",
    "    Column(\"email_address\", String, nullable=False)\n",
    ")\n",
    "\n",
    "metadata_obj.create_all(engine)"
   ]
  },
  {
   "cell_type": "code",
   "execution_count": 4,
   "metadata": {},
   "outputs": [
    {
     "name": "stdout",
     "output_type": "stream",
     "text": [
      "2022-10-03 17:23:50,258 INFO sqlalchemy.engine.Engine BEGIN (implicit)\n",
      "2022-10-03 17:23:50,260 INFO sqlalchemy.engine.Engine INSERT INTO user_account (name, fullname) VALUES (?, ?)\n",
      "2022-10-03 17:23:50,261 INFO sqlalchemy.engine.Engine [generated in 0.00301s] ('spongebob', 'Spongebob Squarepants')\n",
      "2022-10-03 17:23:50,264 INFO sqlalchemy.engine.Engine COMMIT\n",
      "2022-10-03 17:23:50,267 INFO sqlalchemy.engine.Engine BEGIN (implicit)\n",
      "2022-10-03 17:23:50,268 INFO sqlalchemy.engine.Engine INSERT INTO user_account (name, fullname) VALUES (?, ?)\n",
      "2022-10-03 17:23:50,269 INFO sqlalchemy.engine.Engine [generated in 0.00231s] (('sandy', 'Sandy Cheeks'), ('patrick', 'Patrick Star'))\n",
      "2022-10-03 17:23:50,270 INFO sqlalchemy.engine.Engine COMMIT\n"
     ]
    }
   ],
   "source": [
    "stmt = insert(user_table).values(name=\"spongebob\", fullname=\"Spongebob Squarepants\")\n",
    "with engine.connect() as conn:\n",
    "    result = conn.execute(stmt)\n",
    "    conn.commit()\n",
    "\n",
    "with engine.connect() as conn:\n",
    "    result = conn.execute(\n",
    "        insert(user_table),\n",
    "        [\n",
    "            {\"name\": \"sandy\", \"fullname\": \"Sandy Cheeks\"},\n",
    "            {\"name\": \"patrick\", \"fullname\": \"Patrick Star\"}\n",
    "        ]\n",
    "    )\n",
    "    conn.commit()"
   ]
  },
  {
   "cell_type": "code",
   "execution_count": 5,
   "metadata": {},
   "outputs": [
    {
     "name": "stdout",
     "output_type": "stream",
     "text": [
      "2022-10-03 17:23:50,490 INFO sqlalchemy.engine.Engine BEGIN (implicit)\n",
      "2022-10-03 17:23:50,491 INFO sqlalchemy.engine.Engine INSERT INTO address (user_id, email_address) VALUES ((SELECT user_account.id \n",
      "FROM user_account \n",
      "WHERE user_account.name = ?), ?)\n",
      "2022-10-03 17:23:50,492 INFO sqlalchemy.engine.Engine [generated in 0.00219s] (('spongebob', 'spongebob@sqlalchemy.org'), ('sandy', 'sandy@sqlalchemy.org'), ('sandy', 'sandy@squirrelpower.org'))\n",
      "2022-10-03 17:23:50,494 INFO sqlalchemy.engine.Engine COMMIT\n"
     ]
    }
   ],
   "source": [
    "scalar_subq = (\n",
    "    select(user_table.c.id).\n",
    "    where(user_table.c.name == bindparam(\"username\")).\n",
    "    scalar_subquery()\n",
    ")\n",
    "\n",
    "with engine.connect() as conn:\n",
    "    result = conn.execute(\n",
    "        insert(address_table).values(user_id=scalar_subq),\n",
    "        [\n",
    "            {\"username\": 'spongebob', \"email_address\": \"spongebob@sqlalchemy.org\"},\n",
    "            {\"username\": 'sandy', \"email_address\": \"sandy@sqlalchemy.org\"},\n",
    "            {\"username\": 'sandy', \"email_address\": \"sandy@squirrelpower.org\"},\n",
    "        ]\n",
    "    )\n",
    "    conn.commit()"
   ]
  },
  {
   "cell_type": "code",
   "execution_count": 6,
   "metadata": {},
   "outputs": [],
   "source": [
    "mapped_registry = registry()\n",
    "Base = mapped_registry.generate_base()"
   ]
  },
  {
   "cell_type": "code",
   "execution_count": 7,
   "metadata": {},
   "outputs": [],
   "source": [
    "class User(Base):\n",
    "    __tablename__ = \"user_account\"\n",
    "    \n",
    "    id = Column(Integer, primary_key=True)\n",
    "    name = Column(String(30))\n",
    "    fullname = Column(String)\n",
    "    \n",
    "    addresses = relationship(\"Address\", back_populates=\"user\")\n",
    "    \n",
    "    def __repr__(self):\n",
    "        return f\"User(id={self.id!r}, name={self.name!r}, fullname={self.fullname!r})\""
   ]
  },
  {
   "cell_type": "code",
   "execution_count": 8,
   "metadata": {},
   "outputs": [],
   "source": [
    "class Address(Base):\n",
    "    __tablename__ = \"address\"\n",
    "    \n",
    "    id = Column(Integer, primary_key=True)\n",
    "    email_address = Column(String, nullable=False)\n",
    "    user_id = Column(Integer, ForeignKey(\"user_account.id\"))\n",
    "    \n",
    "    user = relationship(\"User\", back_populates=\"addresses\")\n",
    "    \n",
    "    def __repr__(self):\n",
    "        return f\"Address(id={self.id!r}, email_address={self.email_address!r})\""
   ]
  },
  {
   "cell_type": "code",
   "execution_count": 9,
   "metadata": {},
   "outputs": [
    {
     "name": "stdout",
     "output_type": "stream",
     "text": [
      "2022-10-03 17:23:51,444 INFO sqlalchemy.engine.Engine BEGIN (implicit)\n",
      "2022-10-03 17:23:51,446 INFO sqlalchemy.engine.Engine PRAGMA main.table_info(\"user_account\")\n",
      "2022-10-03 17:23:51,447 INFO sqlalchemy.engine.Engine [raw sql] ()\n",
      "2022-10-03 17:23:51,450 INFO sqlalchemy.engine.Engine PRAGMA main.table_info(\"address\")\n",
      "2022-10-03 17:23:51,451 INFO sqlalchemy.engine.Engine [raw sql] ()\n",
      "2022-10-03 17:23:51,452 INFO sqlalchemy.engine.Engine COMMIT\n"
     ]
    }
   ],
   "source": [
    "mapped_registry.metadata.create_all(engine)"
   ]
  },
  {
   "cell_type": "markdown",
   "metadata": {},
   "source": [
    "#### The `select()` SQL Expression Construct\n",
    "\n",
    "The `select()` construct builds up a statement in the same way as that of `insert()`, using a _generative approach_ where each method builds more state onto the object. Like the other SQL constructs, it can be _stringified_ in place."
   ]
  },
  {
   "cell_type": "code",
   "execution_count": 10,
   "metadata": {},
   "outputs": [
    {
     "name": "stdout",
     "output_type": "stream",
     "text": [
      "SELECT user_account.id, user_account.name, user_account.fullname \n",
      "FROM user_account \n",
      "WHERE user_account.name = :name_1\n"
     ]
    }
   ],
   "source": [
    "stmt = select(user_table).where(user_table.c.name == \"spongebob\")\n",
    "print(stmt)"
   ]
  },
  {
   "cell_type": "markdown",
   "metadata": {},
   "source": [
    "Also in the same manner as all other statement-level `SQL constructs`, _to actually run the statement_ we pass it to an `execution` method. Since a `SELECT statement` returns _rows_ we can always iterate the result object to get _Row_ objects back."
   ]
  },
  {
   "cell_type": "code",
   "execution_count": 11,
   "metadata": {},
   "outputs": [
    {
     "name": "stdout",
     "output_type": "stream",
     "text": [
      "2022-10-03 17:23:51,912 INFO sqlalchemy.engine.Engine BEGIN (implicit)\n",
      "2022-10-03 17:23:51,915 INFO sqlalchemy.engine.Engine SELECT user_account.id, user_account.name, user_account.fullname \n",
      "FROM user_account \n",
      "WHERE user_account.name = ?\n",
      "2022-10-03 17:23:51,916 INFO sqlalchemy.engine.Engine [generated in 0.00486s] ('spongebob',)\n",
      "(1, 'spongebob', 'Spongebob Squarepants')\n",
      "2022-10-03 17:23:51,919 INFO sqlalchemy.engine.Engine ROLLBACK\n"
     ]
    }
   ],
   "source": [
    "with engine.connect() as conn:\n",
    "    for row in conn.execute(stmt):\n",
    "        print(row)"
   ]
  },
  {
   "cell_type": "markdown",
   "metadata": {},
   "source": [
    "When using the ORM, particularly with a `select()` construct that's _composed against ORM entities_, we will want to execute it using the `Session.execute()` method on the `Session`; using this approach, we continue to get `Row` objects from the result, however these rows are now _capable of including **complete entities**_, such as instances of the `User` class, as individual elements within each row."
   ]
  },
  {
   "cell_type": "code",
   "execution_count": 12,
   "metadata": {},
   "outputs": [
    {
     "name": "stdout",
     "output_type": "stream",
     "text": [
      "2022-10-03 17:23:52,120 INFO sqlalchemy.engine.Engine BEGIN (implicit)\n",
      "2022-10-03 17:23:52,129 INFO sqlalchemy.engine.Engine SELECT user_account.id, user_account.name, user_account.fullname \n",
      "FROM user_account \n",
      "WHERE user_account.name = ?\n",
      "2022-10-03 17:23:52,131 INFO sqlalchemy.engine.Engine [generated in 0.00163s] ('spongebob',)\n",
      "(User(id=1, name='spongebob', fullname='Spongebob Squarepants'),)\n",
      "2022-10-03 17:23:52,133 INFO sqlalchemy.engine.Engine ROLLBACK\n"
     ]
    }
   ],
   "source": [
    "stmt = select(User).where(User.name == \"spongebob\")\n",
    "with Session(engine) as session:\n",
    "    for row in session.execute(stmt):\n",
    "        print(row)"
   ]
  },
  {
   "cell_type": "markdown",
   "metadata": {},
   "source": [
    "While the SQL generated in these examples looks the same whether we invoke `select(user_table)` or `select(User)`, in the more general case they _do not necessarily render the same thing_, as an ORM-mapped class may be mapped to other kinds of `\"selectables\"` besides tables. __The `select()` that's against an ORM entity also indicates that ORM-mapped instances should be returned in a result, which is not the case when SELECTing from a Table object.__"
   ]
  },
  {
   "cell_type": "markdown",
   "metadata": {},
   "source": [
    "#### Setting the COLUMNS and FROM clause\n",
    "\n",
    "The `select()` function accepts positional elements representing any number of `Column` and/or `Table` expressions, as well as a _wide range of compatible objects_, which are resolved into a __list of SQL expressions__ to be `SELECT`ed from that will be returned as columns in the result set. These elements also serve in simpler cases to create the `FROM` clause, which is inferred from the _columns and table-like expressions_ passed."
   ]
  },
  {
   "cell_type": "code",
   "execution_count": 13,
   "metadata": {},
   "outputs": [
    {
     "name": "stdout",
     "output_type": "stream",
     "text": [
      "SELECT user_account.id, user_account.name, user_account.fullname \n",
      "FROM user_account\n"
     ]
    }
   ],
   "source": [
    "print(select(user_table))"
   ]
  },
  {
   "cell_type": "markdown",
   "metadata": {},
   "source": [
    "To `SELECT` from individual columns using a Core approach, `Column` objects are accessed from the _`Table.c` accessor_ and __can be sent directly__; the `FROM` clause will be inferred as the set of all `Table` and other `FromClause` objects that are represented by those columns."
   ]
  },
  {
   "cell_type": "code",
   "execution_count": 14,
   "metadata": {},
   "outputs": [
    {
     "name": "stdout",
     "output_type": "stream",
     "text": [
      "SELECT user_account.name, user_account.fullname \n",
      "FROM user_account\n"
     ]
    }
   ],
   "source": [
    "print(select(user_table.c.name, user_table.c.fullname))"
   ]
  },
  {
   "cell_type": "markdown",
   "metadata": {},
   "source": [
    "##### Selecting ORM Entities and Columns\n",
    "\n",
    "_ORM entities_, such our `User class` as well as the _column-mapped attributes upon it_ such as `User.name`, also participate in the `SQL Expression Language system` representing __tables and columns__. Below illustrates an example of `SELECT`ing from the `User` entity, which ultimately renders in the same way as if we had used `user_table` directly."
   ]
  },
  {
   "cell_type": "code",
   "execution_count": 15,
   "metadata": {},
   "outputs": [
    {
     "name": "stdout",
     "output_type": "stream",
     "text": [
      "SELECT user_account.id, user_account.name, user_account.fullname \n",
      "FROM user_account\n"
     ]
    }
   ],
   "source": [
    "print(select(User))"
   ]
  },
  {
   "cell_type": "markdown",
   "metadata": {},
   "source": [
    "When executing a statement like the above using the _ORM `Session.execute()` method_, there is __an important difference__ when we _select from a full entity such as `User`, as opposed to `user_table`_, which is that the `entity` itself is returned as _a single element_ within each row. That is, when we fetch rows from the above statement, as there is only the User entity in the list of things to fetch, we get back `Row` objects that have only one element, which contain _instances of the `User` class_."
   ]
  },
  {
   "cell_type": "code",
   "execution_count": 16,
   "metadata": {},
   "outputs": [
    {
     "name": "stdout",
     "output_type": "stream",
     "text": [
      "2022-10-03 17:23:52,935 INFO sqlalchemy.engine.Engine BEGIN (implicit)\n",
      "2022-10-03 17:23:52,937 INFO sqlalchemy.engine.Engine SELECT user_account.id, user_account.name, user_account.fullname \n",
      "FROM user_account\n",
      "2022-10-03 17:23:52,938 INFO sqlalchemy.engine.Engine [generated in 0.00120s] ()\n",
      "(User(id=1, name='spongebob', fullname='Spongebob Squarepants'),)\n"
     ]
    }
   ],
   "source": [
    "row = session.execute(select(User)).first()\n",
    "print(row)"
   ]
  },
  {
   "cell_type": "markdown",
   "metadata": {},
   "source": [
    "The above `Row` has just one element, representing the `User` entity."
   ]
  },
  {
   "cell_type": "code",
   "execution_count": 17,
   "metadata": {},
   "outputs": [
    {
     "name": "stdout",
     "output_type": "stream",
     "text": [
      "User(id=1, name='spongebob', fullname='Spongebob Squarepants')\n"
     ]
    }
   ],
   "source": [
    "print(row[0])"
   ]
  },
  {
   "cell_type": "markdown",
   "metadata": {},
   "source": [
    "A highly recommended convenience method of achieving the same result as above is to use the `Session.scalars()` method to _execute the statement **directly**_; this method will return a `ScalarResult` object that delivers the _first `column` of each row at once_, in this case, _instances of the `User` class_."
   ]
  },
  {
   "cell_type": "code",
   "execution_count": 18,
   "metadata": {},
   "outputs": [
    {
     "name": "stdout",
     "output_type": "stream",
     "text": [
      "2022-10-03 17:23:53,286 INFO sqlalchemy.engine.Engine SELECT user_account.id, user_account.name, user_account.fullname \n",
      "FROM user_account\n",
      "2022-10-03 17:23:53,287 INFO sqlalchemy.engine.Engine [cached since 0.3501s ago] ()\n",
      "User(id=1, name='spongebob', fullname='Spongebob Squarepants')\n"
     ]
    }
   ],
   "source": [
    "user = session.scalars(select(User)).first()\n",
    "print(user)"
   ]
  },
  {
   "cell_type": "markdown",
   "metadata": {},
   "source": [
    "Alternatively, we can _select individual columns_ of an ORM entity as `distinct` elements within result rows, by _using the class-bound attributes_; when these are passed to a construct such as `select()`, they are resolved into the `Column` or other SQL expression represented by each attribute."
   ]
  },
  {
   "cell_type": "code",
   "execution_count": 19,
   "metadata": {},
   "outputs": [
    {
     "name": "stdout",
     "output_type": "stream",
     "text": [
      "SELECT user_account.name, user_account.fullname \n",
      "FROM user_account\n"
     ]
    }
   ],
   "source": [
    "print(select(User.name, User.fullname))"
   ]
  },
  {
   "cell_type": "markdown",
   "metadata": {},
   "source": [
    "When we invoke this statement using `Session.execute()`, we now receive rows that have _individual elements per value_, each corresponding to a separate column or other SQL expression."
   ]
  },
  {
   "cell_type": "code",
   "execution_count": 20,
   "metadata": {},
   "outputs": [
    {
     "name": "stdout",
     "output_type": "stream",
     "text": [
      "2022-10-03 17:23:53,596 INFO sqlalchemy.engine.Engine SELECT user_account.name, user_account.fullname \n",
      "FROM user_account\n",
      "2022-10-03 17:23:53,598 INFO sqlalchemy.engine.Engine [generated in 0.00150s] ()\n",
      "('spongebob', 'Spongebob Squarepants')\n"
     ]
    }
   ],
   "source": [
    "row = session.execute(select(User.name, User.fullname)).first()\n",
    "print(row)"
   ]
  },
  {
   "cell_type": "markdown",
   "metadata": {},
   "source": [
    "The approaches can also be mixed, as below where we `SELECT` the _name attribute_ of the User entity as the `first element of the row`, and **combine** it with _full Address entities_ in the `second element`."
   ]
  },
  {
   "cell_type": "code",
   "execution_count": 21,
   "metadata": {},
   "outputs": [
    {
     "name": "stdout",
     "output_type": "stream",
     "text": [
      "2022-10-03 17:23:53,773 INFO sqlalchemy.engine.Engine SELECT user_account.name, address.id, address.email_address, address.user_id \n",
      "FROM user_account, address \n",
      "WHERE user_account.id = address.id ORDER BY address.id\n",
      "2022-10-03 17:23:53,774 INFO sqlalchemy.engine.Engine [generated in 0.00121s] ()\n"
     ]
    },
    {
     "data": {
      "text/plain": [
       "[('spongebob', Address(id=1, email_address='spongebob@sqlalchemy.org')),\n",
       " ('sandy', Address(id=2, email_address='sandy@sqlalchemy.org')),\n",
       " ('patrick', Address(id=3, email_address='sandy@squirrelpower.org'))]"
      ]
     },
     "execution_count": 21,
     "metadata": {},
     "output_type": "execute_result"
    }
   ],
   "source": [
    "session.execute(\n",
    "    select(User.name, Address).\n",
    "    where(User.id==Address.id).\n",
    "    order_by(Address.id)\n",
    ").all()"
   ]
  },
  {
   "cell_type": "markdown",
   "metadata": {},
   "source": [
    "Approaches towards _selecting ORM entities and columns_ as well as common methods for _converting rows_ are discussed further at `Selecting ORM Entities and Attributes`."
   ]
  },
  {
   "cell_type": "markdown",
   "metadata": {},
   "source": [
    "##### Selecting from Labeled SQL Expressions\n",
    "\n",
    "The `ColumnElement.label()` method as well as the _same-named method_ available on `ORM attributes` provides a _SQL label of a column or expression_, allowing it to have a **specific name** in a result set. This can be helpful when _referring to arbitrary SQL expressions in a result row by name_."
   ]
  },
  {
   "cell_type": "code",
   "execution_count": 22,
   "metadata": {},
   "outputs": [
    {
     "name": "stdout",
     "output_type": "stream",
     "text": [
      "2022-10-03 17:23:53,979 INFO sqlalchemy.engine.Engine BEGIN (implicit)\n",
      "2022-10-03 17:23:53,980 INFO sqlalchemy.engine.Engine SELECT ? || user_account.name AS username \n",
      "FROM user_account ORDER BY user_account.name\n",
      "2022-10-03 17:23:53,982 INFO sqlalchemy.engine.Engine [generated in 0.00259s] ('Username: ',)\n",
      "Username: patrick\n",
      "Username: sandy\n",
      "Username: spongebob\n",
      "2022-10-03 17:23:53,984 INFO sqlalchemy.engine.Engine ROLLBACK\n"
     ]
    }
   ],
   "source": [
    "stmt = (\n",
    "    select(\n",
    "        (\"Username: \" + user_table.c.name).label(\"username\"),\n",
    "    ).order_by(user_table.c.name)\n",
    ")\n",
    "\n",
    "with engine.connect() as conn:\n",
    "    for row in conn.execute(stmt):\n",
    "        print(f\"{row.username}\")"
   ]
  },
  {
   "cell_type": "markdown",
   "metadata": {},
   "source": [
    "##### Selecting with Textual Column Expressions\n",
    "\n",
    "When we construct a `Select` object using the `select()` function, we are normally passing to it _a series of `Table` and `Column` objects_ that were defined using table metadata, or when using the ORM we may be sending `ORM-mapped attributes` that represent _table columns_. However, sometimes there is also the need to _manufacture arbitrary SQL blocks inside of statements_, such as `constant string expressions`, or just some arbitrary SQL that's quicker to write literally.\n",
    "\n",
    "The `text()` construct introduced at `Working with Transactions and the DBAPI` can in fact be _embedded into a `Select` construct directly_, such as below where we manufacture a hardcoded string literal `'some label'` and __embed__ it within the `SELECT` statement."
   ]
  },
  {
   "cell_type": "code",
   "execution_count": 23,
   "metadata": {},
   "outputs": [
    {
     "name": "stdout",
     "output_type": "stream",
     "text": [
      "2022-10-03 17:23:54,152 INFO sqlalchemy.engine.Engine BEGIN (implicit)\n",
      "2022-10-03 17:23:54,153 INFO sqlalchemy.engine.Engine SELECT 'some phrase', user_account.name \n",
      "FROM user_account ORDER BY user_account.name\n",
      "2022-10-03 17:23:54,154 INFO sqlalchemy.engine.Engine [generated in 0.00235s] ()\n",
      "[('some phrase', 'patrick'), ('some phrase', 'sandy'), ('some phrase', 'spongebob')]\n",
      "2022-10-03 17:23:54,157 INFO sqlalchemy.engine.Engine ROLLBACK\n"
     ]
    }
   ],
   "source": [
    "stmt = (\n",
    "    select(\n",
    "        text(\"'some phrase'\"), user_table.c.name\n",
    "    ).order_by(user_table.c.name)\n",
    ")\n",
    "\n",
    "with engine.connect() as conn:\n",
    "    print(conn.execute(stmt).all())"
   ]
  },
  {
   "cell_type": "markdown",
   "metadata": {},
   "source": [
    "While the `text()` construct can be used in most places to _inject literal SQL phrases_, more often than not we are actually dealing with textual units that each represent an individual column expression. In this common case we can get more functionality out of our textual fragment using the `literal_column()` construct instead. This object is similar to `text()` except that _instead of representing arbitrary SQL of any form, it **explicitly represents `a single column`** and can then be `labeled and referred` towards in `subqueries and other expressions`_."
   ]
  },
  {
   "cell_type": "code",
   "execution_count": 24,
   "metadata": {},
   "outputs": [
    {
     "name": "stdout",
     "output_type": "stream",
     "text": [
      "2022-10-03 17:23:54,388 INFO sqlalchemy.engine.Engine BEGIN (implicit)\n",
      "2022-10-03 17:23:54,389 INFO sqlalchemy.engine.Engine SELECT 'some phrase' AS p, user_account.name \n",
      "FROM user_account ORDER BY user_account.name\n",
      "2022-10-03 17:23:54,390 INFO sqlalchemy.engine.Engine [generated in 0.00264s] ()\n",
      "some phrase, patrick\n",
      "some phrase, sandy\n",
      "some phrase, spongebob\n",
      "2022-10-03 17:23:54,393 INFO sqlalchemy.engine.Engine ROLLBACK\n"
     ]
    }
   ],
   "source": [
    "stmt = (\n",
    "    select(\n",
    "        literal_column(\"'some phrase'\").label(\"p\"), user_table.c.name,\n",
    "    ).order_by(user_table.c.name)\n",
    ")\n",
    "\n",
    "with engine.connect() as conn:\n",
    "    for row in conn.execute(stmt):\n",
    "        print(f\"{row.p}, {row.name}\")"
   ]
  },
  {
   "cell_type": "markdown",
   "metadata": {},
   "source": [
    "Note that _in both cases_, when using `text()` or `literal_column()`, we are writing a **syntactical SQL expression**, and _not a literal value_. We therefore have to include whatever quoting or syntaxes are necessary for the SQL we want to see rendered."
   ]
  },
  {
   "cell_type": "markdown",
   "metadata": {},
   "source": [
    "#### The WHERE clause\n",
    "\n",
    "SQLAlchemy allows us to _compose SQL expressions_, such as `name = 'squidward'` or `user_id > 10`, by making use of _standard `Python operators` in conjunction with `Column` and similar objects_. For `boolean expressions`, most Python operators such as `==, !=, <, >= etc.` _generate new SQL Expression objects, rather than plain boolean `True/False` values_."
   ]
  },
  {
   "cell_type": "code",
   "execution_count": 25,
   "metadata": {},
   "outputs": [
    {
     "name": "stdout",
     "output_type": "stream",
     "text": [
      "user_account.name = :name_1\n",
      "address.user_id > :user_id_1\n"
     ]
    }
   ],
   "source": [
    "print(user_table.c.name == \"squidward\")\n",
    "print(address_table.c.user_id > 10)"
   ]
  },
  {
   "cell_type": "markdown",
   "metadata": {},
   "source": [
    "We can use expressions like these to _generate the `WHERE` clause_ by passing the resulting objects to the `Select.where()` method."
   ]
  },
  {
   "cell_type": "code",
   "execution_count": 26,
   "metadata": {},
   "outputs": [
    {
     "name": "stdout",
     "output_type": "stream",
     "text": [
      "SELECT user_account.id, user_account.name, user_account.fullname \n",
      "FROM user_account \n",
      "WHERE user_account.name = :name_1\n"
     ]
    }
   ],
   "source": [
    "print(select(user_table).where(user_table.c.name == \"squidward\"))"
   ]
  },
  {
   "cell_type": "markdown",
   "metadata": {},
   "source": [
    "To produce _multiple expressions `joined by AND`_, the `Select.where()` method may be _invoked any number of times_."
   ]
  },
  {
   "cell_type": "code",
   "execution_count": 27,
   "metadata": {},
   "outputs": [
    {
     "name": "stdout",
     "output_type": "stream",
     "text": [
      "SELECT address.email_address \n",
      "FROM address, user_account \n",
      "WHERE user_account.name = :name_1 AND address.user_id = user_account.id\n"
     ]
    }
   ],
   "source": [
    "print(\n",
    "    select(address_table.c.email_address).\n",
    "    where(user_table.c.name == \"squidward\").\n",
    "    where(address_table.c.user_id == user_table.c.id)\n",
    ")"
   ]
  },
  {
   "cell_type": "markdown",
   "metadata": {},
   "source": [
    "A single call to `Select.where()` also _accepts multiple expressions_ with the same effect."
   ]
  },
  {
   "cell_type": "code",
   "execution_count": 28,
   "metadata": {},
   "outputs": [
    {
     "name": "stdout",
     "output_type": "stream",
     "text": [
      "SELECT address.email_address \n",
      "FROM address, user_account \n",
      "WHERE user_account.name = :name_1 AND address.user_id = user_account.id\n"
     ]
    }
   ],
   "source": [
    "print(\n",
    "    select(address_table.c.email_address).\n",
    "    where(\n",
    "        user_table.c.name == \"squidward\",\n",
    "        address_table.c.user_id == user_table.c.id\n",
    "    )\n",
    ")"
   ]
  },
  {
   "cell_type": "markdown",
   "metadata": {},
   "source": [
    "`AND` and `OR` conjunctions are both __available directly__ using the `and_()` and `or_()` functions, illustrated below in terms of _ORM entities_."
   ]
  },
  {
   "cell_type": "code",
   "execution_count": 29,
   "metadata": {},
   "outputs": [
    {
     "name": "stdout",
     "output_type": "stream",
     "text": [
      "SELECT address.email_address \n",
      "FROM address, user_account \n",
      "WHERE (user_account.name = :name_1 OR user_account.name = :name_2) AND address.user_id = user_account.id\n"
     ]
    }
   ],
   "source": [
    "print(\n",
    "    select(Address.email_address).\n",
    "    where(\n",
    "        and_(\n",
    "            or_(User.name == \"squidward\", User.name == \"sandy\"),\n",
    "            Address.user_id == User.id\n",
    "        )\n",
    "    )\n",
    ")"
   ]
  },
  {
   "cell_type": "markdown",
   "metadata": {},
   "source": [
    "For *simple `\"equality\"` comparisons against a __single entity__*, there's also a popular method known as `Select.filter_by()` which accepts _keyword arguments that match to column keys or ORM attribute names_. It will filter against the _leftmost `FROM` clause_ or the _last entity joined_."
   ]
  },
  {
   "cell_type": "code",
   "execution_count": 30,
   "metadata": {},
   "outputs": [
    {
     "name": "stdout",
     "output_type": "stream",
     "text": [
      "SELECT user_account.id, user_account.name, user_account.fullname \n",
      "FROM user_account \n",
      "WHERE user_account.name = :name_1 AND user_account.fullname = :fullname_1\n"
     ]
    }
   ],
   "source": [
    "print(select(User).filter_by(name=\"spongebob\", fullname=\"Spongebob Squarepants\"))"
   ]
  },
  {
   "cell_type": "markdown",
   "metadata": {},
   "source": [
    "#### Explicit FROM clauses and JOINs\n",
    "\n",
    "As mentioned previously, the `FROM` clause is usually _**inferred** based on the expressions_ that we are setting in the `columns` clause as well as other elements of the `Select`.\n",
    "\n",
    "If we set a _single column_ from a particular `Table` in the `COLUMNS` clause, it puts that `Table` in the `FROM` clause as well."
   ]
  },
  {
   "cell_type": "code",
   "execution_count": 31,
   "metadata": {},
   "outputs": [
    {
     "name": "stdout",
     "output_type": "stream",
     "text": [
      "SELECT user_account.name \n",
      "FROM user_account\n"
     ]
    }
   ],
   "source": [
    "print(select(user_table.c.name))"
   ]
  },
  {
   "cell_type": "markdown",
   "metadata": {},
   "source": [
    "If we were to put _columns from two tables_, then we get a `comma-separated FROM clause`."
   ]
  },
  {
   "cell_type": "code",
   "execution_count": 32,
   "metadata": {},
   "outputs": [
    {
     "name": "stdout",
     "output_type": "stream",
     "text": [
      "SELECT user_account.name, address.email_address \n",
      "FROM user_account, address\n"
     ]
    }
   ],
   "source": [
    "print(select(user_table.c.name, address_table.c.email_address))"
   ]
  },
  {
   "cell_type": "markdown",
   "metadata": {},
   "source": [
    "In order to `JOIN` these two tables together, we typically use one of two methods on `Select`. The first is the `Select.join_from()` method, which _allows us to indicate the **left and right** side of the JOIN **explicitly**_."
   ]
  },
  {
   "cell_type": "code",
   "execution_count": 33,
   "metadata": {},
   "outputs": [
    {
     "name": "stdout",
     "output_type": "stream",
     "text": [
      "SELECT user_account.name, address.email_address \n",
      "FROM user_account JOIN address ON user_account.id = address.user_id\n"
     ]
    }
   ],
   "source": [
    "print(\n",
    "    select(user_table.c.name, address_table.c.email_address).\n",
    "    join_from(user_table, address_table)\n",
    ")"
   ]
  },
  {
   "cell_type": "markdown",
   "metadata": {},
   "source": [
    "The other is the the `Select.join()` method, which indicates only the **right side** of the `JOIN`, the _left hand-side is inferred_."
   ]
  },
  {
   "cell_type": "code",
   "execution_count": 34,
   "metadata": {},
   "outputs": [
    {
     "name": "stdout",
     "output_type": "stream",
     "text": [
      "SELECT user_account.name, address.email_address \n",
      "FROM user_account JOIN address ON user_account.id = address.user_id\n"
     ]
    }
   ],
   "source": [
    "print(\n",
    "    select(user_table.c.name, address_table.c.email_address).\n",
    "    join(address_table)\n",
    ")"
   ]
  },
  {
   "cell_type": "markdown",
   "metadata": {},
   "source": [
    "> ###### The ON Clause is inferred\n",
    ">\n",
    "> When using `Select.join_from()` or `Select.join()`, we may observe that the `ON clause` of the join is also __inferred__ for us in _simple foreign key cases_."
   ]
  },
  {
   "cell_type": "markdown",
   "metadata": {},
   "source": [
    "We also have the _option to add elements to the `FROM` clause explicitly_, if it is not inferred the way we want from the columns clause. We use the `Select.select_from()` method to achieve this, as below where we establish `user_table` as the first element in the FROM clause and `Select.join()` to establish `address_table` as the second."
   ]
  },
  {
   "cell_type": "code",
   "execution_count": 35,
   "metadata": {},
   "outputs": [
    {
     "name": "stdout",
     "output_type": "stream",
     "text": [
      "SELECT address.email_address \n",
      "FROM user_account JOIN address ON user_account.id = address.user_id\n"
     ]
    }
   ],
   "source": [
    "print(\n",
    "    select(address_table.c.email_address).\n",
    "    select_from(user_table).join(address_table)\n",
    ")"
   ]
  },
  {
   "cell_type": "markdown",
   "metadata": {},
   "source": [
    "Another example where we might want to use `Select.select_from()` is if our columns clause _doesn't have enough information_ to provide for a `FROM` clause. For example, to `SELECT` from the common SQL expression `count(*)`, we use a SQLAlchemy element known as `sqlalchemy.sql.expression.func` to produce the SQL `count()` function."
   ]
  },
  {
   "cell_type": "code",
   "execution_count": 36,
   "metadata": {},
   "outputs": [
    {
     "name": "stdout",
     "output_type": "stream",
     "text": [
      "SELECT count(:count_2) AS count_1 \n",
      "FROM user_account\n"
     ]
    }
   ],
   "source": [
    "print(select(func.count(\"*\")).select_from(user_table))"
   ]
  },
  {
   "cell_type": "markdown",
   "metadata": {},
   "source": [
    "##### Setting the ON Clause\n",
    "\n",
    "The previous examples of `JOIN` illustrated that the `Select` construct _can join between two tables and produce the ON clause automatically_. This occurs in those examples because _the `user_table` and `address_table` Table objects include **a single `ForeignKeyConstraint`** definition_ which is used to form this `ON` clause.\n",
    "\n",
    "If the _`left and right targets of the join` do not have such a constraint_, or there are _multiple constraints_ in place, we __need to specify the `ON` clause directly__. Both `Select.join()` and `Select.join_from()` accept an additional argument for the `ON` clause, which is stated using the same SQL Expression mechanics as we saw about in The `WHERE` clause."
   ]
  },
  {
   "cell_type": "code",
   "execution_count": 37,
   "metadata": {},
   "outputs": [
    {
     "name": "stdout",
     "output_type": "stream",
     "text": [
      "SELECT address.email_address \n",
      "FROM user_account JOIN address ON user_account.id = address.user_id\n"
     ]
    }
   ],
   "source": [
    "print(\n",
    "    select(address_table.c.email_address).\n",
    "    select_from(user_table).\n",
    "    join(address_table, user_table.c.id == address_table.c.user_id)\n",
    ")"
   ]
  },
  {
   "cell_type": "markdown",
   "metadata": {},
   "source": [
    "> **ORM Tip** - there's another way to generate the `ON` clause when _using ORM entities_ that make use of the `relationship()` construct, like the mapping set up in the previous section at `Declaring Mapped Classes`. This is a whole subject onto itself, which is introduced at length at Using Relationships to Join."
   ]
  },
  {
   "cell_type": "markdown",
   "metadata": {},
   "source": [
    "##### OUTER and FULL join\n",
    "\n",
    "Both the `Select.join()` and `Select.join_from()` methods accept keyword arguments `Select.join.isouter` and `Select.join.full` which will render **`LEFT OUTER JOIN`** and **`FULL OUTER JOIN`**, respectively."
   ]
  },
  {
   "cell_type": "code",
   "execution_count": 38,
   "metadata": {},
   "outputs": [
    {
     "name": "stdout",
     "output_type": "stream",
     "text": [
      "SELECT user_account.id, user_account.name, user_account.fullname \n",
      "FROM user_account LEFT OUTER JOIN address ON user_account.id = address.user_id\n"
     ]
    }
   ],
   "source": [
    "print(select(user_table).join(address_table, isouter=True))"
   ]
  },
  {
   "cell_type": "code",
   "execution_count": 39,
   "metadata": {},
   "outputs": [
    {
     "name": "stdout",
     "output_type": "stream",
     "text": [
      "SELECT user_account.id, user_account.name, user_account.fullname \n",
      "FROM user_account FULL OUTER JOIN address ON user_account.id = address.user_id\n"
     ]
    }
   ],
   "source": [
    "print(select(user_table).join(address_table, full=True))"
   ]
  },
  {
   "cell_type": "markdown",
   "metadata": {},
   "source": [
    "There is also a method `Select.outerjoin()` that is equivalent to using `.join(..., isouter=True)`.\n",
    "\n",
    "> `SQL` also has a **`RIGHT OUTER JOIN`**. __`SQLAlchemy` doesn't render this directly__; instead, __reverse the order of the tables and use `LEFT OUTER JOIN`__."
   ]
  },
  {
   "cell_type": "markdown",
   "metadata": {},
   "source": [
    "#### ORDER BY, GROUP BY, HAVING\n",
    "\n",
    "The `SELECT SQL statement` includes a clause called `ORDER BY` which is used to _return the selected rows within a given ordering_.\n",
    "\n",
    "The `GROUP BY` clause is constructed similarly to the `ORDER BY` clause, and has the purpose of _sub-dividing the selected rows into specific groups upon which aggregate functions_ may be invoked. _The `HAVING` clause is usually used with `GROUP BY`_ and is of a similar form to the `WHERE` clause, except that it's _applied to the aggregated functions used within groups_."
   ]
  },
  {
   "cell_type": "markdown",
   "metadata": {},
   "source": [
    "#### ORDER BY\n",
    "\n",
    "The `ORDER BY` clause is constructed in terms of SQL Expression constructs typically based on `Column` or _similar objects_. The `Select.order_by()` method accepts _one or more of these expressions_ **positionally**."
   ]
  },
  {
   "cell_type": "code",
   "execution_count": 40,
   "metadata": {},
   "outputs": [
    {
     "name": "stdout",
     "output_type": "stream",
     "text": [
      "SELECT user_account.id, user_account.name, user_account.fullname \n",
      "FROM user_account ORDER BY user_account.name\n"
     ]
    }
   ],
   "source": [
    "print(select(user_table).order_by(user_table.c.name))"
   ]
  },
  {
   "cell_type": "markdown",
   "metadata": {},
   "source": [
    "`Ascending/descending` is available from the `ColumnElement.asc()` and `ColumnElement.desc()` modifiers, which are present from _ORM-bound attributes_ as well."
   ]
  },
  {
   "cell_type": "code",
   "execution_count": 41,
   "metadata": {},
   "outputs": [
    {
     "name": "stdout",
     "output_type": "stream",
     "text": [
      "SELECT user_account.id, user_account.name, user_account.fullname \n",
      "FROM user_account ORDER BY user_account.fullname DESC\n"
     ]
    }
   ],
   "source": [
    "print(select(User).order_by(User.fullname.desc()))"
   ]
  },
  {
   "cell_type": "markdown",
   "metadata": {},
   "source": [
    "The above statement will yield rows that are `sorted` by the `user_account.fullname` column in _descending order_."
   ]
  },
  {
   "cell_type": "markdown",
   "metadata": {},
   "source": [
    "#### Aggregate functions with `GROUP BY/HAVING`\n",
    "\n",
    "In `SQL`, `aggregate functions` allow column expressions across multiple rows to be aggregated together to produce a single result. Examples include `counting`, `computing averages`, as well as locating the `maximum` or `minimum` value in a set of values.\n",
    "\n",
    "SQLAlchemy provides for SQL functions in an _open-ended way_ using a namespace known as `func`. This is a _special constructor_ object which will _create new instances_ of `Function` when given the name of a particular SQL function, which can have _any name_, as well as _zero or more arguments_ to pass to the `function`, which are, like in all other cases, SQL Expression constructs. For example, to render the `SQL COUNT()` function against the `user_account.id` column, we call upon the `count()` name."
   ]
  },
  {
   "cell_type": "code",
   "execution_count": 42,
   "metadata": {},
   "outputs": [
    {
     "name": "stdout",
     "output_type": "stream",
     "text": [
      "count(user_account.id)\n"
     ]
    }
   ],
   "source": [
    "count_fn = func.count(user_table.c.id)\n",
    "print(count_fn)"
   ]
  },
  {
   "cell_type": "markdown",
   "metadata": {},
   "source": [
    "When using `aggregate functions` in `SQL`, the `GROUP BY` clause is __essential__ in that it `allows rows to be partitioned into groups` where _aggregate functions_ will be applied to each group __individually__. When requesting `non-aggregated columns` in the `COLUMNS` clause of a `SELECT` statement, SQL requires that these columns all be subject to a `GROUP BY` clause, either __directly or indirectly__ based on a `primary key association`. The `HAVING` clause is then used in a similar manner as the `WHERE` clause, except that it _filters out rows based on aggregated values_ rather than direct row contents.\n",
    "\n",
    "SQLAlchemy provides for these _two clauses_ using the `Select.group_by()` and `Select.having()` methods. Below we illustrate selecting user name fields as well as count of addresses, for those users that have more than one address."
   ]
  },
  {
   "cell_type": "code",
   "execution_count": 43,
   "metadata": {},
   "outputs": [
    {
     "name": "stdout",
     "output_type": "stream",
     "text": [
      "2022-10-03 17:23:57,904 INFO sqlalchemy.engine.Engine BEGIN (implicit)\n",
      "2022-10-03 17:23:57,905 INFO sqlalchemy.engine.Engine SELECT user_account.name, count(address.id) AS count \n",
      "FROM user_account JOIN address ON user_account.id = address.user_id GROUP BY user_account.name \n",
      "HAVING count(address.id) > ?\n",
      "2022-10-03 17:23:57,906 INFO sqlalchemy.engine.Engine [generated in 0.00250s] (1,)\n",
      "[('sandy', 2)]\n",
      "2022-10-03 17:23:57,909 INFO sqlalchemy.engine.Engine ROLLBACK\n"
     ]
    }
   ],
   "source": [
    "with engine.connect() as conn:\n",
    "    result = conn.execute(\n",
    "        select(User.name, func.count(Address.id).label(\"count\")).\n",
    "        join(Address).group_by(User.name).having(func.count(Address.id) > 1)\n",
    "    )\n",
    "    print(result.all())"
   ]
  },
  {
   "cell_type": "markdown",
   "metadata": {},
   "source": [
    "#### Ordering or Grouping by a Label\n",
    "\n",
    "An important technique, in particular on some database backends, is the ability to `ORDER BY` or `GROUP BY` an expression that is already stated in the columns clause, __without re-stating__ the expression in the `ORDER BY` or `GROUP BY` clause and instead using the _column name_ or _labeled name_ from the `COLUMNS` clause. This form is available by passing the __string text of the name__ to the `Select.order_by()` or `Select.group_by()` method. The text passed is __not rendered directly__; instead, the name given to an expression in the columns clause and rendered as that expression name in context, raising an error if no match is found. The unary modifiers `asc()` and `desc()` may also be used in this form."
   ]
  },
  {
   "cell_type": "code",
   "execution_count": 44,
   "metadata": {},
   "outputs": [
    {
     "name": "stdout",
     "output_type": "stream",
     "text": [
      "SELECT address.user_id, count(address.id) AS num_addresses \n",
      "FROM address GROUP BY address.user_id ORDER BY address.user_id, num_addresses DESC\n"
     ]
    }
   ],
   "source": [
    "stmt = select(\n",
    "    Address.user_id, func.count(Address.id).label(\"num_addresses\")\n",
    ").group_by(\"user_id\").order_by(\"user_id\", desc(\"num_addresses\"))\n",
    "print(stmt)"
   ]
  },
  {
   "cell_type": "markdown",
   "metadata": {},
   "source": [
    "#### Using Aliases\n",
    "\n",
    "Now that we are selecting from `multiple tables` and using __joins__, we quickly run into the case where we need to _refer to the same table `multiple` times_ in the `FROM` clause of a statement. We accomplish this using `SQL aliases`, which are a syntax that supplies an __alternative name__ to a `table or subquery` from which it can be referred towards in the statement.\n",
    "\n",
    "In the SQLAlchemy Expression Language, these __names__ are instead represented by `FromClause` objects known as the __`Alias construct`__, which is constructed in `Core` using the `FromClause.alias()` method. An `Alias construct` is just like a `Table` construct in that it also has a _namespace of `Column` objects_ within the `Alias.c` collection. The `SELECT` statement below for example returns all unique pairs of user names."
   ]
  },
  {
   "cell_type": "code",
   "execution_count": 45,
   "metadata": {},
   "outputs": [
    {
     "name": "stdout",
     "output_type": "stream",
     "text": [
      "SELECT user_account_1.name, user_account_2.name AS name_1 \n",
      "FROM user_account AS user_account_1 JOIN user_account AS user_account_2 ON user_account_1.id > user_account_2.id\n"
     ]
    }
   ],
   "source": [
    "user_alias_1 = user_table.alias()\n",
    "user_alias_2 = user_table.alias()\n",
    "\n",
    "print(\n",
    "    select(user_alias_1.c.name, user_alias_2.c.name).\n",
    "    join_from(user_alias_1, user_alias_2, user_alias_1.c.id > user_alias_2.c.id)\n",
    ")"
   ]
  },
  {
   "cell_type": "markdown",
   "metadata": {},
   "source": [
    "#### ORM Entity Aliases\n",
    "\n",
    "The ORM equivalent of the `FromClause.alias()` method is the ORM `aliased()` function, which may be applied to an entity such as `User` and `Address`. This produces a `Alias` object internally that's against the original mapped `Table` object, while maintaining ORM functionality. The `SELECT` below selects from the `User` entity all objects that include two particular email addresses."
   ]
  },
  {
   "cell_type": "code",
   "execution_count": 46,
   "metadata": {},
   "outputs": [
    {
     "name": "stdout",
     "output_type": "stream",
     "text": [
      "SELECT user_account.id, user_account.name, user_account.fullname \n",
      "FROM user_account JOIN address AS address_1 ON user_account.id = address_1.user_id JOIN address AS address_2 ON user_account.id = address_2.user_id \n",
      "WHERE address_1.email_address = :email_address_1 AND address_2.email_address = :email_address_2\n"
     ]
    }
   ],
   "source": [
    "address_alias_1 = aliased(Address)\n",
    "address_alias_2 = aliased(Address)\n",
    "\n",
    "print(\n",
    "    select(User).\n",
    "    join_from(User, address_alias_1).\n",
    "    where(address_alias_1.email_address == \"patrick@aol.com\").\n",
    "    join_from(User, address_alias_2).\n",
    "    where(address_alias_2.email_address == \"patrick@gmail.com\")\n",
    ")"
   ]
  },
  {
   "cell_type": "markdown",
   "metadata": {},
   "source": [
    "As mentioned in `Setting` the `ON Clause`, the ORM provides for another way to join using the `relationship()` construct. The above example using `aliases` is demonstrated using `relationship()` at _Joining between Aliased targets_."
   ]
  },
  {
   "cell_type": "markdown",
   "metadata": {},
   "source": [
    "#### Subqueries and CTEs\n",
    "\n",
    "A __`subquery`__ in SQL is a `SELECT` statement that is _rendered within parenthesis_ and _placed within the context of an enclosing statement_, _typically_ a `SELECT` statement but _not necessarily_.\n",
    "\n",
    "This section will cover a so-called __non-scalar__ `subquery`, which is _typically placed in the FROM clause of an enclosing SELECT_. We will also cover the `Common Table Expression` or `CTE`, which is used in a similar way as a subquery, but includes _additional features_.\n",
    "\n",
    "SQLAlchemy uses the `Subquery` object to represent a _subquery_ and the `CTE` to represent a _CTE_, usually obtained from the `Select.subquery()` and `Select.cte()` methods, respectively. Either object can be used as a `FROM` element `inside of a larger select()` construct.\n",
    "\n",
    "We can construct a `Subquery` that will _select an aggregate count of rows_ from the address table (`aggregate functions` and `GROUP BY` were introduced previously at `Aggregate functions with GROUP BY/HAVING`)."
   ]
  },
  {
   "cell_type": "code",
   "execution_count": 47,
   "metadata": {},
   "outputs": [
    {
     "name": "stdout",
     "output_type": "stream",
     "text": [
      "SELECT count(address.id) AS count, address.user_id \n",
      "FROM address GROUP BY address.user_id\n"
     ]
    }
   ],
   "source": [
    "subq = select(\n",
    "    func.count(address_table.c.id).label(\"count\"),\n",
    "    address_table.c.user_id,\n",
    ").group_by(address_table.c.user_id).subquery()\n",
    "\n",
    "print(subq)"
   ]
  },
  {
   "cell_type": "markdown",
   "metadata": {},
   "source": [
    "The `Subquery` object behaves like any other `FROM` object such as a `Table`, notably that it includes a `Subquery.c` namespace of the columns which it selects. We can use this namespace to refer to both the `user_id` column as well as our custom labeled `count` expression."
   ]
  },
  {
   "cell_type": "code",
   "execution_count": 48,
   "metadata": {},
   "outputs": [
    {
     "name": "stdout",
     "output_type": "stream",
     "text": [
      "SELECT anon_1.user_id, anon_1.count \n",
      "FROM (SELECT count(address.id) AS count, address.user_id AS user_id \n",
      "FROM address GROUP BY address.user_id) AS anon_1\n"
     ]
    }
   ],
   "source": [
    "print(select(subq.c.user_id, subq.c.count))"
   ]
  },
  {
   "cell_type": "markdown",
   "metadata": {},
   "source": [
    "With a selection of rows contained within the _subq_ object, we can _apply the object to a larger `Select`_ that will join the data to the `user_account` table."
   ]
  },
  {
   "cell_type": "code",
   "execution_count": 49,
   "metadata": {},
   "outputs": [
    {
     "name": "stdout",
     "output_type": "stream",
     "text": [
      "SELECT user_account.name, user_account.fullname, anon_1.count \n",
      "FROM user_account JOIN (SELECT count(address.id) AS count, address.user_id AS user_id \n",
      "FROM address GROUP BY address.user_id) AS anon_1 ON user_account.id = anon_1.user_id\n"
     ]
    }
   ],
   "source": [
    "stmt = select(\n",
    "    user_table.c.name,\n",
    "    user_table.c.fullname,\n",
    "    subq.c.count,\n",
    ").join_from(user_table, subq)\n",
    "\n",
    "print(stmt)"
   ]
  },
  {
   "cell_type": "markdown",
   "metadata": {},
   "source": [
    "In order to __join__ from `user_account` to `address`, we made use of the `Select.join_from()` method. As has been illustrated previously, the `ON clause` of this _join_ was again __inferred__ based on _foreign key constraints_. Even though a `SQL subquery` __does not itself have any constraints__, SQLAlchemy can act upon constraints represented on the columns by determining that the `subq.c.user_id` column is _derived from_ the `address_table.c.user_id` column, which __does express__ a `foreign key relationship` back to the `user_table.c.id` column which is then used to _generate_ the `ON clause`."
   ]
  },
  {
   "cell_type": "markdown",
   "metadata": {},
   "source": [
    "#### Common Table Expressions (CTEs)\n",
    "\n",
    "Usage of the `CTE` construct in SQLAlchemy is _virtually the same_ as how the `Subquery` construct is used. By changing the invocation of the `Select.subquery()` method to use `Select.cte()` instead, we can use the resulting object as a `FROM` element in the same way, but the __SQL rendered is the very different__ common table expression syntax."
   ]
  },
  {
   "cell_type": "code",
   "execution_count": 50,
   "metadata": {},
   "outputs": [
    {
     "name": "stdout",
     "output_type": "stream",
     "text": [
      "WITH anon_1 AS \n",
      "(SELECT count(address.id) AS count, address.user_id AS user_id \n",
      "FROM address GROUP BY address.user_id)\n",
      " SELECT user_account.name, user_account.fullname, anon_1.count \n",
      "FROM user_account JOIN anon_1 ON user_account.id = anon_1.user_id\n"
     ]
    }
   ],
   "source": [
    "subq = select(\n",
    "    func.count(address_table.c.id).label(\"count\"),\n",
    "    address_table.c.user_id\n",
    ").group_by(address_table.c.user_id).cte()\n",
    "\n",
    "stmt = select(\n",
    "    user_table.c.name,\n",
    "    user_table.c.fullname,\n",
    "    subq.c.count,\n",
    ").join_from(user_table, subq)\n",
    "print(stmt)"
   ]
  },
  {
   "cell_type": "markdown",
   "metadata": {},
   "source": [
    "The `CTE` construct also features the ability to be used in a __recursive style__, and may in more elaborate cases be __composed from the RETURNING clause__ of an `INSERT, UPDATE or DELETE` statement. The docstring for `CTE` includes details on these additional patterns.\n",
    "\n",
    "In both cases, the `subquery` and `CTE` were named at the SQL level using an __anonymous__ name. In the Python code, we don't need to provide these names at all. The __object identity__ of the `Subquery` or `CTE` instances serves as the __syntactical identity__ of the object when rendered. A _name that will be rendered_ in the SQL can be provided by passing it as the _first argument_ of the `Select.subquery()` or `Select.cte()` methods."
   ]
  },
  {
   "cell_type": "markdown",
   "metadata": {},
   "source": [
    "#### ORM Entity `Subqueries/CTEs`\n",
    "\n",
    "In the ORM, the `aliased()` construct may be used to associate an ORM entity, such as our `User` or `Address` class, with any `FromClause` concept that represents a _source of rows_. The preceding section `ORM Entity Aliases` illustrates using `aliased()` to __associate the mapped class with an `Alias` of its mapped `Table`__. Here we illustrate `aliased()` doing the same thing against both a `Subquery` as well as a `CTE` generated against a `Select` construct, that ultimately derives from that same mapped `Table`.\n",
    "\n",
    "Below is an example of applying `aliased()` to the `Subquery` construct, so that _ORM entities can be extracted from its rows_. The result shows a series of `User` and `Address` objects, where the data for each `Address` object ultimately came from a __subquery__ against the `address` table rather than that `table` directly."
   ]
  },
  {
   "cell_type": "code",
   "execution_count": 51,
   "metadata": {},
   "outputs": [
    {
     "name": "stdout",
     "output_type": "stream",
     "text": [
      "2022-10-03 17:23:59,480 INFO sqlalchemy.engine.Engine BEGIN (implicit)\n",
      "2022-10-03 17:23:59,484 INFO sqlalchemy.engine.Engine SELECT user_account.id, user_account.name, user_account.fullname, anon_1.id AS id_1, anon_1.email_address, anon_1.user_id \n",
      "FROM user_account JOIN (SELECT address.id AS id, address.email_address AS email_address, address.user_id AS user_id \n",
      "FROM address \n",
      "WHERE address.email_address NOT LIKE ?) AS anon_1 ON user_account.id = anon_1.user_id ORDER BY user_account.id, anon_1.id\n",
      "2022-10-03 17:23:59,486 INFO sqlalchemy.engine.Engine [generated in 0.00142s] ('%@aol.com',)\n",
      "user=User(id=1, name='spongebob', fullname='Spongebob Squarepants') address=Address(id=1, email_address='spongebob@sqlalchemy.org')\n",
      "user=User(id=2, name='sandy', fullname='Sandy Cheeks') address=Address(id=2, email_address='sandy@sqlalchemy.org')\n",
      "user=User(id=2, name='sandy', fullname='Sandy Cheeks') address=Address(id=3, email_address='sandy@squirrelpower.org')\n",
      "2022-10-03 17:23:59,489 INFO sqlalchemy.engine.Engine ROLLBACK\n"
     ]
    }
   ],
   "source": [
    "subq = select(Address).where(~Address.email_address.like(\"%@aol.com\")).subquery()\n",
    "address_subq = aliased(Address, subq)\n",
    "stmt = select(User, address_subq).join_from(User, address_subq).order_by(User.id, address_subq.id)\n",
    "\n",
    "with Session(engine) as session:\n",
    "    for user, address in session.execute(stmt):\n",
    "        print(f\"{user=} {address=}\")"
   ]
  },
  {
   "cell_type": "markdown",
   "metadata": {},
   "source": [
    "Another example follows, which is __exactly the same__ except it makes use of the `CTE` construct instead."
   ]
  },
  {
   "cell_type": "code",
   "execution_count": 52,
   "metadata": {},
   "outputs": [
    {
     "name": "stdout",
     "output_type": "stream",
     "text": [
      "2022-10-03 17:23:59,684 INFO sqlalchemy.engine.Engine BEGIN (implicit)\n",
      "2022-10-03 17:23:59,688 INFO sqlalchemy.engine.Engine WITH anon_1 AS \n",
      "(SELECT address.id AS id, address.email_address AS email_address, address.user_id AS user_id \n",
      "FROM address \n",
      "WHERE address.email_address NOT LIKE ?)\n",
      " SELECT user_account.id, user_account.name, user_account.fullname, anon_1.id AS id_1, anon_1.email_address, anon_1.user_id \n",
      "FROM user_account JOIN anon_1 ON user_account.id = anon_1.user_id ORDER BY user_account.id, anon_1.id\n",
      "2022-10-03 17:23:59,689 INFO sqlalchemy.engine.Engine [generated in 0.00126s] ('%@aol.com',)\n",
      "user=User(id=1, name='spongebob', fullname='Spongebob Squarepants') address=Address(id=1, email_address='spongebob@sqlalchemy.org')\n",
      "user=User(id=2, name='sandy', fullname='Sandy Cheeks') address=Address(id=2, email_address='sandy@sqlalchemy.org')\n",
      "user=User(id=2, name='sandy', fullname='Sandy Cheeks') address=Address(id=3, email_address='sandy@squirrelpower.org')\n",
      "2022-10-03 17:23:59,693 INFO sqlalchemy.engine.Engine ROLLBACK\n"
     ]
    }
   ],
   "source": [
    "cte_obj = select(Address).where(~Address.email_address.like(\"%@aol.com\")).cte()\n",
    "address_cte = aliased(Address, cte_obj)\n",
    "stmt = select(User, address_cte).join_from(User, address_cte).order_by(User.id, address_cte.id)\n",
    "\n",
    "with Session(engine) as session:\n",
    "    for user, address in session.execute(stmt):\n",
    "        print(f\"{user=} {address=}\")"
   ]
  },
  {
   "cell_type": "markdown",
   "metadata": {},
   "source": [
    "#### Scalar and Correlated Subqueries\n",
    "\n",
    "A `scalar subquery` is a _subquery_ that returns __exactly zero or one row and exactly one column__. The _subquery_ is then used in the `COLUMNS` or `WHERE` clause of an `enclosing SELECT statement` and is __different than a regular subquery__ in that it is __not used in the FROM clause__. A `correlated subquery` is a _scalar subquery_ that __refers to a table__ in the `enclosing SELECT statement`.\n",
    "\n",
    "SQLAlchemy represents the _scalar subquery_ using the `ScalarSelect` construct, which is part of the __`ColumnElement` expression hierarchy__, in __contrast__ to the _regular subquery_ which is represented by the `Subquery` construct, which is in the `FromClause` hierarchy.\n",
    "\n",
    "`Scalar subqueries` are __often, but not necessarily__, `used with aggregate functions`, introduced previously at `Aggregate functions with GROUP BY/HAVING`. A _scalar subquery_ is __indicated explicitly__ by making use of the `Select.scalar_subquery()` method as below. It's _default string form_ when `stringified` by itself _renders as an ordinary SELECT statement_ that is selecting from two tables."
   ]
  },
  {
   "cell_type": "code",
   "execution_count": 53,
   "metadata": {},
   "outputs": [
    {
     "name": "stdout",
     "output_type": "stream",
     "text": [
      "(SELECT count(address.id) AS count_1 \n",
      "FROM address, user_account \n",
      "WHERE user_account.id = address.user_id)\n"
     ]
    }
   ],
   "source": [
    "subq = select(\n",
    "    func.count(address_table.c.id)\n",
    ").where(user_table.c.id == address_table.c.user_id).scalar_subquery()\n",
    "print(subq)"
   ]
  },
  {
   "cell_type": "markdown",
   "metadata": {},
   "source": [
    "The above `subq` object now __falls within__ the `ColumnElement` SQL expression hierarchy, in that it _may be used like any other column expression_."
   ]
  },
  {
   "cell_type": "code",
   "execution_count": 54,
   "metadata": {},
   "outputs": [
    {
     "name": "stdout",
     "output_type": "stream",
     "text": [
      "(SELECT count(address.id) AS count_1 \n",
      "FROM address, user_account \n",
      "WHERE user_account.id = address.user_id) = :param_1\n"
     ]
    }
   ],
   "source": [
    "print(subq == 5)"
   ]
  },
  {
   "cell_type": "markdown",
   "metadata": {},
   "source": [
    "Although the _scalar subquery_ by itself renders both `user_account` and `address` in its `FROM clause` when _stringified by itself_, when __embedding__ it into an `enclosing select() construct` that deals with the `user_account` table, the `user_account` table is __automatically correlated__, meaning it __does not render__ in the `FROM clause` of the subquery."
   ]
  },
  {
   "cell_type": "code",
   "execution_count": 55,
   "metadata": {},
   "outputs": [
    {
     "name": "stdout",
     "output_type": "stream",
     "text": [
      "SELECT user_account.name, (SELECT count(address.id) AS count_1 \n",
      "FROM address \n",
      "WHERE user_account.id = address.user_id) AS address_count \n",
      "FROM user_account\n"
     ]
    }
   ],
   "source": [
    "stmt = select(user_table.c.name, subq.label(\"address_count\"))\n",
    "print(stmt)"
   ]
  },
  {
   "cell_type": "markdown",
   "metadata": {},
   "source": [
    "`Simple correlated subqueries` will usually __do the right thing__ that's desired. However, in the case where the _correlation is ambiguous_, SQLAlchemy will let us know that __`more clarity is needed`__."
   ]
  },
  {
   "cell_type": "code",
   "execution_count": 56,
   "metadata": {},
   "outputs": [
    {
     "name": "stdout",
     "output_type": "stream",
     "text": [
      "Select statement '<sqlalchemy.sql.selectable.Select object at 0x0000010CBFC34E20>' returned no FROM clauses due to auto-correlation; specify correlate(<tables>) to control correlation manually.\n"
     ]
    }
   ],
   "source": [
    "try:\n",
    "    stmt = select(\n",
    "        user_table.c.name,\n",
    "        address_table.c.email_address,\n",
    "        subq.label(\"address_count\"),\n",
    "    ).join_from(user_table, address_table).order_by(user_table.c.id, address_table.c.id)\n",
    "    print(stmt)\n",
    "except Exception as e:\n",
    "    print(str(e))"
   ]
  },
  {
   "cell_type": "markdown",
   "metadata": {},
   "source": [
    "To specify that the `user_table` is the one we seek to __correlate__ we specify this using the `ScalarSelect.correlate()` or `ScalarSelect.correlate_except()` methods. The statement then can return the data for this column like any other."
   ]
  },
  {
   "cell_type": "code",
   "execution_count": 57,
   "metadata": {},
   "outputs": [
    {
     "name": "stdout",
     "output_type": "stream",
     "text": [
      "2022-10-03 17:24:00,651 INFO sqlalchemy.engine.Engine BEGIN (implicit)\n",
      "2022-10-03 17:24:00,652 INFO sqlalchemy.engine.Engine SELECT user_account.name, address.email_address, (SELECT count(address.id) AS count_1 \n",
      "FROM address \n",
      "WHERE user_account.id = address.user_id) AS address_count \n",
      "FROM user_account JOIN address ON user_account.id = address.user_id ORDER BY user_account.id, address.id\n",
      "2022-10-03 17:24:00,653 INFO sqlalchemy.engine.Engine [generated in 0.00273s] ()\n",
      "2022-10-03 17:24:00,655 INFO sqlalchemy.engine.Engine ROLLBACK\n",
      "[('spongebob', 'spongebob@sqlalchemy.org', 1), ('sandy', 'sandy@sqlalchemy.org', 2), ('sandy', 'sandy@squirrelpower.org', 2)]\n"
     ]
    }
   ],
   "source": [
    "subq = select(\n",
    "    func.count(address_table.c.id)\n",
    ").where(user_table.c.id == address_table.c.user_id).\\\n",
    "scalar_subquery().correlate(user_table)\n",
    "\n",
    "with engine.connect() as conn:\n",
    "    result = conn.execute(\n",
    "        select(\n",
    "            user_table.c.name,\n",
    "            address_table.c.email_address,\n",
    "            subq.label(\"address_count\")\n",
    "        ).\n",
    "        join_from(user_table, address_table).\n",
    "        order_by(user_table.c.id, address_table.c.id)\n",
    "    )\n",
    "\n",
    "print(result.all())"
   ]
  },
  {
   "cell_type": "markdown",
   "metadata": {},
   "source": [
    "##### LATERAL correlation\n",
    "\n",
    "`LATERAL correlation` is a _special sub-category of SQL correlation_ which __allows a selectable unit to refer to another selectable unit within a single `FROM clause`__. This is an `extremely special use case` which, while part of the SQL standard, is only known to be supported by __recent versions of PostgreSQL__.\n",
    "\n",
    "Normally, if a `SELECT` statement refers to `table1 JOIN (SELECT ...) AS subquery` in its `FROM clause`, the `subquery on the right side` __may not refer to the `table1` expression from the left side__; `correlation` __may only refer to a table that is part of another SELECT that entirely encloses this SELECT__. The `LATERAL` keyword allows us to turn this behavior around and __allow correlation from the right side JOIN__.\n",
    "\n",
    "SQLAlchemy supports this feature using the `Select.lateral()` method, which creates an object known as `Lateral`. `Lateral` is in the same family as `Subquery` and `Alias`, but also __includes correlation behavior__ when the construct is added to the `FROM clause` of an _enclosing SELECT_. The following example illustrates a SQL query that makes use of `LATERAL`, selecting the `\"user account/count of email address\"` data as was discussed in the previous section."
   ]
  },
  {
   "cell_type": "code",
   "execution_count": 58,
   "metadata": {},
   "outputs": [
    {
     "name": "stdout",
     "output_type": "stream",
     "text": [
      "SELECT user_account.name, anon_1.address_count, anon_1.email_address \n",
      "FROM user_account JOIN LATERAL (SELECT count(address.id) AS address_count, address.email_address AS email_address, address.user_id AS user_id \n",
      "FROM address \n",
      "WHERE user_account.id = address.user_id) AS anon_1 ON user_account.id = anon_1.user_id ORDER BY user_account.id, anon_1.email_address\n"
     ]
    }
   ],
   "source": [
    "subq = (\n",
    "    select(\n",
    "        func.count(address_table.c.id).label(\"address_count\"),\n",
    "        address_table.c.email_address,\n",
    "        address_table.c.user_id,\n",
    "    ).\n",
    "    where(user_table.c.id == address_table.c.user_id).\n",
    "    lateral()\n",
    ")\n",
    "\n",
    "stmt = (\n",
    "    select(\n",
    "        user_table.c.name,\n",
    "        subq.c.address_count,\n",
    "        subq.c.email_address,\n",
    "    ).\n",
    "    join_from(user_table, subq).\n",
    "    order_by(user_table.c.id, subq.c.email_address)\n",
    ")\n",
    "\n",
    "print(stmt)"
   ]
  },
  {
   "cell_type": "markdown",
   "metadata": {},
   "source": [
    "Above, the _right side_ of the `JOIN` is a `subquery` that __correlates__ to the `user_account` table that's on the _left side_ of the join.\n",
    "\n",
    "When using `Select.lateral()`, the behavior of `Select.correlate()` and `Select.correlate_except()` methods is applied to the `Lateral` construct as well."
   ]
  },
  {
   "cell_type": "markdown",
   "metadata": {},
   "source": [
    "#### `UNION`, `UNION ALL` and other set operations\n",
    "\n",
    "In SQL, `SELECT` statements __can be merged together__ using the `UNION` or `UNION ALL` SQL operation, which produces the _set of all rows produced by one or more statements together_. Other _set operations_ such as `INTERSECT [ALL]` and `EXCEPT [ALL]` are also possible.\n",
    "\n",
    "SQLAlchemy's `Select` construct __supports compositions__ of this nature using functions like `union()`, `intersect()` and `except_()`, and the all counterparts `union_all()`, `intersect_all()` and `except_all()`. These functions all _accept an arbitrary number of sub-selectables_, which are typically `Select` constructs but _may also be an existing composition_.\n",
    "\n",
    "The construct produced by these functions is the `CompoundSelect`, which is used in the same manner as the `Select` construct, except that it has __fewer methods__. The `CompoundSelect` produced by `union_all()` for example may be __invoked directly using Connection.execute()__."
   ]
  },
  {
   "cell_type": "code",
   "execution_count": 59,
   "metadata": {},
   "outputs": [
    {
     "name": "stdout",
     "output_type": "stream",
     "text": [
      "2022-10-03 17:24:01,130 INFO sqlalchemy.engine.Engine BEGIN (implicit)\n",
      "2022-10-03 17:24:01,131 INFO sqlalchemy.engine.Engine SELECT user_account.id, user_account.name, user_account.fullname \n",
      "FROM user_account \n",
      "WHERE user_account.name = ? UNION ALL SELECT user_account.id, user_account.name, user_account.fullname \n",
      "FROM user_account \n",
      "WHERE user_account.name = ?\n",
      "2022-10-03 17:24:01,132 INFO sqlalchemy.engine.Engine [generated in 0.00294s] ('sandy', 'spongebob')\n",
      "[(2, 'sandy', 'Sandy Cheeks'), (1, 'spongebob', 'Spongebob Squarepants')]\n",
      "2022-10-03 17:24:01,134 INFO sqlalchemy.engine.Engine ROLLBACK\n"
     ]
    }
   ],
   "source": [
    "stmt1 = select(user_table).where(user_table.c.name == \"sandy\")\n",
    "stmt2 = select(user_table).where(user_table.c.name == \"spongebob\")\n",
    "u = union_all(stmt1, stmt2)\n",
    "\n",
    "with engine.connect() as conn:\n",
    "    result = conn.execute(u)\n",
    "    print(result.all())"
   ]
  },
  {
   "cell_type": "markdown",
   "metadata": {},
   "source": [
    "To use a `CompoundSelect` as a _subquery_, just like `Select` it provides a `SelectBase.subquery()` method which will produce a `Subquery` object with a `FromClause.c collection` that __may be referred__ towards in an `enclosing select()`."
   ]
  },
  {
   "cell_type": "code",
   "execution_count": 60,
   "metadata": {},
   "outputs": [
    {
     "name": "stdout",
     "output_type": "stream",
     "text": [
      "2022-10-03 17:24:01,278 INFO sqlalchemy.engine.Engine BEGIN (implicit)\n",
      "2022-10-03 17:24:01,280 INFO sqlalchemy.engine.Engine SELECT anon_1.name, address.email_address \n",
      "FROM address JOIN (SELECT user_account.id AS id, user_account.name AS name, user_account.fullname AS fullname \n",
      "FROM user_account \n",
      "WHERE user_account.name = ? UNION ALL SELECT user_account.id AS id, user_account.name AS name, user_account.fullname AS fullname \n",
      "FROM user_account \n",
      "WHERE user_account.name = ?) AS anon_1 ON anon_1.id = address.user_id ORDER BY anon_1.name, address.email_address\n",
      "2022-10-03 17:24:01,281 INFO sqlalchemy.engine.Engine [generated in 0.00311s] ('sandy', 'spongebob')\n",
      "[('sandy', 'sandy@sqlalchemy.org'), ('sandy', 'sandy@squirrelpower.org'), ('spongebob', 'spongebob@sqlalchemy.org')]\n",
      "2022-10-03 17:24:01,282 INFO sqlalchemy.engine.Engine ROLLBACK\n"
     ]
    }
   ],
   "source": [
    "u_subq = u.subquery()\n",
    "stmt = (\n",
    "    select(u_subq.c.name, address_table.c.email_address).\n",
    "    join_from(address_table, u_subq).\n",
    "    order_by(u_subq.c.name, address_table.c.email_address)\n",
    ")\n",
    "\n",
    "with engine.connect() as conn:\n",
    "    result = conn.execute(stmt)\n",
    "    print(result.all())"
   ]
  },
  {
   "cell_type": "markdown",
   "metadata": {},
   "source": [
    "##### Selecting ORM Entities from Unions\n",
    "\n",
    "The preceding examples illustrated how to construct a `UNION` given two `Table` objects, to then return database rows. If we wanted to use a `UNION` or _other set operation_ to select rows that we then receive as ORM objects, there are __two approaches__ that may be used. In both cases, we first construct a `select()` or `CompoundSelect` object that represents the `SELECT/UNION/etc statement` we want to execute; this statement should be _composed against the target ORM entities_ or their _underlying mapped Table objects_."
   ]
  },
  {
   "cell_type": "code",
   "execution_count": 61,
   "metadata": {},
   "outputs": [
    {
     "name": "stdout",
     "output_type": "stream",
     "text": [
      "SELECT user_account.id, user_account.name, user_account.fullname \n",
      "FROM user_account \n",
      "WHERE user_account.name = :name_1 UNION ALL SELECT user_account.id, user_account.name, user_account.fullname \n",
      "FROM user_account \n",
      "WHERE user_account.name = :name_2\n"
     ]
    }
   ],
   "source": [
    "stmt1 = select(User).where(User.name == \"sandy\")\n",
    "stmt2 = select(User).where(User.name == \"spongebob\")\n",
    "u = union_all(stmt1, stmt2)\n",
    "print(u)"
   ]
  },
  {
   "cell_type": "markdown",
   "metadata": {},
   "source": [
    "For a `simple SELECT with UNION` that is _not already nested inside of a subquery_, these can often be used in an _ORM object fetching context_ by using the `Select.from_statement()` method. With this approach, the `UNION` statement represents the entire query; __no additional criteria can be added after `Select.from_statement()` is used__."
   ]
  },
  {
   "cell_type": "code",
   "execution_count": 62,
   "metadata": {},
   "outputs": [
    {
     "name": "stdout",
     "output_type": "stream",
     "text": [
      "2022-10-03 17:24:01,618 INFO sqlalchemy.engine.Engine BEGIN (implicit)\n",
      "2022-10-03 17:24:01,621 INFO sqlalchemy.engine.Engine SELECT user_account.id, user_account.name, user_account.fullname \n",
      "FROM user_account \n",
      "WHERE user_account.name = ? UNION ALL SELECT user_account.id, user_account.name, user_account.fullname \n",
      "FROM user_account \n",
      "WHERE user_account.name = ?\n",
      "2022-10-03 17:24:01,623 INFO sqlalchemy.engine.Engine [generated in 0.00208s] ('sandy', 'spongebob')\n",
      "User(id=2, name='sandy', fullname='Sandy Cheeks')\n",
      "User(id=1, name='spongebob', fullname='Spongebob Squarepants')\n",
      "2022-10-03 17:24:01,626 INFO sqlalchemy.engine.Engine ROLLBACK\n"
     ]
    }
   ],
   "source": [
    "orm_stmt = select(User).from_statement(u)\n",
    "\n",
    "with Session(engine) as session:\n",
    "    for obj in session.execute(orm_stmt).scalars():\n",
    "        print(obj)"
   ]
  },
  {
   "cell_type": "markdown",
   "metadata": {},
   "source": [
    "To use a `UNION` or `other set-related construct` as an _entity-related component_ in in a more flexible manner, the `CompoundSelect` construct may be organized into a `subquery` using `CompoundSelect.subquery()`, which then __links to ORM objects using the aliased()__ function. This works in the same way introduced at `ORM Entity Subqueries/CTEs`, to first __create an ad-hoc `\"mapping\"`__ of our desired entity to the subquery, then selecting from that that new entity as though it were any other mapped class. In the example below, we are able to _add additional criteria_ such as `ORDER BY outside of the UNION itself`, as we can `filter` or `order by` the columns exported by the subquery."
   ]
  },
  {
   "cell_type": "code",
   "execution_count": 63,
   "metadata": {},
   "outputs": [
    {
     "name": "stdout",
     "output_type": "stream",
     "text": [
      "2022-10-03 17:24:01,778 INFO sqlalchemy.engine.Engine BEGIN (implicit)\n",
      "2022-10-03 17:24:01,785 INFO sqlalchemy.engine.Engine SELECT anon_1.id, anon_1.name, anon_1.fullname \n",
      "FROM (SELECT user_account.id AS id, user_account.name AS name, user_account.fullname AS fullname \n",
      "FROM user_account \n",
      "WHERE user_account.name = ? UNION ALL SELECT user_account.id AS id, user_account.name AS name, user_account.fullname AS fullname \n",
      "FROM user_account \n",
      "WHERE user_account.name = ?) AS anon_1 ORDER BY anon_1.id\n",
      "2022-10-03 17:24:01,786 INFO sqlalchemy.engine.Engine [generated in 0.00124s] ('sandy', 'spongebob')\n",
      "User(id=1, name='spongebob', fullname='Spongebob Squarepants')\n",
      "User(id=2, name='sandy', fullname='Sandy Cheeks')\n",
      "2022-10-03 17:24:01,788 INFO sqlalchemy.engine.Engine ROLLBACK\n"
     ]
    }
   ],
   "source": [
    "user_alias = aliased(User, u.subquery())\n",
    "orm_stmt = select(user_alias).order_by(user_alias.id)\n",
    "\n",
    "with Session(engine) as session:\n",
    "    for obj in session.execute(orm_stmt).scalars():\n",
    "        print(obj)"
   ]
  },
  {
   "cell_type": "markdown",
   "metadata": {},
   "source": [
    "#### `EXISTS` subqueries\n",
    "\n",
    "The SQL `EXISTS` keyword is an operator that is __used with scalar subqueries__ to _return a boolean true or false_ depending on if the `SELECT` statement would return a row. SQLAlchemy includes a variant of the `ScalarSelect` object called `Exists`, which will __generate an EXISTS subquery__ and is most conveniently generated using the `SelectBase.exists()` method. Below we produce an `EXISTS` so that we can return `user_account` rows that have more than one related row in `address`."
   ]
  },
  {
   "cell_type": "code",
   "execution_count": 64,
   "metadata": {},
   "outputs": [
    {
     "name": "stdout",
     "output_type": "stream",
     "text": [
      "2022-10-03 17:24:01,974 INFO sqlalchemy.engine.Engine BEGIN (implicit)\n",
      "2022-10-03 17:24:01,975 INFO sqlalchemy.engine.Engine SELECT user_account.name \n",
      "FROM user_account \n",
      "WHERE EXISTS (SELECT count(address.id) AS count_1 \n",
      "FROM address \n",
      "WHERE user_account.id = address.user_id GROUP BY address.user_id \n",
      "HAVING count(address.id) > ?)\n",
      "2022-10-03 17:24:01,976 INFO sqlalchemy.engine.Engine [generated in 0.00315s] (1,)\n",
      "[('sandy',)]\n",
      "2022-10-03 17:24:01,979 INFO sqlalchemy.engine.Engine ROLLBACK\n"
     ]
    }
   ],
   "source": [
    "subq = (\n",
    "    select(func.count(address_table.c.id)).\n",
    "    where(user_table.c.id == address_table.c.user_id).\n",
    "    group_by(address_table.c.user_id).\n",
    "    having(func.count(address_table.c.id) > 1)\n",
    ").exists()\n",
    "\n",
    "with engine.connect() as conn:\n",
    "    result = conn.execute(select(user_table.c.name).where(subq))\n",
    "    print(result.all())"
   ]
  },
  {
   "cell_type": "markdown",
   "metadata": {},
   "source": [
    "The `EXISTS` construct is _more often_ than not __used as a negation__, e.g. `NOT EXISTS`, as it provides a _SQL-efficient form of locating rows_ for which a related table has no rows. Below we select user names that have no email addresses; note the __binary negation operator (~)__ used inside the second `WHERE clause`."
   ]
  },
  {
   "cell_type": "code",
   "execution_count": 65,
   "metadata": {},
   "outputs": [
    {
     "name": "stdout",
     "output_type": "stream",
     "text": [
      "2022-10-03 17:24:02,186 INFO sqlalchemy.engine.Engine BEGIN (implicit)\n",
      "2022-10-03 17:24:02,187 INFO sqlalchemy.engine.Engine SELECT user_account.name \n",
      "FROM user_account \n",
      "WHERE NOT (EXISTS (SELECT address.id \n",
      "FROM address \n",
      "WHERE user_account.id = address.user_id))\n",
      "2022-10-03 17:24:02,188 INFO sqlalchemy.engine.Engine [generated in 0.00220s] ()\n",
      "[('patrick',)]\n",
      "2022-10-03 17:24:02,190 INFO sqlalchemy.engine.Engine ROLLBACK\n"
     ]
    }
   ],
   "source": [
    "subq = (\n",
    "    select(address_table.c.id).\n",
    "    where(user_table.c.id == address_table.c.user_id)\n",
    ").exists()\n",
    "\n",
    "with engine.connect() as conn:\n",
    "    result = conn.execute(select(user_table.c.name).where(~subq))\n",
    "    print(result.all())"
   ]
  },
  {
   "cell_type": "markdown",
   "metadata": {},
   "source": [
    "#### Working with SQL Functions\n",
    "\n",
    "First introduced earlier in this section at `Aggregate functions with GROUP BY/HAVING`, the `func` object serves as a __factory for creating new Function objects__, which when used in a construct like `select()`, _produce a SQL function display_, typically consisting of a `name`, `some parenthesis` (although __not always__), and possibly `some arguments`. Examples of _typical SQL functions_ include:\n",
    "\n",
    "* the `count()` function, an _aggregate function_ which __counts how many rows__ are returned."
   ]
  },
  {
   "cell_type": "code",
   "execution_count": 66,
   "metadata": {},
   "outputs": [
    {
     "name": "stdout",
     "output_type": "stream",
     "text": [
      "SELECT count(*) AS count_1 \n",
      "FROM user_account\n"
     ]
    }
   ],
   "source": [
    "print(select(func.count()).select_from(user_table))"
   ]
  },
  {
   "cell_type": "markdown",
   "metadata": {},
   "source": [
    "* the `lower()` function, a _string function_ that __converts a string to lower case__."
   ]
  },
  {
   "cell_type": "code",
   "execution_count": 67,
   "metadata": {},
   "outputs": [
    {
     "name": "stdout",
     "output_type": "stream",
     "text": [
      "SELECT lower(:lower_2) AS lower_1\n"
     ]
    }
   ],
   "source": [
    "print(select(func.lower(\"A String With Much UPPERCASE\")))"
   ]
  },
  {
   "cell_type": "markdown",
   "metadata": {},
   "source": [
    "* the `now()` function, which provides for the __current date and time__; as this is a common function, `SQLAlchemy` _knows_ how to __render this differently for each backend__, in the case of `SQLite` using the `CURRENT_TIMESTAMP` function."
   ]
  },
  {
   "cell_type": "code",
   "execution_count": 68,
   "metadata": {},
   "outputs": [
    {
     "name": "stdout",
     "output_type": "stream",
     "text": [
      "2022-10-03 17:24:02,755 INFO sqlalchemy.engine.Engine BEGIN (implicit)\n",
      "2022-10-03 17:24:02,757 INFO sqlalchemy.engine.Engine SELECT CURRENT_TIMESTAMP AS now_1\n",
      "2022-10-03 17:24:02,758 INFO sqlalchemy.engine.Engine [generated in 0.00295s] ()\n",
      "[(datetime.datetime(2022, 10, 3, 11, 24, 2),)]\n",
      "2022-10-03 17:24:02,760 INFO sqlalchemy.engine.Engine ROLLBACK\n"
     ]
    }
   ],
   "source": [
    "stmt = select(func.now())\n",
    "\n",
    "with engine.connect() as conn:\n",
    "    result = conn.execute(stmt)\n",
    "    print(result.all())"
   ]
  },
  {
   "cell_type": "markdown",
   "metadata": {},
   "source": [
    "As _most database backends_ feature __dozens if not hundreds__ of `different SQL functions`, `func` tries to be __as liberal as possible__ in what it accepts. __Any name__ that is _accessed_ from this `namespace` is __automatically considered to be a SQL function__ that will _render in a generic way_."
   ]
  },
  {
   "cell_type": "code",
   "execution_count": 69,
   "metadata": {},
   "outputs": [
    {
     "name": "stdout",
     "output_type": "stream",
     "text": [
      "SELECT some_crazy_function(user_account.name, :some_crazy_function_2) AS some_crazy_function_1 \n",
      "FROM user_account\n"
     ]
    }
   ],
   "source": [
    "print(select(func.some_crazy_function(user_table.c.name, 17)))"
   ]
  },
  {
   "cell_type": "markdown",
   "metadata": {},
   "source": [
    "At the same time, a _relatively small set of extremely common SQL functions_ such as `count`, `now`, `max`, `concat` include __pre-packaged versions__ of themselves which provide for __proper typing information__ as well as __backend-specific SQL generation__ in some cases. The example below contrasts the SQL generation that occurs for the `PostgreSQL` dialect compared to the `Oracle` dialect for the `now` function."
   ]
  },
  {
   "cell_type": "code",
   "execution_count": 70,
   "metadata": {},
   "outputs": [
    {
     "name": "stdout",
     "output_type": "stream",
     "text": [
      "SELECT now() AS now_1\n"
     ]
    }
   ],
   "source": [
    "print(select(func.now()).compile(dialect=postgresql.dialect()))"
   ]
  },
  {
   "cell_type": "code",
   "execution_count": 71,
   "metadata": {},
   "outputs": [
    {
     "name": "stdout",
     "output_type": "stream",
     "text": [
      "SELECT CURRENT_TIMESTAMP AS now_1 FROM DUAL\n"
     ]
    }
   ],
   "source": [
    "print(select(func.now()).compile(dialect=oracle.dialect()))"
   ]
  },
  {
   "cell_type": "markdown",
   "metadata": {},
   "source": [
    "##### Functions Have Return Types\n",
    "\n",
    "As __functions are column expressions__, they also have `SQL datatypes` that _describe the data type of a generated SQL expression_. We refer to these types here as `\"SQL return types\"`, in reference to the type of `SQL value` that is returned by the function in the context of a _database-side SQL expression_, as opposed to the `\"return type\"` of a Python function.\n",
    "\n",
    "The `SQL return type` of any SQL function _may be accessed, typically for debugging purposes_, by referring to the `Function.type` attribute."
   ]
  },
  {
   "cell_type": "code",
   "execution_count": 72,
   "metadata": {},
   "outputs": [
    {
     "data": {
      "text/plain": [
       "DateTime()"
      ]
     },
     "execution_count": 72,
     "metadata": {},
     "output_type": "execute_result"
    }
   ],
   "source": [
    "func.now().type"
   ]
  },
  {
   "cell_type": "markdown",
   "metadata": {},
   "source": [
    "These `SQL return types` are __significant__ when making use of the function expression in the context of a larger expression; that is, `math` operators will _work better_ when the `datatype of the expression` is something like __`Integer`__ or __`Numeric`__, _JSON accessors_ in order to work need to be using a type such as `JSON`. _Certain classes_ of functions __return entire rows__ instead of column values, where there is a _need to refer to specific columns_; such functions are referred towards as `table valued functions`.\n",
    "\n",
    "The `SQL return type` of the function __may also be significant__ when _executing a statement and getting rows back_, for those cases where SQLAlchemy has to __apply result-set processing__. A prime example of this are _date-related functions on SQLite_, where SQLAlchemy's `DateTime and related datatypes` take on the role of __converting from string values to Python datetime() objects__ as result rows are received.\n",
    "\n",
    "To __apply a `specific type` to a function__ we're creating, we pass it using the `Function.type_` parameter; the _type argument_ may be either a `TypeEngine class or an instance`. In the example below we pass the `JSON` class to generate the `PostgreSQL json_object()` function, noting that the _SQL return type will be of type JSON_."
   ]
  },
  {
   "cell_type": "code",
   "execution_count": 73,
   "metadata": {},
   "outputs": [],
   "source": [
    "function_expr = func.json_object(\"{a, 1, b, 'def', c, 3.5\", type_=JSON)"
   ]
  },
  {
   "cell_type": "code",
   "execution_count": 74,
   "metadata": {},
   "outputs": [
    {
     "name": "stdout",
     "output_type": "stream",
     "text": [
      "SELECT json_object(:json_object_1)[:json_object_2] AS anon_1\n"
     ]
    }
   ],
   "source": [
    "stmt = select(function_expr[\"def\"])\n",
    "print(stmt)"
   ]
  },
  {
   "cell_type": "markdown",
   "metadata": {},
   "source": [
    "##### Built-in Functions Have Pre-Configured Return Types\n",
    "\n",
    "For _common aggregate functions_ like `count`, `max`, `min` as well as a very small number of _date functions_ like `now` and _string functions_ like `concat`, the `SQL return type` is __set up appropriately__, sometimes based on usage. The `max` function and _similar aggregate filtering functions_ will set up the `SQL return type` __based on the argument given__."
   ]
  },
  {
   "cell_type": "code",
   "execution_count": 75,
   "metadata": {},
   "outputs": [
    {
     "data": {
      "text/plain": [
       "Integer()"
      ]
     },
     "execution_count": 75,
     "metadata": {},
     "output_type": "execute_result"
    }
   ],
   "source": [
    "m1 = func.max(Column(\"some_int\", Integer))\n",
    "m1.type"
   ]
  },
  {
   "cell_type": "code",
   "execution_count": 76,
   "metadata": {},
   "outputs": [
    {
     "data": {
      "text/plain": [
       "String()"
      ]
     },
     "execution_count": 76,
     "metadata": {},
     "output_type": "execute_result"
    }
   ],
   "source": [
    "m2 = func.max(Column(\"some_str\", String))\n",
    "m2.type"
   ]
  },
  {
   "cell_type": "markdown",
   "metadata": {},
   "source": [
    "`Date and time functions` typically correspond to SQL expressions described by `DateTime`, `Date` or `Time`."
   ]
  },
  {
   "cell_type": "code",
   "execution_count": 77,
   "metadata": {},
   "outputs": [
    {
     "data": {
      "text/plain": [
       "DateTime()"
      ]
     },
     "execution_count": 77,
     "metadata": {},
     "output_type": "execute_result"
    }
   ],
   "source": [
    "func.now().type"
   ]
  },
  {
   "cell_type": "code",
   "execution_count": 78,
   "metadata": {},
   "outputs": [
    {
     "data": {
      "text/plain": [
       "Date()"
      ]
     },
     "execution_count": 78,
     "metadata": {},
     "output_type": "execute_result"
    }
   ],
   "source": [
    "func.current_date().type"
   ]
  },
  {
   "cell_type": "markdown",
   "metadata": {},
   "source": [
    "A _known string function_ such as `concat` will know that a SQL expression would be of type `String`."
   ]
  },
  {
   "cell_type": "code",
   "execution_count": 79,
   "metadata": {},
   "outputs": [
    {
     "data": {
      "text/plain": [
       "String()"
      ]
     },
     "execution_count": 79,
     "metadata": {},
     "output_type": "execute_result"
    }
   ],
   "source": [
    "func.concat(\"x\", \"y\").type"
   ]
  },
  {
   "cell_type": "markdown",
   "metadata": {},
   "source": [
    "However, for the _vast majority of SQL functions_, `SQLAlchemy` __does not have them explicitly present__ in its very small list of known functions. For example, while there is typically no issue using SQL functions `func.lower()` and `func.upper()` to __convert the casing of strings__, `SQLAlchemy` _doesn't actually know about these functions_, so they have a `\"null\"` SQL return type."
   ]
  },
  {
   "cell_type": "code",
   "execution_count": 80,
   "metadata": {},
   "outputs": [
    {
     "data": {
      "text/plain": [
       "NullType()"
      ]
     },
     "execution_count": 80,
     "metadata": {},
     "output_type": "execute_result"
    }
   ],
   "source": [
    "func.upper(\"lowercase\").type"
   ]
  },
  {
   "cell_type": "markdown",
   "metadata": {},
   "source": [
    "For _simple functions_ like `upper` and `lower`, the issue is __not usually significant__, as _string values may be received from the database without any special type handling_ on the SQLAlchemy side, and SQLAlchemy's `type coercion rules` can __often correctly guess__ intent as well; the Python `+` operator for example will be __correctly interpreted__ as the `string concatenation operator` based on looking at both sides of the expression."
   ]
  },
  {
   "cell_type": "code",
   "execution_count": 81,
   "metadata": {},
   "outputs": [
    {
     "name": "stdout",
     "output_type": "stream",
     "text": [
      "SELECT upper(:upper_1) || :upper_2 AS anon_1\n"
     ]
    }
   ],
   "source": [
    "print(select(func.upper(\"lowercase\") + \" suffix\"))"
   ]
  },
  {
   "cell_type": "markdown",
   "metadata": {},
   "source": [
    "Overall, the scenario where the `Function.type_` parameter __is likely necessary__ is:\n",
    "\n",
    "1. the function is __not already a SQLAlchemy `built-in` function__; this can be _evidenced_ by `creating the function` and _observing the Function.type attribute_."
   ]
  },
  {
   "cell_type": "code",
   "execution_count": 82,
   "metadata": {},
   "outputs": [
    {
     "data": {
      "text/plain": [
       "Integer()"
      ]
     },
     "execution_count": 82,
     "metadata": {},
     "output_type": "execute_result"
    }
   ],
   "source": [
    "func.count().type"
   ]
  },
  {
   "cell_type": "code",
   "execution_count": 83,
   "metadata": {},
   "outputs": [
    {
     "data": {
      "text/plain": [
       "NullType()"
      ]
     },
     "execution_count": 83,
     "metadata": {},
     "output_type": "execute_result"
    }
   ],
   "source": [
    "func.json_object(\"{'a', 'b'}\").type"
   ]
  },
  {
   "cell_type": "markdown",
   "metadata": {},
   "source": [
    "2. __`Function-aware` expression support is needed__; this most _typically_ refers to `special operators` _related to datatypes_ such as `JSON` or `ARRAY`.\n",
    "\n",
    "3. __Result value processing is needed__, which may include types such as `DateTime`, `Boolean`, `Enum`, or again _special datatypes_ such as `JSON`, `ARRAY`."
   ]
  },
  {
   "cell_type": "markdown",
   "metadata": {},
   "source": [
    "##### Advanced SQL Function Techniques\n",
    "\n",
    "The following subsections illustrate more things that can be done with `SQL functions`. While these techniques are `less common` and `more advanced` than basic SQL function use, they nonetheless are __extremely popular__, largely as a _result of PostgreSQL's emphasis on more complex function forms_, including `table- and column-valued forms` that are __popular with JSON data__."
   ]
  },
  {
   "cell_type": "markdown",
   "metadata": {},
   "source": [
    "##### Using Window Functions\n",
    "\n",
    "A `window function` is a _special use_ of a `SQL aggregate function` which _calculates the aggregate value over the rows being returned in a group as the individual result rows are processed_. Whereas a function like `MAX()` will give you the _highest value of a column within a set of rows_, using the `same function as a \"window function\"` will given you the _highest value for each row, as of that row_.\n",
    "\n",
    "In SQL, `window functions` allow one to __specify the rows over which the function should be applied__, a `\"partition\" value` which _considers the window over different sub-sets of rows_, and an `order by` expression which _importantly indicates the order in which rows should be applied to the aggregate function_.\n",
    "\n",
    "In SQLAlchemy, __all SQL functions generated by the func namespace__ include a method `FunctionElement.over()` which __grants the window function, or `\"OVER\"`, syntax__; the construct produced is the `Over` construct.\n",
    "\n",
    "A common function used with window functions is the `row_number()` function which simply __counts rows__. We may _partition_ this `row count` _against user name to number the email addresses of individual users_."
   ]
  },
  {
   "cell_type": "code",
   "execution_count": 84,
   "metadata": {},
   "outputs": [
    {
     "name": "stdout",
     "output_type": "stream",
     "text": [
      "2022-10-03 17:24:06,350 INFO sqlalchemy.engine.Engine BEGIN (implicit)\n",
      "2022-10-03 17:24:06,351 INFO sqlalchemy.engine.Engine SELECT row_number() OVER (PARTITION BY user_account.name) AS anon_1, user_account.name, address.email_address \n",
      "FROM user_account JOIN address ON user_account.id = address.user_id\n",
      "2022-10-03 17:24:06,352 INFO sqlalchemy.engine.Engine [generated in 0.00202s] ()\n",
      "[(1, 'sandy', 'sandy@sqlalchemy.org'), (2, 'sandy', 'sandy@squirrelpower.org'), (1, 'spongebob', 'spongebob@sqlalchemy.org')]\n",
      "2022-10-03 17:24:06,354 INFO sqlalchemy.engine.Engine ROLLBACK\n"
     ]
    }
   ],
   "source": [
    "stmt = select(\n",
    "    func.row_number().over(partition_by=user_table.c.name),\n",
    "    user_table.c.name,\n",
    "    address_table.c.email_address,\n",
    ").select_from(user_table).join(address_table)\n",
    "\n",
    "with engine.connect() as conn:\n",
    "    result = conn.execute(stmt)\n",
    "    print(result.all())"
   ]
  },
  {
   "cell_type": "markdown",
   "metadata": {},
   "source": [
    "Above, the `FunctionElement.over.partition_by` parameter is used so that the `PARTITION BY` clause is __rendered within the OVER clause__. We also may make use of the `ORDER BY` clause using `FunctionElement.over.order_by`."
   ]
  },
  {
   "cell_type": "code",
   "execution_count": 85,
   "metadata": {},
   "outputs": [
    {
     "name": "stdout",
     "output_type": "stream",
     "text": [
      "2022-10-03 17:24:06,553 INFO sqlalchemy.engine.Engine BEGIN (implicit)\n",
      "2022-10-03 17:24:06,554 INFO sqlalchemy.engine.Engine SELECT count(*) OVER (ORDER BY user_account.name) AS anon_1, user_account.name, address.email_address \n",
      "FROM user_account JOIN address ON user_account.id = address.user_id\n",
      "2022-10-03 17:24:06,555 INFO sqlalchemy.engine.Engine [generated in 0.00220s] ()\n",
      "[(2, 'sandy', 'sandy@sqlalchemy.org'), (2, 'sandy', 'sandy@squirrelpower.org'), (3, 'spongebob', 'spongebob@sqlalchemy.org')]\n",
      "2022-10-03 17:24:06,558 INFO sqlalchemy.engine.Engine ROLLBACK\n"
     ]
    }
   ],
   "source": [
    "stmt = select(\n",
    "    func.count().over(order_by=user_table.c.name),\n",
    "    user_table.c.name,\n",
    "    address_table.c.email_address,\n",
    ").select_from(user_table).join(address_table)\n",
    "\n",
    "with engine.connect() as conn:\n",
    "    result = conn.execute(stmt)\n",
    "    print(result.all())"
   ]
  },
  {
   "cell_type": "markdown",
   "metadata": {},
   "source": [
    "> ##### Tip\n",
    ">\n",
    "> It's important to note that the `FunctionElement.over()` method __only applies__ to those SQL functions which are __in fact aggregate functions__; while the `Over` construct will _happily render itself for any SQL function_ given, the __database will reject the expression if the function itself is not a SQL aggregate function__."
   ]
  },
  {
   "cell_type": "markdown",
   "metadata": {},
   "source": [
    "##### Special Modifiers `WITHIN GROUP`, `FILTER`\n",
    "\n",
    "The `\"WITHIN GROUP\"` SQL syntax is used in conjunction with an `\"ordered set\"` or a `\"hypothetical set\"` aggregate function. Common `\"ordered set\"` functions include `percentile_cont()` and `rank()`. SQLAlchemy includes __built-in implementations__ `rank`, `dense_rank`, `mode`, `percentile_cont` and `percentile_disc` which include a `FunctionElement.within_group()` method."
   ]
  },
  {
   "cell_type": "code",
   "execution_count": 86,
   "metadata": {},
   "outputs": [
    {
     "name": "stdout",
     "output_type": "stream",
     "text": [
      "unnest(percentile_disc(:percentile_disc_1) WITHIN GROUP (ORDER BY user_account.name))\n"
     ]
    }
   ],
   "source": [
    "print(func.unnest(func.percentile_disc([0.25,0.5,0.75,1]).within_group(user_table.c.name)))"
   ]
  },
  {
   "cell_type": "markdown",
   "metadata": {},
   "source": [
    "`\"FILTER\"` is _supported by some backends_ to __`limit the range of an aggregate function` to a particular subset of rows compared to the total range of rows returned__, available using the `FunctionElement.filter()` method."
   ]
  },
  {
   "cell_type": "code",
   "execution_count": 87,
   "metadata": {},
   "outputs": [
    {
     "name": "stdout",
     "output_type": "stream",
     "text": [
      "2022-10-03 17:24:06,889 INFO sqlalchemy.engine.Engine BEGIN (implicit)\n",
      "2022-10-03 17:24:06,890 INFO sqlalchemy.engine.Engine SELECT count(address.email_address) FILTER (WHERE user_account.name = ?) AS anon_1, count(address.email_address) FILTER (WHERE user_account.name = ?) AS anon_2 \n",
      "FROM user_account JOIN address ON user_account.id = address.user_id\n",
      "2022-10-03 17:24:06,892 INFO sqlalchemy.engine.Engine [generated in 0.00272s] ('sandy', 'spongebob')\n",
      "[(2, 1)]\n",
      "2022-10-03 17:24:06,895 INFO sqlalchemy.engine.Engine ROLLBACK\n"
     ]
    }
   ],
   "source": [
    "stmt = select(\n",
    "    func.count(address_table.c.email_address).filter(user_table.c.name == \"sandy\"),\n",
    "    func.count(address_table.c.email_address).filter(user_table.c.name == \"spongebob\"),\n",
    ").select_from(user_table).join(address_table)\n",
    "\n",
    "with engine.connect() as conn:\n",
    "    result = conn.execute(stmt)\n",
    "    print(result.all())"
   ]
  },
  {
   "cell_type": "markdown",
   "metadata": {},
   "source": [
    "##### Table-Valued Functions\n",
    "\n",
    "`Table-valued SQL functions` support a __scalar representation that contains named sub-elements__. Often used for _JSON and ARRAY-oriented functions_ as well as functions like `generate_series()`, the _table-valued function_ is specified in the `FROM` clause, and is then __referred towards as a table, or sometimes even as a column__. Functions of this form are _prominent_ within the `PostgreSQL` database, however some forms of _table-valued functions_ are also supported by `SQLite`, `Oracle`, and `SQL Server`.\n",
    "\n",
    "SQLAlchemy provides the `FunctionElement.table_valued()` method as the basic `\"table-valued function\"` construct, which will __convert a func object into a FROM clause containing a series of named columns__, _based on string names passed positionally_. This returns a `TableValuedAlias` object, which is a _function-enabled_ `Alias` construct that may be used as any other `FROM` clause as introduced at `Using Aliases`. Below we illustrate the `json_each()` function, which while common on `PostgreSQL` is also supported by modern versions of `SQLite`."
   ]
  },
  {
   "cell_type": "code",
   "execution_count": 88,
   "metadata": {},
   "outputs": [
    {
     "name": "stdout",
     "output_type": "stream",
     "text": [
      "2022-10-03 17:24:07,105 INFO sqlalchemy.engine.Engine BEGIN (implicit)\n",
      "2022-10-03 17:24:07,106 INFO sqlalchemy.engine.Engine SELECT anon_1.value \n",
      "FROM json_each(?) AS anon_1 \n",
      "WHERE anon_1.value IN (?, ?)\n",
      "2022-10-03 17:24:07,107 INFO sqlalchemy.engine.Engine [generated in 0.00296s] ('[\"one\", \"two\", \"three\"]', 'two', 'three')\n",
      "[('two',), ('three',)]\n",
      "2022-10-03 17:24:07,110 INFO sqlalchemy.engine.Engine ROLLBACK\n"
     ]
    }
   ],
   "source": [
    "onetwothree = func.json_each('[\"one\", \"two\", \"three\"]').table_valued(\"value\")\n",
    "stmt = select(onetwothree).where(onetwothree.c.value.in_([\"two\", \"three\"]))\n",
    "\n",
    "with engine.connect() as conn:\n",
    "    result = conn.execute(stmt)\n",
    "    print(result.all())"
   ]
  },
  {
   "cell_type": "markdown",
   "metadata": {},
   "source": [
    "Above, we used the `json_each()` __JSON function__ supported by `SQLite` and `PostgreSQL` to _generate a table valued expression with a single column referred towards as value_, and then _selected two of its three rows_."
   ]
  },
  {
   "cell_type": "markdown",
   "metadata": {},
   "source": [
    "##### Column Valued Functions - Table Valued Function as a Scalar Column\n",
    "\n",
    "_A special syntax supported by_ `PostgreSQL` and `Oracle` is that of __referring towards a function__ in the `FROM` clause, which then __delivers itself as a single column__ in the _columns clause_ of a `SELECT` statement or _other column expression context_. `PostgreSQL` makes great use of this syntax for such functions as `json_array_elements()`, `json_object_keys()`, `json_each_text()`, `json_each()`, etc. SQLAlchemy refers to this as a `\"column valued\" function` and is _available_ by applying the `FunctionElement.column_valued()` modifier to a `Function` construct."
   ]
  },
  {
   "cell_type": "code",
   "execution_count": 89,
   "metadata": {},
   "outputs": [
    {
     "name": "stdout",
     "output_type": "stream",
     "text": [
      "SELECT x \n",
      "FROM json_array_elements(:json_array_elements_1) AS x\n"
     ]
    }
   ],
   "source": [
    "stmt = select(func.json_array_elements('[\"one\", \"two\"]').column_valued(\"x\"))\n",
    "print(stmt)"
   ]
  },
  {
   "cell_type": "markdown",
   "metadata": {},
   "source": [
    "The `\"column valued\"` form is _also supported_ by the `Oracle` dialect, where it is __usable for custom SQL functions__."
   ]
  },
  {
   "cell_type": "code",
   "execution_count": 90,
   "metadata": {},
   "outputs": [
    {
     "name": "stdout",
     "output_type": "stream",
     "text": [
      "SELECT COLUMN_VALUE s \n",
      "FROM TABLE (scalar_strings(:scalar_strings_1)) s\n"
     ]
    }
   ],
   "source": [
    "stmt = select(func.scalar_strings(5).column_valued(\"s\"))\n",
    "print(stmt.compile(dialect=oracle.dialect()))"
   ]
  },
  {
   "cell_type": "markdown",
   "metadata": {},
   "source": [
    "#### Data Casts and Type Coercion\n",
    "\n",
    "In SQL, we often need to _indicate the datatype_ of an expression __explicitly__, either to tell the database _what type is expected_ in an otherwise ambiguous expression, or in some cases when we want to _convert the implied datatype_ of a SQL expression into something else. The SQL `CAST` keyword is used for this task, which in SQLAlchemy is provided by the `cast()` function. This function __accepts a column expression__ and a __data type object__ as arguments, as demonstrated below where we produce a SQL expression `CAST(user_account.id AS VARCHAR)` from the `user_table.c.id` column object."
   ]
  },
  {
   "cell_type": "code",
   "execution_count": 91,
   "metadata": {},
   "outputs": [
    {
     "name": "stdout",
     "output_type": "stream",
     "text": [
      "2022-10-03 17:24:07,635 INFO sqlalchemy.engine.Engine BEGIN (implicit)\n",
      "2022-10-03 17:24:07,637 INFO sqlalchemy.engine.Engine SELECT CAST(user_account.id AS VARCHAR) AS id \n",
      "FROM user_account\n",
      "2022-10-03 17:24:07,638 INFO sqlalchemy.engine.Engine [generated in 0.00307s] ()\n",
      "[('1',), ('2',), ('3',)]\n",
      "2022-10-03 17:24:07,641 INFO sqlalchemy.engine.Engine ROLLBACK\n"
     ]
    }
   ],
   "source": [
    "stmt = select(cast(user_table.c.id, String))\n",
    "with engine.connect() as conn:\n",
    "    result = conn.execute(stmt)\n",
    "    print(result.all())"
   ]
  },
  {
   "cell_type": "markdown",
   "metadata": {},
   "source": [
    "The `cast()` function not only __renders the SQL CAST syntax__, it also _produces a SQLAlchemy column expression_ that will __act as the given datatype on the Python side__ as well. A `string` expression that is `cast()` to `JSON` will gain __JSON subscript and comparison operators__, for example."
   ]
  },
  {
   "cell_type": "code",
   "execution_count": 92,
   "metadata": {},
   "outputs": [
    {
     "name": "stdout",
     "output_type": "stream",
     "text": [
      "CAST(:param_1 AS JSON)[:param_2]\n"
     ]
    }
   ],
   "source": [
    "print(cast(\"{'a': 'b'}\", JSON)[\"a\"])"
   ]
  },
  {
   "cell_type": "code",
   "execution_count": null,
   "metadata": {},
   "outputs": [],
   "source": []
  }
 ],
 "metadata": {
  "kernelspec": {
   "display_name": "Python 3.9.6 ('sql-env': venv)",
   "language": "python",
   "name": "python3"
  },
  "language_info": {
   "codemirror_mode": {
    "name": "ipython",
    "version": 3
   },
   "file_extension": ".py",
   "mimetype": "text/x-python",
   "name": "python",
   "nbconvert_exporter": "python",
   "pygments_lexer": "ipython3",
   "version": "3.9.6"
  },
  "orig_nbformat": 4,
  "vscode": {
   "interpreter": {
    "hash": "3b00ed0d5d9853c9f0267ee6e89091ab706130aa0b00cb1356a08ef47194a158"
   }
  }
 },
 "nbformat": 4,
 "nbformat_minor": 2
}
