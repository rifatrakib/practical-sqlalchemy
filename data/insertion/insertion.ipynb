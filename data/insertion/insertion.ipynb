{
 "cells": [
  {
   "cell_type": "markdown",
   "metadata": {},
   "source": [
    "## Inserting Rows with Core\n",
    "\n",
    "When using _Core_, a `SQL INSERT statement` is generated using the `insert()` function - this function generates a new instance of `Insert` which represents an `INSERT statement` in __SQL__, that _adds new data into a table_.\n",
    "\n",
    "> __ORM Readers__ - The way that rows are `INSERT`ed into the database from an ORM perspective makes use of _object-centric APIs_ on the `Session` object known as the _unit of work process_, and is fairly __different from the Core-only approach__ described here. The more ORM-focused sections later starting at Inserting Rows with the ORM subsequent to the Expression Language sections introduce this."
   ]
  },
  {
   "cell_type": "markdown",
   "metadata": {},
   "source": [
    "#### Primary setup"
   ]
  },
  {
   "cell_type": "code",
   "execution_count": 4,
   "metadata": {},
   "outputs": [],
   "source": [
    "from sqlalchemy import (\n",
    "    MetaData, Table, Column, Integer, String,\n",
    "    ForeignKey, create_engine, insert\n",
    ")"
   ]
  },
  {
   "cell_type": "code",
   "execution_count": 2,
   "metadata": {},
   "outputs": [],
   "source": [
    "engine = create_engine(\"sqlite+pysqlite:///:memory:\", echo=True, future=True)"
   ]
  },
  {
   "cell_type": "code",
   "execution_count": 3,
   "metadata": {},
   "outputs": [
    {
     "name": "stdout",
     "output_type": "stream",
     "text": [
      "2022-09-21 06:46:58,469 INFO sqlalchemy.engine.Engine BEGIN (implicit)\n",
      "2022-09-21 06:46:58,470 INFO sqlalchemy.engine.Engine PRAGMA main.table_info(\"user_account\")\n",
      "2022-09-21 06:46:58,472 INFO sqlalchemy.engine.Engine [raw sql] ()\n",
      "2022-09-21 06:46:58,474 INFO sqlalchemy.engine.Engine PRAGMA temp.table_info(\"user_account\")\n",
      "2022-09-21 06:46:58,476 INFO sqlalchemy.engine.Engine [raw sql] ()\n",
      "2022-09-21 06:46:58,478 INFO sqlalchemy.engine.Engine PRAGMA main.table_info(\"address\")\n",
      "2022-09-21 06:46:58,479 INFO sqlalchemy.engine.Engine [raw sql] ()\n",
      "2022-09-21 06:46:58,481 INFO sqlalchemy.engine.Engine PRAGMA temp.table_info(\"address\")\n",
      "2022-09-21 06:46:58,482 INFO sqlalchemy.engine.Engine [raw sql] ()\n",
      "2022-09-21 06:46:58,485 INFO sqlalchemy.engine.Engine \n",
      "CREATE TABLE user_account (\n",
      "\tid INTEGER NOT NULL, \n",
      "\tname VARCHAR(30), \n",
      "\tfullname VARCHAR, \n",
      "\tPRIMARY KEY (id)\n",
      ")\n",
      "\n",
      "\n",
      "2022-09-21 06:46:58,486 INFO sqlalchemy.engine.Engine [no key 0.00132s] ()\n",
      "2022-09-21 06:46:58,489 INFO sqlalchemy.engine.Engine \n",
      "CREATE TABLE address (\n",
      "\tid INTEGER NOT NULL, \n",
      "\tuser_id INTEGER NOT NULL, \n",
      "\temail_address VARCHAR NOT NULL, \n",
      "\tPRIMARY KEY (id), \n",
      "\tFOREIGN KEY(user_id) REFERENCES user_account (id)\n",
      ")\n",
      "\n",
      "\n",
      "2022-09-21 06:46:58,491 INFO sqlalchemy.engine.Engine [no key 0.00202s] ()\n",
      "2022-09-21 06:46:58,493 INFO sqlalchemy.engine.Engine COMMIT\n"
     ]
    }
   ],
   "source": [
    "metadata_obj = MetaData()\n",
    "\n",
    "user_table = Table(\n",
    "    \"user_account\", metadata_obj,\n",
    "    Column(\"id\", Integer, primary_key=True),\n",
    "    Column(\"name\", String(30)),\n",
    "    Column(\"fullname\", String),\n",
    ")\n",
    "\n",
    "address_table = Table(\n",
    "    \"address\", metadata_obj,\n",
    "    Column(\"id\", Integer, primary_key=True),\n",
    "    Column(\"user_id\", ForeignKey(\"user_account.id\"), nullable=False),\n",
    "    Column(\"email_address\", String, nullable=False)\n",
    ")\n",
    "\n",
    "metadata_obj.create_all(engine)"
   ]
  },
  {
   "cell_type": "markdown",
   "metadata": {},
   "source": [
    "#### The `insert()` SQL Expression Construct\n",
    "\n",
    "A simple example of `Insert` illustrating the `target table` and the `VALUES clause` at once:"
   ]
  },
  {
   "cell_type": "code",
   "execution_count": 7,
   "metadata": {},
   "outputs": [
    {
     "name": "stdout",
     "output_type": "stream",
     "text": [
      "INSERT INTO user_account (name, fullname) VALUES (:name, :fullname)\n"
     ]
    }
   ],
   "source": [
    "stmt = insert(user_table).values(name=\"spongebob\", fullname=\"Spongebob Squarepants\")\n",
    "print(stmt)"
   ]
  },
  {
   "cell_type": "markdown",
   "metadata": {},
   "source": [
    "The above _stmt variable_ is an instance of `Insert`. Most SQL expressions can be stringified in place as a means to see the general form of what's being produced.\n",
    "\n",
    "The _stringified_ form is created by producing a `Compiled` form of the object which includes a __database-specific string SQL representation__ of the statement; we can acquire this object directly using the `ClauseElement.compile()` method.\n",
    "\n",
    "Our `Insert` construct is an example of a `\"parameterized\" construct`; to view the `name` and `fullname` _bound parameters_, these are available from the `Compiled` construct as well."
   ]
  },
  {
   "cell_type": "code",
   "execution_count": 8,
   "metadata": {},
   "outputs": [
    {
     "data": {
      "text/plain": [
       "{'name': 'spongebob', 'fullname': 'Spongebob Squarepants'}"
      ]
     },
     "execution_count": 8,
     "metadata": {},
     "output_type": "execute_result"
    }
   ],
   "source": [
    "compiled = stmt.compile()\n",
    "compiled.params"
   ]
  },
  {
   "cell_type": "markdown",
   "metadata": {},
   "source": [
    "#### Executing the Statement\n",
    "\n",
    "Invoking the statement we can _INSERT a row into `user_table`_. The `INSERT SQL` as well as the _bundled parameters_ can be seen in the `SQL logging`."
   ]
  },
  {
   "cell_type": "code",
   "execution_count": 9,
   "metadata": {},
   "outputs": [
    {
     "name": "stdout",
     "output_type": "stream",
     "text": [
      "2022-09-21 07:08:43,119 INFO sqlalchemy.engine.Engine BEGIN (implicit)\n",
      "2022-09-21 07:08:43,120 INFO sqlalchemy.engine.Engine INSERT INTO user_account (name, fullname) VALUES (?, ?)\n",
      "2022-09-21 07:08:43,121 INFO sqlalchemy.engine.Engine [generated in 0.00244s] ('spongebob', 'Spongebob Squarepants')\n",
      "2022-09-21 07:08:43,123 INFO sqlalchemy.engine.Engine COMMIT\n"
     ]
    }
   ],
   "source": [
    "with engine.connect() as conn:\n",
    "    result = conn.execute(stmt)\n",
    "    conn.commit()"
   ]
  },
  {
   "cell_type": "markdown",
   "metadata": {},
   "source": [
    "In its simple form above, _the `INSERT statement` does not return any rows_, and if `only a single row` is inserted, it will _usually include_ the ability to _return information about column-level default values_ that were generated during the `INSERT` of that row, most commonly an integer primary key value. In the above case the first row in a SQLite database will normally return 1 for the first integer primary key value, which we can acquire using the `CursorResult.inserted_primary_key` accessor."
   ]
  },
  {
   "cell_type": "code",
   "execution_count": 10,
   "metadata": {},
   "outputs": [
    {
     "data": {
      "text/plain": [
       "(1,)"
      ]
     },
     "execution_count": 10,
     "metadata": {},
     "output_type": "execute_result"
    }
   ],
   "source": [
    "result.inserted_primary_key"
   ]
  },
  {
   "cell_type": "markdown",
   "metadata": {},
   "source": [
    "> __CursorResult.inserted_primary_key__ returns a `tuple` because _a primary key may contain multiple columns_. This is known as a __composite primary key__. The `CursorResult.inserted_primary_key` is intended to always contain the _complete primary key_ of the record _just inserted_, not just a `cursor.lastrowid` kind of value, and is also intended to be populated regardless of whether or not `autoincrement` were used, hence _to express a complete primary key it's a tuple_.\n",
    "\n",
    "> From version 1.4.8, the tuple returned by `CursorResult.inserted_primary_key` is now a __named tuple__ fulfilled by returning it as a `Row` object."
   ]
  },
  {
   "cell_type": "code",
   "execution_count": null,
   "metadata": {},
   "outputs": [],
   "source": []
  }
 ],
 "metadata": {
  "kernelspec": {
   "display_name": "Python 3.9.6 ('sql-env': venv)",
   "language": "python",
   "name": "python3"
  },
  "language_info": {
   "codemirror_mode": {
    "name": "ipython",
    "version": 3
   },
   "file_extension": ".py",
   "mimetype": "text/x-python",
   "name": "python",
   "nbconvert_exporter": "python",
   "pygments_lexer": "ipython3",
   "version": "3.9.6"
  },
  "orig_nbformat": 4,
  "vscode": {
   "interpreter": {
    "hash": "3b00ed0d5d9853c9f0267ee6e89091ab706130aa0b00cb1356a08ef47194a158"
   }
  }
 },
 "nbformat": 4,
 "nbformat_minor": 2
}
