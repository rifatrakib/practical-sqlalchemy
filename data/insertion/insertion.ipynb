{
 "cells": [
  {
   "cell_type": "markdown",
   "metadata": {},
   "source": [
    "## Inserting Rows with Core\n",
    "\n",
    "When using _Core_, a `SQL INSERT statement` is generated using the `insert()` function - this function generates a new instance of `Insert` which represents an `INSERT statement` in __SQL__, that _adds new data into a table_.\n",
    "\n",
    "> __ORM Readers__ - The way that rows are `INSERT`ed into the database from an ORM perspective makes use of _object-centric APIs_ on the `Session` object known as the _unit of work process_, and is fairly __different from the Core-only approach__ described here. The more ORM-focused sections later starting at Inserting Rows with the ORM subsequent to the Expression Language sections introduce this."
   ]
  },
  {
   "cell_type": "markdown",
   "metadata": {},
   "source": [
    "#### Primary setup"
   ]
  },
  {
   "cell_type": "code",
   "execution_count": 1,
   "metadata": {},
   "outputs": [],
   "source": [
    "from sqlalchemy import (\n",
    "    MetaData, Table, Column, Integer, String,\n",
    "    ForeignKey, create_engine, insert, select, bindparam,\n",
    ")"
   ]
  },
  {
   "cell_type": "code",
   "execution_count": 2,
   "metadata": {},
   "outputs": [],
   "source": [
    "engine = create_engine(\"sqlite+pysqlite:///:memory:\", echo=True, future=True)"
   ]
  },
  {
   "cell_type": "code",
   "execution_count": 3,
   "metadata": {},
   "outputs": [
    {
     "name": "stdout",
     "output_type": "stream",
     "text": [
      "2022-09-21 08:22:48,304 INFO sqlalchemy.engine.Engine BEGIN (implicit)\n",
      "2022-09-21 08:22:48,306 INFO sqlalchemy.engine.Engine PRAGMA main.table_info(\"user_account\")\n",
      "2022-09-21 08:22:48,308 INFO sqlalchemy.engine.Engine [raw sql] ()\n",
      "2022-09-21 08:22:48,310 INFO sqlalchemy.engine.Engine PRAGMA temp.table_info(\"user_account\")\n",
      "2022-09-21 08:22:48,311 INFO sqlalchemy.engine.Engine [raw sql] ()\n",
      "2022-09-21 08:22:48,313 INFO sqlalchemy.engine.Engine PRAGMA main.table_info(\"address\")\n",
      "2022-09-21 08:22:48,314 INFO sqlalchemy.engine.Engine [raw sql] ()\n",
      "2022-09-21 08:22:48,315 INFO sqlalchemy.engine.Engine PRAGMA temp.table_info(\"address\")\n",
      "2022-09-21 08:22:48,316 INFO sqlalchemy.engine.Engine [raw sql] ()\n",
      "2022-09-21 08:22:48,317 INFO sqlalchemy.engine.Engine \n",
      "CREATE TABLE user_account (\n",
      "\tid INTEGER NOT NULL, \n",
      "\tname VARCHAR(30), \n",
      "\tfullname VARCHAR, \n",
      "\tPRIMARY KEY (id)\n",
      ")\n",
      "\n",
      "\n",
      "2022-09-21 08:22:48,319 INFO sqlalchemy.engine.Engine [no key 0.00149s] ()\n",
      "2022-09-21 08:22:48,321 INFO sqlalchemy.engine.Engine \n",
      "CREATE TABLE address (\n",
      "\tid INTEGER NOT NULL, \n",
      "\tuser_id INTEGER NOT NULL, \n",
      "\temail_address VARCHAR NOT NULL, \n",
      "\tPRIMARY KEY (id), \n",
      "\tFOREIGN KEY(user_id) REFERENCES user_account (id)\n",
      ")\n",
      "\n",
      "\n",
      "2022-09-21 08:22:48,322 INFO sqlalchemy.engine.Engine [no key 0.00132s] ()\n",
      "2022-09-21 08:22:48,325 INFO sqlalchemy.engine.Engine COMMIT\n"
     ]
    }
   ],
   "source": [
    "metadata_obj = MetaData()\n",
    "\n",
    "user_table = Table(\n",
    "    \"user_account\", metadata_obj,\n",
    "    Column(\"id\", Integer, primary_key=True),\n",
    "    Column(\"name\", String(30)),\n",
    "    Column(\"fullname\", String),\n",
    ")\n",
    "\n",
    "address_table = Table(\n",
    "    \"address\", metadata_obj,\n",
    "    Column(\"id\", Integer, primary_key=True),\n",
    "    Column(\"user_id\", ForeignKey(\"user_account.id\"), nullable=False),\n",
    "    Column(\"email_address\", String, nullable=False)\n",
    ")\n",
    "\n",
    "metadata_obj.create_all(engine)"
   ]
  },
  {
   "cell_type": "markdown",
   "metadata": {},
   "source": [
    "#### The `insert()` SQL Expression Construct\n",
    "\n",
    "A simple example of `Insert` illustrating the `target table` and the `VALUES clause` at once:"
   ]
  },
  {
   "cell_type": "code",
   "execution_count": 4,
   "metadata": {},
   "outputs": [
    {
     "name": "stdout",
     "output_type": "stream",
     "text": [
      "INSERT INTO user_account (name, fullname) VALUES (:name, :fullname)\n"
     ]
    }
   ],
   "source": [
    "stmt = insert(user_table).values(name=\"spongebob\", fullname=\"Spongebob Squarepants\")\n",
    "print(stmt)"
   ]
  },
  {
   "cell_type": "markdown",
   "metadata": {},
   "source": [
    "The above _stmt variable_ is an instance of `Insert`. Most SQL expressions can be stringified in place as a means to see the general form of what's being produced.\n",
    "\n",
    "The _stringified_ form is created by producing a `Compiled` form of the object which includes a __database-specific string SQL representation__ of the statement; we can acquire this object directly using the `ClauseElement.compile()` method.\n",
    "\n",
    "Our `Insert` construct is an example of a `\"parameterized\" construct`; to view the `name` and `fullname` _bound parameters_, these are available from the `Compiled` construct as well."
   ]
  },
  {
   "cell_type": "code",
   "execution_count": 5,
   "metadata": {},
   "outputs": [
    {
     "data": {
      "text/plain": [
       "{'name': 'spongebob', 'fullname': 'Spongebob Squarepants'}"
      ]
     },
     "execution_count": 5,
     "metadata": {},
     "output_type": "execute_result"
    }
   ],
   "source": [
    "compiled = stmt.compile()\n",
    "compiled.params"
   ]
  },
  {
   "cell_type": "markdown",
   "metadata": {},
   "source": [
    "#### Executing the Statement\n",
    "\n",
    "Invoking the statement we can _INSERT a row into `user_table`_. The `INSERT SQL` as well as the _bundled parameters_ can be seen in the `SQL logging`."
   ]
  },
  {
   "cell_type": "code",
   "execution_count": 6,
   "metadata": {},
   "outputs": [
    {
     "name": "stdout",
     "output_type": "stream",
     "text": [
      "2022-09-21 08:22:48,606 INFO sqlalchemy.engine.Engine BEGIN (implicit)\n",
      "2022-09-21 08:22:48,608 INFO sqlalchemy.engine.Engine INSERT INTO user_account (name, fullname) VALUES (?, ?)\n",
      "2022-09-21 08:22:48,610 INFO sqlalchemy.engine.Engine [generated in 0.00428s] ('spongebob', 'Spongebob Squarepants')\n",
      "2022-09-21 08:22:48,611 INFO sqlalchemy.engine.Engine COMMIT\n"
     ]
    }
   ],
   "source": [
    "with engine.connect() as conn:\n",
    "    result = conn.execute(stmt)\n",
    "    conn.commit()"
   ]
  },
  {
   "cell_type": "markdown",
   "metadata": {},
   "source": [
    "In its simple form above, _the `INSERT statement` does not return any rows_, and if `only a single row` is inserted, it will _usually include_ the ability to _return information about column-level default values_ that were generated during the `INSERT` of that row, most commonly an integer primary key value. In the above case the first row in a SQLite database will normally return 1 for the first integer primary key value, which we can acquire using the `CursorResult.inserted_primary_key` accessor."
   ]
  },
  {
   "cell_type": "code",
   "execution_count": 7,
   "metadata": {},
   "outputs": [
    {
     "data": {
      "text/plain": [
       "(1,)"
      ]
     },
     "execution_count": 7,
     "metadata": {},
     "output_type": "execute_result"
    }
   ],
   "source": [
    "result.inserted_primary_key"
   ]
  },
  {
   "cell_type": "markdown",
   "metadata": {},
   "source": [
    "> __CursorResult.inserted_primary_key__ returns a `tuple` because _a primary key may contain multiple columns_. This is known as a __composite primary key__. The `CursorResult.inserted_primary_key` is intended to always contain the _complete primary key_ of the record _just inserted_, not just a `cursor.lastrowid` kind of value, and is also intended to be populated regardless of whether or not `autoincrement` were used, hence _to express a complete primary key it's a tuple_.\n",
    "\n",
    "> From version 1.4.8, the tuple returned by `CursorResult.inserted_primary_key` is now a __named tuple__ fulfilled by returning it as a `Row` object."
   ]
  },
  {
   "cell_type": "markdown",
   "metadata": {},
   "source": [
    "#### `INSERT` usually generates the \"values\" clause automatically\n",
    "\n",
    "The example above made use of the `Insert.values()` method to _explicitly_ create the `VALUES` clause of the `SQL INSERT statement`. This method in fact has some variants that allow for special forms such as _multiple rows in one statement_ and insertion of SQL expressions. However the usual way that `Insert` is used is such that the `VALUES clause` is _generated automatically_ from the parameters passed to the `Connection.execute()` method; below we `INSERT` two more rows to illustrate this."
   ]
  },
  {
   "cell_type": "code",
   "execution_count": 8,
   "metadata": {},
   "outputs": [
    {
     "name": "stdout",
     "output_type": "stream",
     "text": [
      "2022-09-21 08:22:48,745 INFO sqlalchemy.engine.Engine BEGIN (implicit)\n",
      "2022-09-21 08:22:48,746 INFO sqlalchemy.engine.Engine INSERT INTO user_account (name, fullname) VALUES (?, ?)\n",
      "2022-09-21 08:22:48,748 INFO sqlalchemy.engine.Engine [generated in 0.00323s] (('sandy', 'Sandy Cheeks'), ('patrick', 'Patrick Star'))\n",
      "2022-09-21 08:22:48,749 INFO sqlalchemy.engine.Engine COMMIT\n"
     ]
    }
   ],
   "source": [
    "with engine.connect() as conn:\n",
    "    result = conn.execute(\n",
    "        insert(user_table),\n",
    "        [\n",
    "            {\"name\": \"sandy\", \"fullname\": \"Sandy Cheeks\"},\n",
    "            {\"name\": \"patrick\", \"fullname\": \"Patrick Star\"}\n",
    "        ]\n",
    "    )\n",
    "    conn.commit()"
   ]
  },
  {
   "cell_type": "markdown",
   "metadata": {},
   "source": [
    "The execution above features `executemany` form, however unlike when using the `text()` construct, we _didn't have to spell out any SQL_. By passing _a dictionary or list of dictionaries_ to the `Connection.execute()` method in conjunction with the `Insert` construct, the `Connection` ensures that the column names which are passed will be expressed in the `VALUES` clause of the `Insert` construct __automatically__."
   ]
  },
  {
   "cell_type": "markdown",
   "metadata": {},
   "source": [
    "> ##### Deep Alchemy\n",
    ">\n",
    "> Towards the goal of having some interesting data in the `address_table` as well, below is a more advanced example illustrating how the `Insert.values()` method may be used __explicitly__ while at the same time _including for additional VALUES generated from the parameters_. A __scalar subquery__ is constructed, making use of the `select()` construct introduced in the next section, and the parameters used in the _`subquery`_ are set up using an _explicit bound parameter `name`_, established using the `bindparam()` construct."
   ]
  },
  {
   "cell_type": "code",
   "execution_count": 9,
   "metadata": {},
   "outputs": [
    {
     "name": "stdout",
     "output_type": "stream",
     "text": [
      "2022-09-21 08:22:48,857 INFO sqlalchemy.engine.Engine BEGIN (implicit)\n",
      "2022-09-21 08:22:48,859 INFO sqlalchemy.engine.Engine INSERT INTO address (user_id, email_address) VALUES ((SELECT user_account.id \n",
      "FROM user_account \n",
      "WHERE user_account.name = ?), ?)\n",
      "2022-09-21 08:22:48,860 INFO sqlalchemy.engine.Engine [generated in 0.00264s] (('spongebob', 'spongebob@sqlalchemy.org'), ('sandy', 'sandy@sqlalchemy.org'), ('sandy', 'sandy@squirrelpower.org'))\n",
      "2022-09-21 08:22:48,861 INFO sqlalchemy.engine.Engine COMMIT\n"
     ]
    }
   ],
   "source": [
    "scalar_subq = (\n",
    "    select(user_table.c.id).\n",
    "    where(user_table.c.name == bindparam(\"username\")).\n",
    "    scalar_subquery()\n",
    ")\n",
    "\n",
    "with engine.connect() as conn:\n",
    "    result = conn.execute(\n",
    "        insert(address_table).values(user_id=scalar_subq),\n",
    "        [\n",
    "            {\"username\": 'spongebob', \"email_address\": \"spongebob@sqlalchemy.org\"},\n",
    "            {\"username\": 'sandy', \"email_address\": \"sandy@sqlalchemy.org\"},\n",
    "            {\"username\": 'sandy', \"email_address\": \"sandy@squirrelpower.org\"},\n",
    "        ]\n",
    "    )\n",
    "    conn.commit()"
   ]
  },
  {
   "cell_type": "markdown",
   "metadata": {},
   "source": [
    "#### INSERT...FROM SELECT\n",
    "\n",
    "The `Insert` construct can compose an `INSERT` that gets rows _directly from a **SELECT**_ using the `Insert.from_select()` method."
   ]
  },
  {
   "cell_type": "code",
   "execution_count": 10,
   "metadata": {},
   "outputs": [
    {
     "name": "stdout",
     "output_type": "stream",
     "text": [
      "INSERT INTO address (user_id, email_address) SELECT user_account.id, user_account.name || :name_1 AS anon_1 \n",
      "FROM user_account\n"
     ]
    }
   ],
   "source": [
    "select_stmt = select(user_table.c.id, user_table.c.name + \"@aol.com\")\n",
    "insert_stmt = insert(address_table).from_select(\n",
    "    [\"user_id\", \"email_address\"], select_stmt,\n",
    ")\n",
    "print(insert_stmt)"
   ]
  },
  {
   "cell_type": "markdown",
   "metadata": {},
   "source": [
    "#### INSERT...RETURNING\n",
    "\n",
    "The `RETURNING` clause for supported backends is used __automatically__ in order to _retrieve the last inserted primary key value as well as the values for server defaults_. However the `RETURNING` clause _may_ also be __specified explicitly__ using the `Insert.returning()` method; in this case, the `Result` object that's returned when the statement is executed has rows which can be fetched."
   ]
  },
  {
   "cell_type": "code",
   "execution_count": 12,
   "metadata": {},
   "outputs": [
    {
     "name": "stdout",
     "output_type": "stream",
     "text": [
      "INSERT INTO address (id, user_id, email_address) VALUES (:id, :user_id, :email_address) RETURNING address.id, address.email_address\n"
     ]
    }
   ],
   "source": [
    "insert_stmt = insert(address_table).returning(address_table.c.id, address_table.c.email_address)\n",
    "print(insert_stmt)"
   ]
  },
  {
   "cell_type": "markdown",
   "metadata": {},
   "source": [
    "It can also be combined with `Insert.from_select()`, as in the example below that builds upon the example stated in `INSERT...FROM SELECT`."
   ]
  },
  {
   "cell_type": "code",
   "execution_count": 13,
   "metadata": {},
   "outputs": [
    {
     "name": "stdout",
     "output_type": "stream",
     "text": [
      "INSERT INTO address (user_id, email_address) SELECT user_account.id, user_account.name || :name_1 AS anon_1 \n",
      "FROM user_account RETURNING address.id, address.email_address\n"
     ]
    }
   ],
   "source": [
    "select_stmt = select(user_table.c.id, user_table.c.name + \"@aol.com\")\n",
    "insert_stmt = insert(address_table).from_select(\n",
    "    [\"user_id\", \"email_address\"], select_stmt,\n",
    ")\n",
    "print(insert_stmt.returning(address_table.c.id, address_table.c.email_address))"
   ]
  },
  {
   "cell_type": "markdown",
   "metadata": {},
   "source": [
    "The `RETURNING` feature is __also supported__ by _UPDATE and DELETE statements_, which will be introduced later in this tutorial. The `RETURNING` feature is generally __only supported__ for statement executions that use __`a single set of bound parameters`__; that is, it _wont work with the executemany_ form. Additionally, some dialects such as the _`Oracle dialect` only allow RETURNING to return a single row overall_, meaning it won't work with `\"INSERT...FROM SELECT\"` nor will it work with `multiple row Update or Delete` forms.\n",
    "\n",
    "There is _internal support_ for the `psycopg2` dialect to __INSERT many rows at once and also support RETURNING__, which is leveraged by the SQLAlchemy ORM. However this feature has _not been generalized_ to all dialects and is not yet part of SQLAlchemy's regular API."
   ]
  },
  {
   "cell_type": "code",
   "execution_count": null,
   "metadata": {},
   "outputs": [],
   "source": []
  }
 ],
 "metadata": {
  "kernelspec": {
   "display_name": "Python 3.9.6 ('sql-env': venv)",
   "language": "python",
   "name": "python3"
  },
  "language_info": {
   "codemirror_mode": {
    "name": "ipython",
    "version": 3
   },
   "file_extension": ".py",
   "mimetype": "text/x-python",
   "name": "python",
   "nbconvert_exporter": "python",
   "pygments_lexer": "ipython3",
   "version": "3.9.6"
  },
  "orig_nbformat": 4,
  "vscode": {
   "interpreter": {
    "hash": "3b00ed0d5d9853c9f0267ee6e89091ab706130aa0b00cb1356a08ef47194a158"
   }
  }
 },
 "nbformat": 4,
 "nbformat_minor": 2
}
