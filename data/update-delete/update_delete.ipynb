{
 "cells": [
  {
   "cell_type": "markdown",
   "metadata": {},
   "source": [
    "## Updating and Deleting Rows with Core\n",
    "\n",
    "So far we've covered `Insert`, so that we can get some data into our database, and then spent a lot of time on `Select` which _handles the broad range of usage patterns_ used for __retrieving data from the database__. In this section we will cover the `Update` and `Delete` constructs, which are used to __modify existing rows__ as well as __delete existing rows__. This section will cover these constructs from a _Core-centric perspective_.\n",
    "\n",
    "> `ORM Readers` - As was the case mentioned at `Inserting Rows with Core`, the `Update` and `Delete` operations when used _with the ORM_ are usually __invoked internally from the Session object__ as part of the unit of work process.\n",
    ">\n",
    "> However, __unlike Insert__, the `Update` and `Delete` constructs __can also be used directly with the ORM__, using a pattern known as __`\"ORM-enabled update and delete\"`__; for this reason, familiarity with these constructs is useful for ORM use. Both styles of use are discussed in the sections `Updating ORM Objects` and `Deleting ORM Objects`."
   ]
  },
  {
   "cell_type": "code",
   "execution_count": 15,
   "metadata": {},
   "outputs": [],
   "source": [
    "from sqlalchemy import (\n",
    "    MetaData, Table, Column, Integer, String, ForeignKey,\n",
    "    create_engine, select, insert, update, bindparam,\n",
    ")\n",
    "from sqlalchemy.orm import registry, relationship\n",
    "from sqlalchemy.dialects import mysql"
   ]
  },
  {
   "cell_type": "code",
   "execution_count": 2,
   "metadata": {},
   "outputs": [],
   "source": [
    "engine = create_engine(\"sqlite+pysqlite:///:memory:\", echo=True, future=True)\n",
    "metadata_obj = MetaData()"
   ]
  },
  {
   "cell_type": "code",
   "execution_count": 3,
   "metadata": {},
   "outputs": [
    {
     "name": "stdout",
     "output_type": "stream",
     "text": [
      "2022-10-05 13:18:35,865 INFO sqlalchemy.engine.Engine BEGIN (implicit)\n",
      "2022-10-05 13:18:35,866 INFO sqlalchemy.engine.Engine PRAGMA main.table_info(\"user_account\")\n",
      "2022-10-05 13:18:35,867 INFO sqlalchemy.engine.Engine [raw sql] ()\n",
      "2022-10-05 13:18:35,869 INFO sqlalchemy.engine.Engine PRAGMA temp.table_info(\"user_account\")\n",
      "2022-10-05 13:18:35,870 INFO sqlalchemy.engine.Engine [raw sql] ()\n",
      "2022-10-05 13:18:35,872 INFO sqlalchemy.engine.Engine PRAGMA main.table_info(\"address\")\n",
      "2022-10-05 13:18:35,874 INFO sqlalchemy.engine.Engine [raw sql] ()\n",
      "2022-10-05 13:18:35,875 INFO sqlalchemy.engine.Engine PRAGMA temp.table_info(\"address\")\n",
      "2022-10-05 13:18:35,876 INFO sqlalchemy.engine.Engine [raw sql] ()\n",
      "2022-10-05 13:18:35,878 INFO sqlalchemy.engine.Engine \n",
      "CREATE TABLE user_account (\n",
      "\tid INTEGER NOT NULL, \n",
      "\tname VARCHAR(30), \n",
      "\tfullname VARCHAR, \n",
      "\tPRIMARY KEY (id)\n",
      ")\n",
      "\n",
      "\n",
      "2022-10-05 13:18:35,878 INFO sqlalchemy.engine.Engine [no key 0.00084s] ()\n",
      "2022-10-05 13:18:35,882 INFO sqlalchemy.engine.Engine \n",
      "CREATE TABLE address (\n",
      "\tid INTEGER NOT NULL, \n",
      "\tuser_id INTEGER NOT NULL, \n",
      "\temail_address VARCHAR NOT NULL, \n",
      "\tPRIMARY KEY (id), \n",
      "\tFOREIGN KEY(user_id) REFERENCES user_account (id)\n",
      ")\n",
      "\n",
      "\n",
      "2022-10-05 13:18:35,883 INFO sqlalchemy.engine.Engine [no key 0.00079s] ()\n",
      "2022-10-05 13:18:35,884 INFO sqlalchemy.engine.Engine COMMIT\n"
     ]
    }
   ],
   "source": [
    "user_table = Table(\n",
    "    \"user_account\", metadata_obj,\n",
    "    Column(\"id\", Integer, primary_key=True),\n",
    "    Column(\"name\", String(30)),\n",
    "    Column(\"fullname\", String),\n",
    ")\n",
    "\n",
    "address_table = Table(\n",
    "    \"address\", metadata_obj,\n",
    "    Column(\"id\", Integer, primary_key=True),\n",
    "    Column(\"user_id\", ForeignKey(\"user_account.id\"), nullable=False),\n",
    "    Column(\"email_address\", String, nullable=False)\n",
    ")\n",
    "\n",
    "metadata_obj.create_all(engine)"
   ]
  },
  {
   "cell_type": "code",
   "execution_count": 4,
   "metadata": {},
   "outputs": [
    {
     "name": "stdout",
     "output_type": "stream",
     "text": [
      "2022-10-05 13:18:35,958 INFO sqlalchemy.engine.Engine BEGIN (implicit)\n",
      "2022-10-05 13:18:35,960 INFO sqlalchemy.engine.Engine INSERT INTO user_account (name, fullname) VALUES (?, ?)\n",
      "2022-10-05 13:18:35,961 INFO sqlalchemy.engine.Engine [generated in 0.00318s] ('spongebob', 'Spongebob Squarepants')\n",
      "2022-10-05 13:18:35,964 INFO sqlalchemy.engine.Engine COMMIT\n",
      "2022-10-05 13:18:35,968 INFO sqlalchemy.engine.Engine BEGIN (implicit)\n",
      "2022-10-05 13:18:35,968 INFO sqlalchemy.engine.Engine INSERT INTO user_account (name, fullname) VALUES (?, ?)\n",
      "2022-10-05 13:18:35,969 INFO sqlalchemy.engine.Engine [generated in 0.00187s] (('sandy', 'Sandy Cheeks'), ('patrick', 'Patrick Star'))\n",
      "2022-10-05 13:18:35,971 INFO sqlalchemy.engine.Engine COMMIT\n"
     ]
    }
   ],
   "source": [
    "stmt = insert(user_table).values(name=\"spongebob\", fullname=\"Spongebob Squarepants\")\n",
    "with engine.connect() as conn:\n",
    "    result = conn.execute(stmt)\n",
    "    conn.commit()\n",
    "\n",
    "with engine.connect() as conn:\n",
    "    result = conn.execute(\n",
    "        insert(user_table),\n",
    "        [\n",
    "            {\"name\": \"sandy\", \"fullname\": \"Sandy Cheeks\"},\n",
    "            {\"name\": \"patrick\", \"fullname\": \"Patrick Star\"}\n",
    "        ]\n",
    "    )\n",
    "    conn.commit()"
   ]
  },
  {
   "cell_type": "code",
   "execution_count": 5,
   "metadata": {},
   "outputs": [
    {
     "name": "stdout",
     "output_type": "stream",
     "text": [
      "2022-10-05 13:18:36,050 INFO sqlalchemy.engine.Engine BEGIN (implicit)\n",
      "2022-10-05 13:18:36,052 INFO sqlalchemy.engine.Engine INSERT INTO address (user_id, email_address) VALUES ((SELECT user_account.id \n",
      "FROM user_account \n",
      "WHERE user_account.name = ?), ?)\n",
      "2022-10-05 13:18:36,053 INFO sqlalchemy.engine.Engine [generated in 0.00307s] (('spongebob', 'spongebob@sqlalchemy.org'), ('sandy', 'sandy@sqlalchemy.org'), ('sandy', 'sandy@squirrelpower.org'))\n",
      "2022-10-05 13:18:36,055 INFO sqlalchemy.engine.Engine COMMIT\n"
     ]
    }
   ],
   "source": [
    "scalar_subq = (\n",
    "    select(user_table.c.id).\n",
    "    where(user_table.c.name == bindparam(\"username\")).\n",
    "    scalar_subquery()\n",
    ")\n",
    "\n",
    "with engine.connect() as conn:\n",
    "    result = conn.execute(\n",
    "        insert(address_table).values(user_id=scalar_subq),\n",
    "        [\n",
    "            {\"username\": 'spongebob', \"email_address\": \"spongebob@sqlalchemy.org\"},\n",
    "            {\"username\": 'sandy', \"email_address\": \"sandy@sqlalchemy.org\"},\n",
    "            {\"username\": 'sandy', \"email_address\": \"sandy@squirrelpower.org\"},\n",
    "        ]\n",
    "    )\n",
    "    conn.commit()"
   ]
  },
  {
   "cell_type": "code",
   "execution_count": 6,
   "metadata": {},
   "outputs": [],
   "source": [
    "mapped_registry = registry()\n",
    "Base = mapped_registry.generate_base()"
   ]
  },
  {
   "cell_type": "code",
   "execution_count": 7,
   "metadata": {},
   "outputs": [],
   "source": [
    "class User(Base):\n",
    "    __tablename__ = \"user_account\"\n",
    "    \n",
    "    id = Column(Integer, primary_key=True)\n",
    "    name = Column(String(30))\n",
    "    fullname = Column(String)\n",
    "    \n",
    "    addresses = relationship(\"Address\", back_populates=\"user\")\n",
    "    \n",
    "    def __repr__(self):\n",
    "        return f\"User(id={self.id!r}, name={self.name!r}, fullname={self.fullname!r})\""
   ]
  },
  {
   "cell_type": "code",
   "execution_count": 8,
   "metadata": {},
   "outputs": [],
   "source": [
    "class Address(Base):\n",
    "    __tablename__ = \"address\"\n",
    "    \n",
    "    id = Column(Integer, primary_key=True)\n",
    "    email_address = Column(String, nullable=False)\n",
    "    user_id = Column(Integer, ForeignKey(\"user_account.id\"))\n",
    "    \n",
    "    user = relationship(\"User\", back_populates=\"addresses\")\n",
    "    \n",
    "    def __repr__(self):\n",
    "        return f\"Address(id={self.id!r}, email_address={self.email_address!r})\""
   ]
  },
  {
   "cell_type": "code",
   "execution_count": 9,
   "metadata": {},
   "outputs": [
    {
     "name": "stdout",
     "output_type": "stream",
     "text": [
      "2022-10-05 13:18:36,346 INFO sqlalchemy.engine.Engine BEGIN (implicit)\n",
      "2022-10-05 13:18:36,348 INFO sqlalchemy.engine.Engine PRAGMA main.table_info(\"user_account\")\n",
      "2022-10-05 13:18:36,349 INFO sqlalchemy.engine.Engine [raw sql] ()\n",
      "2022-10-05 13:18:36,350 INFO sqlalchemy.engine.Engine PRAGMA main.table_info(\"address\")\n",
      "2022-10-05 13:18:36,352 INFO sqlalchemy.engine.Engine [raw sql] ()\n",
      "2022-10-05 13:18:36,354 INFO sqlalchemy.engine.Engine COMMIT\n"
     ]
    }
   ],
   "source": [
    "mapped_registry.metadata.create_all(engine)"
   ]
  },
  {
   "cell_type": "markdown",
   "metadata": {},
   "source": [
    "#### The `update()` SQL Expression Construct\n",
    "\n",
    "The `update()` function generates a _new instance of Update_ which represents an `UPDATE` statement in SQL, that will __update existing data in a table__. Like the `insert()` construct, there is a `\"traditional\"` form of `update()`, which __emits `UPDATE` against a single table__ at a time and __`does not` return any rows__. However _some backends_ support an `UPDATE` statement that __may modify multiple tables at once__, and the `UPDATE` statement also supports `RETURNING` such that _columns contained in matched rows may be returned in the result set_."
   ]
  },
  {
   "cell_type": "code",
   "execution_count": 10,
   "metadata": {},
   "outputs": [
    {
     "name": "stdout",
     "output_type": "stream",
     "text": [
      "UPDATE user_account SET fullname=:fullname WHERE user_account.name = :name_1\n"
     ]
    }
   ],
   "source": [
    "stmt = (\n",
    "    update(user_table).where(user_table.c.name == \"patrick\").\n",
    "    values(fullname=\"Patrick the Star\")\n",
    ")\n",
    "print(stmt)"
   ]
  },
  {
   "cell_type": "markdown",
   "metadata": {},
   "source": [
    "The `Update.values()` method __controls the contents of the SET elements__ of the `UPDATE` statement. This is the __same method shared by the `Insert` construct__. Parameters can normally be _passed using the column names as keyword arguments_. `UPDATE` _supports all the major SQL forms_ of `UPDATE`, __including updates against expressions__, where we can make use of `Column` expressions."
   ]
  },
  {
   "cell_type": "code",
   "execution_count": 11,
   "metadata": {},
   "outputs": [
    {
     "name": "stdout",
     "output_type": "stream",
     "text": [
      "UPDATE user_account SET fullname=(:name_1 || user_account.name)\n"
     ]
    }
   ],
   "source": [
    "stmt = update(user_table).values(fullname=\"Username: \" + user_table.c.name)\n",
    "print(stmt)"
   ]
  },
  {
   "cell_type": "markdown",
   "metadata": {},
   "source": [
    "To support `UPDATE` in an __`\"executemany\"`__ context, where many parameter sets will be invoked against the same statement, the `bindparam()` construct may be used to __set up bound parameters__; these __replace the places__ that _literal values would normally go_."
   ]
  },
  {
   "cell_type": "code",
   "execution_count": 12,
   "metadata": {},
   "outputs": [
    {
     "name": "stdout",
     "output_type": "stream",
     "text": [
      "2022-10-05 13:18:36,606 INFO sqlalchemy.engine.Engine BEGIN (implicit)\n",
      "2022-10-05 13:18:36,609 INFO sqlalchemy.engine.Engine UPDATE user_account SET name=? WHERE user_account.name = ?\n",
      "2022-10-05 13:18:36,610 INFO sqlalchemy.engine.Engine [generated in 0.00336s] (('ed', 'jack'), ('mary', 'wendy'), ('jake', 'jim'))\n",
      "2022-10-05 13:18:36,611 INFO sqlalchemy.engine.Engine ROLLBACK\n"
     ]
    }
   ],
   "source": [
    "stmt = (\n",
    "    update(user_table).\n",
    "    where(user_table.c.name == bindparam(\"oldname\")).\n",
    "    values(name=bindparam(\"newname\"))\n",
    ")\n",
    "\n",
    "with engine.connect() as conn:\n",
    "    conn.execute(\n",
    "        stmt,\n",
    "        [\n",
    "            {'oldname':'jack', 'newname':'ed'},\n",
    "            {'oldname':'wendy', 'newname':'mary'},\n",
    "            {'oldname':'jim', 'newname':'jake'},\n",
    "        ]\n",
    "    )"
   ]
  },
  {
   "cell_type": "markdown",
   "metadata": {},
   "source": [
    "##### Correlated Updates\n",
    "\n",
    "An `UPDATE` statement can _make use of rows in other tables_ by using a __correlated subquery__. A `subquery` may be used _anywhere a column expression might be placed_."
   ]
  },
  {
   "cell_type": "code",
   "execution_count": 13,
   "metadata": {},
   "outputs": [
    {
     "name": "stdout",
     "output_type": "stream",
     "text": [
      "UPDATE user_account SET fullname=(SELECT address.email_address \n",
      "FROM address \n",
      "WHERE address.user_id = user_account.id ORDER BY address.id\n",
      " LIMIT :param_1)\n"
     ]
    }
   ],
   "source": [
    "scalar_subq = (\n",
    "    select(address_table.c.email_address).\n",
    "    where(address_table.c.user_id == user_table.c.id).\n",
    "    order_by(address_table.c.id).\n",
    "    limit(1).scalar_subquery()\n",
    ")\n",
    "\n",
    "update_stmt = update(user_table).values(fullname=scalar_subq)\n",
    "print(update_stmt)"
   ]
  },
  {
   "cell_type": "markdown",
   "metadata": {},
   "source": [
    "##### UPDATE ... FROM\n",
    "\n",
    "_Some databases_ such as `PostgreSQL` and `MySQL` support a syntax `\"UPDATE FROM\"` where _additional tables may be stated directly_ in a __special FROM clause__. This syntax will be __generated implicitly__ when additional tables are located in the `WHERE` clause of the statement."
   ]
  },
  {
   "cell_type": "code",
   "execution_count": 14,
   "metadata": {},
   "outputs": [
    {
     "name": "stdout",
     "output_type": "stream",
     "text": [
      "UPDATE user_account SET fullname=:fullname FROM address WHERE user_account.id = address.user_id AND address.email_address = :email_address_1\n"
     ]
    }
   ],
   "source": [
    "update_stmt = (\n",
    "    update(user_table).\n",
    "    where(user_table.c.id == address_table.c.user_id).\n",
    "    where(address_table.c.email_address == \"patrick@aol.com\").\n",
    "    values(fullname=\"Pat\")\n",
    ")\n",
    "print(update_stmt)"
   ]
  },
  {
   "cell_type": "markdown",
   "metadata": {},
   "source": [
    "There is also a `MySQL` specific syntax that __can `UPDATE` multiple tables__. This __requires__ we refer to `Table` objects in the `VALUES` clause in order to _refer to additional tables_."
   ]
  },
  {
   "cell_type": "code",
   "execution_count": 16,
   "metadata": {},
   "outputs": [
    {
     "name": "stdout",
     "output_type": "stream",
     "text": [
      "UPDATE user_account, address SET address.email_address=%s, user_account.fullname=%s WHERE user_account.id = address.user_id AND address.email_address = %s\n"
     ]
    }
   ],
   "source": [
    "update_stmt = (\n",
    "    update(user_table).\n",
    "    where(user_table.c.id == address_table.c.user_id).\n",
    "    where(address_table.c.email_address == \"patrick@aol.com\").\n",
    "    values(\n",
    "        {\n",
    "            user_table.c.fullname: \"Pat\",\n",
    "            address_table.c.email_address: \"pat@aol.com\",\n",
    "        }\n",
    "    )\n",
    ")\n",
    "print(update_stmt.compile(dialect=mysql.dialect()))"
   ]
  },
  {
   "cell_type": "code",
   "execution_count": null,
   "metadata": {},
   "outputs": [],
   "source": []
  }
 ],
 "metadata": {
  "kernelspec": {
   "display_name": "Python 3.9.6 ('sql-env': venv)",
   "language": "python",
   "name": "python3"
  },
  "language_info": {
   "codemirror_mode": {
    "name": "ipython",
    "version": 3
   },
   "file_extension": ".py",
   "mimetype": "text/x-python",
   "name": "python",
   "nbconvert_exporter": "python",
   "pygments_lexer": "ipython3",
   "version": "3.9.6"
  },
  "orig_nbformat": 4,
  "vscode": {
   "interpreter": {
    "hash": "3b00ed0d5d9853c9f0267ee6e89091ab706130aa0b00cb1356a08ef47194a158"
   }
  }
 },
 "nbformat": 4,
 "nbformat_minor": 2
}
