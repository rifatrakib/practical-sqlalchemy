{
 "cells": [
  {
   "cell_type": "markdown",
   "metadata": {},
   "source": [
    "#### Creating an Explicit Base Non-Dynamically (for use with mypy, similar)\n",
    "\n",
    "`SQLAlchemy` includes a `Mypy` _plugin_ that __automatically accommodates__ for the _dynamically generated_ `Base` class delivered by `SQLAlchemy` functions like `declarative_base()`. For the __SQLAlchemy 1.4 series only__, this _plugin_ works along with a _new set of typing stubs_ published at `sqlalchemy2-stubs`.\n",
    "\n",
    "When this _plugin_ is `not in use`, or when _using other PEP 484 tools_ which _may not know_ how to _interpret_ this class, the `declarative base class` may be produced in a __fully explicit fashion__ using the `DeclarativeMeta` __directly__."
   ]
  },
  {
   "cell_type": "code",
   "execution_count": 1,
   "metadata": {},
   "outputs": [],
   "source": [
    "from sqlalchemy.orm import registry\n",
    "from sqlalchemy.orm.decl_api import DeclarativeMeta"
   ]
  },
  {
   "cell_type": "code",
   "execution_count": 2,
   "metadata": {},
   "outputs": [],
   "source": [
    "mapper_registry = registry()"
   ]
  },
  {
   "cell_type": "code",
   "execution_count": 3,
   "metadata": {},
   "outputs": [],
   "source": [
    "class Base(metaclass=DeclarativeMeta):\n",
    "    __abstract__ = True\n",
    "    \n",
    "    registry = mapper_registry\n",
    "    metadata = mapper_registry.metadata\n",
    "    \n",
    "    __init__ = mapper_registry.constructor"
   ]
  },
  {
   "cell_type": "markdown",
   "metadata": {},
   "source": [
    "The above `Base` is _equivalent to one created using_ the `registry.generate_base()` method and will be __fully understood by type analysis tools__ _without the use of plugins_."
   ]
  },
  {
   "cell_type": "code",
   "execution_count": null,
   "metadata": {},
   "outputs": [],
   "source": []
  }
 ],
 "metadata": {
  "kernelspec": {
   "display_name": "Python 3.9.6 ('sql-env': venv)",
   "language": "python",
   "name": "python3"
  },
  "language_info": {
   "codemirror_mode": {
    "name": "ipython",
    "version": 3
   },
   "file_extension": ".py",
   "mimetype": "text/x-python",
   "name": "python",
   "nbconvert_exporter": "python",
   "pygments_lexer": "ipython3",
   "version": "3.9.6"
  },
  "orig_nbformat": 4,
  "vscode": {
   "interpreter": {
    "hash": "3b00ed0d5d9853c9f0267ee6e89091ab706130aa0b00cb1356a08ef47194a158"
   }
  }
 },
 "nbformat": 4,
 "nbformat_minor": 2
}
