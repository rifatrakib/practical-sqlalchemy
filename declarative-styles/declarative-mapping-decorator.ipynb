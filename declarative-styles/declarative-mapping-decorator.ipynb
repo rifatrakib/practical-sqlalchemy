{
 "cells": [
  {
   "cell_type": "markdown",
   "metadata": {},
   "source": [
    "#### Declarative Mapping using a Decorator (no declarative base)\n",
    "\n",
    "As an _alternative_ to using the `\"declarative base\"` class is to __apply declarative mapping__ to a class __`explicitly`__, using either an _imperative technique_ __similar__ to that of a `\"classical\" mapping`, or _more succinctly_ by __using a `decorator`__. The `registry.mapped()` function is a __class decorator__ that _can be applied_ to _any Python class with no hierarchy_ in place. The _Python class otherwise is configured_ in __declarative style normally__."
   ]
  },
  {
   "cell_type": "code",
   "execution_count": 1,
   "metadata": {},
   "outputs": [],
   "source": [
    "from sqlalchemy import Column, ForeignKey, Integer, String, Text\n",
    "from sqlalchemy.orm import registry, relationship"
   ]
  },
  {
   "cell_type": "code",
   "execution_count": 2,
   "metadata": {},
   "outputs": [],
   "source": [
    "mapper_registry = registry()"
   ]
  },
  {
   "cell_type": "code",
   "execution_count": 3,
   "metadata": {},
   "outputs": [],
   "source": [
    "@mapper_registry.mapped\n",
    "class User:\n",
    "    __tablename__ = \"user\"\n",
    "    \n",
    "    id = Column(Integer, primary_key=True)\n",
    "    name = Column(String)\n",
    "    \n",
    "    addresses = relationship(\"Address\", back_populates=\"user\")"
   ]
  },
  {
   "cell_type": "code",
   "execution_count": 4,
   "metadata": {},
   "outputs": [],
   "source": [
    "@mapper_registry.mapped\n",
    "class Address:\n",
    "    __tablename__ = \"address\"\n",
    "    \n",
    "    id = Column(Integer, primary_key=True)\n",
    "    user_id = Column(ForeignKey(\"user.id\"))\n",
    "    email_address = Column(String)\n",
    "    \n",
    "    user = relationship(\"User\", back_populates=\"addresses\")"
   ]
  },
  {
   "cell_type": "markdown",
   "metadata": {},
   "source": [
    "Above, the _same registry_ that we'd use to _generate_ a `declarative base class` via its `registry.generate_base()` method _may also apply a declarative-style mapping_ to a class __without using a base__. When using the above style, the _mapping_ of a particular class will __only proceed__ if the `decorator` is __applied to that class directly__. For _inheritance mappings_, the `decorator` should be __applied to each subclass__."
   ]
  },
  {
   "cell_type": "code",
   "execution_count": 5,
   "metadata": {},
   "outputs": [],
   "source": [
    "@mapper_registry.mapped\n",
    "class Person:\n",
    "    __tablename__ = \"person\"\n",
    "    \n",
    "    person_id = Column(Integer, primary_key=True)\n",
    "    type = Column(String, nullable=False)\n",
    "    \n",
    "    __mapper_args__ = {\n",
    "        \"polymorphic_on\": type,\n",
    "        \"polymorphic_identity\": \"person\",\n",
    "    }"
   ]
  },
  {
   "cell_type": "code",
   "execution_count": 6,
   "metadata": {},
   "outputs": [],
   "source": [
    "@mapper_registry.mapped\n",
    "class Employee:\n",
    "    __tablename__ = \"employee\"\n",
    "    \n",
    "    person_id = Column(Integer, ForeignKey(\"person.person_id\"), primary_key=True)\n",
    "    \n",
    "    __mapper_args__ = {\n",
    "        \"polymorphic_identity\": \"employee\",\n",
    "    }"
   ]
  },
  {
   "cell_type": "markdown",
   "metadata": {},
   "source": [
    "Both the `declarative table` and `imperative table` styles of _declarative mapping_ __may be used__ with the _above mapping style_.\n",
    "\n",
    "The `decorator form` of _mapping_ is __particularly useful__ when _combining_ a `SQLAlchemy declarative mapping` with _other forms of class declaration_, `notably` the __Python `dataclasses` module__."
   ]
  },
  {
   "cell_type": "code",
   "execution_count": null,
   "metadata": {},
   "outputs": [],
   "source": []
  }
 ],
 "metadata": {
  "kernelspec": {
   "display_name": "Python 3.9.6 ('sql-env': venv)",
   "language": "python",
   "name": "python3"
  },
  "language_info": {
   "codemirror_mode": {
    "name": "ipython",
    "version": 3
   },
   "file_extension": ".py",
   "mimetype": "text/x-python",
   "name": "python",
   "nbconvert_exporter": "python",
   "pygments_lexer": "ipython3",
   "version": "3.9.6"
  },
  "orig_nbformat": 4,
  "vscode": {
   "interpreter": {
    "hash": "3b00ed0d5d9853c9f0267ee6e89091ab706130aa0b00cb1356a08ef47194a158"
   }
  }
 },
 "nbformat": 4,
 "nbformat_minor": 2
}
