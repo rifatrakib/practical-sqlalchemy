{
 "cells": [
  {
   "cell_type": "markdown",
   "metadata": {},
   "source": [
    "#### Nesting Composites\n",
    "\n",
    "_Composite objects_ can be defined to work in _simple nested schemes_, by __redefining behaviors within the composite class__ to work as desired, then _mapping the composite class_ to the _full length of individual columns_ normally. Typically, it is convenient to _define separate constructors for user-defined use and generate-from-row use_. Below we reorganize the `Vertex` class to itself be a _composite object_, which is then mapped to a class `HasVertex`."
   ]
  },
  {
   "cell_type": "code",
   "execution_count": 1,
   "metadata": {},
   "outputs": [],
   "source": [
    "from sqlalchemy import Column, Integer\n",
    "from sqlalchemy.orm import declarative_base, composite"
   ]
  },
  {
   "cell_type": "code",
   "execution_count": 2,
   "metadata": {},
   "outputs": [],
   "source": [
    "Base = declarative_base()"
   ]
  },
  {
   "cell_type": "code",
   "execution_count": 3,
   "metadata": {},
   "outputs": [],
   "source": [
    "class Point:\n",
    "    def __init__(self, x, y):\n",
    "        self.x = x\n",
    "        self.y = y\n",
    "    \n",
    "    def __composite_values__(self):\n",
    "        return self.x, self.y\n",
    "    \n",
    "    def __repr__(self):\n",
    "        return f\"Point(x={self.x!r}, y={self.y!r})\"\n",
    "    \n",
    "    def __eq__(self, other):\n",
    "        return isinstance(other, Point) and other.x == self.x and other.y == self.y\n",
    "    \n",
    "    def __ne__(self, other):\n",
    "        return not self.__eq__(other)"
   ]
  },
  {
   "cell_type": "code",
   "execution_count": 4,
   "metadata": {},
   "outputs": [],
   "source": [
    "class Vertex:\n",
    "    def __init__(self, start, end):\n",
    "        self.start = start\n",
    "        self.end = end\n",
    "    \n",
    "    @classmethod\n",
    "    def _generate(cls, x1, y1, x2, y2):\n",
    "        \"\"\"generate a Vertex from a row\"\"\"\n",
    "        return Vertex(Point(x1, x2), Point(x2, y2))\n",
    "    \n",
    "    def __composite_values__(self):\n",
    "        return self.start.__composite_values__() + self.end.__composite_values__()"
   ]
  },
  {
   "cell_type": "code",
   "execution_count": 5,
   "metadata": {},
   "outputs": [],
   "source": [
    "class HasVertex(Base):\n",
    "    __tablename__ = \"has_vertex\"\n",
    "    \n",
    "    id = Column(Integer, primary_key=True)\n",
    "    x1 = Column(Integer)\n",
    "    y1 = Column(Integer)\n",
    "    x2 = Column(Integer)\n",
    "    y2 = Column(Integer)\n",
    "    \n",
    "    vertex = composite(Vertex._generate, x1, y1, x2, y2)"
   ]
  },
  {
   "cell_type": "markdown",
   "metadata": {},
   "source": [
    "We can then use the above mapping as:\n",
    "\n",
    "```\n",
    "hv = HasVertex(vertex=Vertex(Point(1, 2), Point(3, 4)))\n",
    "\n",
    "s.add(hv)\n",
    "s.commit()\n",
    "\n",
    "hv = (\n",
    "    s.query(HasVertex)\n",
    "    .filter(HasVertex.vertex == Vertex(Point(1, 2), Point(3, 4)))\n",
    "    .first()\n",
    ")\n",
    "print(hv.vertex.start)\n",
    "print(hv.vertex.end)\n",
    "```"
   ]
  },
  {
   "cell_type": "code",
   "execution_count": null,
   "metadata": {},
   "outputs": [],
   "source": []
  }
 ],
 "metadata": {
  "kernelspec": {
   "display_name": "Python 3.9.6 ('sql-env': venv)",
   "language": "python",
   "name": "python3"
  },
  "language_info": {
   "codemirror_mode": {
    "name": "ipython",
    "version": 3
   },
   "file_extension": ".py",
   "mimetype": "text/x-python",
   "name": "python",
   "nbconvert_exporter": "python",
   "pygments_lexer": "ipython3",
   "version": "3.9.6"
  },
  "orig_nbformat": 4,
  "vscode": {
   "interpreter": {
    "hash": "3b00ed0d5d9853c9f0267ee6e89091ab706130aa0b00cb1356a08ef47194a158"
   }
  }
 },
 "nbformat": 4,
 "nbformat_minor": 2
}
