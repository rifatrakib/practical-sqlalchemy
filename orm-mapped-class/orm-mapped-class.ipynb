{
 "cells": [
  {
   "cell_type": "markdown",
   "metadata": {},
   "source": [
    "## ORM Mapping Styles\n",
    "\n",
    "`SQLAlchemy` features _two distinct styles_ of __mapper configuration__, which then _feature further sub-options_ for how they are _set up_. The _variability_ in `mapper styles` is present to __suit a varied list of developer preferences__, including the _degree of abstraction of a user-defined class_ from how it is to be `mapped to relational schema tables and columns`, what `kinds of class hierarchies` are in use, including whether or not `custom metaclass schemes` are present, and finally if there are other _class-instrumentation approaches_ present such as if `Python dataclasses` are in use _simultaneously_.\n",
    "\n",
    "In `modern SQLAlchemy`, the _difference_ between these styles is __mostly superficial__; when a particular `SQLAlchemy configurational style` is used to __express the intent to map a class__, the _internal process_ of __mapping the class__ proceeds in __`mostly the same way`__ for each, where the _end result_ is __always__ a `user-defined class` that has a `Mapper` __configured__ against a _selectable unit_, typically represented by a `Table` object, and the _class itself_ has been __instrumented__ to include `behaviors linked to relational operations` both at the level of the `class` as well as on `instances of that class`. As the _process_ is __basically the same__ in all cases, _classes mapped from different styles_ are __always `fully` interoperable__ with each other.\n",
    "\n",
    "The _original mapping API_ is commonly referred to as `\"classical\" style`, whereas the _more automated style of mapping_ is known as `\"declarative\" style`. `SQLAlchemy` now refers to these _two mapping styles_ as _`imperative mapping`_ and `declarative mapping`.\n",
    "\n",
    "_Regardless_ of what style of mapping used, _all ORM mappings_ as of `SQLAlchemy 1.4` __originate from a single object__ known as `registry`, which is a __registry of mapped classes__. Using this `registry`, a `set of mapper configurations` can be _finalized_ as a group, and `classes within a particular registry` may __refer to each other by name__ within the `configurational process`."
   ]
  },
  {
   "cell_type": "markdown",
   "metadata": {},
   "source": [
    "#### Declarative Mapping\n",
    "\n",
    "The `Declarative Mapping` is the __typical way__ that `mappings` are constructed in _modern SQLAlchemy_. The __most common pattern__ is to _first_ construct `a base class` using the `declarative_base()` function, which will __apply__ the `declarative mapping process` to _all subclasses_ that __`derive` from it__. Below features a `declarative base` which is then used in a `declarative table mapping`."
   ]
  },
  {
   "cell_type": "code",
   "execution_count": 5,
   "metadata": {},
   "outputs": [],
   "source": [
    "from sqlalchemy import Column, Integer, String, ForeignKey\n",
    "from sqlalchemy.orm import registry, declarative_base"
   ]
  },
  {
   "cell_type": "code",
   "execution_count": 3,
   "metadata": {},
   "outputs": [],
   "source": [
    "Base = declarative_base()"
   ]
  },
  {
   "cell_type": "code",
   "execution_count": 4,
   "metadata": {},
   "outputs": [],
   "source": [
    "class User(Base):\n",
    "    __tablename__ = \"user\"\n",
    "    \n",
    "    id = Column(Integer, primary_key=True)\n",
    "    name = Column(String)\n",
    "    fullname = Column(String)\n",
    "    nickname = Column(String)"
   ]
  },
  {
   "cell_type": "markdown",
   "metadata": {},
   "source": [
    "Above, the `declarative_base()` __callable__ returns a `new base class` from which _new classes to be mapped_ may __inherit from__, as above a _new mapped class_ `User` is constructed.\n",
    "\n",
    "The _base class_ refers to a `registry object` that __maintains a collection of related mapped classes__. The `declarative_base()` function is in fact __shorthand__ for first _creating_ the `registry` with the _registry constructor_, and then __generating a base class__ using the `registry.generate_base()` method."
   ]
  },
  {
   "cell_type": "code",
   "execution_count": 6,
   "metadata": {},
   "outputs": [],
   "source": [
    "mapper_registry = registry()\n",
    "Base = mapper_registry.generate_base()"
   ]
  },
  {
   "cell_type": "markdown",
   "metadata": {},
   "source": [
    "The _major_ `Declarative mapping styles` are further detailed in the following sections:\n",
    "\n",
    "* __Using a Generated Base Class__ - `declarative mapping` using a _base class_ __generated__ by the `registry` object.\n",
    "\n",
    "* __Declarative Mapping using a Decorator__ (_no declarative base_) - `declarative mapping` using a _decorator_, rather than a _base class_.\n",
    "\n",
    "_Within the scope_ of a `Declarative mapped class`, there are also _two varieties_ of how the `Table metadata` may be declared. These include:\n",
    "\n",
    "* __Declarative Table__ - _individual Column definitions_ are __combined__ with a `table name` and `additional arguments`, where the `Declarative mapping` process will construct a `Table` object to be _mapped_.\n",
    "\n",
    "* __Declarative with Imperative Table__ (a.k.a. _Hybrid Declarative_) - Instead of specifying `table name` and `attributes` separately, an __explicitly__ constructed `Table` object is __associated with a class__ that is _otherwise mapped declaratively_. This style of mapping is a __hybrid of `\"declarative\"` and `\"imperative\"` mapping__."
   ]
  },
  {
   "cell_type": "code",
   "execution_count": null,
   "metadata": {},
   "outputs": [],
   "source": []
  }
 ],
 "metadata": {
  "kernelspec": {
   "display_name": "Python 3.9.6 ('sql-env': venv)",
   "language": "python",
   "name": "python3"
  },
  "language_info": {
   "codemirror_mode": {
    "name": "ipython",
    "version": 3
   },
   "file_extension": ".py",
   "mimetype": "text/x-python",
   "name": "python",
   "nbconvert_exporter": "python",
   "pygments_lexer": "ipython3",
   "version": "3.9.6"
  },
  "orig_nbformat": 4,
  "vscode": {
   "interpreter": {
    "hash": "3b00ed0d5d9853c9f0267ee6e89091ab706130aa0b00cb1356a08ef47194a158"
   }
  }
 },
 "nbformat": 4,
 "nbformat_minor": 2
}
