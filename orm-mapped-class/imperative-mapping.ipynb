{
 "cells": [
  {
   "cell_type": "markdown",
   "metadata": {},
   "source": [
    "#### Imperative Mapping\n",
    "\n",
    "An _imperative or classical mapping_ refers to the `configuration of a mapped class` using the `registry.map_imperatively()` method, where the _target class_ __does not include any declarative class attributes__. The `\"map imperative\"` style has _historically_ been achieved using the `mapper()` function __directly__, however this function _now expects_ that a `sqlalchemy.orm.registry()` is present.\n",
    "\n",
    "In `\"classical\"` form, the `table metadata` is __created separately__ with the `Table` construct, then _associated_ with the `User` class via the `registry.map_imperatively()` method."
   ]
  },
  {
   "cell_type": "code",
   "execution_count": 1,
   "metadata": {},
   "outputs": [],
   "source": [
    "from sqlalchemy import Table, Column, Integer, String, ForeignKey\n",
    "from sqlalchemy.orm import registry, relationship"
   ]
  },
  {
   "cell_type": "code",
   "execution_count": 2,
   "metadata": {},
   "outputs": [],
   "source": [
    "mapper_registry = registry()\n",
    "Base = mapper_registry.generate_base()"
   ]
  },
  {
   "cell_type": "code",
   "execution_count": 3,
   "metadata": {},
   "outputs": [],
   "source": [
    "user_table = Table(\n",
    "    \"user\",\n",
    "    mapper_registry.metadata,\n",
    "    Column(\"id\", Integer, primary_key=True),\n",
    "    Column(\"name\", String(50)),\n",
    "    Column(\"fullname\", String(50)),\n",
    "    Column(\"nickname\", String(12)),\n",
    ")"
   ]
  },
  {
   "cell_type": "code",
   "execution_count": 4,
   "metadata": {},
   "outputs": [],
   "source": [
    "class User:\n",
    "    pass"
   ]
  },
  {
   "cell_type": "markdown",
   "metadata": {},
   "source": [
    "`Information` about _mapped attributes_, such as `relationships` to other classes, are __provided via the properties dictionary__. The example below illustrates a second `Table` object, _mapped_ to a class called `Address`, then __linked to `User`__ via `relationship()`."
   ]
  },
  {
   "cell_type": "code",
   "execution_count": 5,
   "metadata": {},
   "outputs": [],
   "source": [
    "address = Table(\n",
    "    \"address\",\n",
    "    Base.metadata,\n",
    "    Column(\"id\", Integer, primary_key=True),\n",
    "    Column(\"user_id\", Integer, ForeignKey(\"user.id\")),\n",
    "    Column(\"email_address\", String(50)),\n",
    ")"
   ]
  },
  {
   "cell_type": "code",
   "execution_count": 6,
   "metadata": {},
   "outputs": [],
   "source": [
    "class Address:\n",
    "    pass"
   ]
  },
  {
   "cell_type": "code",
   "execution_count": 7,
   "metadata": {},
   "outputs": [
    {
     "data": {
      "text/plain": [
       "<Mapper at 0x23d23c1da90; Address>"
      ]
     },
     "execution_count": 7,
     "metadata": {},
     "output_type": "execute_result"
    }
   ],
   "source": [
    "mapper_registry.map_imperatively(\n",
    "    User,\n",
    "    user_table,\n",
    "    properties={\n",
    "        \"addresses\": relationship(Address, backref=\"user\", order_by=address.c.id)\n",
    "    },\n",
    ")\n",
    "\n",
    "mapper_registry.map_imperatively(Address, address)"
   ]
  },
  {
   "cell_type": "markdown",
   "metadata": {},
   "source": [
    "When using _classical mappings_, classes must be provided __directly without the benefit of the string lookup system__ provided by `Declarative`. SQL expressions are _typically specified_ in terms of the `Table` objects, i.e. `address.c.id` above for the `Address` relationship, and not `Address.id`, as `Address` _may not yet be linked to table metadata_, __nor can we specify a string here__.\n",
    "\n",
    "Some examples in the documentation still use the _classical approach_, but note that the `classical` as well as `Declarative approaches` are __fully interchangeable__. `Both` systems _ultimately create the same configuration_, consisting of a `Table`, _user-defined class_, __linked together__ with a `mapper()`. When we talk about __\"the behavior of `mapper()`\"__, this includes when using the `Declarative system` as well - it's _still used_, just __behind the scenes__."
   ]
  },
  {
   "cell_type": "code",
   "execution_count": null,
   "metadata": {},
   "outputs": [],
   "source": []
  }
 ],
 "metadata": {
  "kernelspec": {
   "display_name": "Python 3.9.6 ('sql-env': venv)",
   "language": "python",
   "name": "python3"
  },
  "language_info": {
   "codemirror_mode": {
    "name": "ipython",
    "version": 3
   },
   "file_extension": ".py",
   "mimetype": "text/x-python",
   "name": "python",
   "nbconvert_exporter": "python",
   "pygments_lexer": "ipython3",
   "version": "3.9.6"
  },
  "orig_nbformat": 4,
  "vscode": {
   "interpreter": {
    "hash": "3b00ed0d5d9853c9f0267ee6e89091ab706130aa0b00cb1356a08ef47194a158"
   }
  }
 },
 "nbformat": 4,
 "nbformat_minor": 2
}
