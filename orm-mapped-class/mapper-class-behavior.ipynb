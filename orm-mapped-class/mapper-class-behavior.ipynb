{
 "cells": [
  {
   "cell_type": "markdown",
   "metadata": {},
   "source": [
    "#### Mapped Class Behavior\n",
    "\n",
    "Across all styles of _mapping_ using the `registry` object, the following behaviors are common."
   ]
  },
  {
   "cell_type": "markdown",
   "metadata": {},
   "source": [
    "##### Default Constructor\n",
    "\n",
    "The `registry` applies a _default constructor_, i.e. `__init__` method, to _all mapped classes_ that __don't explicitly have their own `__init__` method__. The _behavior_ of this method is such that it __provides a convenient keyword constructor__ that _will accept_ as `optional keyword arguments` all the attributes that are named."
   ]
  },
  {
   "cell_type": "code",
   "execution_count": 1,
   "metadata": {},
   "outputs": [],
   "source": [
    "from sqlalchemy.orm import registry, Session, declarative_base, relationship\n",
    "from sqlalchemy import (\n",
    "    Table, Column, Integer, String, ForeignKey, inspect, create_engine, select\n",
    ")"
   ]
  },
  {
   "cell_type": "code",
   "execution_count": 2,
   "metadata": {},
   "outputs": [],
   "source": [
    "Base = declarative_base()"
   ]
  },
  {
   "cell_type": "code",
   "execution_count": 3,
   "metadata": {},
   "outputs": [],
   "source": [
    "class DeclarativeUser(Base):\n",
    "    __tablename__ = \"declarative_user\"\n",
    "    \n",
    "    id = Column(Integer, primary_key=True)\n",
    "    name = Column(String)\n",
    "    fullname = Column(String)\n",
    "    \n",
    "    addresses = relationship(\"Address\", back_populates=\"user\")"
   ]
  },
  {
   "cell_type": "code",
   "execution_count": 4,
   "metadata": {},
   "outputs": [],
   "source": [
    "class Address(Base):\n",
    "    __tablename__ = \"address\"\n",
    "    \n",
    "    id = Column(Integer, primary_key=True)\n",
    "    email_address = Column(String, nullable=False)\n",
    "    user_id = Column(Integer, ForeignKey(\"declarative_user.id\"))\n",
    "    \n",
    "    user = relationship(\"DeclarativeUser\", back_populates=\"addresses\")"
   ]
  },
  {
   "cell_type": "markdown",
   "metadata": {},
   "source": [
    "An object of type `DeclarativeUser` above will have a __constructor__ which allows `DeclarativeUser` objects to be created."
   ]
  },
  {
   "cell_type": "code",
   "execution_count": 5,
   "metadata": {},
   "outputs": [],
   "source": [
    "u1 = DeclarativeUser(name=\"some name\", fullname=\"some fullname\")"
   ]
  },
  {
   "cell_type": "markdown",
   "metadata": {},
   "source": [
    "The above _constructor_ may be __customized__ by passing a _Python callable_ to the `registry.constructor` parameter which provides the __desired default `__init__()` behavior__.\n",
    "\n",
    "The _constructor_ __also applies__ to `imperative mappings`."
   ]
  },
  {
   "cell_type": "code",
   "execution_count": 6,
   "metadata": {},
   "outputs": [],
   "source": [
    "mapper_registry = registry()"
   ]
  },
  {
   "cell_type": "code",
   "execution_count": 7,
   "metadata": {},
   "outputs": [],
   "source": [
    "imperative_user_table = Table(\n",
    "    \"imperative_user\",\n",
    "    mapper_registry.metadata,\n",
    "    Column(\"id\", Integer, primary_key=True),\n",
    "    Column(\"name\", String),\n",
    ")"
   ]
  },
  {
   "cell_type": "code",
   "execution_count": 8,
   "metadata": {},
   "outputs": [],
   "source": [
    "class ImperativeUser:\n",
    "    pass"
   ]
  },
  {
   "cell_type": "code",
   "execution_count": 9,
   "metadata": {},
   "outputs": [
    {
     "data": {
      "text/plain": [
       "<Mapper at 0x1b60e1ab520; ImperativeUser>"
      ]
     },
     "execution_count": 9,
     "metadata": {},
     "output_type": "execute_result"
    }
   ],
   "source": [
    "mapper_registry.map_imperatively(ImperativeUser, imperative_user_table)"
   ]
  },
  {
   "cell_type": "markdown",
   "metadata": {},
   "source": [
    "The above class, _mapped imperatively_ as described at `Imperative Mapping`, will _also feature_ the `default constructor` __associated__ with the `registry`."
   ]
  },
  {
   "cell_type": "markdown",
   "metadata": {},
   "source": [
    "##### Runtime Introspection of Mapped classes, Instances and Mappers\n",
    "\n",
    "A _class_ that is __mapped using `registry`__ will also _feature a few attributes_ that are __common to all mappings__.\n",
    "\n",
    "* The `__mapper__` attribute will _refer to_ the `Mapper` that is __associated__ with the class."
   ]
  },
  {
   "cell_type": "code",
   "execution_count": 10,
   "metadata": {},
   "outputs": [
    {
     "name": "stdout",
     "output_type": "stream",
     "text": [
      "mapper = <Mapper at 0x1b60e1b82e0; DeclarativeUser>\n"
     ]
    }
   ],
   "source": [
    "mapper = DeclarativeUser.__mapper__\n",
    "print(f\"{mapper = }\")"
   ]
  },
  {
   "cell_type": "markdown",
   "metadata": {},
   "source": [
    "This `Mapper` is also what's _returned_ when using the `inspect()` function against the _mapped class_."
   ]
  },
  {
   "cell_type": "code",
   "execution_count": 11,
   "metadata": {},
   "outputs": [
    {
     "name": "stdout",
     "output_type": "stream",
     "text": [
      "mapper = <Mapper at 0x1b60e1b82e0; DeclarativeUser>\n"
     ]
    }
   ],
   "source": [
    "mapper = inspect(DeclarativeUser)\n",
    "print(f\"{mapper = }\")"
   ]
  },
  {
   "cell_type": "markdown",
   "metadata": {},
   "source": [
    "* The `__table__` attribute will _refer to_ the `Table`, or _more generically_ to the `FromClause` object, to which the class is __mapped__."
   ]
  },
  {
   "cell_type": "code",
   "execution_count": 12,
   "metadata": {},
   "outputs": [
    {
     "name": "stdout",
     "output_type": "stream",
     "text": [
      "table = Table('declarative_user', MetaData(), Column('id', Integer(), table=<declarative_user>, primary_key=True, nullable=False), Column('name', String(), table=<declarative_user>), Column('fullname', String(), table=<declarative_user>), schema=None)\n"
     ]
    }
   ],
   "source": [
    "table = DeclarativeUser.__table__\n",
    "print(f\"{table = }\")"
   ]
  },
  {
   "cell_type": "markdown",
   "metadata": {},
   "source": [
    "This `FromClause` is also what's _returned_ when using the `Mapper.local_table` attribute of the `Mapper`."
   ]
  },
  {
   "cell_type": "code",
   "execution_count": 13,
   "metadata": {},
   "outputs": [
    {
     "name": "stdout",
     "output_type": "stream",
     "text": [
      "table = Table('declarative_user', MetaData(), Column('id', Integer(), table=<declarative_user>, primary_key=True, nullable=False), Column('name', String(), table=<declarative_user>), Column('fullname', String(), table=<declarative_user>), schema=None)\n"
     ]
    }
   ],
   "source": [
    "table = inspect(DeclarativeUser).local_table\n",
    "print(f\"{table = }\")"
   ]
  },
  {
   "cell_type": "markdown",
   "metadata": {},
   "source": [
    "For a `single-table inheritance mapping`, where the _class is a subclass_ that __does not have a table of its own__, the `Mapper.local_table` attribute as well as the `.__table__` attribute will be __`None`__. __To retrieve the `\"selectable\"`__ that is _actually selected_ from during a query for this class, this is __available via__ the `Mapper.selectable` attribute."
   ]
  },
  {
   "cell_type": "code",
   "execution_count": 14,
   "metadata": {},
   "outputs": [
    {
     "name": "stdout",
     "output_type": "stream",
     "text": [
      "table = Table('declarative_user', MetaData(), Column('id', Integer(), table=<declarative_user>, primary_key=True, nullable=False), Column('name', String(), table=<declarative_user>), Column('fullname', String(), table=<declarative_user>), schema=None)\n"
     ]
    }
   ],
   "source": [
    "table = inspect(DeclarativeUser).selectable\n",
    "print(f\"{table = }\")"
   ]
  },
  {
   "cell_type": "markdown",
   "metadata": {},
   "source": [
    "##### Inspection of Mapper objects\n",
    "\n",
    "As illustrated in the previous section, the `Mapper` object is __available from any mapped class__, regardless of method, using the `Runtime Inspection API` system. Using the `inspect()` function, one __can acquire__ the `Mapper` from a _mapped class_."
   ]
  },
  {
   "cell_type": "code",
   "execution_count": 15,
   "metadata": {},
   "outputs": [
    {
     "name": "stdout",
     "output_type": "stream",
     "text": [
      "insp = <Mapper at 0x1b60e1b82e0; DeclarativeUser>\n"
     ]
    }
   ],
   "source": [
    "insp = inspect(DeclarativeUser)\n",
    "print(f\"{insp = }\")"
   ]
  },
  {
   "cell_type": "markdown",
   "metadata": {},
   "source": [
    "_Detailed information_ is available including `Mapper.columns`."
   ]
  },
  {
   "cell_type": "code",
   "execution_count": 16,
   "metadata": {},
   "outputs": [
    {
     "name": "stdout",
     "output_type": "stream",
     "text": [
      "insp.columns = <sqlalchemy.sql.base.ColumnCollection object at 0x000001B60BA99E80>\n"
     ]
    }
   ],
   "source": [
    "print(f\"{insp.columns = }\")"
   ]
  },
  {
   "cell_type": "markdown",
   "metadata": {},
   "source": [
    "This is a _namespace_ that __can be viewed in a list format__ or __via individual names__."
   ]
  },
  {
   "cell_type": "code",
   "execution_count": 17,
   "metadata": {},
   "outputs": [
    {
     "name": "stdout",
     "output_type": "stream",
     "text": [
      "list(insp.columns) = [Column('id', Integer(), table=<declarative_user>, primary_key=True, nullable=False), Column('name', String(), table=<declarative_user>), Column('fullname', String(), table=<declarative_user>)]\n",
      "insp.columns.name = Column('name', String(), table=<declarative_user>)\n"
     ]
    }
   ],
   "source": [
    "print(f\"{list(insp.columns) = }\")\n",
    "print(f\"{insp.columns.name = }\")"
   ]
  },
  {
   "cell_type": "markdown",
   "metadata": {},
   "source": [
    "_Other namespaces_ include `Mapper.all_orm_descriptors`, which __includes all mapped attributes__ as well as __hybrids__, _association proxies_."
   ]
  },
  {
   "cell_type": "code",
   "execution_count": 18,
   "metadata": {},
   "outputs": [
    {
     "name": "stdout",
     "output_type": "stream",
     "text": [
      "insp.all_orm_descriptors = <sqlalchemy.util._collections.ImmutableProperties object at 0x000001B60C8C44C0>\n",
      "insp.all_orm_descriptors.keys() = ['id', 'name', 'fullname', 'addresses']\n"
     ]
    }
   ],
   "source": [
    "print(f\"{insp.all_orm_descriptors = }\")\n",
    "print(f\"{insp.all_orm_descriptors.keys() = }\")"
   ]
  },
  {
   "cell_type": "markdown",
   "metadata": {},
   "source": [
    "As well as `Mapper.column_attrs`."
   ]
  },
  {
   "cell_type": "code",
   "execution_count": 19,
   "metadata": {},
   "outputs": [
    {
     "name": "stdout",
     "output_type": "stream",
     "text": [
      "list(insp.column_attrs) = [<ColumnProperty at 0x1b60e166640; id>, <ColumnProperty at 0x1b60e166940; name>, <ColumnProperty at 0x1b60e166a40; fullname>]\n",
      "insp.column_attrs.name = <ColumnProperty at 0x1b60e166940; name>\n",
      "insp.column_attrs.name.expression = Column('name', String(), table=<declarative_user>)\n"
     ]
    }
   ],
   "source": [
    "print(f\"{list(insp.column_attrs) = }\")\n",
    "print(f\"{insp.column_attrs.name = }\")\n",
    "print(f\"{insp.column_attrs.name.expression = }\")"
   ]
  },
  {
   "cell_type": "markdown",
   "metadata": {},
   "source": [
    "##### Inspection of Mapped Instances\n",
    "\n",
    "The `inspect()` function also _provides information_ about instances of a `mapped class`. When applied to an instance of a _mapped class_, rather than the class itself, the _object returned_ is known as `InstanceState`, which will _provide links_ to not only the __`Mapper` in use by the class__, but also a __detailed interface__ that provides information on the _state of individual attributes_ within the instance __including__ their `current value` and how this relates to what `their database-loaded value` is.\n",
    "\n",
    "Given an instance of the `User` class __loaded from the database__."
   ]
  },
  {
   "cell_type": "code",
   "execution_count": 20,
   "metadata": {},
   "outputs": [
    {
     "name": "stdout",
     "output_type": "stream",
     "text": [
      "2022-10-24 12:28:51,096 INFO sqlalchemy.engine.Engine BEGIN (implicit)\n",
      "2022-10-24 12:28:51,098 INFO sqlalchemy.engine.Engine PRAGMA main.table_info(\"declarative_user\")\n",
      "2022-10-24 12:28:51,101 INFO sqlalchemy.engine.Engine [raw sql] ()\n",
      "2022-10-24 12:28:51,106 INFO sqlalchemy.engine.Engine PRAGMA temp.table_info(\"declarative_user\")\n",
      "2022-10-24 12:28:51,113 INFO sqlalchemy.engine.Engine [raw sql] ()\n",
      "2022-10-24 12:28:51,118 INFO sqlalchemy.engine.Engine PRAGMA main.table_info(\"address\")\n",
      "2022-10-24 12:28:51,120 INFO sqlalchemy.engine.Engine [raw sql] ()\n",
      "2022-10-24 12:28:51,123 INFO sqlalchemy.engine.Engine PRAGMA temp.table_info(\"address\")\n",
      "2022-10-24 12:28:51,124 INFO sqlalchemy.engine.Engine [raw sql] ()\n",
      "2022-10-24 12:28:51,127 INFO sqlalchemy.engine.Engine \n",
      "CREATE TABLE declarative_user (\n",
      "\tid INTEGER NOT NULL, \n",
      "\tname VARCHAR, \n",
      "\tfullname VARCHAR, \n",
      "\tPRIMARY KEY (id)\n",
      ")\n",
      "\n",
      "\n",
      "2022-10-24 12:28:51,128 INFO sqlalchemy.engine.Engine [no key 0.00124s] ()\n",
      "2022-10-24 12:28:51,130 INFO sqlalchemy.engine.Engine \n",
      "CREATE TABLE address (\n",
      "\tid INTEGER NOT NULL, \n",
      "\temail_address VARCHAR NOT NULL, \n",
      "\tuser_id INTEGER, \n",
      "\tPRIMARY KEY (id), \n",
      "\tFOREIGN KEY(user_id) REFERENCES declarative_user (id)\n",
      ")\n",
      "\n",
      "\n",
      "2022-10-24 12:28:51,131 INFO sqlalchemy.engine.Engine [no key 0.00145s] ()\n",
      "2022-10-24 12:28:51,135 INFO sqlalchemy.engine.Engine COMMIT\n",
      "2022-10-24 12:28:51,139 INFO sqlalchemy.engine.Engine BEGIN (implicit)\n",
      "2022-10-24 12:28:51,143 INFO sqlalchemy.engine.Engine INSERT INTO declarative_user (name, fullname) VALUES (?, ?)\n",
      "2022-10-24 12:28:51,144 INFO sqlalchemy.engine.Engine [generated in 0.00127s] ('sandy', 'Sandy Cheeks')\n",
      "2022-10-24 12:28:51,145 INFO sqlalchemy.engine.Engine INSERT INTO declarative_user (name, fullname) VALUES (?, ?)\n",
      "2022-10-24 12:28:51,146 INFO sqlalchemy.engine.Engine [cached since 0.003721s ago] ('patrick', 'Patrick Star')\n",
      "2022-10-24 12:28:51,148 INFO sqlalchemy.engine.Engine INSERT INTO declarative_user (name, fullname) VALUES (?, ?)\n",
      "2022-10-24 12:28:51,151 INFO sqlalchemy.engine.Engine [cached since 0.007827s ago] ('squidward', 'Squidward Tentacles')\n",
      "2022-10-24 12:28:51,156 INFO sqlalchemy.engine.Engine INSERT INTO declarative_user (name, fullname) VALUES (?, ?)\n",
      "2022-10-24 12:28:51,158 INFO sqlalchemy.engine.Engine [cached since 0.01511s ago] ('ehkrabs', 'Eugene H. Krabs')\n",
      "2022-10-24 12:28:51,160 INFO sqlalchemy.engine.Engine COMMIT\n"
     ]
    }
   ],
   "source": [
    "engine = create_engine(\"sqlite+pysqlite:///:memory:\", echo=True, future=True)\n",
    "session = Session(engine)\n",
    "\n",
    "Base.metadata.create_all(engine)\n",
    "\n",
    "sandy = DeclarativeUser(name=\"sandy\", fullname=\"Sandy Cheeks\")\n",
    "patrick = DeclarativeUser(name=\"patrick\", fullname=\"Patrick Star\")\n",
    "squidward = DeclarativeUser(name=\"squidward\", fullname=\"Squidward Tentacles\")\n",
    "krabs = DeclarativeUser(name=\"ehkrabs\", fullname=\"Eugene H. Krabs\")\\\n",
    "\n",
    "session.add_all([sandy, patrick, squidward, krabs])\n",
    "session.commit()"
   ]
  },
  {
   "cell_type": "code",
   "execution_count": 21,
   "metadata": {},
   "outputs": [
    {
     "name": "stdout",
     "output_type": "stream",
     "text": [
      "2022-10-24 12:28:51,228 INFO sqlalchemy.engine.Engine BEGIN (implicit)\n",
      "2022-10-24 12:28:51,231 INFO sqlalchemy.engine.Engine SELECT declarative_user.id, declarative_user.name, declarative_user.fullname \n",
      "FROM declarative_user\n",
      "2022-10-24 12:28:51,235 INFO sqlalchemy.engine.Engine [generated in 0.00460s] ()\n",
      "u1.name = 'sandy'\n"
     ]
    }
   ],
   "source": [
    "u1 = session.scalars(select(DeclarativeUser)).first()\n",
    "print(f\"{u1.name = }\")"
   ]
  },
  {
   "cell_type": "markdown",
   "metadata": {},
   "source": [
    "The `inspect()` function will return to us an `InstanceState` object."
   ]
  },
  {
   "cell_type": "code",
   "execution_count": 22,
   "metadata": {},
   "outputs": [
    {
     "name": "stdout",
     "output_type": "stream",
     "text": [
      "insp = <sqlalchemy.orm.state.InstanceState object at 0x000001B60E231E80>\n"
     ]
    }
   ],
   "source": [
    "insp = inspect(u1)\n",
    "print(f\"{insp = }\")"
   ]
  },
  {
   "cell_type": "markdown",
   "metadata": {},
   "source": [
    "With this object we can see _elements_ such as the `Mapper`."
   ]
  },
  {
   "cell_type": "code",
   "execution_count": 23,
   "metadata": {},
   "outputs": [
    {
     "name": "stdout",
     "output_type": "stream",
     "text": [
      "insp.mapper = <Mapper at 0x1b60e1b82e0; DeclarativeUser>\n"
     ]
    }
   ],
   "source": [
    "print(f\"{insp.mapper = }\")"
   ]
  },
  {
   "cell_type": "markdown",
   "metadata": {},
   "source": [
    "and the `Session` to which the object is __attached__, if any."
   ]
  },
  {
   "cell_type": "code",
   "execution_count": 24,
   "metadata": {},
   "outputs": [
    {
     "name": "stdout",
     "output_type": "stream",
     "text": [
      "insp.session = <sqlalchemy.orm.session.Session object at 0x000001B60E21DE20>\n"
     ]
    }
   ],
   "source": [
    "print(f\"{insp.session = }\")"
   ]
  },
  {
   "cell_type": "markdown",
   "metadata": {},
   "source": [
    "and _information_ about the `current persistence state` for the object."
   ]
  },
  {
   "cell_type": "code",
   "execution_count": 25,
   "metadata": {},
   "outputs": [
    {
     "name": "stdout",
     "output_type": "stream",
     "text": [
      "insp.persistent = True\n",
      "insp.pending = False\n"
     ]
    }
   ],
   "source": [
    "print(f\"{insp.persistent = }\")\n",
    "print(f\"{insp.pending = }\")"
   ]
  },
  {
   "cell_type": "markdown",
   "metadata": {},
   "source": [
    "`Attribute state information` such as attributes that __have not been loaded__ or __lazy loaded__ (assume _addresses_ refers to a `relationship()` on the _mapped class to a related class_)."
   ]
  },
  {
   "cell_type": "code",
   "execution_count": 26,
   "metadata": {},
   "outputs": [
    {
     "name": "stdout",
     "output_type": "stream",
     "text": [
      "insp.unloaded = {'addresses'}\n"
     ]
    }
   ],
   "source": [
    "print(f\"{insp.unloaded = }\")"
   ]
  },
  {
   "cell_type": "markdown",
   "metadata": {},
   "source": [
    "Information regarding the __current `in-Python` status of attributes__, such as attributes that `have not been modified` _since the last_ `flush`."
   ]
  },
  {
   "cell_type": "code",
   "execution_count": 27,
   "metadata": {},
   "outputs": [
    {
     "name": "stdout",
     "output_type": "stream",
     "text": [
      "insp.unmodified = {'fullname', 'name', 'id', 'addresses'}\n"
     ]
    }
   ],
   "source": [
    "print(f\"{insp.unmodified = }\")"
   ]
  },
  {
   "cell_type": "markdown",
   "metadata": {},
   "source": [
    "as well as _specific history_ on __modifications to attributes__ since the `last flush`."
   ]
  },
  {
   "cell_type": "code",
   "execution_count": 28,
   "metadata": {},
   "outputs": [
    {
     "name": "stdout",
     "output_type": "stream",
     "text": [
      "insp.attrs.fullname.value = 'Sandy Cheeks'\n"
     ]
    }
   ],
   "source": [
    "print(f\"{insp.attrs.fullname.value = }\")"
   ]
  },
  {
   "cell_type": "code",
   "execution_count": 29,
   "metadata": {},
   "outputs": [
    {
     "name": "stdout",
     "output_type": "stream",
     "text": [
      "insp.attrs.fullname.history = History(added=['New fullname'], unchanged=(), deleted=['Sandy Cheeks'])\n"
     ]
    }
   ],
   "source": [
    "u1.fullname = \"New fullname\"\n",
    "print(f\"{insp.attrs.fullname.history = }\")"
   ]
  },
  {
   "cell_type": "code",
   "execution_count": null,
   "metadata": {},
   "outputs": [],
   "source": []
  }
 ],
 "metadata": {
  "kernelspec": {
   "display_name": "Python 3.9.6 ('sql-env': venv)",
   "language": "python",
   "name": "python3"
  },
  "language_info": {
   "codemirror_mode": {
    "name": "ipython",
    "version": 3
   },
   "file_extension": ".py",
   "mimetype": "text/x-python",
   "name": "python",
   "nbconvert_exporter": "python",
   "pygments_lexer": "ipython3",
   "version": "3.9.6"
  },
  "orig_nbformat": 4,
  "vscode": {
   "interpreter": {
    "hash": "3b00ed0d5d9853c9f0267ee6e89091ab706130aa0b00cb1356a08ef47194a158"
   }
  }
 },
 "nbformat": 4,
 "nbformat_minor": 2
}
