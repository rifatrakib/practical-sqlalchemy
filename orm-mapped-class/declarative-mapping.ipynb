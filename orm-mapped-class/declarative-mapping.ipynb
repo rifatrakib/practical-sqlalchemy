{
 "cells": [
  {
   "cell_type": "markdown",
   "metadata": {},
   "source": [
    "#### Declarative Mapping\n",
    "\n",
    "The `Declarative Mapping` is the __typical way__ that `mappings` are constructed in _modern SQLAlchemy_. The __most common pattern__ is to _first_ construct `a base class` using the `declarative_base()` function, which will __apply__ the `declarative mapping process` to _all subclasses_ that __`derive` from it__. Below _features_ a `declarative base` which is then used in a _declarative table mapping_."
   ]
  },
  {
   "cell_type": "code",
   "execution_count": 1,
   "metadata": {},
   "outputs": [],
   "source": [
    "from sqlalchemy import Column, Integer, String\n",
    "from sqlalchemy.orm import declarative_base"
   ]
  },
  {
   "cell_type": "code",
   "execution_count": 2,
   "metadata": {},
   "outputs": [],
   "source": [
    "# declarative base class\n",
    "Base = declarative_base()"
   ]
  },
  {
   "cell_type": "code",
   "execution_count": 3,
   "metadata": {},
   "outputs": [],
   "source": [
    "class User(Base):\n",
    "    __tablename__ = \"user\"\n",
    "    \n",
    "    id = Column(Integer, primary_key=True)\n",
    "    name = Column(String)\n",
    "    fullname = Column(String)\n",
    "    nickname = Column(String)"
   ]
  },
  {
   "cell_type": "markdown",
   "metadata": {},
   "source": [
    "Above, the `declarative_base()` __callable__ returns a `new base class` from which _new classes to be mapped_ may __inherit from__, as above a _new mapped class_ `User` is constructed.\n",
    "\n",
    "The _base class_ refers to a `registry object` that __maintains a collection of related mapped classes__. The `declarative_base()` function is in fact __shorthand__ for first _creating_ the `registry` with the _registry constructor_, and then __generating a base class__ using the `registry.generate_base()` method."
   ]
  },
  {
   "cell_type": "code",
   "execution_count": 4,
   "metadata": {},
   "outputs": [],
   "source": [
    "from sqlalchemy.orm import registry"
   ]
  },
  {
   "cell_type": "code",
   "execution_count": 5,
   "metadata": {},
   "outputs": [],
   "source": [
    "# equivalent to Base = declarative_base()\n",
    "mapper_registry = registry()\n",
    "Base = mapper_registry.generate_base()"
   ]
  },
  {
   "cell_type": "markdown",
   "metadata": {},
   "source": [
    "The _major_ `Declarative mapping styles` are further detailed in the following sections:\n",
    "\n",
    "* __Using a Generated Base Class__ - `declarative mapping` using a _base class_ __generated__ by the `registry` object.\n",
    "\n",
    "* __Declarative Mapping using a Decorator__ (_no declarative base_) - `declarative mapping` using a _decorator_, rather than a _base class_.\n",
    "\n",
    "_Within the scope_ of a `Declarative mapped class`, there are also _two varieties_ of how the `Table metadata` may be declared. These include:\n",
    "\n",
    "* __Declarative Table__ - _individual Column definitions_ are __combined__ with a `table name` and `additional arguments`, where the `Declarative mapping` process will construct a `Table` object to be _mapped_.\n",
    "\n",
    "* __Declarative with Imperative Table__ (a.k.a. _Hybrid Declarative_) - Instead of specifying `table name` and `attributes` separately, an __explicitly__ constructed `Table` object is __associated with a class__ that is _otherwise mapped declaratively_. This style of mapping is a __hybrid of `\"declarative\"` and `\"imperative\"` mapping__."
   ]
  },
  {
   "cell_type": "code",
   "execution_count": null,
   "metadata": {},
   "outputs": [],
   "source": []
  }
 ],
 "metadata": {
  "kernelspec": {
   "display_name": "Python 3.9.6 ('sql-env': venv)",
   "language": "python",
   "name": "python3"
  },
  "language_info": {
   "codemirror_mode": {
    "name": "ipython",
    "version": 3
   },
   "file_extension": ".py",
   "mimetype": "text/x-python",
   "name": "python",
   "nbconvert_exporter": "python",
   "pygments_lexer": "ipython3",
   "version": "3.9.6"
  },
  "orig_nbformat": 4,
  "vscode": {
   "interpreter": {
    "hash": "3b00ed0d5d9853c9f0267ee6e89091ab706130aa0b00cb1356a08ef47194a158"
   }
  }
 },
 "nbformat": 4,
 "nbformat_minor": 2
}
