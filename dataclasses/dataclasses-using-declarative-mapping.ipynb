{
 "cells": [
  {
   "cell_type": "markdown",
   "metadata": {},
   "source": [
    "##### Mapping dataclasses using Declarative Mapping\n",
    "\n",
    "The _fully declarative approach_ __requires__ that `Column` objects are _declared as class attributes_, which when using _dataclasses_ would __conflict with the dataclass-level attributes__. An approach to _combine these together_ is to __make use of the metadata attribute__ on the `dataclass.field` object, where _SQLAlchemy-specific mapping information may be supplied_. `Declarative` __supports extraction of these parameters__ when the class specifies the attribute `__sa_dataclass_metadata_key__`. This also provides a __more succinct method__ of _indicating the_ `relationship()` _association_."
   ]
  },
  {
   "cell_type": "code",
   "execution_count": 1,
   "metadata": {},
   "outputs": [],
   "source": [
    "from typing import List, Optional\n",
    "from __future__ import annotations\n",
    "from dataclasses import dataclass, field\n",
    "\n",
    "from sqlalchemy import Column, ForeignKey, Integer, String\n",
    "from sqlalchemy.orm import registry, relationship"
   ]
  },
  {
   "cell_type": "code",
   "execution_count": 2,
   "metadata": {},
   "outputs": [],
   "source": [
    "mapper_registry = registry()"
   ]
  },
  {
   "cell_type": "code",
   "execution_count": 3,
   "metadata": {},
   "outputs": [],
   "source": [
    "@mapper_registry.mapped\n",
    "@dataclass\n",
    "class User:\n",
    "    __tablename__ = \"users\"\n",
    "    \n",
    "    __sa_dataclass_metadata_key__ = \"sa\"\n",
    "    \n",
    "    id: int = field(init=False, metadata={\"sa\": Column(Integer, primary_key=True)})\n",
    "    name: str = field(default=None, metadata={\"sa\": Column(String(50))})\n",
    "    fullname: str = field(default=None, metadata={\"sa\": Column(String(50))})\n",
    "    nickname: str = field(default=None, metadata={\"sa\": Column(String(12))})\n",
    "    addresses: List[Address] = field(\n",
    "        default_factory=list, metadata={\"sa\": relationship(\"Address\")}\n",
    "    )"
   ]
  },
  {
   "cell_type": "code",
   "execution_count": 4,
   "metadata": {},
   "outputs": [],
   "source": [
    "@mapper_registry.mapped\n",
    "@dataclass\n",
    "class Address:\n",
    "    __tablename__ = \"address\"\n",
    "    \n",
    "    __sa_dataclass_metadata_key__ = \"sa\"\n",
    "    \n",
    "    id: int = field(init=False, metadata={\"sa\": Column(Integer, primary_key=True)})\n",
    "    user_id: int = field(init=False, metadata={\"sa\": Column(ForeignKey(\"user.id\"))})\n",
    "    email_address: str = field(default=None, metadata={\"sa\": Column(String(50))})"
   ]
  },
  {
   "cell_type": "code",
   "execution_count": null,
   "metadata": {},
   "outputs": [],
   "source": []
  }
 ],
 "metadata": {
  "kernelspec": {
   "display_name": "Python 3.9.6 ('sql-env': venv)",
   "language": "python",
   "name": "python3"
  },
  "language_info": {
   "codemirror_mode": {
    "name": "ipython",
    "version": 3
   },
   "file_extension": ".py",
   "mimetype": "text/x-python",
   "name": "python",
   "nbconvert_exporter": "python",
   "pygments_lexer": "ipython3",
   "version": "3.9.6"
  },
  "orig_nbformat": 4,
  "vscode": {
   "interpreter": {
    "hash": "3b00ed0d5d9853c9f0267ee6e89091ab706130aa0b00cb1356a08ef47194a158"
   }
  }
 },
 "nbformat": 4,
 "nbformat_minor": 2
}
