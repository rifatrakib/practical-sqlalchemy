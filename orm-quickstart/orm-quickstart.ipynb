{
 "cells": [
  {
   "cell_type": "markdown",
   "metadata": {},
   "source": [
    "## Declare Models\n",
    "\n",
    "Here, we define _module-level_ constructs that will __form the structures__ which we will be `querying` from the database. This structure, known as a `Declarative Mapping`, _defines at once_ both a __Python object model__, as well as __database metadata__ that _describes real SQL tables_ that `exist, or will exist`, in a particular database."
   ]
  },
  {
   "cell_type": "code",
   "execution_count": 1,
   "metadata": {},
   "outputs": [],
   "source": [
    "from sqlalchemy import Column, ForeignKey, Integer, String\n",
    "from sqlalchemy.orm import declarative_base, relationship"
   ]
  },
  {
   "cell_type": "code",
   "execution_count": 2,
   "metadata": {},
   "outputs": [],
   "source": [
    "Base = declarative_base()"
   ]
  },
  {
   "cell_type": "code",
   "execution_count": 3,
   "metadata": {},
   "outputs": [],
   "source": [
    "class User(Base):\n",
    "    __tablename__ = \"user_account\"\n",
    "    \n",
    "    id = Column(Integer, primary_key=True)\n",
    "    name = Column(String(30))\n",
    "    fullname = Column(String)\n",
    "    \n",
    "    addresses = relationship(\"Address\", back_populates=\"user\", cascade=\"all, delete-orphan\")\n",
    "    \n",
    "    def __repr__(self):\n",
    "        return f\"User(id={self.id!r}, name={self.name!r}, fullname={self.fullname!r})\""
   ]
  },
  {
   "cell_type": "code",
   "execution_count": 4,
   "metadata": {},
   "outputs": [],
   "source": [
    "class Address(Base):\n",
    "    __tablename__ = \"address\"\n",
    "    \n",
    "    id = Column(Integer, primary_key=True)\n",
    "    email_address = Column(String, nullable=False)\n",
    "    user_id = Column(Integer, ForeignKey(\"user_account.id\"), nullable=False)\n",
    "    \n",
    "    user = relationship(\"User\", back_populates=\"addresses\")\n",
    "    \n",
    "    def __repr__(self):\n",
    "        return f\"Address(id={self.id!r}, email_address={self.email_address!r})\""
   ]
  },
  {
   "cell_type": "markdown",
   "metadata": {},
   "source": [
    "The _mapping_ starts with a `base class`, which above is called `Base`, and is created by calling upon the `declarative_base()` function, which produces a __new `base` class__.\n",
    "\n",
    "_Individual mapped classes_ are then _created_ by making __subclasses of `Base`__. A _mapped class_ typically refers to a `single particular database table`, the name of which is indicated by using the __`__tablename__`__ _class-level attribute_.\n",
    "\n",
    "Next, _columns_ that are part of the table are declared, by _adding attributes_ __linked__ to the `Column` construct. `Column` describes _all aspects_ of a `database column`, including __typing information__ with _type objects_ such as `Integer` and `String` as well as __server defaults__ and __constraint information__, such as _membership_ within the `primary key` and `foreign keys`.\n",
    "\n",
    "_All_ `ORM mapped classes` __require__ _at least_ __one column__ be declared as part of the `primary key`, typically by using the `Column.primary_key` parameter on those `Column` objects that should be part of the key. In the above example, the `User.id` and `Address.id` columns are _marked_ as __primary key__.\n",
    "\n",
    "Taken together, the _combination_ of a `string table name` as well as a `list of column declarations` is __referred__ towards in SQLAlchemy as __`table metadata`__. Setting up `table metadata` using both `Core` and `ORM` approaches is introduced in the `SQLAlchemy 1.4/2.0 Tutorial` at `Working with Database Metadata`. The above mapping is an example of what's referred towards as `Declarative Table configuration`.\n",
    "\n",
    "Other _Declarative directives_ are available, most commonly the `relationship()` construct indicated above. In contrast to the _column-based attributes_, `relationship()` denotes a __linkage between two `ORM classes`__. In the above example, `User.addresses` __links `User` to `Address`__, and `Address.user` __links `Address` to `User`__. The `relationship()` construct is introduced in the `SQLAlchemy 1.4/2.0 Tutorial` at `Working with Related Objects`.\n",
    "\n",
    "Finally, the above example classes include a `__repr__()` method, which is _not required_ but is __useful for debugging__."
   ]
  },
  {
   "cell_type": "code",
   "execution_count": null,
   "metadata": {},
   "outputs": [],
   "source": []
  }
 ],
 "metadata": {
  "kernelspec": {
   "display_name": "Python 3.9.6 ('sql-env': venv)",
   "language": "python",
   "name": "python3"
  },
  "language_info": {
   "codemirror_mode": {
    "name": "ipython",
    "version": 3
   },
   "file_extension": ".py",
   "mimetype": "text/x-python",
   "name": "python",
   "nbconvert_exporter": "python",
   "pygments_lexer": "ipython3",
   "version": "3.9.6"
  },
  "orig_nbformat": 4,
  "vscode": {
   "interpreter": {
    "hash": "3b00ed0d5d9853c9f0267ee6e89091ab706130aa0b00cb1356a08ef47194a158"
   }
  }
 },
 "nbformat": 4,
 "nbformat_minor": 2
}
