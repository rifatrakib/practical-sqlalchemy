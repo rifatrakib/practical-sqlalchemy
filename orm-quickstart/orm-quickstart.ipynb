{
 "cells": [
  {
   "cell_type": "markdown",
   "metadata": {},
   "source": [
    "## Declare Models\n",
    "\n",
    "Here, we define _module-level_ constructs that will __form the structures__ which we will be `querying` from the database. This structure, known as a `Declarative Mapping`, _defines at once_ both a __Python object model__, as well as __database metadata__ that _describes real SQL tables_ that `exist, or will exist`, in a particular database."
   ]
  },
  {
   "cell_type": "code",
   "execution_count": 1,
   "metadata": {},
   "outputs": [],
   "source": [
    "from sqlalchemy import Column, ForeignKey, Integer, String, create_engine, select\n",
    "from sqlalchemy.orm import Session, declarative_base, relationship"
   ]
  },
  {
   "cell_type": "code",
   "execution_count": 2,
   "metadata": {},
   "outputs": [],
   "source": [
    "Base = declarative_base()"
   ]
  },
  {
   "cell_type": "code",
   "execution_count": 3,
   "metadata": {},
   "outputs": [],
   "source": [
    "class User(Base):\n",
    "    __tablename__ = \"user_account\"\n",
    "    \n",
    "    id = Column(Integer, primary_key=True)\n",
    "    name = Column(String(30))\n",
    "    fullname = Column(String)\n",
    "    \n",
    "    addresses = relationship(\"Address\", back_populates=\"user\", cascade=\"all, delete-orphan\")\n",
    "    \n",
    "    def __repr__(self):\n",
    "        return f\"User(id={self.id!r}, name={self.name!r}, fullname={self.fullname!r})\""
   ]
  },
  {
   "cell_type": "code",
   "execution_count": 4,
   "metadata": {},
   "outputs": [],
   "source": [
    "class Address(Base):\n",
    "    __tablename__ = \"address\"\n",
    "    \n",
    "    id = Column(Integer, primary_key=True)\n",
    "    email_address = Column(String, nullable=False)\n",
    "    user_id = Column(Integer, ForeignKey(\"user_account.id\"), nullable=False)\n",
    "    \n",
    "    user = relationship(\"User\", back_populates=\"addresses\")\n",
    "    \n",
    "    def __repr__(self):\n",
    "        return f\"Address(id={self.id!r}, email_address={self.email_address!r})\""
   ]
  },
  {
   "cell_type": "markdown",
   "metadata": {},
   "source": [
    "The _mapping_ starts with a `base class`, which above is called `Base`, and is created by calling upon the `declarative_base()` function, which produces a __new `base` class__.\n",
    "\n",
    "_Individual mapped classes_ are then _created_ by making __subclasses of `Base`__. A _mapped class_ typically refers to a `single particular database table`, the name of which is indicated by using the __`__tablename__`__ _class-level attribute_.\n",
    "\n",
    "Next, _columns_ that are part of the table are declared, by _adding attributes_ __linked__ to the `Column` construct. `Column` describes _all aspects_ of a `database column`, including __typing information__ with _type objects_ such as `Integer` and `String` as well as __server defaults__ and __constraint information__, such as _membership_ within the `primary key` and `foreign keys`.\n",
    "\n",
    "_All_ `ORM mapped classes` __require__ _at least_ __one column__ be declared as part of the `primary key`, typically by using the `Column.primary_key` parameter on those `Column` objects that should be part of the key. In the above example, the `User.id` and `Address.id` columns are _marked_ as __primary key__.\n",
    "\n",
    "Taken together, the _combination_ of a `string table name` as well as a `list of column declarations` is __referred__ towards in SQLAlchemy as __`table metadata`__. Setting up `table metadata` using both `Core` and `ORM` approaches is introduced in the `SQLAlchemy 1.4/2.0 Tutorial` at `Working with Database Metadata`. The above mapping is an example of what's referred towards as `Declarative Table configuration`.\n",
    "\n",
    "Other _Declarative directives_ are available, most commonly the `relationship()` construct indicated above. In contrast to the _column-based attributes_, `relationship()` denotes a __linkage between two `ORM classes`__. In the above example, `User.addresses` __links `User` to `Address`__, and `Address.user` __links `Address` to `User`__. The `relationship()` construct is introduced in the `SQLAlchemy 1.4/2.0 Tutorial` at `Working with Related Objects`.\n",
    "\n",
    "Finally, the above example classes include a `__repr__()` method, which is _not required_ but is __useful for debugging__."
   ]
  },
  {
   "cell_type": "markdown",
   "metadata": {},
   "source": [
    "## Create an Engine\n",
    "\n",
    "The `Engine` is a _factory_ that can __create new database connections__ for us, which also _holds onto connections_ inside of a `Connection Pool` for __fast reuse__. For learning purposes, we normally use a `SQLite` __memory-only__ database for convenience."
   ]
  },
  {
   "cell_type": "code",
   "execution_count": 5,
   "metadata": {},
   "outputs": [],
   "source": [
    "engine = create_engine(\"sqlite://\", echo=True, future=True)"
   ]
  },
  {
   "cell_type": "markdown",
   "metadata": {},
   "source": [
    "> ##### Tips\n",
    "> \n",
    "> The `echo=True` parameter indicates that __SQL emitted by connections__ will be _logged to standard out_. `future=True` is to __ensure__ we are using the _latest SQLAlchemy 2.0-style APIs_."
   ]
  },
  {
   "cell_type": "markdown",
   "metadata": {},
   "source": [
    "## Emit CREATE TABLE DDL\n",
    "\n",
    "Using our `table metadata` and our `engine`, we can _generate_ our `schema` __at once__ in our __target `SQLite` database__, using a method called `MetaData.create_all()`."
   ]
  },
  {
   "cell_type": "code",
   "execution_count": 6,
   "metadata": {},
   "outputs": [
    {
     "name": "stdout",
     "output_type": "stream",
     "text": [
      "2022-10-14 11:00:49,643 INFO sqlalchemy.engine.Engine BEGIN (implicit)\n",
      "2022-10-14 11:00:49,645 INFO sqlalchemy.engine.Engine PRAGMA main.table_info(\"user_account\")\n",
      "2022-10-14 11:00:49,646 INFO sqlalchemy.engine.Engine [raw sql] ()\n",
      "2022-10-14 11:00:49,647 INFO sqlalchemy.engine.Engine PRAGMA temp.table_info(\"user_account\")\n",
      "2022-10-14 11:00:49,648 INFO sqlalchemy.engine.Engine [raw sql] ()\n",
      "2022-10-14 11:00:49,649 INFO sqlalchemy.engine.Engine PRAGMA main.table_info(\"address\")\n",
      "2022-10-14 11:00:49,650 INFO sqlalchemy.engine.Engine [raw sql] ()\n",
      "2022-10-14 11:00:49,651 INFO sqlalchemy.engine.Engine PRAGMA temp.table_info(\"address\")\n",
      "2022-10-14 11:00:49,653 INFO sqlalchemy.engine.Engine [raw sql] ()\n",
      "2022-10-14 11:00:49,655 INFO sqlalchemy.engine.Engine \n",
      "CREATE TABLE user_account (\n",
      "\tid INTEGER NOT NULL, \n",
      "\tname VARCHAR(30), \n",
      "\tfullname VARCHAR, \n",
      "\tPRIMARY KEY (id)\n",
      ")\n",
      "\n",
      "\n",
      "2022-10-14 11:00:49,656 INFO sqlalchemy.engine.Engine [no key 0.00064s] ()\n",
      "2022-10-14 11:00:49,657 INFO sqlalchemy.engine.Engine \n",
      "CREATE TABLE address (\n",
      "\tid INTEGER NOT NULL, \n",
      "\temail_address VARCHAR NOT NULL, \n",
      "\tuser_id INTEGER NOT NULL, \n",
      "\tPRIMARY KEY (id), \n",
      "\tFOREIGN KEY(user_id) REFERENCES user_account (id)\n",
      ")\n",
      "\n",
      "\n",
      "2022-10-14 11:00:49,658 INFO sqlalchemy.engine.Engine [no key 0.00067s] ()\n",
      "2022-10-14 11:00:49,659 INFO sqlalchemy.engine.Engine COMMIT\n"
     ]
    }
   ],
   "source": [
    "Base.metadata.create_all(engine)"
   ]
  },
  {
   "cell_type": "markdown",
   "metadata": {},
   "source": [
    "## Create Objects and Persist\n",
    "\n",
    "We are now ready to `insert` data in the database. We accomplish this by _creating instances_ of `User` and `Address` classes, which have an `__init__()` method already as __established automatically__ by the __`declarative mapping process`__. We then _pass them to the database_ using an object called a `Session`, which makes use of the `Engine` to __interact with the `database`__. The `Session.add_all()` method is used here to __add multiple objects at once__, and the `Session.commit()` method will be used to __flush any pending changes__ to the database and then __commit__ the _current database transaction_, which is __always in progress__ whenever the `Session` is used."
   ]
  },
  {
   "cell_type": "code",
   "execution_count": 7,
   "metadata": {},
   "outputs": [
    {
     "name": "stdout",
     "output_type": "stream",
     "text": [
      "2022-10-14 11:00:49,722 INFO sqlalchemy.engine.Engine BEGIN (implicit)\n",
      "2022-10-14 11:00:49,724 INFO sqlalchemy.engine.Engine INSERT INTO user_account (name, fullname) VALUES (?, ?)\n",
      "2022-10-14 11:00:49,725 INFO sqlalchemy.engine.Engine [generated in 0.00111s] ('spongebob', 'Spongebob Squarepants')\n",
      "2022-10-14 11:00:49,726 INFO sqlalchemy.engine.Engine INSERT INTO user_account (name, fullname) VALUES (?, ?)\n",
      "2022-10-14 11:00:49,728 INFO sqlalchemy.engine.Engine [cached since 0.003833s ago] ('sandy', 'Sandy Cheeks')\n",
      "2022-10-14 11:00:49,730 INFO sqlalchemy.engine.Engine INSERT INTO user_account (name, fullname) VALUES (?, ?)\n",
      "2022-10-14 11:00:49,732 INFO sqlalchemy.engine.Engine [cached since 0.008028s ago] ('patrick', 'Patrick Star')\n",
      "2022-10-14 11:00:49,735 INFO sqlalchemy.engine.Engine INSERT INTO address (email_address, user_id) VALUES (?, ?)\n",
      "2022-10-14 11:00:49,737 INFO sqlalchemy.engine.Engine [generated in 0.00180s] ('spongebob@sqlalchemy.org', 1)\n",
      "2022-10-14 11:00:49,740 INFO sqlalchemy.engine.Engine INSERT INTO address (email_address, user_id) VALUES (?, ?)\n",
      "2022-10-14 11:00:49,741 INFO sqlalchemy.engine.Engine [cached since 0.005738s ago] ('sandy@sqlalchemy.org', 2)\n",
      "2022-10-14 11:00:49,743 INFO sqlalchemy.engine.Engine INSERT INTO address (email_address, user_id) VALUES (?, ?)\n",
      "2022-10-14 11:00:49,744 INFO sqlalchemy.engine.Engine [cached since 0.009209s ago] ('sandy@squirrelpower.org', 2)\n",
      "2022-10-14 11:00:49,747 INFO sqlalchemy.engine.Engine COMMIT\n"
     ]
    }
   ],
   "source": [
    "with Session(engine) as session:\n",
    "    spongebob = User(\n",
    "        name=\"spongebob\",\n",
    "        fullname=\"Spongebob Squarepants\",\n",
    "        addresses=[Address(email_address=\"spongebob@sqlalchemy.org\")]\n",
    "    )\n",
    "    sandy = User(\n",
    "        name=\"sandy\",\n",
    "        fullname=\"Sandy Cheeks\",\n",
    "        addresses=[\n",
    "            Address(email_address=\"sandy@sqlalchemy.org\"),\n",
    "            Address(email_address=\"sandy@squirrelpower.org\"),\n",
    "        ]\n",
    "    )\n",
    "    patrick = User(name=\"patrick\", fullname=\"Patrick Star\")\n",
    "    \n",
    "    session.add_all([spongebob, sandy, patrick])\n",
    "    session.commit()"
   ]
  },
  {
   "cell_type": "markdown",
   "metadata": {},
   "source": [
    "> ##### Tips\n",
    "> \n",
    "> It's recommended that the `Session` be __used in context manager style__ as above, that is, using the Python `with: statement`. The `Session` object __represents__ _active database resources_ so it's good to make sure it's __closed out__ when a _series of operations_ are __`completed`__. In the next section, we'll keep a `Session` opened just for illustration purposes."
   ]
  },
  {
   "cell_type": "markdown",
   "metadata": {},
   "source": [
    "## Simple SELECT\n",
    "\n",
    "With some rows in the database, here's the _simplest form_ of __emitting__ a `SELECT` statement _to load some objects_. To create `SELECT` statements, we use the `select()` function to __create a new `Select` object__, which we then _invoke_ using a `Session`. The method that is _often useful_ when __querying for `ORM` objects__ is the `Session.scalars()` method, which will return a `ScalarResult` object that will _iterate_ through the ORM objects we've selected."
   ]
  },
  {
   "cell_type": "code",
   "execution_count": 8,
   "metadata": {},
   "outputs": [
    {
     "name": "stdout",
     "output_type": "stream",
     "text": [
      "2022-10-14 11:00:49,839 INFO sqlalchemy.engine.Engine BEGIN (implicit)\n",
      "2022-10-14 11:00:49,842 INFO sqlalchemy.engine.Engine SELECT user_account.id, user_account.name, user_account.fullname \n",
      "FROM user_account \n",
      "WHERE user_account.name IN (?, ?)\n",
      "2022-10-14 11:00:49,844 INFO sqlalchemy.engine.Engine [generated in 0.00194s] ('spongebob', 'sandy')\n",
      "User(id=1, name='spongebob', fullname='Spongebob Squarepants')\n",
      "User(id=2, name='sandy', fullname='Sandy Cheeks')\n"
     ]
    }
   ],
   "source": [
    "session = Session(engine)\n",
    "\n",
    "stmt = select(User).where(User.name.in_([\"spongebob\", \"sandy\"]))\n",
    "for user in session.scalars(stmt):\n",
    "    print(user)"
   ]
  },
  {
   "cell_type": "markdown",
   "metadata": {},
   "source": [
    "The above query also made use of the `Select.where()` method to __add `WHERE` criteria__, and also used the `ColumnOperators.in_()` method that's part of all SQLAlchemy _column-like constructs_ to use the SQL `IN operator`."
   ]
  },
  {
   "cell_type": "markdown",
   "metadata": {},
   "source": [
    "## SELECT with JOIN\n",
    "\n",
    "It's _very common_ to `query` amongst __multiple tables at once__, and in SQL the `JOIN` _keyword_ is the _primary way_ this happens. The `Select` construct __creates joins__ using the `Select.join()` method."
   ]
  },
  {
   "cell_type": "code",
   "execution_count": 9,
   "metadata": {},
   "outputs": [
    {
     "name": "stdout",
     "output_type": "stream",
     "text": [
      "2022-10-14 11:00:49,921 INFO sqlalchemy.engine.Engine SELECT address.id, address.email_address, address.user_id \n",
      "FROM address JOIN user_account ON user_account.id = address.user_id \n",
      "WHERE user_account.name = ? AND address.email_address = ?\n",
      "2022-10-14 11:00:49,922 INFO sqlalchemy.engine.Engine [generated in 0.00100s] ('sandy', 'sandy@sqlalchemy.org')\n",
      "sandy_address = Address(id=2, email_address='sandy@sqlalchemy.org')\n"
     ]
    }
   ],
   "source": [
    "stmt = (\n",
    "    select(Address).\n",
    "    join(Address.user).\n",
    "    where(User.name == \"sandy\").\n",
    "    where(Address.email_address == \"sandy@sqlalchemy.org\")\n",
    ")\n",
    "sandy_address = session.scalars(stmt).one()\n",
    "print(f\"{sandy_address = }\")"
   ]
  },
  {
   "cell_type": "markdown",
   "metadata": {},
   "source": [
    "The above query illustrates __multiple `WHERE` criteria__ which are __automatically chained together__ using `AND`, as well as how to use SQLAlchemy _column-like objects_ to __create `\"equality\"` comparisons__, which uses the _overridden_ Python method `ColumnOperators.__eq__()` to produce a _SQL criteria object_."
   ]
  },
  {
   "cell_type": "markdown",
   "metadata": {},
   "source": [
    "## Make Changes\n",
    "\n",
    "The `Session` object, in conjunction with our _ORM-mapped classes_ `User` and `Address`, __automatically track changes to the objects__ as they are made, which result in _SQL statements_ that will be __emitted the next time the `Session` flushes__. Below, we _change_ one `email address` _associated_ with `\"sandy\"`, and also __add a new email address__ to `\"patrick\"`, _after emitting_ a `SELECT` to __retrieve the row for `\"patrick\"`__."
   ]
  },
  {
   "cell_type": "code",
   "execution_count": 10,
   "metadata": {},
   "outputs": [
    {
     "name": "stdout",
     "output_type": "stream",
     "text": [
      "2022-10-14 11:00:50,002 INFO sqlalchemy.engine.Engine SELECT user_account.id, user_account.name, user_account.fullname \n",
      "FROM user_account \n",
      "WHERE user_account.name = ?\n",
      "2022-10-14 11:00:50,003 INFO sqlalchemy.engine.Engine [generated in 0.00146s] ('patrick',)\n",
      "2022-10-14 11:00:50,008 INFO sqlalchemy.engine.Engine SELECT address.id AS address_id, address.email_address AS address_email_address, address.user_id AS address_user_id \n",
      "FROM address \n",
      "WHERE ? = address.user_id\n",
      "2022-10-14 11:00:50,009 INFO sqlalchemy.engine.Engine [generated in 0.00107s] (3,)\n",
      "2022-10-14 11:00:50,014 INFO sqlalchemy.engine.Engine UPDATE address SET email_address=? WHERE address.id = ?\n",
      "2022-10-14 11:00:50,015 INFO sqlalchemy.engine.Engine [generated in 0.00105s] ('sandy_cheeks@sqlalchemy.org', 2)\n",
      "2022-10-14 11:00:50,017 INFO sqlalchemy.engine.Engine INSERT INTO address (email_address, user_id) VALUES (?, ?)\n",
      "2022-10-14 11:00:50,018 INFO sqlalchemy.engine.Engine [cached since 0.2832s ago] ('patrickstar@sqlalchemy.org', 3)\n",
      "2022-10-14 11:00:50,020 INFO sqlalchemy.engine.Engine COMMIT\n"
     ]
    }
   ],
   "source": [
    "stmt = select(User).where(User.name == \"patrick\")\n",
    "patrick = session.scalars(stmt).one()\n",
    "patrick.addresses.append(Address(email_address=\"patrickstar@sqlalchemy.org\"))\n",
    "sandy_address.email_address = \"sandy_cheeks@sqlalchemy.org\"\n",
    "session.commit()"
   ]
  },
  {
   "cell_type": "markdown",
   "metadata": {},
   "source": [
    "Notice when we accessed `patrick.addresses`, a `SELECT` was _emitted_. This is called a __`lazy load`__. Background on different ways to _access related items_ using more or less SQL is introduced at `Loader Strategies`."
   ]
  },
  {
   "cell_type": "code",
   "execution_count": null,
   "metadata": {},
   "outputs": [],
   "source": []
  }
 ],
 "metadata": {
  "kernelspec": {
   "display_name": "Python 3.9.6 ('sql-env': venv)",
   "language": "python",
   "name": "python3"
  },
  "language_info": {
   "codemirror_mode": {
    "name": "ipython",
    "version": 3
   },
   "file_extension": ".py",
   "mimetype": "text/x-python",
   "name": "python",
   "nbconvert_exporter": "python",
   "pygments_lexer": "ipython3",
   "version": "3.9.6"
  },
  "orig_nbformat": 4,
  "vscode": {
   "interpreter": {
    "hash": "3b00ed0d5d9853c9f0267ee6e89091ab706130aa0b00cb1356a08ef47194a158"
   }
  }
 },
 "nbformat": 4,
 "nbformat_minor": 2
}
