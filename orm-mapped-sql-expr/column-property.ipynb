{
 "cells": [
  {
   "cell_type": "markdown",
   "metadata": {},
   "source": [
    "#### Using column_property\n",
    "\n",
    "The `column_property()` function can be used to __map a SQL expression__ in a manner similar to a _regularly mapped_ `Column`. With this technique, the _attribute_ is __loaded along with all other column-mapped attributes at load time__. This is in some cases an _advantage_ over the usage of hybrids, as the value can be loaded up front at the same time as the parent row of the object, particularly if the expression is one which links to other tables (typically as a _correlated subquery_) to access data that wouldn't normally be available on an already loaded object.\n",
    "\n",
    "_Disadvantages_ to using `column_property()` for SQL expressions include that the __expression must be compatible with the SELECT statement emitted__ for the class as a whole, and there are also _some configurational quirks_ which can occur when using `column_property()` from _declarative mixins_."
   ]
  },
  {
   "cell_type": "code",
   "execution_count": 1,
   "metadata": {},
   "outputs": [],
   "source": [
    "from sqlalchemy import (\n",
    "    Column, ForeignKey, Integer, String, Table,\n",
    "    select, func, inspect, and_,\n",
    ")\n",
    "from sqlalchemy.orm import column_property, registry\n",
    "from sqlalchemy.ext.declarative import declarative_base"
   ]
  },
  {
   "cell_type": "code",
   "execution_count": 2,
   "metadata": {},
   "outputs": [],
   "source": [
    "Base = declarative_base()\n",
    "reg = registry()"
   ]
  },
  {
   "cell_type": "code",
   "execution_count": 3,
   "metadata": {},
   "outputs": [],
   "source": [
    "class SimpleUser(Base):\n",
    "    __tablename__ = \"simple_user\"\n",
    "    \n",
    "    id = Column(Integer, primary_key=True)\n",
    "    firstname = Column(String(50))\n",
    "    lastname = Column(String(50))\n",
    "    fullname = column_property(firstname + \" \" + lastname)"
   ]
  },
  {
   "cell_type": "markdown",
   "metadata": {},
   "source": [
    "_Correlated subqueries_ may be used as well. Below we use the `select()` construct to create a `ScalarSelect`, representing a __column-oriented `SELECT` statement__, that _links together the count_ of `Address` objects available for a particular `User`."
   ]
  },
  {
   "cell_type": "code",
   "execution_count": 4,
   "metadata": {},
   "outputs": [],
   "source": [
    "class Address(Base):\n",
    "    __tablename__ = \"address\"\n",
    "    \n",
    "    id = Column(Integer, primary_key=True)\n",
    "    user_id = Column(Integer, ForeignKey(\"user.id\"))"
   ]
  },
  {
   "cell_type": "code",
   "execution_count": 5,
   "metadata": {},
   "outputs": [],
   "source": [
    "class User(Base):\n",
    "    __tablename__ = \"user\"\n",
    "    \n",
    "    id = Column(Integer, primary_key=True)\n",
    "    address_count = column_property(\n",
    "        select(func.count(Address.id)).\n",
    "        where(Address.user_id == id).\n",
    "        correlate_except(Address).\n",
    "        scalar_subquery()\n",
    "    )"
   ]
  },
  {
   "cell_type": "markdown",
   "metadata": {},
   "source": [
    "In the above example, we define a `ScalarSelect()` construct like the following:\n",
    "\n",
    "```\n",
    "stmt = (\n",
    "    select(func.count(Address.id))\n",
    "    .where(Address.user_id == id)\n",
    "    .correlate_except(Address)\n",
    "    .scalar_subquery()\n",
    ")\n",
    "```\n",
    "\n",
    "Above, we first use `select()` to create a `Select` construct, which we then __convert into a scalar subquery__ using the `Select.scalar_subquery()` method, indicating our intent to use this `Select` statement in a _column expression context_.\n",
    "\n",
    "Within the `Select` itself, we select the _count_ of `Address.id` rows where the `Address.user_id` column is __equated to id__, which in the context of the `User` class is the `Column` named _id_ (note that _id_ is also the name of a Python built in function, which is not what we want to use here - if we were outside of the `User` class definition, we'd use User.id).\n",
    "\n",
    "The `Select.correlate_except()` method indicates that each element in the `FROM` clause of this `select()` __may be omitted from the `FROM` list__ (that is, _correlated_ to the __enclosing `SELECT` statement__ against `User`) except for the one corresponding to `Address`. This __isn't strictly necessary__, but _prevents_ `Address` from __being inadvertently omitted__ from the `FROM` list in the case of a _long string of joins_ between `User` and `Address` tables where `SELECT` statements against `Address` are _nested_.\n",
    "\n",
    "If import issues prevent the `column_property()` from being _defined inline_ with the class, it __can be assigned to the class after both are configured__. When _using mappings_ that make use of a `declarative_base()` base class, this _attribute assignment_ has the effect of calling `Mapper.add_property()` to add an additional property after the fact.\n",
    "\n",
    "```\n",
    "# only works if a declarative base class is in use\n",
    "User.address_count = column_property(\n",
    "    select(func.count(Address.id)).where(Address.user_id == User.id).scalar_subquery()\n",
    ")\n",
    "```\n",
    "\n",
    "When using _mapping styles_ that __don't use__ `declarative_base()`, such as the `registry.mapped()` decorator, the `Mapper.add_property()` method __may be invoked explicitly__ on the underlying `Mapper` object, which can be obtained using `inspect()`."
   ]
  },
  {
   "cell_type": "code",
   "execution_count": 6,
   "metadata": {},
   "outputs": [],
   "source": [
    "class MappedAddress(Base):\n",
    "    __tablename__ = \"mapped_address\"\n",
    "    \n",
    "    id = Column(Integer, primary_key=True)\n",
    "    user_id = Column(Integer, ForeignKey(\"mapped_user.id\"))"
   ]
  },
  {
   "cell_type": "code",
   "execution_count": 7,
   "metadata": {},
   "outputs": [],
   "source": [
    "@reg.mapped\n",
    "class MappedUser:\n",
    "    __tablename__ = \"mapped_user\"\n",
    "    \n",
    "    id = Column(Integer, primary_key=True)\n",
    "    firstname = Column(String(50))\n",
    "    lastname = Column(String(50))"
   ]
  },
  {
   "cell_type": "code",
   "execution_count": 8,
   "metadata": {},
   "outputs": [],
   "source": [
    "inspect(MappedUser).add_property(\n",
    "    \"address_count\", column_property(\n",
    "        select(func.count(MappedAddress.id)).\n",
    "        where(MappedAddress.user_id == MappedUser.id).\n",
    "        scalar_subquery()\n",
    "    )\n",
    ")"
   ]
  },
  {
   "cell_type": "markdown",
   "metadata": {},
   "source": [
    "For a `column_property()` that refers to columns linked from a _many-to-many relationship_, use `and_()` to __join the fields of the association table__ to both tables in a _relationship_."
   ]
  },
  {
   "cell_type": "code",
   "execution_count": 9,
   "metadata": {},
   "outputs": [],
   "source": [
    "books = Table(\n",
    "    \"books\",\n",
    "    Base.metadata,\n",
    "    Column(\"id\", Integer, primary_key=True),\n",
    "    Column(\"name\", String),\n",
    ")"
   ]
  },
  {
   "cell_type": "code",
   "execution_count": 10,
   "metadata": {},
   "outputs": [],
   "source": [
    "authors = Table(\n",
    "    \"authors\",\n",
    "    Base.metadata,\n",
    "    Column(\"id\", Integer, primary_key=True),\n",
    "    Column(\"name\", String),\n",
    ")"
   ]
  },
  {
   "cell_type": "code",
   "execution_count": 11,
   "metadata": {},
   "outputs": [],
   "source": [
    "book_authors = Table(\n",
    "    \"book_authors\",\n",
    "    Base.metadata,\n",
    "    Column(\"author_id\", Integer, ForeignKey(\"authors.id\")),\n",
    "    Column(\"book_id\", Integer, ForeignKey(\"books.id\")),\n",
    ")"
   ]
  },
  {
   "cell_type": "code",
   "execution_count": 12,
   "metadata": {},
   "outputs": [],
   "source": [
    "class Author(Base):\n",
    "    __table__ = authors\n",
    "    \n",
    "    book_count = column_property(\n",
    "        select(func.count(books.c.id)).\n",
    "        where(\n",
    "            and_(\n",
    "                book_authors.c.author_id == authors.c.id,\n",
    "                book_authors.c.book_id == books.c.id,\n",
    "            )\n",
    "        ).scalar_subquery()\n",
    "    )"
   ]
  },
  {
   "cell_type": "markdown",
   "metadata": {},
   "source": [
    "##### Composing from Column Properties at Mapping Time\n",
    "\n",
    "It is possible to create _mappings_ that __combine multiple `ColumnProperty` objects__ together. The `ColumnProperty` will be interpreted as a SQL expression when used in a _Core expression context_, provided that it is targeted by an existing expression object; this works by the _Core_ detecting that the object has a `__clause_element__()` method which returns a SQL expression. However, if the `ColumnProperty` is used as a _lead object_ in an expression where there is __no other Core SQL expression object to target it__, the `ColumnProperty.expression` attribute will __return the underlying SQL expression__ so that it can be used to _build SQL expressions consistently_. Below, the `File` class contains an attribute `File.path` that _concatenates a string token_ to the `File.filename` attribute, which is itself a `ColumnProperty`."
   ]
  },
  {
   "cell_type": "code",
   "execution_count": 13,
   "metadata": {},
   "outputs": [],
   "source": [
    "class File(Base):\n",
    "    __tablename__ = \"files\"\n",
    "    \n",
    "    id = Column(Integer, primary_key=True)\n",
    "    name = Column(String(64))\n",
    "    extension = Column(String(8))\n",
    "    filename = column_property(name + \".\" + extension)\n",
    "    path = column_property(\"C:/\" + filename.expression)"
   ]
  },
  {
   "cell_type": "markdown",
   "metadata": {},
   "source": [
    "When the `File` class is used in expressions normally, the attributes assigned to _filename_ and _path_ are __usable directly__. The use of the `ColumnProperty.expression` attribute is __only necessary when using the `ColumnProperty` directly__ within the mapping definition.\n",
    "\n",
    "```\n",
    "q = session.query(File.path).filter(File.filename == \"foo.txt\")\n",
    "```"
   ]
  },
  {
   "cell_type": "code",
   "execution_count": null,
   "metadata": {},
   "outputs": [],
   "source": []
  }
 ],
 "metadata": {
  "kernelspec": {
   "display_name": "Python 3.9.6 ('sql-env': venv)",
   "language": "python",
   "name": "python3"
  },
  "language_info": {
   "codemirror_mode": {
    "name": "ipython",
    "version": 3
   },
   "file_extension": ".py",
   "mimetype": "text/x-python",
   "name": "python",
   "nbconvert_exporter": "python",
   "pygments_lexer": "ipython3",
   "version": "3.9.6"
  },
  "orig_nbformat": 4,
  "vscode": {
   "interpreter": {
    "hash": "3b00ed0d5d9853c9f0267ee6e89091ab706130aa0b00cb1356a08ef47194a158"
   }
  }
 },
 "nbformat": 4,
 "nbformat_minor": 2
}
