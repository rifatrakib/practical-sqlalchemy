{
 "cells": [
  {
   "cell_type": "markdown",
   "metadata": {},
   "source": [
    "#### Query-time SQL expressions as mapped attributes\n",
    "\n",
    "When using `Session.query()`, we have the __option to specify__ _not just mapped entities_ but _ad-hoc SQL expressions_ as well. Suppose if a `class A` had _integer_ attributes `.x` and `.y`, we could query for A objects, and additionally the _sum of .x and .y_, as follows\n",
    "\n",
    "```\n",
    "q = session.query(A, A.x + A.y)\n",
    "```\n",
    "\n",
    "The above query returns tuples of the form (`A object`, `integer`).\n",
    "\n",
    "An option exists which can apply the _ad-hoc_ `A.x + A.y` _expression_ to the returned A objects instead of as a separate tuple entry; this is the `with_expression()` query option in conjunction with the `query_expression()` attribute mapping. The class is __mapped to include a placeholder attribute__ where any particular SQL expression may be applied."
   ]
  },
  {
   "cell_type": "code",
   "execution_count": 5,
   "metadata": {},
   "outputs": [],
   "source": [
    "from sqlalchemy import Column, Integer\n",
    "from sqlalchemy.orm import declarative_base, query_expression"
   ]
  },
  {
   "cell_type": "code",
   "execution_count": 2,
   "metadata": {},
   "outputs": [],
   "source": [
    "Base = declarative_base()"
   ]
  },
  {
   "cell_type": "code",
   "execution_count": 3,
   "metadata": {},
   "outputs": [],
   "source": [
    "class A(Base):\n",
    "    __tablename__ = \"a\"\n",
    "    \n",
    "    id = Column(Integer, primary_key=True)\n",
    "    x = Column(Integer)\n",
    "    y = Column(Integer)\n",
    "    \n",
    "    expr = query_expression()"
   ]
  },
  {
   "cell_type": "markdown",
   "metadata": {},
   "source": [
    "We can then query for objects of type `A`, applying an _arbitrary SQL expression_ to be populated into `A.expr`.\n",
    "\n",
    "```\n",
    "q = session.query(A).options(with_expression(A.expr, A.x + A.y))\n",
    "```\n",
    "\n",
    "The `query_expression()` mapping has these caveats:\n",
    "\n",
    "* On an object where `query_expression()` were _not used to populate the attribute_, the attribute on an object instance will have the value `None`, unless the `query_expression.default_expr` parameter is set to an alternate SQL expression.\n",
    "\n",
    "* The `query_expression` value __does not populate on an object that is already loaded__. That is, this will not work:\n",
    "\n",
    "    ```\n",
    "    obj = session.query(A).first()\n",
    "    obj = session.query(A).options(with_expression(A.expr, some_expr)).first()\n",
    "    ```\n",
    "\n",
    "To ensure the attribute is _re-loaded_, use `Query.populate_existing()`:\n",
    "\n",
    "    ```\n",
    "    obj = (\n",
    "        session.query(A)\n",
    "        .populate_existing()\n",
    "        .options(with_expression(A.expr, some_expr))\n",
    "        .first()\n",
    "    )\n",
    "    ```\n",
    "\n",
    "* The `query_expression` value __does not refresh when the object is expired__. Once the object is expired, either via `Session.expire()` or via the `expire_on_commit` behavior of `Session.commit()`, the _value is removed from the attribute_ and will _return None_ on subsequent access. Only by running a _new_ `Query` that touches the object which includes a new `with_expression()` directive will the attribute be set to a _non-None value_.\n",
    "\n",
    "* The mapped attribute currently __cannot be applied to other parts of the query__, such as the `WHERE` clause, the `ORDER BY` clause, and make use of the _ad-hoc expression_; that is, this won't work:\n",
    "\n",
    "    ```\n",
    "    # won't work\n",
    "    q = (\n",
    "        session.query(A)\n",
    "        .options(with_expression(A.expr, A.x + A.y))\n",
    "        .filter(A.expr > 5)\n",
    "        .order_by(A.expr)\n",
    "    )\n",
    "    ```\n",
    "\n",
    "The `A.expr` expression will resolve to `NULL` in the above `WHERE` clause and `ORDER BY` clause. To use the expression throughout the query, assign to a variable and use that:\n",
    "\n",
    "    ```\n",
    "    a_expr = A.x + A.y\n",
    "    q = (\n",
    "        session.query(A)\n",
    "        .options(with_expression(A.expr, a_expr))\n",
    "        .filter(a_expr > 5)\n",
    "        .order_by(a_expr)\n",
    "    )\n",
    "    ```"
   ]
  },
  {
   "cell_type": "code",
   "execution_count": null,
   "metadata": {},
   "outputs": [],
   "source": []
  }
 ],
 "metadata": {
  "kernelspec": {
   "display_name": "Python 3.9.6 ('sql-env': venv)",
   "language": "python",
   "name": "python3"
  },
  "language_info": {
   "codemirror_mode": {
    "name": "ipython",
    "version": 3
   },
   "file_extension": ".py",
   "mimetype": "text/x-python",
   "name": "python",
   "nbconvert_exporter": "python",
   "pygments_lexer": "ipython3",
   "version": "3.9.6"
  },
  "orig_nbformat": 4,
  "vscode": {
   "interpreter": {
    "hash": "3b00ed0d5d9853c9f0267ee6e89091ab706130aa0b00cb1356a08ef47194a158"
   }
  }
 },
 "nbformat": 4,
 "nbformat_minor": 2
}
