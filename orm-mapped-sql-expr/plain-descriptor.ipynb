{
 "cells": [
  {
   "cell_type": "markdown",
   "metadata": {},
   "source": [
    "#### Using a plain descriptor\n",
    "\n",
    "In cases where an SQL query more elaborate than what `column_property()` or `hybrid_property` can provide must be emitted, a __regular Python function accessed as an attribute__ can be used, assuming the expression __only needs to be available__ on an _already-loaded instance_. The function is decorated with Python's own `@property` decorator __to mark it as a read-only attribute__. Within the function, `object_session()` is used to _locate_ the `Session` corresponding to the current object, which is then used to emit a query."
   ]
  },
  {
   "cell_type": "code",
   "execution_count": 3,
   "metadata": {},
   "outputs": [],
   "source": [
    "from sqlalchemy import Column, ForeignKey, Integer, String, select, func\n",
    "from sqlalchemy.orm import declarative_base, object_session"
   ]
  },
  {
   "cell_type": "code",
   "execution_count": 2,
   "metadata": {},
   "outputs": [],
   "source": [
    "Base = declarative_base()"
   ]
  },
  {
   "cell_type": "code",
   "execution_count": null,
   "metadata": {},
   "outputs": [],
   "source": [
    "class Address(Base):\n",
    "    __tablename__ = \"address\"\n",
    "    \n",
    "    id = Column(Integer, primary_key=True)\n",
    "    user_id = Column(Integer, ForeignKey(\"user.id\"))"
   ]
  },
  {
   "cell_type": "code",
   "execution_count": 4,
   "metadata": {},
   "outputs": [],
   "source": [
    "class User(Base):\n",
    "    __tablename__ = \"user\"\n",
    "    \n",
    "    id = Column(Integer, primary_key=True)\n",
    "    firstname = Column(String(50))\n",
    "    lastname = Column(String(50))\n",
    "    \n",
    "    @property\n",
    "    def address_count(self):\n",
    "        return object_session(self).scalar(\n",
    "            select(func.count(Address.id)).\n",
    "            where(Address.user_id == self.id)\n",
    "        )"
   ]
  },
  {
   "cell_type": "markdown",
   "metadata": {},
   "source": [
    "The _plain descriptor approach_ is useful as a __last resort__, but is __less performant__ in the usual case than _both the hybrid and column property approaches_, in that it needs to emit a SQL query upon each access."
   ]
  },
  {
   "cell_type": "code",
   "execution_count": null,
   "metadata": {},
   "outputs": [],
   "source": []
  }
 ],
 "metadata": {
  "kernelspec": {
   "display_name": "Python 3.9.6 ('sql-env': venv)",
   "language": "python",
   "name": "python3"
  },
  "language_info": {
   "codemirror_mode": {
    "name": "ipython",
    "version": 3
   },
   "file_extension": ".py",
   "mimetype": "text/x-python",
   "name": "python",
   "nbconvert_exporter": "python",
   "pygments_lexer": "ipython3",
   "version": "3.9.6"
  },
  "orig_nbformat": 4,
  "vscode": {
   "interpreter": {
    "hash": "3b00ed0d5d9853c9f0267ee6e89091ab706130aa0b00cb1356a08ef47194a158"
   }
  }
 },
 "nbformat": 4,
 "nbformat_minor": 2
}
