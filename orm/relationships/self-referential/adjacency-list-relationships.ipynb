{
 "cells": [
  {
   "attachments": {},
   "cell_type": "markdown",
   "metadata": {},
   "source": [
    "#### Adjacency List Relationships\n",
    "\n",
    "The _adjacency list pattern_ is a common _relational pattern_ whereby a table contains a __foreign key reference to itself__, in other words is a `self referential relationship`. This is the most common way to represent _hierarchical data in flat tables_. Other methods include _nested sets_, sometimes called __\"modified preorder\"__, as well as _materialized path_. Despite the appeal that _modified preorder_ has when evaluated for its fluency within SQL queries, the _adjacency list model_ is probably the __most appropriate pattern for the large majority of hierarchical storage needs__, for reasons of _concurrency_, _reduced complexity_, and that _modified preorder has little advantage_ over an application which can __fully load subtrees into the application space__."
   ]
  },
  {
   "cell_type": "code",
   "execution_count": 1,
   "metadata": {},
   "outputs": [],
   "source": [
    "from sqlalchemy import Column, ForeignKey, Integer, String\n",
    "from sqlalchemy.orm import backref, declarative_base, relationship"
   ]
  },
  {
   "cell_type": "code",
   "execution_count": 2,
   "metadata": {},
   "outputs": [],
   "source": [
    "Base = declarative_base()"
   ]
  },
  {
   "cell_type": "code",
   "execution_count": 3,
   "metadata": {},
   "outputs": [],
   "source": [
    "class Node(Base):\n",
    "    __tablename__ = \"node\"\n",
    "    id = Column(Integer, primary_key=True)\n",
    "    parent_id = Column(Integer, ForeignKey(\"node.id\"))\n",
    "    data = Column(String(50))\n",
    "    children = relationship(\"Node\")"
   ]
  },
  {
   "attachments": {},
   "cell_type": "markdown",
   "metadata": {},
   "source": [
    "With this structure, a graph such as the following:\n",
    "\n",
    "```\n",
    "root --+---> child1\n",
    "       +---> child2 --+--> subchild1\n",
    "       |              +--> subchild2\n",
    "       +---> child3\n",
    "```\n",
    "\n",
    "Would be represented with data such as:\n",
    "\n",
    "```\n",
    "id       parent_id     data\n",
    "---      -------       ----\n",
    "1        NULL          root\n",
    "2        1             child1\n",
    "3        1             child2\n",
    "4        3             subchild1\n",
    "5        3             subchild2\n",
    "6        1             child3\n",
    "```\n",
    "\n",
    "The `relationship()` configuration here works in the same way as a __`\"normal\"` one-to-many relationship__, with the exception that the `\"direction\"`, i.e. whether the _relationship_ is _one-to-many_ or _many-to-one_, is assumed __by default__ to be _one-to-many_. To establish the relationship as _many-to-one_, an __extra directive is added__ known as `relationship.remote_side`, which is a _Column_ or _collection of Column_ objects that indicate those which should be considered to be `\"remote\"`."
   ]
  },
  {
   "cell_type": "code",
   "execution_count": 4,
   "metadata": {},
   "outputs": [],
   "source": [
    "class NodeRemote(Base):\n",
    "    __tablename__ = \"node_remote\"\n",
    "    id = Column(Integer, primary_key=True)\n",
    "    parent_id = Column(Integer, ForeignKey(\"node_remote.id\"))\n",
    "    data = Column(String(50))\n",
    "    parent = relationship(\"NodeRemote\", remote_side=[id])"
   ]
  },
  {
   "attachments": {},
   "cell_type": "markdown",
   "metadata": {},
   "source": [
    "Where above, the _id_ column is applied as the `relationship.remote_side` of the __parent__ `relationship()`, thus establishing *parent_id* as the `\"local\"` side, and the _relationship_ then behaves as a _many-to-one_.\n",
    "\n",
    "As always, __both directions can be combined into a bidirectional relationship__ using the `backref()` function."
   ]
  },
  {
   "cell_type": "code",
   "execution_count": 5,
   "metadata": {},
   "outputs": [],
   "source": [
    "class NodeBidirect(Base):\n",
    "    __tablename__ = \"node_bidirect\"\n",
    "    id = Column(Integer, primary_key=True)\n",
    "    parent_id = Column(Integer, ForeignKey(\"node_bidirect.id\"))\n",
    "    data = Column(String(50))\n",
    "    children = relationship(\"NodeBidirect\", backref=backref(\"parent\", remote_side=[id]))"
   ]
  },
  {
   "cell_type": "code",
   "execution_count": null,
   "metadata": {},
   "outputs": [],
   "source": []
  }
 ],
 "metadata": {
  "kernelspec": {
   "display_name": "sql-env",
   "language": "python",
   "name": "python3"
  },
  "language_info": {
   "codemirror_mode": {
    "name": "ipython",
    "version": 3
   },
   "file_extension": ".py",
   "mimetype": "text/x-python",
   "name": "python",
   "nbconvert_exporter": "python",
   "pygments_lexer": "ipython3",
   "version": "3.9.6"
  },
  "orig_nbformat": 4,
  "vscode": {
   "interpreter": {
    "hash": "3b00ed0d5d9853c9f0267ee6e89091ab706130aa0b00cb1356a08ef47194a158"
   }
  }
 },
 "nbformat": 4,
 "nbformat_minor": 2
}
