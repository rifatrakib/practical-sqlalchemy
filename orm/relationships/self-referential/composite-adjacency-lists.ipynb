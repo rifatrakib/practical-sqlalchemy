{
 "cells": [
  {
   "attachments": {},
   "cell_type": "markdown",
   "metadata": {},
   "source": [
    "#### Composite Adjacency Lists\n",
    "\n",
    "A _sub-category_ of the _adjacency list relationship_ is the rare case where a __particular column is present__ on both the `\"local\"` and `\"remote\"` side of the _join condition_. An example is the _Folder_ class below; using a `composite primary key`, the *account_id* column __refers to itself__, to indicate __sub folders which are within the same account as that of the parent__; while *folder_id* refers to a __specific folder within that account__."
   ]
  },
  {
   "cell_type": "code",
   "execution_count": 1,
   "metadata": {},
   "outputs": [],
   "source": [
    "from sqlalchemy import Column, ForeignKeyConstraint, Integer, String\n",
    "from sqlalchemy.orm import backref, declarative_base, relationship"
   ]
  },
  {
   "cell_type": "code",
   "execution_count": 2,
   "metadata": {},
   "outputs": [],
   "source": [
    "Base = declarative_base()"
   ]
  },
  {
   "cell_type": "code",
   "execution_count": 3,
   "metadata": {},
   "outputs": [],
   "source": [
    "class Folder(Base):\n",
    "    __tablename__ = \"folder\"\n",
    "    __table_args__ = (\n",
    "        ForeignKeyConstraint(\n",
    "            [\"account_id\", \"parent_id\"],\n",
    "            [\"folder.account_id\", \"folder.folder_id\"],\n",
    "        ),\n",
    "    )\n",
    "    \n",
    "    account_id = Column(Integer, primary_key=True)\n",
    "    folder_id = Column(Integer, primary_key=True)\n",
    "    parent_id = Column(Integer)\n",
    "    name = Column(String)\n",
    "    \n",
    "    parent_folder = relationship(\n",
    "        \"Folder\", backref=\"child_folders\",\n",
    "        remote_side=[account_id, folder_id],\n",
    "    )"
   ]
  },
  {
   "attachments": {},
   "cell_type": "markdown",
   "metadata": {},
   "source": [
    "Above, we pass *account_id* into the `relationship.remote_side` list. `relationship()` recognizes that the *account_id* column here is __on both sides__, and aligns the `\"remote\"` column along with the *folder_id* column, which it __recognizes as uniquely present__ on the `\"remote\"` side."
   ]
  },
  {
   "cell_type": "code",
   "execution_count": null,
   "metadata": {},
   "outputs": [],
   "source": []
  }
 ],
 "metadata": {
  "kernelspec": {
   "display_name": "sql-env",
   "language": "python",
   "name": "python3"
  },
  "language_info": {
   "codemirror_mode": {
    "name": "ipython",
    "version": 3
   },
   "file_extension": ".py",
   "mimetype": "text/x-python",
   "name": "python",
   "nbconvert_exporter": "python",
   "pygments_lexer": "ipython3",
   "version": "3.9.6"
  },
  "orig_nbformat": 4,
  "vscode": {
   "interpreter": {
    "hash": "3b00ed0d5d9853c9f0267ee6e89091ab706130aa0b00cb1356a08ef47194a158"
   }
  }
 },
 "nbformat": 4,
 "nbformat_minor": 2
}
