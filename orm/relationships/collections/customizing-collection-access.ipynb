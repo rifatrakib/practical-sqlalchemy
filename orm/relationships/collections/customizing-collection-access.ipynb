{
 "cells": [
  {
   "attachments": {},
   "cell_type": "markdown",
   "metadata": {},
   "source": [
    "#### Customizing Collection Access\n",
    "\n",
    "Mapping a _one-to-many_ or _many-to-many_ relationship results in a _collection of values accessible through an attribute_ on the parent instance. _By default_, this _collection_ is a `list`."
   ]
  },
  {
   "cell_type": "code",
   "execution_count": 1,
   "metadata": {},
   "outputs": [],
   "source": [
    "from sqlalchemy import Column, ForeignKey, Integer, String, event\n",
    "from sqlalchemy.orm import declarative_base, relationship, attributes\n",
    "from sqlalchemy.orm.collections import (\n",
    "    attribute_mapped_collection, column_mapped_collection, mapped_collection\n",
    ")"
   ]
  },
  {
   "cell_type": "code",
   "execution_count": 2,
   "metadata": {},
   "outputs": [],
   "source": [
    "Base = declarative_base()"
   ]
  },
  {
   "cell_type": "code",
   "execution_count": 3,
   "metadata": {},
   "outputs": [],
   "source": [
    "class ParentClass(Base):\n",
    "    __tablename__ = \"some_table\"\n",
    "    id = Column(Integer, primary_key=True)\n",
    "    children = relationship(\"ChildClass\", lazy=\"noload\", collection_class=set)"
   ]
  },
  {
   "cell_type": "code",
   "execution_count": 4,
   "metadata": {},
   "outputs": [],
   "source": [
    "class ChildClass(Base):\n",
    "    __tablename__ = \"other_table\"\n",
    "    id = Column(Integer, primary_key=True)\n",
    "    parent_id = Column(Integer, ForeignKey(\"some_table.id\"))"
   ]
  },
  {
   "attachments": {},
   "cell_type": "markdown",
   "metadata": {},
   "source": [
    "_Collections_ are __not limited to lists__. _Sets_, _mutable sequences_ and _almost any other Python object that can act as a container_ can be used in place of the default list, by specifying the `relationship.collection_class` option on `relationship()`."
   ]
  },
  {
   "attachments": {},
   "cell_type": "markdown",
   "metadata": {},
   "source": [
    "##### Dictionary Collections\n",
    "\n",
    "A little _extra detail_ is needed when using a `dictionary` as a collection. This because _objects are always loaded from the database as lists_, and a __key-generation strategy__ must be available to _populate the dictionary correctly_. The `attribute_mapped_collection()` function is by far the _most common way_ to achieve a simple dictionary collection. It produces a _dictionary class_ that will _apply a particular attribute of the mapped class as a key_. Below we map an _Item_ class containing a dictionary of _Note_ items keyed to the _Note.keyword_ attribute."
   ]
  },
  {
   "cell_type": "code",
   "execution_count": 5,
   "metadata": {},
   "outputs": [],
   "source": [
    "class Item(Base):\n",
    "    __tablename__ = \"item\"\n",
    "    id = Column(Integer, primary_key=True)\n",
    "    notes = relationship(\n",
    "        \"Note\",\n",
    "        collection_class=attribute_mapped_collection(\"keyword\"),\n",
    "        cascade=\"all, delete-orphan\",\n",
    "    )"
   ]
  },
  {
   "cell_type": "code",
   "execution_count": 6,
   "metadata": {},
   "outputs": [],
   "source": [
    "class Note(Base):\n",
    "    __tablename__ = \"note\"\n",
    "    id = Column(Integer, primary_key=True)\n",
    "    item_id = Column(Integer, ForeignKey(\"item.id\"), nullable=False)\n",
    "    keyword = Column(String)\n",
    "    text = Column(String)\n",
    "    \n",
    "    def __init__(self, keyword, text):\n",
    "        self.keyword = keyword\n",
    "        self.text = text"
   ]
  },
  {
   "attachments": {},
   "cell_type": "markdown",
   "metadata": {},
   "source": [
    "_Item.notes_ is then a dictionary:\n",
    "\n",
    "```\n",
    "item = Item()\n",
    "item.notes[\"a\"] = Note(\"a\", \"atext\")\n",
    "item.notes.items()\n",
    "```\n",
    "\n",
    "`attribute_mapped_collection()` will ensure that the _.keyword_ attribute of each _Note_ complies with the key in the dictionary. Such as, when assigning to _Item.notes_, the dictionary key we supply must match that of the actual _Note_ object:\n",
    "\n",
    "```\n",
    "item = Item()\n",
    "item.notes = {\n",
    "    \"a\": Note(\"a\", \"atext\"),\n",
    "    \"b\": Note(\"b\", \"btext\"),\n",
    "}\n",
    "```\n",
    "\n",
    "The attribute which `attribute_mapped_collection()` uses as a key __does not need to be mapped at all__! Using a regular Python `@property` __allows virtually any detail or combination of details__ about the object to be used as the key, as below when we establish it as a tuple of _Note.keyword_ and the first ten letters of the _Note.text_ field."
   ]
  },
  {
   "cell_type": "code",
   "execution_count": 7,
   "metadata": {},
   "outputs": [],
   "source": [
    "class ItemBackref(Base):\n",
    "    __tablename__ = \"item_backref\"\n",
    "    id = Column(Integer, primary_key=True)\n",
    "    notes = relationship(\n",
    "        \"NoteBackref\",\n",
    "        collection_class=attribute_mapped_collection(\"note_key\"),\n",
    "        backref=\"item\",\n",
    "        cascade=\"all, delete-orphan\",\n",
    "    )"
   ]
  },
  {
   "cell_type": "code",
   "execution_count": 8,
   "metadata": {},
   "outputs": [],
   "source": [
    "class NoteBackref(Base):\n",
    "    __tablename__ = \"note_backref\"\n",
    "    id = Column(Integer, primary_key=True)\n",
    "    item_id = Column(Integer, ForeignKey(\"item_backref.id\"), nullable=False)\n",
    "    keyword = Column(String)\n",
    "    text = Column(String)\n",
    "    \n",
    "    @property\n",
    "    def note_key(self):\n",
    "        return (self.keyword, self.text[0:10])\n",
    "    \n",
    "    def __init__(self, keyword, text):\n",
    "        self.keyword = keyword\n",
    "        self.text = text"
   ]
  },
  {
   "attachments": {},
   "cell_type": "markdown",
   "metadata": {},
   "source": [
    "Above we added a _NoteBackref.item_ backref. Assigning to this __reverse relationship__, the _NoteBackref_ is added to the _ItemBackref.notes_ dictionary and the _key is generated_ for us __automatically__.\n",
    "\n",
    "```\n",
    "item = ItemBackref()\n",
    "n1 = NoteBackref(\"a\", \"atext\")\n",
    "n1.item = item\n",
    "item.notes\n",
    "```\n",
    "\n",
    "Other _built-in_ dictionary types include `column_mapped_collection()`, which is almost like `attribute_mapped_collection()` except given the _Column_ object __directly__."
   ]
  },
  {
   "cell_type": "code",
   "execution_count": 9,
   "metadata": {},
   "outputs": [],
   "source": [
    "class ItemColumned(Base):\n",
    "    __tablename__ = \"item_columned\"\n",
    "    id = Column(Integer, primary_key=True)\n",
    "    notes = relationship(\n",
    "        \"Note\",\n",
    "        collection_class=column_mapped_collection(Note.__table__.c.keyword),\n",
    "        cascade=\"all, delete-orphan\",\n",
    "    )"
   ]
  },
  {
   "attachments": {},
   "cell_type": "markdown",
   "metadata": {},
   "source": [
    "as well as `mapped_collection()` which is __passed any callable function__. Note that it's usually easier to use `attribute_mapped_collection()` along with a `@property` as mentioned earlier:"
   ]
  },
  {
   "cell_type": "code",
   "execution_count": 10,
   "metadata": {},
   "outputs": [],
   "source": [
    "class ItemMapped(Base):\n",
    "    __tablename__ = \"item_mapped\"\n",
    "    id = Column(Integer, primary_key=True)\n",
    "    notes = relationship(\n",
    "        \"Note\",\n",
    "        collection_class=mapped_collection(lambda note: note.text[0:10]),\n",
    "        cascade=\"all, delete-orphan\",\n",
    "    )"
   ]
  },
  {
   "attachments": {},
   "cell_type": "markdown",
   "metadata": {},
   "source": [
    "_Dictionary mappings_ are often combined with the `\"Association Proxy\"` extension to __produce streamlined dictionary views__."
   ]
  },
  {
   "attachments": {},
   "cell_type": "markdown",
   "metadata": {},
   "source": [
    "##### Dealing with Key Mutations and back-populating for Dictionary collections\n",
    "\n",
    "When using `attribute_mapped_collection()`, the _\"key\"_ for the dictionary is _taken from an attribute_ on the target object. __Changes to this key are not tracked__. This means that the __key must be assigned towards when it is first used__, and if the key changes, the collection will not be mutated. A typical example where this might be an issue is when _relying upon backrefs to populate an attribute mapped collection_."
   ]
  },
  {
   "cell_type": "code",
   "execution_count": 11,
   "metadata": {},
   "outputs": [],
   "source": [
    "class A(Base):\n",
    "    __tablename__ = \"a\"\n",
    "    id = Column(Integer, primary_key=True)\n",
    "    bs = relationship(\n",
    "        \"B\",\n",
    "        collection_class=attribute_mapped_collection(\"data\"),\n",
    "        back_populates=\"a\",\n",
    "    )"
   ]
  },
  {
   "cell_type": "code",
   "execution_count": 12,
   "metadata": {},
   "outputs": [],
   "source": [
    "class B(Base):\n",
    "    __tablename__ = \"b\"\n",
    "    id = Column(Integer, primary_key=True)\n",
    "    a_id = Column(ForeignKey(\"a.id\"))\n",
    "    data = Column(String)\n",
    "    a = relationship(\"A\", back_populates=\"bs\")"
   ]
  },
  {
   "attachments": {},
   "cell_type": "markdown",
   "metadata": {},
   "source": [
    "Above, if we create a _B()_ that refers to a specific _A()_, the _back populates_ will then __add the B() to the A.bs collection__, however if the value of _B.data_ is __not set yet__, the key will be `None`:\n",
    "\n",
    "```\n",
    "a1 = A()\n",
    "b1 = B(a=a1)\n",
    "```\n",
    "\n",
    "Setting _b1.data_ after the fact __does not update the collection__:\n",
    "\n",
    "```\n",
    "b1.data = \"the key\"\n",
    "```\n",
    "\n",
    "This can also be seen if one attempts to _set up B() in the constructor_. The _order of arguments changes the result_:\n",
    "\n",
    "```\n",
    "B(a=a1, data=\"the key\")\n",
    "B(data=\"the key\", a=a1)\n",
    "```\n",
    "\n",
    "If _backrefs_ are being used in this way, __ensure that attributes are populated in the correct order__ using an `__init__` method.\n",
    "\n",
    "An `event handler` such as the following may also be used to __track changes in the collection__ as well."
   ]
  },
  {
   "cell_type": "code",
   "execution_count": 13,
   "metadata": {},
   "outputs": [],
   "source": [
    "@event.listens_for(B.data, \"set\")\n",
    "def set_item(obj, value, previous, initiator):\n",
    "    if obj.a is not None:\n",
    "        previous = None if previous == attributes.NO_VALUE else previous\n",
    "        obj.a.bs[value] = obj\n",
    "        obj.a.bs.pop(previous)"
   ]
  },
  {
   "cell_type": "code",
   "execution_count": null,
   "metadata": {},
   "outputs": [],
   "source": []
  }
 ],
 "metadata": {
  "kernelspec": {
   "display_name": "sql-env",
   "language": "python",
   "name": "python3"
  },
  "language_info": {
   "codemirror_mode": {
    "name": "ipython",
    "version": 3
   },
   "file_extension": ".py",
   "mimetype": "text/x-python",
   "name": "python",
   "nbconvert_exporter": "python",
   "pygments_lexer": "ipython3",
   "version": "3.9.6"
  },
  "orig_nbformat": 4,
  "vscode": {
   "interpreter": {
    "hash": "3b00ed0d5d9853c9f0267ee6e89091ab706130aa0b00cb1356a08ef47194a158"
   }
  }
 },
 "nbformat": 4,
 "nbformat_minor": 2
}
