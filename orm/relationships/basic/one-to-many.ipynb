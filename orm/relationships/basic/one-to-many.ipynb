{
 "cells": [
  {
   "attachments": {},
   "cell_type": "markdown",
   "metadata": {},
   "source": [
    "#### One To Many\n",
    "\n",
    "A _one to many relationship_ places a `foreign key` on the _child table_ referencing the _parent_. `relationship()` is then __specified on the parent__, as referencing a _collection of items_ represented by the child."
   ]
  },
  {
   "cell_type": "code",
   "execution_count": 1,
   "metadata": {},
   "outputs": [],
   "source": [
    "from sqlalchemy import Column, ForeignKey, Integer\n",
    "from sqlalchemy.orm import declarative_base, relationship"
   ]
  },
  {
   "cell_type": "code",
   "execution_count": 2,
   "metadata": {},
   "outputs": [],
   "source": [
    "Base = declarative_base()"
   ]
  },
  {
   "cell_type": "code",
   "execution_count": 3,
   "metadata": {},
   "outputs": [],
   "source": [
    "class Parent(Base):\n",
    "    __tablename__ = \"parent_table\"\n",
    "    id = Column(Integer, primary_key=True)\n",
    "    children = relationship(\"Child\")"
   ]
  },
  {
   "cell_type": "code",
   "execution_count": 4,
   "metadata": {},
   "outputs": [],
   "source": [
    "class Child(Base):\n",
    "    __tablename__ = \"child_table\"\n",
    "    id = Column(Integer, primary_key=True)\n",
    "    parent_id = Column(Integer, ForeignKey(\"parent_table.id\"))"
   ]
  },
  {
   "attachments": {},
   "cell_type": "markdown",
   "metadata": {},
   "source": [
    "To establish a __bidirectional relationship__ in _one-to-many_, where the `\"reverse\"` side is a _many to one_, specify an __additional `relationship()`__ and connect the two using the `relationship.back_populates` parameter."
   ]
  },
  {
   "cell_type": "code",
   "execution_count": 5,
   "metadata": {},
   "outputs": [],
   "source": [
    "class ParentModel(Base):\n",
    "    __tablename__ = \"parents\"\n",
    "    id = Column(Integer, primary_key=True)\n",
    "    children = relationship(\"ChildModel\", back_populates=\"parent\")"
   ]
  },
  {
   "cell_type": "code",
   "execution_count": 6,
   "metadata": {},
   "outputs": [],
   "source": [
    "class ChildModel(Base):\n",
    "    __tablename__ = \"children\"\n",
    "    id = Column(Integer, primary_key=True)\n",
    "    parent_id = Column(Integer, ForeignKey(\"parents.id\"))\n",
    "    parent = relationship(\"ParentModel\", back_populates=\"children\")"
   ]
  },
  {
   "attachments": {},
   "cell_type": "markdown",
   "metadata": {},
   "source": [
    "_ChildModel_ will get a __parent__ attribute with `many-to-one` semantics.\n",
    "\n",
    "_Alternatively_, the `relationship.backref` option may be __used on a single `relationship()`__ instead of using `relationship.back_populates`."
   ]
  },
  {
   "cell_type": "code",
   "execution_count": 7,
   "metadata": {},
   "outputs": [],
   "source": [
    "class ParentTable(Base):\n",
    "    __tablename__ = \"table_parents\"\n",
    "    id = Column(Integer, primary_key=True)\n",
    "    children = relationship(\"ChildModel\", backref=\"parent\")"
   ]
  },
  {
   "attachments": {},
   "cell_type": "markdown",
   "metadata": {},
   "source": [
    "##### Configuring Delete Behavior for One to Many\n",
    "\n",
    "It is often the case that _all Child objects_ should be __deleted__ when their _owning Parent is deleted_. To _configure_ this behavior, the `delete cascade option` described at _delete_ is used. An additional option is that a _Child_ object __can itself be deleted__ when it is _deassociated from its parent_. This behavior is described at `delete-orphan`."
   ]
  },
  {
   "cell_type": "code",
   "execution_count": null,
   "metadata": {},
   "outputs": [],
   "source": []
  }
 ],
 "metadata": {
  "kernelspec": {
   "display_name": "sql-env",
   "language": "python",
   "name": "python3"
  },
  "language_info": {
   "codemirror_mode": {
    "name": "ipython",
    "version": 3
   },
   "file_extension": ".py",
   "mimetype": "text/x-python",
   "name": "python",
   "nbconvert_exporter": "python",
   "pygments_lexer": "ipython3",
   "version": "3.9.6 (tags/v3.9.6:db3ff76, Jun 28 2021, 15:26:21) [MSC v.1929 64 bit (AMD64)]"
  },
  "orig_nbformat": 4,
  "vscode": {
   "interpreter": {
    "hash": "3b00ed0d5d9853c9f0267ee6e89091ab706130aa0b00cb1356a08ef47194a158"
   }
  }
 },
 "nbformat": 4,
 "nbformat_minor": 2
}
