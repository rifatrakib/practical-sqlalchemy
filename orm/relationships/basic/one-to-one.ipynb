{
 "cells": [
  {
   "attachments": {},
   "cell_type": "markdown",
   "metadata": {},
   "source": [
    "#### One To One\n",
    "\n",
    "_One To One_ is essentially a `bidirectional relationship` with a __scalar attribute on both sides__. Within the ORM, _\"one-to-one\"_ is considered as a convention where the ORM expects that __only one related row will exist for any parent row__.\n",
    "\n",
    "The _\"one-to-one\"_ convention is achieved by _applying a value_ of `False` to the `relationship.uselist` parameter of the `relationship()` construct, or in some cases the `backref()` construct, applying it on the _\"one-to-many\"_ or _\"collection\"_ side of a relationship.\n",
    "\n",
    "In the example below we present a _bidirectional relationship_ that includes both `one-to-many (Parent.children)` and a `many-to-one (Child.parent)` relationships."
   ]
  },
  {
   "cell_type": "code",
   "execution_count": 1,
   "metadata": {},
   "outputs": [],
   "source": [
    "from sqlalchemy import Column, ForeignKey, Integer\n",
    "from sqlalchemy.orm import backref, declarative_base, relationship"
   ]
  },
  {
   "cell_type": "code",
   "execution_count": 2,
   "metadata": {},
   "outputs": [],
   "source": [
    "Base = declarative_base()"
   ]
  },
  {
   "cell_type": "code",
   "execution_count": 3,
   "metadata": {},
   "outputs": [],
   "source": [
    "class Parent(Base):\n",
    "    __tablename__ = \"parent_table\"\n",
    "    id = Column(Integer, primary_key=True)\n",
    "    # one-to-many collection\n",
    "    children = relationship(\"Child\", back_populates=\"parent\")"
   ]
  },
  {
   "cell_type": "code",
   "execution_count": 4,
   "metadata": {},
   "outputs": [],
   "source": [
    "class Child(Base):\n",
    "    __tablename__ = \"child_table\"\n",
    "    id = Column(Integer, primary_key=True)\n",
    "    parent_id = Column(Integer, ForeignKey(\"parent_table.id\"))\n",
    "    # many-to-one scalar\n",
    "    parent = relationship(\"Parent\", back_populates=\"children\")"
   ]
  },
  {
   "attachments": {},
   "cell_type": "markdown",
   "metadata": {},
   "source": [
    "Above, `Parent.children` is the _\"one-to-many\"_ side __referring to a collection__, and `Child.parent` is the _\"many-to-one\"_ side __referring to a single object__. To convert this to _\"one-to-one\"_, the _\"one-to-many\"_ or _\"collection\"_ side is __converted into a scalar relationship__ using the `uselist=False` flag, renaming `Parent.children` to `Parent.child` for clarity."
   ]
  },
  {
   "cell_type": "code",
   "execution_count": 5,
   "metadata": {},
   "outputs": [],
   "source": [
    "class ParentModel(Base):\n",
    "    __tablename__ = \"parent\"\n",
    "    id = Column(Integer, primary_key=True)\n",
    "    # previously one-to-many Parent.children is now one-to-one Parent.child\n",
    "    child = relationship(\"ChildModel\", back_populates=\"parent\", uselist=False)"
   ]
  },
  {
   "cell_type": "code",
   "execution_count": 6,
   "metadata": {},
   "outputs": [],
   "source": [
    "class ChildModel(Base):\n",
    "    __tablename__ = \"child\"\n",
    "    id = Column(Integer, primary_key=True)\n",
    "    parent_id = Column(Integer, ForeignKey(\"parent.id\"))\n",
    "    # many-to-one side remains, see tip below\n",
    "    parent = relationship(\"ParentModel\", back_populates=\"child\")"
   ]
  },
  {
   "attachments": {},
   "cell_type": "markdown",
   "metadata": {},
   "source": [
    "Above, when we load a _Parent_ object, the _Parent.child_ attribute will __refer to a single Child object rather than a collection__. If we _replace_ the value of _Parent.child_ with a _new Child object_, the ORM's unit of work process will replace the previous Child row with the new one, setting the previous *child.parent_id* column to `NULL` __by default unless there are specific `cascade behaviors` set up__.\n",
    "\n",
    "> ##### Note\n",
    ">\n",
    "> As mentioned previously, the ORM considers the _\"one-to-one\"_ pattern as a convention, where it _makes the assumption_ that when it loads the _Parent.child_ attribute on a _Parent_ object, it will __get only one row back__. If _more than one row_ is returned, the ORM will __emit a warning__.\n",
    ">\n",
    "> However, the _Child.parent_ side of the above relationship remains as a _\"many-to-one\"_ relationship and is __unchanged__, and there is __no intrinsic system__ within the ORM itself that _prevents more than one Child object to be created against the same Parent during persistence_. Instead, techniques such as `unique constraints` may be used in the actual database schema to _enforce_ this arrangement, where a _unique constraint_ on the *Child.parent_id* column would __ensure__ that _only one Child row may refer to a particular Parent row_ at a time.\n",
    "\n",
    "In the case where the `relationship.backref` parameter is used to define the _\"one-to-many\"_ side, this can be converted to the _\"one-to-one\"_ convention using the `backref()` function which allows the relationship generated by the `relationship.backref` parameter to __receive custom parameters__, in this case the _uselist_ parameter."
   ]
  },
  {
   "cell_type": "code",
   "execution_count": 7,
   "metadata": {},
   "outputs": [],
   "source": [
    "class ParentTable(Base):\n",
    "    __tablename__ = \"table_parent\"\n",
    "    id = Column(Integer, primary_key=True)"
   ]
  },
  {
   "cell_type": "code",
   "execution_count": 8,
   "metadata": {},
   "outputs": [],
   "source": [
    "class ChildTable(Base):\n",
    "    __tablename__ = \"table_child\"\n",
    "    id = Column(Integer, primary_key=True)\n",
    "    parent_id = Column(Integer, ForeignKey(\"table_parent.id\"))\n",
    "    parent = relationship(\"ParentTable\", backref=backref(\"child\", uselist=False))"
   ]
  },
  {
   "cell_type": "code",
   "execution_count": null,
   "metadata": {},
   "outputs": [],
   "source": []
  }
 ],
 "metadata": {
  "kernelspec": {
   "display_name": "sql-env",
   "language": "python",
   "name": "python3"
  },
  "language_info": {
   "codemirror_mode": {
    "name": "ipython",
    "version": 3
   },
   "file_extension": ".py",
   "mimetype": "text/x-python",
   "name": "python",
   "nbconvert_exporter": "python",
   "pygments_lexer": "ipython3",
   "version": "3.9.6"
  },
  "orig_nbformat": 4,
  "vscode": {
   "interpreter": {
    "hash": "3b00ed0d5d9853c9f0267ee6e89091ab706130aa0b00cb1356a08ef47194a158"
   }
  }
 },
 "nbformat": 4,
 "nbformat_minor": 2
}
