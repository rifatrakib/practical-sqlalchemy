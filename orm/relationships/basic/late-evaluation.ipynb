{
 "cells": [
  {
   "attachments": {},
   "cell_type": "markdown",
   "metadata": {},
   "source": [
    "#### Late-Evaluation of Relationship Arguments\n",
    "\n",
    "Many of the examples in the preceding sections illustrate mappings where the various `relationship()` constructs __refer to their target classes using a string name__, rather than the class itself.\n",
    "\n",
    "```\n",
    "class Parent(Base):\n",
    "    # ...\n",
    "    children = relationship(\"Child\", back_populates=\"parent\")\n",
    "\n",
    "\n",
    "class Child(Base):\n",
    "    # ...\n",
    "    parent = relationship(\"Parent\", back_populates=\"children\")\n",
    "```\n",
    "\n",
    "These _string names_ are __resolved into classes__ in the `mapper resolution stage`, which is an _internal process_ that occurs typically __after all mappings have been defined__ and is __normally triggered__ by the _first usage of the mappings_ themselves. The _registry_ object is the `container` in which these __names are stored and resolved to the mapped classes__ they refer towards.\n",
    "\n",
    "In addition to the main class argument for `relationship()`, other arguments which depend upon the columns present on an as-yet undefined class may also be specified either as _Python functions_, or more commonly as _strings_. For most of these arguments except that of the main argument, __string inputs are evaluated as Python expressions__ using Python's built-in `eval()` function, as they are intended to receive complete SQL expressions.\n",
    "\n",
    "> ##### Warning\n",
    ">\n",
    "> As the Python `eval()` function is used to __interpret the late-evaluated string arguments__ passed to `relationship()` _mapper configuration construct_, these arguments __should not be repurposed__ such that they would receive untrusted user input; `eval()` is __not secure against untrusted user input__.\n",
    "\n",
    "The _full namespace_ available within this evaluation __includes all classes mapped for this `declarative base`__, as well as the _contents of the sqlalchemy package_, including expression functions like `desc()` and `sqlalchemy.sql.functions.func`."
   ]
  },
  {
   "cell_type": "code",
   "execution_count": 1,
   "metadata": {},
   "outputs": [],
   "source": [
    "from sqlalchemy import Column, ForeignKey, Integer, Table\n",
    "from sqlalchemy.orm import declarative_base, relationship"
   ]
  },
  {
   "cell_type": "code",
   "execution_count": 2,
   "metadata": {},
   "outputs": [],
   "source": [
    "Base = declarative_base()"
   ]
  },
  {
   "cell_type": "code",
   "execution_count": 3,
   "metadata": {},
   "outputs": [],
   "source": [
    "class Parent(Base):\n",
    "    __tablename__ = \"parent_table\"\n",
    "    id = Column(Integer, primary_key=True)\n",
    "    children = relationship(\n",
    "        \"Child\", back_populates=\"parent\",\n",
    "        order_by=\"desc(Child.id)\",\n",
    "        primaryjoin=\"Parent.id == Child.parent_id\",\n",
    "    )"
   ]
  },
  {
   "cell_type": "code",
   "execution_count": 4,
   "metadata": {},
   "outputs": [],
   "source": [
    "class Child(Base):\n",
    "    __tablename__ = \"child_table\"\n",
    "    id = Column(Integer, primary_key=True)\n",
    "    parent_id = Column(Integer, ForeignKey(\"parent_table.id\"))\n",
    "    parent = relationship(\"Parent\", back_populates=\"children\")"
   ]
  },
  {
   "attachments": {},
   "cell_type": "markdown",
   "metadata": {},
   "source": [
    "For the case where _more than one module contains a class of the same name_, _string class names_ can also be specified as `module-qualified paths` within any of these string expressions.\n",
    "\n",
    "```\n",
    "class Parent(Base):\n",
    "    __tablename__ = \"parent_table\"\n",
    "    id = Column(Integer, primary_key=True)\n",
    "    children = relationship(\n",
    "        \"Child\", back_populates=\"parent\",\n",
    "        order_by=\"desc(module.Child.id)\",\n",
    "        primaryjoin=\"Parent.id == module.Child.parent_id\",\n",
    "    )\n",
    "```\n",
    "\n",
    "The `relationship()` construct also __accepts Python functions or lambdas__ as input for these arguments. This has the _advantage_ of providing __more compile-time safety__ and _better support for IDEs and PEP 484_ scenarios.\n",
    "\n",
    "```\n",
    "def _resolve_child_model():\n",
    "    from myapplication import Child\n",
    "    return Child\n",
    "\n",
    "\n",
    "class Parent(Base):\n",
    "    # ...\n",
    "    children = relationship(\n",
    "        _resolve_child_model(),\n",
    "        order_by=lambda: desc(_resolve_child_model().idd),\n",
    "        primaryjoin=lambda: Parent.id == _resolve_child_model().parent_id,\n",
    "    )\n",
    "```\n",
    "\n",
    "It should also be noted that, _any MapperProperty construct_ __can be added to a declarative base mapping at any time__. If we wanted to implement this `relationship()` after the _Address_ class were available, we could also apply it afterwards.\n",
    "\n",
    "```\n",
    "class Parent(Base):\n",
    "    ...\n",
    "\n",
    "\n",
    "class Child(Base):\n",
    "    ...\n",
    "\n",
    "\n",
    "Parent.children = relationship(Child, primaryjoin=Child.parent_id == Parent.id)\n",
    "```\n",
    "\n",
    "> ##### Note\n",
    ">\n",
    "> _assignment of mapped properties_ to a _declaratively mapped class_ will __only function correctly__ if the `\"declarative base\"` class is used, which also provides for a _metaclass-driven_ `__setattr__()` method which will __intercept these operations__. It __will not work__ if the _declarative decorator_ provided by `registry.mapped()` is used, __nor will it work__ for an _imperatively mapped class_ mapped by `registry.map_imperatively()`."
   ]
  },
  {
   "attachments": {},
   "cell_type": "markdown",
   "metadata": {},
   "source": [
    "##### Late-Evaluation for a many-to-many relationship\n",
    "\n",
    "_Many-to-many relationships_ include a reference to an _additional_, typically __non-mapped Table object__ that is __typically present__ in the _MetaData collection_ referred towards by the _registry_. The _late-evaluation system_ also includes support for having this attribute be specified as a `string argument` which will be __resolved from this `MetaData` collection__. Below we specify an _association table_ `keyword_author`, sharing the _MetaData collection_ associated with our _declarative base_ and its _registry_. We can then refer to this _Table_ by name in the `relationship.secondary` parameter."
   ]
  },
  {
   "cell_type": "code",
   "execution_count": 5,
   "metadata": {},
   "outputs": [],
   "source": [
    "keyword_author = Table(\n",
    "    \"keyword_author_table\",\n",
    "    Base.metadata,\n",
    "    Column(\"author_id\", Integer, ForeignKey(\"authors_table.id\")),\n",
    "    Column(\"keyword_id\", Integer, ForeignKey(\"keywords_table.id\")),\n",
    ")"
   ]
  },
  {
   "cell_type": "code",
   "execution_count": 6,
   "metadata": {},
   "outputs": [],
   "source": [
    "class Author(Base):\n",
    "    __tablename__ = \"authors_table\"\n",
    "    id = Column(Integer, primary_key=True)\n",
    "    keywords = relationship(\"Keyword\", secondary=\"keyword_author_table\")"
   ]
  },
  {
   "cell_type": "code",
   "execution_count": null,
   "metadata": {},
   "outputs": [],
   "source": []
  }
 ],
 "metadata": {
  "kernelspec": {
   "display_name": "sql-env",
   "language": "python",
   "name": "python3"
  },
  "language_info": {
   "codemirror_mode": {
    "name": "ipython",
    "version": 3
   },
   "file_extension": ".py",
   "mimetype": "text/x-python",
   "name": "python",
   "nbconvert_exporter": "python",
   "pygments_lexer": "ipython3",
   "version": "3.9.6"
  },
  "orig_nbformat": 4,
  "vscode": {
   "interpreter": {
    "hash": "3b00ed0d5d9853c9f0267ee6e89091ab706130aa0b00cb1356a08ef47194a158"
   }
  }
 },
 "nbformat": 4,
 "nbformat_minor": 2
}
