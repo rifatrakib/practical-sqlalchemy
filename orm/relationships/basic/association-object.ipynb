{
 "cells": [
  {
   "attachments": {},
   "cell_type": "markdown",
   "metadata": {},
   "source": [
    "#### Association Object\n",
    "\n",
    "The _association object pattern_ is a _variant on many-to-many_: it's used when your _association table_ __contains additional columns beyond those which are foreign keys__ to the left and right tables. Instead of using the `relationship.secondary` argument, you _map a new class directly_ to the association table. The _left side_ of the relationship references the _association object via one-to-many_, and the _association class references the right side via many-to-one_. Below we illustrate an association table mapped to the Association class which includes a column called extra_data, which is a string value that is stored along with each association between Parent and Child."
   ]
  },
  {
   "cell_type": "code",
   "execution_count": 3,
   "metadata": {},
   "outputs": [],
   "source": [
    "from sqlalchemy import Column, ForeignKey, Integer, String\n",
    "from sqlalchemy.orm import declarative_base, relationship"
   ]
  },
  {
   "cell_type": "code",
   "execution_count": 2,
   "metadata": {},
   "outputs": [],
   "source": [
    "Base = declarative_base()"
   ]
  },
  {
   "cell_type": "code",
   "execution_count": 4,
   "metadata": {},
   "outputs": [],
   "source": [
    "class Association(Base):\n",
    "    __tablename__ = \"association_table\"\n",
    "    left_id = Column(ForeignKey(\"left_table.id\"), primary_key=True)\n",
    "    right_id = Column(ForeignKey(\"right_table.id\"), primary_key=True)\n",
    "    extra_data = Column(String(50))\n",
    "    child = relationship(\"Child\")"
   ]
  },
  {
   "cell_type": "code",
   "execution_count": 5,
   "metadata": {},
   "outputs": [],
   "source": [
    "class Parent(Base):\n",
    "    __tablename__ = \"left_table\"\n",
    "    id = Column(Integer, primary_key=True)\n",
    "    children = relationship(\"Association\")"
   ]
  },
  {
   "cell_type": "code",
   "execution_count": 6,
   "metadata": {},
   "outputs": [],
   "source": [
    "class Child(Base):\n",
    "    __tablename__ = \"right_table\"\n",
    "    id = Column(Integer, primary_key=True)"
   ]
  },
  {
   "attachments": {},
   "cell_type": "markdown",
   "metadata": {},
   "source": [
    "As always, the _bidirectional_ version makes use of `relationship.back_populates` or `relationship.backref`."
   ]
  },
  {
   "cell_type": "code",
   "execution_count": 7,
   "metadata": {},
   "outputs": [],
   "source": [
    "class AssociationModel(Base):\n",
    "    __tablename__ = \"association\"\n",
    "    left_id = Column(ForeignKey(\"left.id\"), primary_key=True)\n",
    "    right_id = Column(ForeignKey(\"right.id\"), primary_key=True)\n",
    "    extra_data = Column(String(50))\n",
    "    child = relationship(\"ChildModel\", back_populates=\"parents\")\n",
    "    parent = relationship(\"ParentModel\", back_populates=\"children\")"
   ]
  },
  {
   "cell_type": "code",
   "execution_count": 8,
   "metadata": {},
   "outputs": [],
   "source": [
    "class ParentModel(Base):\n",
    "    __tablename__ = \"left\"\n",
    "    id = Column(Integer, primary_key=True)\n",
    "    children = relationship(\"AssociationModel\", back_populates=\"parent\")"
   ]
  },
  {
   "cell_type": "code",
   "execution_count": 9,
   "metadata": {},
   "outputs": [],
   "source": [
    "class ChildModel(Base):\n",
    "    __tablename__ = \"right\"\n",
    "    id = Column(Integer, primary_key=True)\n",
    "    parents = relationship(\"AssociationModel\", back_populates=\"child\")"
   ]
  },
  {
   "attachments": {},
   "cell_type": "markdown",
   "metadata": {},
   "source": [
    "Working with the _association pattern_ in its _direct form_ __requires__ that __child objects are associated with an association instance before being appended to the parent__; similarly, _access from parent to child goes through the association object_:\n",
    "\n",
    "```\n",
    "# create parent, append a child via association\n",
    "p = ParentModel()\n",
    "a = AssociationModel(extra_data=\"some data\")\n",
    "a.child = ChildModel()\n",
    "p.children.append(a)\n",
    "\n",
    "# iterate through child objects via association, including association attributes\n",
    "for assoc in p.children:\n",
    "    print(assoc.extra_data)\n",
    "    print(assoc.child)\n",
    "```\n",
    "\n",
    "To enhance the _association object pattern_ such that __direct access__ to the _Association_ object is __optional__, SQLAlchemy provides the __Association Proxy extension__. This extension allows the _configuration of attributes_ which will __access two \"hops\" with a single access__, one \"hop\" to the _associated object_, and a second to a _target attribute_."
   ]
  },
  {
   "cell_type": "code",
   "execution_count": null,
   "metadata": {},
   "outputs": [],
   "source": []
  }
 ],
 "metadata": {
  "kernelspec": {
   "display_name": "sql-env",
   "language": "python",
   "name": "python3"
  },
  "language_info": {
   "codemirror_mode": {
    "name": "ipython",
    "version": 3
   },
   "file_extension": ".py",
   "mimetype": "text/x-python",
   "name": "python",
   "nbconvert_exporter": "python",
   "pygments_lexer": "ipython3",
   "version": "3.9.6"
  },
  "orig_nbformat": 4,
  "vscode": {
   "interpreter": {
    "hash": "3b00ed0d5d9853c9f0267ee6e89091ab706130aa0b00cb1356a08ef47194a158"
   }
  }
 },
 "nbformat": 4,
 "nbformat_minor": 2
}
