{
 "cells": [
  {
   "attachments": {},
   "cell_type": "markdown",
   "metadata": {},
   "source": [
    "#### Many To One\n",
    "\n",
    "_Many to one_ places a `foreign key` in the __parent table referencing the child__. `relationship()` is __declared on the parent__, where a _new scalar-holding attribute_ will be created."
   ]
  },
  {
   "cell_type": "code",
   "execution_count": 1,
   "metadata": {},
   "outputs": [],
   "source": [
    "from sqlalchemy import Column, ForeignKey, Integer\n",
    "from sqlalchemy.orm import declarative_base, relationship"
   ]
  },
  {
   "cell_type": "code",
   "execution_count": 2,
   "metadata": {},
   "outputs": [],
   "source": [
    "Base = declarative_base()"
   ]
  },
  {
   "cell_type": "code",
   "execution_count": 3,
   "metadata": {},
   "outputs": [],
   "source": [
    "class Parent(Base):\n",
    "    __tablename__ = \"parent_table\"\n",
    "    id = Column(Integer, primary_key=True)\n",
    "    child_id = Column(Integer, ForeignKey(\"child_table.id\"))\n",
    "    child = relationship(\"Child\")"
   ]
  },
  {
   "cell_type": "code",
   "execution_count": 4,
   "metadata": {},
   "outputs": [],
   "source": [
    "class Child(Base):\n",
    "    __tablename__ = \"child_table\"\n",
    "    id = Column(Integer, primary_key=True)"
   ]
  },
  {
   "attachments": {},
   "cell_type": "markdown",
   "metadata": {},
   "source": [
    "_Bidirectional behavior_ is achieved by adding a __second__ `relationship()` and applying the `relationship.back_populates` parameter in __both directions__."
   ]
  },
  {
   "cell_type": "code",
   "execution_count": 5,
   "metadata": {},
   "outputs": [],
   "source": [
    "class ParentModel(Base):\n",
    "    __tablename__ = \"parent\"\n",
    "    id = Column(Integer, primary_key=True)\n",
    "    child_id = Column(Integer, ForeignKey(\"child.id\"))\n",
    "    child = relationship(\"ChildModel\", back_populates=\"parents\")"
   ]
  },
  {
   "cell_type": "code",
   "execution_count": 6,
   "metadata": {},
   "outputs": [],
   "source": [
    "class ChildModel(Base):\n",
    "    __tablename__ = \"child\"\n",
    "    id = Column(Integer, primary_key=True)\n",
    "    parents = relationship(\"ParentModel\", back_populates=\"child\")"
   ]
  },
  {
   "attachments": {},
   "cell_type": "markdown",
   "metadata": {},
   "source": [
    "_Alternatively_, the `relationship.backref` parameter may be __applied to a single `relationship()`__, such as `Parent.child`."
   ]
  },
  {
   "cell_type": "code",
   "execution_count": 7,
   "metadata": {},
   "outputs": [],
   "source": [
    "class ParentTable(Base):\n",
    "    __tablename__ = \"table_parent\"\n",
    "    id = Column(Integer, primary_key=True)\n",
    "    child_id = Column(Integer, ForeignKey(\"child.id\"))\n",
    "    child = relationship(\"ChildModel\", backref=\"parents\")"
   ]
  },
  {
   "cell_type": "code",
   "execution_count": null,
   "metadata": {},
   "outputs": [],
   "source": []
  }
 ],
 "metadata": {
  "kernelspec": {
   "display_name": "sql-env",
   "language": "python",
   "name": "python3"
  },
  "language_info": {
   "codemirror_mode": {
    "name": "ipython",
    "version": 3
   },
   "file_extension": ".py",
   "mimetype": "text/x-python",
   "name": "python",
   "nbconvert_exporter": "python",
   "pygments_lexer": "ipython3",
   "version": "3.9.6 (tags/v3.9.6:db3ff76, Jun 28 2021, 15:26:21) [MSC v.1929 64 bit (AMD64)]"
  },
  "orig_nbformat": 4,
  "vscode": {
   "interpreter": {
    "hash": "3b00ed0d5d9853c9f0267ee6e89091ab706130aa0b00cb1356a08ef47194a158"
   }
  }
 },
 "nbformat": 4,
 "nbformat_minor": 2
}
