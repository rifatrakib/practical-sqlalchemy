{
 "cells": [
  {
   "attachments": {},
   "cell_type": "markdown",
   "metadata": {},
   "source": [
    "#### Custom operators based on SQL functions\n",
    "\n",
    "A variant to the use case for `Operators.op.is_comparison` is when we __aren't using an operator, but a SQL function__. The typical example of this use case is the _PostgreSQL PostGIS functions_; however, __any SQL function on any database that resolves to a binary condition may apply__. To suit this use case, the `FunctionElement.as_comparison()` method can __modify any SQL function__, such as those invoked from the _func namespace_, to indicate to the ORM that the function produces a comparison of two expressions. The below example illustrates this with the _Geoalchemy2_ library."
   ]
  },
  {
   "cell_type": "code",
   "execution_count": 1,
   "metadata": {},
   "outputs": [],
   "source": [
    "from geoalchemy2 import Geometry\n",
    "from sqlalchemy import Column, Integer, func\n",
    "from sqlalchemy.orm import declarative_base, foreign, relationship"
   ]
  },
  {
   "cell_type": "code",
   "execution_count": 2,
   "metadata": {},
   "outputs": [],
   "source": [
    "Base = declarative_base()"
   ]
  },
  {
   "cell_type": "code",
   "execution_count": 3,
   "metadata": {},
   "outputs": [],
   "source": [
    "class Polygon(Base):\n",
    "    __tablename__ = \"polygon\"\n",
    "    \n",
    "    id = Column(Integer, primary_key=True)\n",
    "    geom = Column(Geometry(\"POLYGON\", srid=4326))\n",
    "    points = relationship(\n",
    "        \"Point\", viewonly=True,\n",
    "        primaryjoin=\"func.ST_Contains(foreign(Polygon.geom), Point.geom).as_comparison(1, 2)\",\n",
    "    )"
   ]
  },
  {
   "cell_type": "code",
   "execution_count": 4,
   "metadata": {},
   "outputs": [],
   "source": [
    "class Point(Base):\n",
    "    __tablename__ = \"point\"\n",
    "    \n",
    "    id = Column(Integer, primary_key=True)\n",
    "    geom = Column(Geometry(\"POINT\", srid=4326))"
   ]
  },
  {
   "attachments": {},
   "cell_type": "markdown",
   "metadata": {},
   "source": [
    "Above, the `FunctionElement.as_comparison()` indicates that the `func.ST_Contains()` SQL function is __comparing__ the _Polygon.geom_ and _Point.geom_ expressions. The `foreign()` annotation additionally notes which column takes on the _\"foreign key\" role_ in this particular relationship."
   ]
  },
  {
   "cell_type": "code",
   "execution_count": null,
   "metadata": {},
   "outputs": [],
   "source": []
  }
 ],
 "metadata": {
  "kernelspec": {
   "display_name": "sql-env",
   "language": "python",
   "name": "python3"
  },
  "language_info": {
   "codemirror_mode": {
    "name": "ipython",
    "version": 3
   },
   "file_extension": ".py",
   "mimetype": "text/x-python",
   "name": "python",
   "nbconvert_exporter": "python",
   "pygments_lexer": "ipython3",
   "version": "3.9.6"
  },
  "orig_nbformat": 4,
  "vscode": {
   "interpreter": {
    "hash": "3b00ed0d5d9853c9f0267ee6e89091ab706130aa0b00cb1356a08ef47194a158"
   }
  }
 },
 "nbformat": 4,
 "nbformat_minor": 2
}
