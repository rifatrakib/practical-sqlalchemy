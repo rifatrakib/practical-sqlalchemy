{
 "cells": [
  {
   "attachments": {},
   "cell_type": "markdown",
   "metadata": {},
   "source": [
    "#### Row-Limited Relationships with Window Functions\n",
    "\n",
    "Another interesting use case for relationships to _AliasedClass_ objects are situations where the __relationship needs to join to a specialized `SELECT`__ of any form. One scenario is when the use of a `window function` is desired, such as to __limit how many rows should be returned for a relationship__. The example below illustrates a _non-primary mapper relationship_ that will load the __first ten items for each collection__."
   ]
  },
  {
   "cell_type": "code",
   "execution_count": 1,
   "metadata": {},
   "outputs": [],
   "source": [
    "from sqlalchemy import Column, ForeignKey, Integer, func, select, and_\n",
    "from sqlalchemy.orm import aliased, declarative_base, relationship"
   ]
  },
  {
   "cell_type": "code",
   "execution_count": 2,
   "metadata": {},
   "outputs": [],
   "source": [
    "Base = declarative_base()"
   ]
  },
  {
   "cell_type": "code",
   "execution_count": 3,
   "metadata": {},
   "outputs": [],
   "source": [
    "class A(Base):\n",
    "    __tablename__ = \"a\"\n",
    "    id = Column(Integer, primary_key=True)"
   ]
  },
  {
   "cell_type": "code",
   "execution_count": 4,
   "metadata": {},
   "outputs": [],
   "source": [
    "class B(Base):\n",
    "    __tablename__ = \"b\"\n",
    "    id = Column(Integer, primary_key=True)\n",
    "    a_id = Column(ForeignKey(\"a.id\"))"
   ]
  },
  {
   "cell_type": "code",
   "execution_count": 5,
   "metadata": {},
   "outputs": [],
   "source": [
    "partition = select(\n",
    "    B, func.row_number().over(order_by=B.id, partition_by=B.a_id).label(\"index\")\n",
    ").alias()"
   ]
  },
  {
   "cell_type": "code",
   "execution_count": 6,
   "metadata": {},
   "outputs": [],
   "source": [
    "partitioned_b = aliased(B, partition)"
   ]
  },
  {
   "cell_type": "code",
   "execution_count": 7,
   "metadata": {},
   "outputs": [],
   "source": [
    "A.partitioned_bs = relationship(\n",
    "    partitioned_b, primaryjoin=and_(partitioned_b.a_id == A.id, partition.c.index < 10)\n",
    ")"
   ]
  },
  {
   "attachments": {},
   "cell_type": "markdown",
   "metadata": {},
   "source": [
    "We can use the above *partitioned_bs* relationship with most of the _loader strategies_, such as `selectinload()`:\n",
    "\n",
    "```\n",
    "for a1 in s.query(A).options(selectinload(A.partitioned_bs)):\n",
    "    print(a1.partitioned_bs)  # <-- will be no more than ten objects\n",
    "```\n",
    "\n",
    "Where above, the `\"selectinload\"` query looks like:\n",
    "\n",
    "```\n",
    "SELECT\n",
    "    a_1.id AS a_1_id, anon_1.id AS anon_1_id, anon_1.a_id AS anon_1_a_id,\n",
    "    anon_1.data AS anon_1_data, anon_1.index AS anon_1_index\n",
    "FROM a AS a_1\n",
    "JOIN (\n",
    "    SELECT b.id AS id, b.a_id AS a_id, b.data AS data,\n",
    "    row_number() OVER (PARTITION BY b.a_id ORDER BY b.id) AS index\n",
    "    FROM b) AS anon_1\n",
    "ON anon_1.a_id = a_1.id AND anon_1.index < %(index_1)s\n",
    "WHERE a_1.id IN ( ... primary key collection ...)\n",
    "ORDER BY a_1.id\n",
    "```\n",
    "\n",
    "Above, for _each matching primary key_ in `\"a\"`, we will get the __first ten \"bs\" as ordered by \"b.id\"__. By *partitioning on \"a_id\"* we ensure that _each \"row number\"_ is __local to the parent `\"a_id\"`__.\n",
    "\n",
    "Such a mapping would _ordinarily_ also __include a \"plain\" relationship__ from _\"A\" to \"B\"_, for _persistence operations_ as well as when the __full set of \"B\" objects per \"A\" is desired__."
   ]
  },
  {
   "cell_type": "code",
   "execution_count": null,
   "metadata": {},
   "outputs": [],
   "source": []
  }
 ],
 "metadata": {
  "kernelspec": {
   "display_name": "sql-env",
   "language": "python",
   "name": "python3"
  },
  "language_info": {
   "codemirror_mode": {
    "name": "ipython",
    "version": 3
   },
   "file_extension": ".py",
   "mimetype": "text/x-python",
   "name": "python",
   "nbconvert_exporter": "python",
   "pygments_lexer": "ipython3",
   "version": "3.9.6"
  },
  "orig_nbformat": 4,
  "vscode": {
   "interpreter": {
    "hash": "3b00ed0d5d9853c9f0267ee6e89091ab706130aa0b00cb1356a08ef47194a158"
   }
  }
 },
 "nbformat": 4,
 "nbformat_minor": 2
}
