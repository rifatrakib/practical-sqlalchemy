{
 "cells": [
  {
   "attachments": {},
   "cell_type": "markdown",
   "metadata": {},
   "source": [
    "#### Overlapping Foreign Keys\n",
    "\n",
    "A rare scenario can arise when _composite foreign keys_ are used, such that a __single column may be the subject of more than one column referred to via foreign key constraint__.\n",
    "\n",
    "Consider an (admittedly complex) mapping such as the _Magazine_ object, referred to both by the _Writer_ object and the _Article_ object __using a composite primary key scheme__ that includes *magazine_id* for both; then to _make Article refer to Writer as well_, *Article.magazine_id* is involved in __two separate relationships__; _Article.magazine_ and _Article.writer_."
   ]
  },
  {
   "cell_type": "code",
   "execution_count": 1,
   "metadata": {},
   "outputs": [],
   "source": [
    "from sqlalchemy import (\n",
    "    Column, ForeignKey, ForeignKeyConstraint,\n",
    "    Integer, PrimaryKeyConstraint,\n",
    ")\n",
    "from sqlalchemy.orm import declarative_base, relationship"
   ]
  },
  {
   "cell_type": "code",
   "execution_count": 2,
   "metadata": {},
   "outputs": [],
   "source": [
    "Base = declarative_base()"
   ]
  },
  {
   "cell_type": "code",
   "execution_count": 3,
   "metadata": {},
   "outputs": [],
   "source": [
    "class Magazine(Base):\n",
    "    __tablename__ = \"magazine\"\n",
    "    id = Column(Integer, primary_key=True)"
   ]
  },
  {
   "cell_type": "code",
   "execution_count": 4,
   "metadata": {},
   "outputs": [],
   "source": [
    "# class Article(Base):\n",
    "#     __tablename__ = \"article\"\n",
    "    \n",
    "#     article_id = Column(Integer)\n",
    "#     magazine_id = Column(ForeignKey(\"magazine.id\"))\n",
    "#     writer_id = Column()\n",
    "    \n",
    "#     magazine = relationship(\"Magazine\")\n",
    "#     writer = relationship(\"Writer\")\n",
    "    \n",
    "#     __table_args__ = (\n",
    "#         PrimaryKeyConstraint(\"article_id\", \"magazine_id\"),\n",
    "#         ForeignKeyConstraint(\n",
    "#             [\"writer_id\", \"magazine_id\"], [\"writer.id\", \"magazine.id\"],\n",
    "#         )\n",
    "#     )"
   ]
  },
  {
   "cell_type": "code",
   "execution_count": 5,
   "metadata": {},
   "outputs": [],
   "source": [
    "class Writer(Base):\n",
    "    __tablename__ = \"writer\"\n",
    "    \n",
    "    id = Column(Integer, primary_key=True)\n",
    "    magazine_id = Column(ForeignKey(\"magazine.id\"), primary_key=True)\n",
    "    magazine = relationship(\"Magazine\")"
   ]
  },
  {
   "attachments": {},
   "cell_type": "markdown",
   "metadata": {},
   "source": [
    "When the above mapping with _uncommented Article_ is configured, we will see this warning emitted:\n",
    "\n",
    "```\n",
    "SAWarning: relationship 'Article.writer' will copy column\n",
    "writer.magazine_id to column article.magazine_id,\n",
    "which conflicts with relationship(s): 'Article.magazine'\n",
    "(copies magazine.id to article.magazine_id). Consider applying\n",
    "viewonly=True to read-only relationships, or provide a primaryjoin\n",
    "condition marking writable columns with the foreign() annotation.\n",
    "```\n",
    "\n",
    "What this refers to originates from the fact that *Article.magazine_id* is the __subject of two different foreign key constraints__; it refers to _Magazine.id_ directly as a source column, but also refers to *Writer.magazine_id* as a source column in the context of the _composite key to Writer_. If we associate an _Article_ with a particular _Magazine_, but then associate the _Article_ with a _Writer_ that's associated with a __different__ _Magazine_, the ORM will __overwrite__ *Article.magazine_id* __non-deterministically__, silently changing which magazine we refer towards; it may also attempt to place _NULL_ into this column if we _de-associate a Writer from an Article_. The warning lets us know this is the case.\n",
    "\n",
    "To solve this, we need to __break out the behavior__ of _Article_ to __include all three of the following features__:\n",
    "\n",
    "1. _Article_ first and foremost writes to *Article.magazine_id* __based on data persisted__ in the _Article.magazine_ relationship only, that is a __value copied__ from _Magazine.id_.\n",
    "\n",
    "2. _Article_ can write to *Article.writer_id* on behalf of data persisted in the _Article.writer_ relationship, but only the _Writer.id_ column; the *Writer.magazine_id* column __should not be written__ into *Article.magazine_id* as it ultimately is sourced from _Magazine.id_.\n",
    "\n",
    "3. _Article_ takes *Article.magazine_id* into account when __loading__ _Article.writer_, even though it __doesn't write to it on behalf of this relationship__.\n",
    "\n",
    "To get just `#1` and `#2`, we could specify only *Article.writer_id* as the `\"foreign keys\"` for _Article.writer_."
   ]
  },
  {
   "cell_type": "code",
   "execution_count": 6,
   "metadata": {},
   "outputs": [],
   "source": [
    "# class Article(Base):\n",
    "#     # ...\n",
    "\n",
    "#     writer = relationship(\"Writer\", foreign_keys=\"Article.writer_id\")"
   ]
  },
  {
   "attachments": {},
   "cell_type": "markdown",
   "metadata": {},
   "source": [
    "However, this has the __effect of `Article.writer` not taking `Article.magazine_id` into account when querying against `Writer`__:\n",
    "\n",
    "```\n",
    "SELECT article.article_id AS article_article_id,\n",
    "    article.magazine_id AS article_magazine_id,\n",
    "    article.writer_id AS article_writer_id\n",
    "FROM article\n",
    "JOIN writer ON writer.id = article.writer_id\n",
    "```\n",
    "\n",
    "Therefore, to get at all of `#1`, `#2`, and `#3`, we express the _join condition_ as well as which __columns to be written by combining `relationship.primaryjoin` fully__, along with either the `relationship.foreign_keys` argument, or __more succinctly__ by _annotating_ with `foreign()`."
   ]
  },
  {
   "cell_type": "code",
   "execution_count": 7,
   "metadata": {},
   "outputs": [],
   "source": [
    "class Article(Base):\n",
    "    __tablename__ = \"article\"\n",
    "    \n",
    "    article_id = Column(Integer)\n",
    "    magazine_id = Column(ForeignKey(\"magazine.id\"))\n",
    "    writer_id = Column()\n",
    "    \n",
    "    magazine = relationship(\"Magazine\")\n",
    "    writer = relationship(\n",
    "        \"Writer\",\n",
    "        primaryjoin=\"and_(Writer.id == foreign(Article.writer_id), \"\n",
    "        \"Writer.magazine_id == Article.magazine_id\",\n",
    "    )\n",
    "    \n",
    "    __table_args__ = (\n",
    "        PrimaryKeyConstraint(\"article_id\", \"magazine_id\"),\n",
    "    )"
   ]
  },
  {
   "cell_type": "code",
   "execution_count": null,
   "metadata": {},
   "outputs": [],
   "source": []
  }
 ],
 "metadata": {
  "kernelspec": {
   "display_name": "sql-env",
   "language": "python",
   "name": "python3"
  },
  "language_info": {
   "codemirror_mode": {
    "name": "ipython",
    "version": 3
   },
   "file_extension": ".py",
   "mimetype": "text/x-python",
   "name": "python",
   "nbconvert_exporter": "python",
   "pygments_lexer": "ipython3",
   "version": "3.9.6"
  },
  "orig_nbformat": 4,
  "vscode": {
   "interpreter": {
    "hash": "3b00ed0d5d9853c9f0267ee6e89091ab706130aa0b00cb1356a08ef47194a158"
   }
  }
 },
 "nbformat": 4,
 "nbformat_minor": 2
}
