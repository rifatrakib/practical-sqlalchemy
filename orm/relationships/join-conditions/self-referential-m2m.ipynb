{
 "cells": [
  {
   "attachments": {},
   "cell_type": "markdown",
   "metadata": {},
   "source": [
    "#### Self-Referential Many-to-Many Relationship\n",
    "\n",
    "_Many to many relationships_ can be customized by _one or both_ of `relationship.primaryjoin` and `relationship.secondaryjoin` - the _latter_ is __significant__ for a relationship that specifies a _many-to-many reference_ using the `relationship.secondary` argument. A common situation which involves the usage of `relationship.primaryjoin` and `relationship.secondaryjoin` is when __establishing a many-to-many relationship from a class to itself__."
   ]
  },
  {
   "cell_type": "code",
   "execution_count": 1,
   "metadata": {},
   "outputs": [],
   "source": [
    "from sqlalchemy import Column, Integer, ForeignKey, MetaData, String, Table\n",
    "from sqlalchemy.ext.declarative import declarative_base\n",
    "from sqlalchemy.orm import registry, relationship"
   ]
  },
  {
   "cell_type": "code",
   "execution_count": 2,
   "metadata": {},
   "outputs": [],
   "source": [
    "Base = declarative_base()\n",
    "metadata_obj = MetaData()\n",
    "mapper_registry = registry()"
   ]
  },
  {
   "cell_type": "code",
   "execution_count": 3,
   "metadata": {},
   "outputs": [],
   "source": [
    "node_to_node = Table(\n",
    "    \"node_to_node\",\n",
    "    Base.metadata,\n",
    "    Column(\"left_node_id\", Integer, ForeignKey(\"node.id\"), primary_key=True),\n",
    "    Column(\"right_node_id\", Integer, ForeignKey(\"node.id\"), primary_key=True),\n",
    ")"
   ]
  },
  {
   "cell_type": "code",
   "execution_count": 4,
   "metadata": {},
   "outputs": [],
   "source": [
    "class NodeObject(Base):\n",
    "    __tablename__ = \"node_object\"\n",
    "    id = Column(Integer, primary_key=True)\n",
    "    label = Column(String)\n",
    "    right_nodes = relationship(\n",
    "        \"NodeObject\",\n",
    "        secondary=node_to_node,\n",
    "        primaryjoin=id == node_to_node.c.left_node_id,\n",
    "        secondaryjoin=id == node_to_node.c.right_node_id,\n",
    "        backref=\"left_nodes\",\n",
    "    )"
   ]
  },
  {
   "attachments": {},
   "cell_type": "markdown",
   "metadata": {},
   "source": [
    "Where above, SQLAlchemy __can't know automatically__ which columns should connect to which for the *right_nodes* and *left_nodes* relationships. The `relationship.primaryjoin` and `relationship.secondaryjoin` arguments _establish how we'd like to join to the association table_. In the Declarative form above, as we are declaring these conditions within the Python block that corresponds to the _NodeObject_ class, the _id_ variable is __available directly as the Column object__ we wish to join with.\n",
    "\n",
    "Alternatively, we can define the `relationship.primaryjoin` and `relationship.secondaryjoin` arguments using strings, which is __suitable__ in the case that our __configuration does not have__ either the _NodeObject.id_ column object available yet or the *node_to_node* table perhaps __isn't yet available__. When referring to a plain _Table_ object in a declarative string, we use the string name of the table as it is present in the _MetaData_."
   ]
  },
  {
   "cell_type": "code",
   "execution_count": 5,
   "metadata": {},
   "outputs": [],
   "source": [
    "class NodeString(Base):\n",
    "    __tablename__ = \"node_string\"\n",
    "    id = Column(Integer, primary_key=True)\n",
    "    label = Column(String)\n",
    "    right_nodes = relationship(\n",
    "        \"NodeString\",\n",
    "        secondary=\"node_to_node\",\n",
    "        primaryjoin=\"NodeString.id==node_to_node.c.left_node_id\",\n",
    "        secondaryjoin=\"NodeString.id==node_to_node.c.right_node_id\",\n",
    "        backref=\"left_nodes\",\n",
    "    )"
   ]
  },
  {
   "attachments": {},
   "cell_type": "markdown",
   "metadata": {},
   "source": [
    "> ##### Warning\n",
    ">\n",
    "> When passed as a _Python-evaluable string_, the `relationship.foreign_keys` argument is interpreted using Python's `eval()` function. __DO NOT PASS UNTRUSTED INPUT TO THIS STRING__.\n",
    "\n",
    "A _classical mapping situation_ here is similar, where *node_to_node_meta* __can be joined__ to *node_var.c.id*."
   ]
  },
  {
   "cell_type": "code",
   "execution_count": 6,
   "metadata": {},
   "outputs": [],
   "source": [
    "node_to_node_meta = Table(\n",
    "    \"node_to_node_meta\",\n",
    "    metadata_obj,\n",
    "    Column(\"left_node_id\", Integer, ForeignKey(\"node.id\"), primary_key=True),\n",
    "    Column(\"right_node_id\", Integer, ForeignKey(\"node.id\"), primary_key=True),\n",
    ")"
   ]
  },
  {
   "cell_type": "code",
   "execution_count": 7,
   "metadata": {},
   "outputs": [],
   "source": [
    "node_var = Table(\n",
    "    \"node_var\",\n",
    "    metadata_obj,\n",
    "    Column(\"id\", Integer, primary_key=True),\n",
    "    Column(\"label\", String),\n",
    ")"
   ]
  },
  {
   "cell_type": "code",
   "execution_count": 8,
   "metadata": {},
   "outputs": [],
   "source": [
    "class NodeVar(object):\n",
    "    pass"
   ]
  },
  {
   "cell_type": "code",
   "execution_count": 9,
   "metadata": {},
   "outputs": [
    {
     "data": {
      "text/plain": [
       "<Mapper at 0x26434abbb50; NodeVar>"
      ]
     },
     "execution_count": 9,
     "metadata": {},
     "output_type": "execute_result"
    }
   ],
   "source": [
    "mapper_registry.map_imperatively(\n",
    "    NodeVar,\n",
    "    node_var,\n",
    "    properties={\n",
    "        \"right_nodes\": relationship(\n",
    "            NodeVar,\n",
    "            secondary=node_to_node_meta,\n",
    "            primaryjoin=node_var.c.id == node_to_node_meta.c.left_node_id,\n",
    "            secondaryjoin=node_var.c.id == node_to_node_meta.c.right_node_id,\n",
    "            backref=\"left_nodes\",\n",
    "        )\n",
    "    },\n",
    ")"
   ]
  },
  {
   "attachments": {},
   "cell_type": "markdown",
   "metadata": {},
   "source": [
    "Note that in both examples, the `relationship.backref` keyword specifies a *left_nodes* backref - when `relationship()` __creates the second relationship in the reverse direction__, it's __smart enough__ to __reverse__ the _relationship.primaryjoin_ and _relationship.secondaryjoin_ arguments."
   ]
  },
  {
   "cell_type": "code",
   "execution_count": null,
   "metadata": {},
   "outputs": [],
   "source": []
  }
 ],
 "metadata": {
  "kernelspec": {
   "display_name": "sql-env",
   "language": "python",
   "name": "python3"
  },
  "language_info": {
   "codemirror_mode": {
    "name": "ipython",
    "version": 3
   },
   "file_extension": ".py",
   "mimetype": "text/x-python",
   "name": "python",
   "nbconvert_exporter": "python",
   "pygments_lexer": "ipython3",
   "version": "3.9.6"
  },
  "orig_nbformat": 4,
  "vscode": {
   "interpreter": {
    "hash": "3b00ed0d5d9853c9f0267ee6e89091ab706130aa0b00cb1356a08ef47194a158"
   }
  }
 },
 "nbformat": 4,
 "nbformat_minor": 2
}
