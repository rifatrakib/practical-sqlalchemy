{
 "cells": [
  {
   "attachments": {},
   "cell_type": "markdown",
   "metadata": {},
   "source": [
    "#### Creating Custom Foreign Conditions\n",
    "\n",
    "Another element of the _primary join condition_ is how those columns considered __`\"foreign\"`__ are determined. Usually, some _subset of Column objects_ will specify _ForeignKey_, or otherwise be _part of a ForeignKeyConstraint_ that's relevant to the join condition. `relationship()` looks to this _foreign key status_ as it decides __how it should load and persist data__ for this relationship. However, the `relationship.primaryjoin` argument can be used to __create a join condition that doesn't involve any `\"schema\"` level foreign keys__. We can combine `relationship.primaryjoin` along with *relationship.foreign_keys* and *relationship.remote_side* __explicitly__ in order to establish such a join.\n",
    "\n",
    "Below, a class _HostEntry_ joins to itself, equating the string content column to the ip_address column, which is a _PostgreSQL_ type called _INET_. We need to use `cast()` in order to cast one side of the join to the type of the other."
   ]
  },
  {
   "cell_type": "code",
   "execution_count": 1,
   "metadata": {},
   "outputs": [],
   "source": [
    "from sqlalchemy import cast, String, Column, Integer\n",
    "from sqlalchemy.ext.declarative import declarative_base\n",
    "from sqlalchemy.dialects.postgresql import INET\n",
    "from sqlalchemy.orm import relationship, foreign, remote"
   ]
  },
  {
   "cell_type": "code",
   "execution_count": 2,
   "metadata": {},
   "outputs": [],
   "source": [
    "Base = declarative_base()"
   ]
  },
  {
   "cell_type": "code",
   "execution_count": 3,
   "metadata": {},
   "outputs": [],
   "source": [
    "class HostEntry(Base):\n",
    "    __tablename__ = \"host_entry\"\n",
    "    \n",
    "    id = Column(Integer, primary_key=True)\n",
    "    ip_address = Column(INET)\n",
    "    content = Column(String(50))\n",
    "    \n",
    "    # relationship() using explicit foreign_keys, remote_side\n",
    "    parent_host = relationship(\n",
    "        \"HostEntry\",\n",
    "        primaryjoin=ip_address == cast(content, INET),\n",
    "        foreign_keys=content,\n",
    "        remote_side=ip_address,\n",
    "    )"
   ]
  },
  {
   "attachments": {},
   "cell_type": "markdown",
   "metadata": {},
   "source": [
    "The above relationship will produce a join like:\n",
    "\n",
    "```\n",
    "SELECT host_entry.id, host_entry.ip_address, host_entry.content\n",
    "FROM host_entry JOIN host_entry AS host_entry_1\n",
    "ON host_entry_1.ip_address = CAST(host_entry.content AS INET)\n",
    "```\n",
    "\n",
    "An alternative syntax to the above is to use the `foreign()` and `remote()` _annotations_, __inline within__ the `relationship.primaryjoin` expression. This syntax represents the _annotations_ that `relationship()` __normally applies by itself__ to the join condition given the *relationship.foreign_keys* and *relationship.remote_side* arguments. These functions may be __more succinct when an explicit join condition is present__, and additionally serve to mark exactly the column that is __\"foreign\"__ or __\"remote\"__ independent of whether that column is stated multiple times or within complex SQL expressions."
   ]
  },
  {
   "cell_type": "code",
   "execution_count": 4,
   "metadata": {},
   "outputs": [],
   "source": [
    "class SuccinctHostEntry(Base):\n",
    "    __tablename__ = \"succinct_host_entry\"\n",
    "    \n",
    "    id = Column(Integer, primary_key=True)\n",
    "    ip_address = Column(INET)\n",
    "    content = Column(String(50))\n",
    "    \n",
    "    # relationship() using explicit foreign() and remote() annotations\n",
    "    # in lieu of separate arguments\n",
    "    parent_host = relationship(\n",
    "        \"SuccinctHostEntry\",\n",
    "        primaryjoin=remote(ip_address) == cast(foreign(content), INET),\n",
    "    )"
   ]
  },
  {
   "cell_type": "code",
   "execution_count": null,
   "metadata": {},
   "outputs": [],
   "source": []
  }
 ],
 "metadata": {
  "kernelspec": {
   "display_name": "sql-env",
   "language": "python",
   "name": "python3"
  },
  "language_info": {
   "codemirror_mode": {
    "name": "ipython",
    "version": 3
   },
   "file_extension": ".py",
   "mimetype": "text/x-python",
   "name": "python",
   "nbconvert_exporter": "python",
   "pygments_lexer": "ipython3",
   "version": "3.9.6"
  },
  "orig_nbformat": 4,
  "vscode": {
   "interpreter": {
    "hash": "3b00ed0d5d9853c9f0267ee6e89091ab706130aa0b00cb1356a08ef47194a158"
   }
  }
 },
 "nbformat": 4,
 "nbformat_minor": 2
}
