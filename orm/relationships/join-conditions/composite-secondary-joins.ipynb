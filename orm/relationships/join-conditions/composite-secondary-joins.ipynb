{
 "cells": [
  {
   "attachments": {},
   "cell_type": "markdown",
   "metadata": {},
   "source": [
    "#### Composite `\"Secondary\"` Joins\n",
    "\n",
    "Sometimes, when one seeks to build a `relationship()` between two tables there is a __need for more than just two or three tables__ to be involved in order to join them. This is an area of `relationship()` where one seeks to _push the boundaries_ of what's possible, and often the ultimate solution to many of these _exotic use cases_ needs to be _hammered out_ on the SQLAlchemy mailing list.\n",
    "\n",
    "In more recent versions of SQLAlchemy, the `relationship.secondary` parameter can be used in some of these cases in order to provide a __composite target consisting of multiple tables__."
   ]
  },
  {
   "cell_type": "code",
   "execution_count": 1,
   "metadata": {},
   "outputs": [],
   "source": [
    "from sqlalchemy import Column, Integer, ForeignKey\n",
    "from sqlalchemy.orm import declarative_base, relationship"
   ]
  },
  {
   "cell_type": "code",
   "execution_count": 2,
   "metadata": {},
   "outputs": [],
   "source": [
    "Base = declarative_base()"
   ]
  },
  {
   "cell_type": "code",
   "execution_count": 3,
   "metadata": {},
   "outputs": [],
   "source": [
    "class A(Base):\n",
    "    __tablename__ = \"a\"\n",
    "    \n",
    "    id = Column(Integer, primary_key=True)\n",
    "    b_id = Column(ForeignKey(\"b.id\"))\n",
    "    \n",
    "    d = relationship(\n",
    "        \"D\",\n",
    "        secondary=\"join(B, D, B.d_id == D.id).\" \"join(C, C.d_id == D.id)\",\n",
    "        primaryjoin=\"and_(A.b_id == B.id, A.id == C.a_id)\",\n",
    "        secondaryjoin=\"D.id == B.d_id\",\n",
    "        uselist=False,\n",
    "        viewonly=True,\n",
    "    )"
   ]
  },
  {
   "cell_type": "code",
   "execution_count": 4,
   "metadata": {},
   "outputs": [],
   "source": [
    "class B(Base):\n",
    "    __tablename__ = \"b\"\n",
    "    \n",
    "    id = Column(Integer, primary_key=True)\n",
    "    d_id = Column(ForeignKey(\"d.id\"))"
   ]
  },
  {
   "cell_type": "code",
   "execution_count": 5,
   "metadata": {},
   "outputs": [],
   "source": [
    "class C(Base):\n",
    "    __tablename__ = \"c\"\n",
    "    \n",
    "    id = Column(Integer, primary_key=True)\n",
    "    a_id = Column(ForeignKey(\"a.id\"))\n",
    "    d_id = Column(ForeignKey(\"d.id\"))"
   ]
  },
  {
   "cell_type": "code",
   "execution_count": 6,
   "metadata": {},
   "outputs": [],
   "source": [
    "class D(Base):\n",
    "    __tablename__ = \"d\"\n",
    "    id = Column(Integer, primary_key=True)"
   ]
  },
  {
   "attachments": {},
   "cell_type": "markdown",
   "metadata": {},
   "source": [
    "In the above example, we provide all three of _relationship.secondary_, _relationship.primaryjoin_, and _relationship.secondaryjoin_, in the declarative style _referring to the named tables a, b, c, d_ __directly__. A query from A to D looks like:\n",
    "\n",
    "```\n",
    "session.query(A).join(A.d).all()\n",
    "\n",
    "SELECT a.id AS a_id, a.b_id AS a_b_id\n",
    "FROM a JOIN (\n",
    "    b AS b_1 JOIN d AS d_1 ON b_1.d_id = d_1.id\n",
    "        JOIN c AS c_1 ON c_1.d_id = d_1.id)\n",
    "    ON a.b_id = b_1.id AND a.id = c_1.a_id JOIN d ON d.id = b_1.d_id\n",
    "```\n",
    "\n",
    "In the above example, we take advantage of being able to __stuff multiple tables into a `\"secondary\"` container__, so that we can _join across many tables_ while still keeping things _\"simple\"_ for `relationship()`, in that there's _just \"one\" table on both the \"left\" and the \"right\" side_; the _complexity_ is __kept within the middle__.\n",
    "\n",
    "> ##### Warning\n",
    ">\n",
    "> A relationship like the above is typically marked as `viewonly=True` and should be considered as __read-only__. While there are sometimes ways to make relationships like the above _writable_, this is _generally complicated and error prone_."
   ]
  },
  {
   "cell_type": "code",
   "execution_count": null,
   "metadata": {},
   "outputs": [],
   "source": []
  }
 ],
 "metadata": {
  "kernelspec": {
   "display_name": "sql-env",
   "language": "python",
   "name": "python3"
  },
  "language_info": {
   "codemirror_mode": {
    "name": "ipython",
    "version": 3
   },
   "file_extension": ".py",
   "mimetype": "text/x-python",
   "name": "python",
   "nbconvert_exporter": "python",
   "pygments_lexer": "ipython3",
   "version": "3.9.6"
  },
  "orig_nbformat": 4,
  "vscode": {
   "interpreter": {
    "hash": "3b00ed0d5d9853c9f0267ee6e89091ab706130aa0b00cb1356a08ef47194a158"
   }
  }
 },
 "nbformat": 4,
 "nbformat_minor": 2
}
