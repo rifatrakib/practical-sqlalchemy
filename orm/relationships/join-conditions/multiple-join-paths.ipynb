{
 "cells": [
  {
   "attachments": {},
   "cell_type": "markdown",
   "metadata": {},
   "source": [
    "#### Handling Multiple Join Paths\n",
    "\n",
    "One of the most common situations to deal with is when there are _more than one foreign key path between two tables_. Consider a _Customer_ class that __contains two foreign keys__ to an `Address` class."
   ]
  },
  {
   "cell_type": "code",
   "execution_count": 1,
   "metadata": {},
   "outputs": [],
   "source": [
    "from sqlalchemy import Integer, ForeignKey, String, Column\n",
    "from sqlalchemy.ext.declarative import declarative_base\n",
    "from sqlalchemy.orm import relationship"
   ]
  },
  {
   "cell_type": "code",
   "execution_count": 2,
   "metadata": {},
   "outputs": [],
   "source": [
    "Base = declarative_base()"
   ]
  },
  {
   "cell_type": "code",
   "execution_count": 3,
   "metadata": {},
   "outputs": [],
   "source": [
    "# class Customer(Base):\n",
    "#     __tablename__ = \"customer\"\n",
    "#     id = Column(Integer, primary_key=True)\n",
    "#     name = Column(String)\n",
    "\n",
    "#     billing_address_id = Column(Integer, ForeignKey(\"address.id\"))\n",
    "#     shipping_address_id = Column(Integer, ForeignKey(\"address.id\"))\n",
    "\n",
    "#     billing_address = relationship(\"Address\")\n",
    "#     shipping_address = relationship(\"Address\")"
   ]
  },
  {
   "cell_type": "code",
   "execution_count": 4,
   "metadata": {},
   "outputs": [],
   "source": [
    "# class Address(Base):\n",
    "#     __tablename__ = \"address\"\n",
    "#     id = Column(Integer, primary_key=True)\n",
    "#     street = Column(String)\n",
    "#     city = Column(String)\n",
    "#     state = Column(String)\n",
    "#     zip = Column(String)"
   ]
  },
  {
   "attachments": {},
   "cell_type": "markdown",
   "metadata": {},
   "source": [
    "The above mapping, when we attempt to use it, will produce the error:\n",
    "\n",
    "```\n",
    "sqlalchemy.exc.AmbiguousForeignKeysError: Could not determine join\n",
    "condition between parent/child tables on relationship\n",
    "Customer.billing_address - there are multiple foreign key\n",
    "paths linking the tables.  Specify the 'foreign_keys' argument,\n",
    "providing a list of those columns which should be\n",
    "counted as containing a foreign key reference to the parent table.\n",
    "```\n",
    "\n",
    "The above message is pretty long. There are _many potential messages_ that `relationship()` can return, which have been __carefully tailored to detect a variety of common configurational issues__; most will __suggest__ the _additional configuration_ that's needed to __resolve__ the _ambiguity or other missing information_.\n",
    "\n",
    "In this case, the message wants us to __qualify__ each `relationship()` by _instructing for each one which foreign key column should be considered_, and the appropriate form is as follows."
   ]
  },
  {
   "cell_type": "code",
   "execution_count": 5,
   "metadata": {},
   "outputs": [],
   "source": [
    "class Customer(Base):\n",
    "    __tablename__ = \"customer\"\n",
    "    \n",
    "    id = Column(Integer, primary_key=True)\n",
    "    name = Column(String)\n",
    "    \n",
    "    billing_address_id = Column(Integer, ForeignKey(\"address.id\"))\n",
    "    shipping_address_id = Column(Integer, ForeignKey(\"address.id\"))\n",
    "    \n",
    "    billing_address = relationship(\"Address\", foreign_keys=[billing_address_id])\n",
    "    shipping_address = relationship(\"Address\", foreign_keys=[shipping_address_id])"
   ]
  },
  {
   "cell_type": "code",
   "execution_count": 6,
   "metadata": {},
   "outputs": [],
   "source": [
    "class Address(Base):\n",
    "    __tablename__ = \"address\"\n",
    "    \n",
    "    id = Column(Integer, primary_key=True)\n",
    "    street = Column(String)\n",
    "    city = Column(String)\n",
    "    state = Column(String)\n",
    "    zip = Column(String)"
   ]
  },
  {
   "attachments": {},
   "cell_type": "markdown",
   "metadata": {},
   "source": [
    "Above, we specify the *foreign_keys* argument, which is a _Column_ or _list of Column_ objects which __indicate those columns to be considered \"foreign\"__, or in other words, the columns that contain a value referring to a parent table. Loading the `Customer.billing_address` relationship from a _Customer_ object will use the value present in *billing_address_id* in order to __identify the row in `Address` to be loaded__; similarly, *shipping_address_id* is used for the *shipping_address* relationship. The linkage of the two columns also plays a role during _persistence_; the _newly generated primary key_ of a __just-inserted__ `Address` object will be __copied into the appropriate foreign key column__ of an _associated Customer object_ during a flush.\n",
    "\n",
    "When specifying *foreign_keys* with Declarative, we can also use _string names_ to specify, however it is __important that if using a list, the list is part of the string__:\n",
    "\n",
    "```\n",
    "billing_address = relationship(\"Address\", foreign_keys=\"[Customer.billing_address_id]\")\n",
    "```\n",
    "\n",
    "In this specific example, the list is __not necessary__ in any case as there's _only one Column_ we need:\n",
    "\n",
    "```\n",
    "billing_address = relationship(\"Address\", foreign_keys=\"Customer.billing_address_id\")\n",
    "```\n",
    "\n",
    "> ##### Warning\n",
    ">\n",
    "> When passed as a _Python-evaluable string_, the `relationship.foreign_keys` argument is interpreted using Python's `eval()` function. __DO NOT PASS UNTRUSTED INPUT TO THIS STRING__."
   ]
  },
  {
   "cell_type": "code",
   "execution_count": null,
   "metadata": {},
   "outputs": [],
   "source": []
  }
 ],
 "metadata": {
  "kernelspec": {
   "display_name": "sql-env",
   "language": "python",
   "name": "python3"
  },
  "language_info": {
   "codemirror_mode": {
    "name": "ipython",
    "version": 3
   },
   "file_extension": ".py",
   "mimetype": "text/x-python",
   "name": "python",
   "nbconvert_exporter": "python",
   "pygments_lexer": "ipython3",
   "version": "3.9.6 (tags/v3.9.6:db3ff76, Jun 28 2021, 15:26:21) [MSC v.1929 64 bit (AMD64)]"
  },
  "orig_nbformat": 4,
  "vscode": {
   "interpreter": {
    "hash": "3b00ed0d5d9853c9f0267ee6e89091ab706130aa0b00cb1356a08ef47194a158"
   }
  }
 },
 "nbformat": 4,
 "nbformat_minor": 2
}
