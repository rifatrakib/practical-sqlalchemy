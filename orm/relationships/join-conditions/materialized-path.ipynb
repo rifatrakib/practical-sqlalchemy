{
 "cells": [
  {
   "attachments": {},
   "cell_type": "markdown",
   "metadata": {},
   "source": [
    "#### Non-relational Comparisons / Materialized Path\n",
    "\n",
    "Using _custom expressions_ means we can produce __unorthodox join conditions__ that _don't obey the usual primary/foreign key model_. One such example is the `materialized path pattern`, where we __compare strings for overlapping path tokens in order to produce a tree structure__.\n",
    "\n",
    "Through careful use of `foreign()` and `remote()`, we can build a _relationship_ that effectively produces a __rudimentary materialized path system__. Essentially, when `foreign()` and `remote()` are on the __same side__ of the comparison expression, the _relationship_ is considered to be _\"one to many\"_; when they are on __different sides__, the _relationship_ is considered to be _\"many to one\"_. For the comparison we'll use here, we'll be dealing with collections so we keep things configured as _\"one to many\"_."
   ]
  },
  {
   "cell_type": "code",
   "execution_count": 1,
   "metadata": {},
   "outputs": [],
   "source": [
    "from sqlalchemy import cast, String, Column\n",
    "from sqlalchemy.ext.declarative import declarative_base\n",
    "from sqlalchemy.orm import foreign, remote, relationship"
   ]
  },
  {
   "cell_type": "code",
   "execution_count": 2,
   "metadata": {},
   "outputs": [],
   "source": [
    "Base = declarative_base()"
   ]
  },
  {
   "cell_type": "code",
   "execution_count": 3,
   "metadata": {},
   "outputs": [],
   "source": [
    "class Element(Base):\n",
    "    __tablename__ = \"element\"\n",
    "    path = Column(String, primary_key=True)\n",
    "    descendants = relationship(\n",
    "        \"Element\",\n",
    "        primaryjoin=remote(foreign(path)).like(path.concat(\"/%\")),\n",
    "        viewonly=True,\n",
    "        order_by=path,\n",
    "    )"
   ]
  },
  {
   "attachments": {},
   "cell_type": "markdown",
   "metadata": {},
   "source": [
    "Above, if given an _Element_ object with a path attribute of _\"/foo/bar2\"_, we seek for a load of _Element.descendants_ to look like:\n",
    "\n",
    "```\n",
    "SELECT element.path AS element_path\n",
    "FROM element\n",
    "WHERE element.path LIKE ('/foo/bar2' || '/%') ORDER BY element.path\n",
    "```"
   ]
  },
  {
   "cell_type": "code",
   "execution_count": null,
   "metadata": {},
   "outputs": [],
   "source": []
  }
 ],
 "metadata": {
  "kernelspec": {
   "display_name": "sql-env",
   "language": "python",
   "name": "python3"
  },
  "language_info": {
   "codemirror_mode": {
    "name": "ipython",
    "version": 3
   },
   "file_extension": ".py",
   "mimetype": "text/x-python",
   "name": "python",
   "nbconvert_exporter": "python",
   "pygments_lexer": "ipython3",
   "version": "3.9.6"
  },
  "orig_nbformat": 4,
  "vscode": {
   "interpreter": {
    "hash": "3b00ed0d5d9853c9f0267ee6e89091ab706130aa0b00cb1356a08ef47194a158"
   }
  }
 },
 "nbformat": 4,
 "nbformat_minor": 2
}
