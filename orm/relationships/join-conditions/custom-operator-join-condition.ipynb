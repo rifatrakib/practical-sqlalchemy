{
 "cells": [
  {
   "attachments": {},
   "cell_type": "markdown",
   "metadata": {},
   "source": [
    "#### Using custom operators in join conditions\n",
    "\n",
    "Another use case for relationships is the use of custom operators, such as _PostgreSQL_'s __\"is contained within\"__ `<<` operator when _joining with types such as INET and CIDR_. For _custom boolean operators_ we use the `Operators.bool_op()` function:\n",
    "\n",
    "```\n",
    "inet_column.bool_op(\"<<\")(cidr_column)\n",
    "```\n",
    "\n",
    "A comparison like the above may be __used directly__ with `relationship.primaryjoin` when _constructing_ a `relationship()`."
   ]
  },
  {
   "cell_type": "code",
   "execution_count": 1,
   "metadata": {},
   "outputs": [],
   "source": [
    "from sqlalchemy import Column, Integer\n",
    "from sqlalchemy.orm import relationship\n",
    "from sqlalchemy.dialects.postgresql import INET, CIDR\n",
    "from sqlalchemy.ext.declarative import declarative_base"
   ]
  },
  {
   "cell_type": "code",
   "execution_count": 2,
   "metadata": {},
   "outputs": [],
   "source": [
    "Base = declarative_base()"
   ]
  },
  {
   "cell_type": "code",
   "execution_count": 3,
   "metadata": {},
   "outputs": [],
   "source": [
    "class IPA(Base):\n",
    "    __tablename__ = \"ip_address\"\n",
    "    \n",
    "    id = Column(Integer, primary_key=True)\n",
    "    v4address = Column(INET)\n",
    "    \n",
    "    network = relationship(\n",
    "        \"Network\",\n",
    "        primaryjoin=\"IPA.v4address.bool_op('<<')\" \"(foreign(Network.v4representation))\",\n",
    "        viewonly=True,\n",
    "    )"
   ]
  },
  {
   "cell_type": "code",
   "execution_count": 4,
   "metadata": {},
   "outputs": [],
   "source": [
    "class Network(Base):\n",
    "    __tablename__ = \"network\"\n",
    "    \n",
    "    id = Column(Integer, primary_key=True)\n",
    "    v4representation = Column(CIDR)"
   ]
  },
  {
   "attachments": {},
   "cell_type": "markdown",
   "metadata": {},
   "source": [
    "Above, a query such as:\n",
    "\n",
    "```\n",
    "session.query(IPA).join(IPA.network)\n",
    "```\n",
    "\n",
    "Will render as:\n",
    "\n",
    "```\n",
    "SELECT ip_address.id AS ip_address_id, ip_address.v4address AS ip_address_v4address\n",
    "FROM ip_address JOIN network ON ip_address.v4address << network.v4representation\n",
    "```"
   ]
  },
  {
   "cell_type": "code",
   "execution_count": null,
   "metadata": {},
   "outputs": [],
   "source": []
  }
 ],
 "metadata": {
  "kernelspec": {
   "display_name": "sql-env",
   "language": "python",
   "name": "python3"
  },
  "language_info": {
   "codemirror_mode": {
    "name": "ipython",
    "version": 3
   },
   "file_extension": ".py",
   "mimetype": "text/x-python",
   "name": "python",
   "nbconvert_exporter": "python",
   "pygments_lexer": "ipython3",
   "version": "3.9.6"
  },
  "orig_nbformat": 4,
  "vscode": {
   "interpreter": {
    "hash": "3b00ed0d5d9853c9f0267ee6e89091ab706130aa0b00cb1356a08ef47194a158"
   }
  }
 },
 "nbformat": 4,
 "nbformat_minor": 2
}
