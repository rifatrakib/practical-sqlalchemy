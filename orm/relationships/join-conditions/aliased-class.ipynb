{
 "cells": [
  {
   "attachments": {},
   "cell_type": "markdown",
   "metadata": {},
   "source": [
    "#### Relationship to Aliased Class\n",
    "\n",
    "In the previous section, we illustrated a technique where we used _relationship.secondary_ in order to __place additional tables within a join condition__. There is one _complex join_ case where even this technique is __not sufficient__; when we seek to _join from A to B_, making use of _any number of C, D, etc. in between_, however there are also __join conditions between A and B directly__. In this case, the _join from A to B_ may be __difficult to express with just a complex `relationship.primaryjoin` condition__, as the _intermediary tables may need special handling_, and it is also __not expressible__ with a _relationship.secondary_ object, since the `A->secondary->B` pattern __does not support any references between A and B directly__. When this _extremely advanced case_ arises, we can resort to __creating a second mapping__ as a `target` for the _relationship_. This is where we use `AliasedClass` in order to make a _mapping to a class that includes all the additional tables we need for this join_. In order to produce this mapper as an _\"alternative\" mapping_ for our class, we use the `aliased()` function to produce the new construct, then use `relationship()` against the object as though it were a plain mapped class.\n",
    "\n",
    "Below illustrates a `relationship()` with a _simple join from A to B_, however the _primaryjoin_ condition is __augmented with two additional entities__ C and D, which also must have rows that line up with the rows in both A and B simultaneously."
   ]
  },
  {
   "cell_type": "code",
   "execution_count": 1,
   "metadata": {},
   "outputs": [],
   "source": [
    "from sqlalchemy import Column, ForeignKey, Integer, String, join, select\n",
    "from sqlalchemy.orm import aliased, declarative_base, relationship"
   ]
  },
  {
   "cell_type": "code",
   "execution_count": 2,
   "metadata": {},
   "outputs": [],
   "source": [
    "Base = declarative_base()"
   ]
  },
  {
   "cell_type": "code",
   "execution_count": 3,
   "metadata": {},
   "outputs": [],
   "source": [
    "class A(Base):\n",
    "    __tablename__ = \"a\"\n",
    "    id = Column(Integer, primary_key=True)\n",
    "    b_id = Column(ForeignKey(\"b.id\"))"
   ]
  },
  {
   "cell_type": "code",
   "execution_count": 4,
   "metadata": {},
   "outputs": [],
   "source": [
    "class B(Base):\n",
    "    __tablename__ = \"b\"\n",
    "    id = Column(Integer, primary_key=True)"
   ]
  },
  {
   "cell_type": "code",
   "execution_count": 5,
   "metadata": {},
   "outputs": [],
   "source": [
    "class C(Base):\n",
    "    __tablename__ = \"c\"\n",
    "    id = Column(Integer, primary_key=True)\n",
    "    a_id = Column(ForeignKey(\"a.id\"))\n",
    "    some_c_value = Column(String)"
   ]
  },
  {
   "cell_type": "code",
   "execution_count": 6,
   "metadata": {},
   "outputs": [],
   "source": [
    "class D(Base):\n",
    "    __tablename__ = \"d\"\n",
    "    id = Column(Integer, primary_key=True)\n",
    "    c_id = Column(ForeignKey(\"c.id\"))\n",
    "    b_id = Column(ForeignKey(\"b.id\"))\n",
    "    some_d_value = Column(String)"
   ]
  },
  {
   "cell_type": "code",
   "execution_count": 7,
   "metadata": {},
   "outputs": [],
   "source": [
    "# 1. set up the join() as a variable, so we can refer\n",
    "# to it in the mapping multiple times.\n",
    "j = join(B, D, D.b_id == B.id).join(C, C.id == D.c_id)"
   ]
  },
  {
   "cell_type": "code",
   "execution_count": 8,
   "metadata": {},
   "outputs": [],
   "source": [
    "# 2. Create an AliasedClass to B\n",
    "B_viacd = aliased(B, j, flat=True)"
   ]
  },
  {
   "cell_type": "code",
   "execution_count": 9,
   "metadata": {},
   "outputs": [],
   "source": [
    "A.b = relationship(B_viacd, primaryjoin=A.b_id == j.c.b_id)"
   ]
  },
  {
   "attachments": {},
   "cell_type": "markdown",
   "metadata": {},
   "source": [
    "With the above mapping, a simple join looks like:\n",
    "\n",
    "```\n",
    "session.query(A).join(A.b).all()\n",
    "\n",
    "SELECT a.id AS a_id, a.b_id AS a_b_id\n",
    "FROM a JOIN (b JOIN d ON d.b_id = b.id JOIN c ON c.id = d.c_id) ON a.b_id = b.id\n",
    "```"
   ]
  },
  {
   "attachments": {},
   "cell_type": "markdown",
   "metadata": {},
   "source": [
    "##### Using the AliasedClass target in Queries\n",
    "\n",
    "In the previous example, the _A.b_ relationship refers to the *B_viacd* entity as the `target`, and __not the B class directly__. To _add additional criteria_ involving the _A.b_ relationship, it's __typically necessary to reference the B_viacd directly__ rather than using B, especially in a case where the _target entity of A.b_ is to be __transformed__ into an `alias` or a `subquery`. Below illustrates the _same relationship_ using a _subquery_, rather than a join:"
   ]
  },
  {
   "cell_type": "code",
   "execution_count": 10,
   "metadata": {},
   "outputs": [],
   "source": [
    "subq = select(B).join(D, D.b_id == B.id).join(C, C.id == D.c_id).subquery()"
   ]
  },
  {
   "cell_type": "code",
   "execution_count": 11,
   "metadata": {},
   "outputs": [],
   "source": [
    "B_viacd_subquery = aliased(B, subq)"
   ]
  },
  {
   "cell_type": "code",
   "execution_count": 12,
   "metadata": {},
   "outputs": [
    {
     "name": "stderr",
     "output_type": "stream",
     "text": [
      "C:\\Users\\Rakib\\AppData\\Local\\Temp\\ipykernel_12292\\842783327.py:1: SAWarning: Property A.b on mapped class A->a being replaced with new property A.b; the old property will be discarded\n",
      "  A.b = relationship(B_viacd_subquery, primaryjoin=A.b_id == subq.c.id)\n"
     ]
    }
   ],
   "source": [
    "A.b = relationship(B_viacd_subquery, primaryjoin=A.b_id == subq.c.id)"
   ]
  },
  {
   "attachments": {},
   "cell_type": "markdown",
   "metadata": {},
   "source": [
    "A query using the above _A.b_ relationship will render a `subquery`:\n",
    "\n",
    "```\n",
    "session.query(A).join(A.b).all()\n",
    "\n",
    "SELECT a.id AS a_id, a.b_id AS a_b_id\n",
    "FROM a JOIN (SELECT b.id AS id, b.some_b_column AS some_b_column\n",
    "FROM b JOIN d ON d.b_id = b.id JOIN c ON c.id = d.c_id) AS anon_1 ON a.b_id = anon_1.id\n",
    "```\n",
    "\n",
    "If we want to _add additional criteria_ based on the _A.b_ join, we must do so in terms of *B_viacd_subquery* rather than B directly:\n",
    "\n",
    "```\n",
    "(\n",
    "    sess.query(A)\n",
    "    .join(A.b)\n",
    "    .filter(B_viacd_subquery.some_b_column == \"some b\")\n",
    "    .order_by(B_viacd_subquery.id)\n",
    ").all()\n",
    "\n",
    "SELECT a.id AS a_id, a.b_id AS a_b_id\n",
    "FROM a JOIN (SELECT b.id AS id, b.some_b_column AS some_b_column\n",
    "FROM b JOIN d ON d.b_id = b.id JOIN c ON c.id = d.c_id) AS anon_1 ON a.b_id = anon_1.id\n",
    "WHERE anon_1.some_b_column = ? ORDER BY anon_1.id\n",
    "```"
   ]
  },
  {
   "cell_type": "code",
   "execution_count": null,
   "metadata": {},
   "outputs": [],
   "source": []
  }
 ],
 "metadata": {
  "kernelspec": {
   "display_name": "sql-env",
   "language": "python",
   "name": "python3"
  },
  "language_info": {
   "codemirror_mode": {
    "name": "ipython",
    "version": 3
   },
   "file_extension": ".py",
   "mimetype": "text/x-python",
   "name": "python",
   "nbconvert_exporter": "python",
   "pygments_lexer": "ipython3",
   "version": "3.9.6"
  },
  "orig_nbformat": 4,
  "vscode": {
   "interpreter": {
    "hash": "3b00ed0d5d9853c9f0267ee6e89091ab706130aa0b00cb1356a08ef47194a158"
   }
  }
 },
 "nbformat": 4,
 "nbformat_minor": 2
}
