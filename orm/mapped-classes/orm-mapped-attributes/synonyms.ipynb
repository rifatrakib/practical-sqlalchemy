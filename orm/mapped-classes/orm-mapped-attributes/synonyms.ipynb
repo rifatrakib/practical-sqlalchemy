{
 "cells": [
  {
   "cell_type": "markdown",
   "metadata": {},
   "source": [
    "#### Synonyms\n",
    "\n",
    "_Synonyms_ are a __mapper-level construct__ that allow any attribute on a class to `\"mirror\"` another attribute that is mapped. In the most basic sense, the _synonym_ is an _easy way_ to __make a certain attribute available__ by an _additional name_."
   ]
  },
  {
   "cell_type": "code",
   "execution_count": 1,
   "metadata": {},
   "outputs": [],
   "source": [
    "from sqlalchemy import Column, Integer, String, Table\n",
    "from sqlalchemy.orm import declarative_base, registry, synonym\n",
    "from sqlalchemy.ext.declarative import synonym_for"
   ]
  },
  {
   "cell_type": "code",
   "execution_count": 2,
   "metadata": {},
   "outputs": [],
   "source": [
    "Base = declarative_base()\n",
    "mapper = registry()"
   ]
  },
  {
   "cell_type": "code",
   "execution_count": 3,
   "metadata": {},
   "outputs": [],
   "source": [
    "class JobStatus(Base):\n",
    "    __tablename__ = \"my_table\"\n",
    "    \n",
    "    id = Column(Integer, primary_key=True)\n",
    "    job_status = Column(String(50))\n",
    "    \n",
    "    status = synonym(\"job_status\")"
   ]
  },
  {
   "cell_type": "markdown",
   "metadata": {},
   "source": [
    "The above class `JobStatus` has _two attributes_, `.job_status` and `.status` that will __behave as one attribute__, both at the _expression level_:\n",
    "\n",
    "```\n",
    "print(JobStatus.job_status == \"some_status\")\n",
    "print(JobStatus.status == \"some_status\")\n",
    "```\n",
    "\n",
    "and at the instance level:\n",
    "\n",
    "```\n",
    "m1 = JobStatus(status=\"x\")\n",
    "m1.status, m1.job_status\n",
    "\n",
    "m1.job_status = \"y\"\n",
    "m1.status, m1.job_status\n",
    "```\n",
    "\n",
    "The `synonym()` can be used for _any kind of mapped attribute that subclasses_ `MapperProperty`, including _mapped columns_ and _relationships_, as well as _synonyms themselves_.\n",
    "\n",
    "Beyond a simple mirror, `synonym()` can also be made to __reference a user-defined descriptor__. We can `supply` our status synonym with a `@property`."
   ]
  },
  {
   "cell_type": "code",
   "execution_count": 4,
   "metadata": {},
   "outputs": [],
   "source": [
    "class StatusProperty(Base):\n",
    "    __tablename__ = \"status_property\"\n",
    "    \n",
    "    id = Column(Integer, primary_key=True)\n",
    "    status = Column(String(50))\n",
    "    \n",
    "    @property\n",
    "    def job_status(self):\n",
    "        return f\"Status: {self.status}\"\n",
    "    \n",
    "    job_status = synonym(\"status\", descriptor=job_status)"
   ]
  },
  {
   "cell_type": "markdown",
   "metadata": {},
   "source": [
    "When using _Declarative_, the above pattern __can be expressed more succinctly__ using the `synonym_for()` decorator."
   ]
  },
  {
   "cell_type": "code",
   "execution_count": 5,
   "metadata": {},
   "outputs": [],
   "source": [
    "class DeclarativeStatus(Base):\n",
    "    __tablename__ = \"declarative_status\"\n",
    "    \n",
    "    id = Column(Integer, primary_key=True)\n",
    "    status = Column(String(50))\n",
    "    \n",
    "    @synonym_for(\"status\")\n",
    "    @property\n",
    "    def job_status(self):\n",
    "        return f\"Status: {self.status}\""
   ]
  },
  {
   "cell_type": "markdown",
   "metadata": {},
   "source": [
    "While the `synonym()` is _useful for simple mirroring_, the use case of _augmenting attribute behavior with descriptors_ is _better handled_ in modern usage using the __hybrid attribute feature__, which is more oriented towards Python descriptors. Technically, a `synonym()` can do everything that a `hybrid_property` can do, as it also supports injection of custom SQL capabilities, but the `hybrid` is __more straightforward__ to use in more complex situations."
   ]
  },
  {
   "cell_type": "markdown",
   "metadata": {},
   "source": [
    "##### map_column\n",
    "\n",
    "__For classical mappings and mappings against an existing Table object only__, if `True`, the `synonym()` construct will _locate_ the `Column` object upon the _mapped table_ that would _normally be associated with the attribute name_ of this synonym, and produce a _new_ `ColumnProperty` that instead maps this `Column` to the alternate name given as the _\"name\"_ argument of the `synonym`; in this way, the usual step of _redefining the mapping_ of the `Column` to be _under a different name_ is __unnecessary__. This is usually intended to be used when a `Column` is to be _replaced with an attribute that also uses a descriptor_, that is, in conjunction with the `synonym.descriptor` parameter."
   ]
  },
  {
   "cell_type": "code",
   "execution_count": 6,
   "metadata": {},
   "outputs": [],
   "source": [
    "mapped_table = Table(\n",
    "    \"mapped_table\",\n",
    "    Base.metadata,\n",
    "    Column(\"id\", Integer, primary_key=True),\n",
    "    Column(\"job_status\", String(50))\n",
    ")"
   ]
  },
  {
   "cell_type": "code",
   "execution_count": 7,
   "metadata": {},
   "outputs": [],
   "source": [
    "class MappedTable:\n",
    "    @property\n",
    "    def _job_status_descriptor(self):\n",
    "        return f\"Status: {self._job_status}\""
   ]
  },
  {
   "cell_type": "code",
   "execution_count": 8,
   "metadata": {},
   "outputs": [
    {
     "data": {
      "text/plain": [
       "<Mapper at 0x1ee93c90e80; MappedTable>"
      ]
     },
     "execution_count": 8,
     "metadata": {},
     "output_type": "execute_result"
    }
   ],
   "source": [
    "mapper.map_imperatively(\n",
    "    MappedTable, mapped_table,\n",
    "    properties={\n",
    "        \"job_status\": synonym(\n",
    "            \"_job_status\", map_column=True,\n",
    "            descriptor=MappedTable._job_status_descriptor,\n",
    "        )\n",
    "    }\n",
    ")"
   ]
  },
  {
   "cell_type": "markdown",
   "metadata": {},
   "source": [
    "Above, the attribute named `_job_status` is __automatically mapped__ to the *job_status* column:\n",
    "\n",
    "```\n",
    "j1 = MappedTable()\n",
    "j1._job_status = \"employed\"\n",
    "j1.job_status\n",
    "```\n",
    "\n",
    "When using _Declarative_, in order to _provide a descriptor in conjunction with a synonym_, use the `sqlalchemy.ext.declarative.synonym_for()` helper. However, note that the _hybrid properties feature_ should usually be __preferred__, particularly when _redefining attribute behavior_."
   ]
  },
  {
   "cell_type": "code",
   "execution_count": null,
   "metadata": {},
   "outputs": [],
   "source": []
  }
 ],
 "metadata": {
  "kernelspec": {
   "display_name": "Python 3.9.6 ('sql-env': venv)",
   "language": "python",
   "name": "python3"
  },
  "language_info": {
   "codemirror_mode": {
    "name": "ipython",
    "version": 3
   },
   "file_extension": ".py",
   "mimetype": "text/x-python",
   "name": "python",
   "nbconvert_exporter": "python",
   "pygments_lexer": "ipython3",
   "version": "3.9.6"
  },
  "orig_nbformat": 4,
  "vscode": {
   "interpreter": {
    "hash": "3b00ed0d5d9853c9f0267ee6e89091ab706130aa0b00cb1356a08ef47194a158"
   }
  }
 },
 "nbformat": 4,
 "nbformat_minor": 2
}
