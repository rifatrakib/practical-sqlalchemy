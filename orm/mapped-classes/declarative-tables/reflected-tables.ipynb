{
 "cells": [
  {
   "cell_type": "markdown",
   "metadata": {},
   "source": [
    "#### Mapping Declaratively with Reflected Tables\n",
    "\n",
    "There are _several patterns available_ which provide for producing _mapped classes_ against a _series_ of `Table` objects that were __introspected from the database__, using the _reflection process_ described at `Reflecting Database Objects`.\n",
    "\n",
    "A _very simple way_ to __map a class to a table reflected from the database__ is to use a `declarative hybrid mapping`, passing the `Table.autoload_with` parameter to the `Table`."
   ]
  },
  {
   "cell_type": "code",
   "execution_count": 1,
   "metadata": {},
   "outputs": [],
   "source": [
    "from sqlalchemy import Column, Integer, String, Table, ForeignKey, create_engine\n",
    "from sqlalchemy.orm import relationship, declarative_base\n",
    "from sqlalchemy.ext.declarative import DeferredReflection"
   ]
  },
  {
   "cell_type": "code",
   "execution_count": 2,
   "metadata": {},
   "outputs": [],
   "source": [
    "engine = create_engine(\"sqlite+pysqlite:///:memory:\", echo=True, future=True)\n",
    "Base = declarative_base()"
   ]
  },
  {
   "cell_type": "code",
   "execution_count": 3,
   "metadata": {},
   "outputs": [],
   "source": [
    "class UserInline(Base):\n",
    "    __table__ = Table(\n",
    "        \"user\",\n",
    "        Base.metadata,\n",
    "        Column(\"id\", Integer, primary_key=True),\n",
    "        Column(\"name\", String),\n",
    "        Column(\"fullname\", String),\n",
    "        Column(\"nickname\", String),\n",
    "    )"
   ]
  },
  {
   "cell_type": "code",
   "execution_count": 4,
   "metadata": {},
   "outputs": [
    {
     "name": "stdout",
     "output_type": "stream",
     "text": [
      "2022-11-01 16:15:10,478 INFO sqlalchemy.engine.Engine BEGIN (implicit)\n",
      "2022-11-01 16:15:10,481 INFO sqlalchemy.engine.Engine PRAGMA main.table_info(\"user\")\n",
      "2022-11-01 16:15:10,482 INFO sqlalchemy.engine.Engine [raw sql] ()\n",
      "2022-11-01 16:15:10,485 INFO sqlalchemy.engine.Engine PRAGMA temp.table_info(\"user\")\n",
      "2022-11-01 16:15:10,486 INFO sqlalchemy.engine.Engine [raw sql] ()\n",
      "2022-11-01 16:15:10,488 INFO sqlalchemy.engine.Engine \n",
      "CREATE TABLE user (\n",
      "\tid INTEGER NOT NULL, \n",
      "\tname VARCHAR, \n",
      "\tfullname VARCHAR, \n",
      "\tnickname VARCHAR, \n",
      "\tPRIMARY KEY (id)\n",
      ")\n",
      "\n",
      "\n",
      "2022-11-01 16:15:10,490 INFO sqlalchemy.engine.Engine [no key 0.00128s] ()\n",
      "2022-11-01 16:15:10,492 INFO sqlalchemy.engine.Engine COMMIT\n"
     ]
    }
   ],
   "source": [
    "Base.metadata.create_all(engine)"
   ]
  },
  {
   "cell_type": "code",
   "execution_count": 5,
   "metadata": {},
   "outputs": [],
   "source": [
    "class User(Base):\n",
    "    __table__ = Table(\n",
    "        \"user\",\n",
    "        Base.metadata,\n",
    "        autoload_with=engine,\n",
    "    )"
   ]
  },
  {
   "cell_type": "markdown",
   "metadata": {},
   "source": [
    "A _variant_ on the above pattern that __scales much better__ is to use the `MetaData.reflect()` method to __reflect a full set of `Table` objects at once__, then refer to them from the `MetaData`."
   ]
  },
  {
   "cell_type": "code",
   "execution_count": 6,
   "metadata": {},
   "outputs": [
    {
     "name": "stdout",
     "output_type": "stream",
     "text": [
      "2022-11-01 16:15:10,644 INFO sqlalchemy.engine.Engine BEGIN (implicit)\n",
      "2022-11-01 16:15:10,647 INFO sqlalchemy.engine.Engine SELECT name FROM sqlite_master WHERE type='table' ORDER BY name\n",
      "2022-11-01 16:15:10,649 INFO sqlalchemy.engine.Engine [raw sql] ()\n",
      "2022-11-01 16:15:10,650 INFO sqlalchemy.engine.Engine ROLLBACK\n"
     ]
    }
   ],
   "source": [
    "Base.metadata.reflect(engine)"
   ]
  },
  {
   "cell_type": "code",
   "execution_count": 7,
   "metadata": {},
   "outputs": [],
   "source": [
    "class ReflectedUser(Base):\n",
    "    __table__ = Base.metadata.tables[\"user\"]"
   ]
  },
  {
   "cell_type": "markdown",
   "metadata": {},
   "source": [
    "A __major downside__ to the above approach is that the _mapped classes cannot be declared until the tables have been reflected_, which __requires__ the `database connectivity source` __to be present__ while the `application classes` are _being declared_; it's _typical_ that _classes are declared as the modules of an application are being imported_, but `database connectivity` __isn't available until the application starts__ running code so that it can _consume configuration information_ and __create an engine__. There are _currently_ `two approaches` to __working around__ this."
   ]
  },
  {
   "cell_type": "markdown",
   "metadata": {},
   "source": [
    "##### Using DeferredReflection\n",
    "\n",
    "To _accommodate_ the use case of _declaring mapped classes_ where `reflection of table metadata` can __occur afterwards__, a _simple extension_ called the `DeferredReflection mixin` is available, which __alters__ the _declarative mapping process_ to be __delayed until__ a special class-level `DeferredReflection.prepare()` method is called, which will __perform the reflection process__ against a `target database`, and will _integrate the results_ with the `declarative table mapping process`, that is, classes which use the `__tablename__` attribute."
   ]
  },
  {
   "cell_type": "code",
   "execution_count": 8,
   "metadata": {},
   "outputs": [],
   "source": [
    "class FooBase(Base):\n",
    "    __table__ = Table(\n",
    "        \"foo\",\n",
    "        Base.metadata,\n",
    "        Column(\"id\", Integer, primary_key=True),\n",
    "        Column(\"name\", String),\n",
    "        Column(\"fullname\", String),\n",
    "        Column(\"nickname\", String),\n",
    "    )"
   ]
  },
  {
   "cell_type": "code",
   "execution_count": 9,
   "metadata": {},
   "outputs": [],
   "source": [
    "class BarBase(Base):\n",
    "    __table__ = Table(\n",
    "        \"bar\",\n",
    "        Base.metadata,\n",
    "        Column(\"id\", Integer, primary_key=True),\n",
    "        Column(\"foo_id\", ForeignKey(\"foo.id\")),\n",
    "    )"
   ]
  },
  {
   "cell_type": "code",
   "execution_count": 10,
   "metadata": {},
   "outputs": [
    {
     "name": "stdout",
     "output_type": "stream",
     "text": [
      "2022-11-01 16:15:10,926 INFO sqlalchemy.engine.Engine BEGIN (implicit)\n",
      "2022-11-01 16:15:10,928 INFO sqlalchemy.engine.Engine PRAGMA main.table_info(\"user\")\n",
      "2022-11-01 16:15:10,929 INFO sqlalchemy.engine.Engine [raw sql] ()\n",
      "2022-11-01 16:15:10,933 INFO sqlalchemy.engine.Engine PRAGMA main.table_info(\"foo\")\n",
      "2022-11-01 16:15:10,935 INFO sqlalchemy.engine.Engine [raw sql] ()\n",
      "2022-11-01 16:15:10,936 INFO sqlalchemy.engine.Engine PRAGMA temp.table_info(\"foo\")\n",
      "2022-11-01 16:15:10,937 INFO sqlalchemy.engine.Engine [raw sql] ()\n",
      "2022-11-01 16:15:10,939 INFO sqlalchemy.engine.Engine PRAGMA main.table_info(\"bar\")\n",
      "2022-11-01 16:15:10,940 INFO sqlalchemy.engine.Engine [raw sql] ()\n",
      "2022-11-01 16:15:10,941 INFO sqlalchemy.engine.Engine PRAGMA temp.table_info(\"bar\")\n",
      "2022-11-01 16:15:10,942 INFO sqlalchemy.engine.Engine [raw sql] ()\n",
      "2022-11-01 16:15:10,944 INFO sqlalchemy.engine.Engine \n",
      "CREATE TABLE foo (\n",
      "\tid INTEGER NOT NULL, \n",
      "\tname VARCHAR, \n",
      "\tfullname VARCHAR, \n",
      "\tnickname VARCHAR, \n",
      "\tPRIMARY KEY (id)\n",
      ")\n",
      "\n",
      "\n",
      "2022-11-01 16:15:10,946 INFO sqlalchemy.engine.Engine [no key 0.00186s] ()\n",
      "2022-11-01 16:15:10,949 INFO sqlalchemy.engine.Engine \n",
      "CREATE TABLE bar (\n",
      "\tid INTEGER NOT NULL, \n",
      "\tfoo_id INTEGER, \n",
      "\tPRIMARY KEY (id), \n",
      "\tFOREIGN KEY(foo_id) REFERENCES foo (id)\n",
      ")\n",
      "\n",
      "\n",
      "2022-11-01 16:15:10,950 INFO sqlalchemy.engine.Engine [no key 0.00116s] ()\n",
      "2022-11-01 16:15:10,952 INFO sqlalchemy.engine.Engine COMMIT\n"
     ]
    }
   ],
   "source": [
    "Base.metadata.create_all(engine)"
   ]
  },
  {
   "cell_type": "code",
   "execution_count": 11,
   "metadata": {},
   "outputs": [],
   "source": [
    "class Reflected(DeferredReflection):\n",
    "    __abstract__ = True"
   ]
  },
  {
   "cell_type": "code",
   "execution_count": 12,
   "metadata": {},
   "outputs": [],
   "source": [
    "class Foo(Reflected, Base):\n",
    "    __tablename__ = \"foo\""
   ]
  },
  {
   "cell_type": "code",
   "execution_count": 13,
   "metadata": {},
   "outputs": [],
   "source": [
    "class Bar(Reflected, Base):\n",
    "    __tablename__ = \"bar\""
   ]
  },
  {
   "cell_type": "markdown",
   "metadata": {},
   "source": [
    "Above, we create a _mixin class_ `Reflected` that will __serve as a base__ for classes in our _declarative hierarchy_ that should become mapped when the `Reflected.prepare` method is called. The above mapping is __not complete until we do so__, given an `Engine`."
   ]
  },
  {
   "cell_type": "code",
   "execution_count": 14,
   "metadata": {},
   "outputs": [
    {
     "name": "stdout",
     "output_type": "stream",
     "text": [
      "2022-11-01 16:15:11,426 INFO sqlalchemy.engine.Engine BEGIN (implicit)\n",
      "2022-11-01 16:15:11,428 INFO sqlalchemy.engine.Engine PRAGMA main.table_xinfo(\"foo\")\n",
      "2022-11-01 16:15:11,431 INFO sqlalchemy.engine.Engine [raw sql] ()\n",
      "2022-11-01 16:15:11,433 INFO sqlalchemy.engine.Engine SELECT sql FROM  (SELECT * FROM sqlite_master UNION ALL   SELECT * FROM sqlite_temp_master) WHERE name = ? AND type = 'table'\n",
      "2022-11-01 16:15:11,434 INFO sqlalchemy.engine.Engine [raw sql] ('foo',)\n",
      "2022-11-01 16:15:11,436 INFO sqlalchemy.engine.Engine PRAGMA main.foreign_key_list(\"foo\")\n",
      "2022-11-01 16:15:11,437 INFO sqlalchemy.engine.Engine [raw sql] ()\n",
      "2022-11-01 16:15:11,438 INFO sqlalchemy.engine.Engine PRAGMA temp.foreign_key_list(\"foo\")\n",
      "2022-11-01 16:15:11,439 INFO sqlalchemy.engine.Engine [raw sql] ()\n",
      "2022-11-01 16:15:11,440 INFO sqlalchemy.engine.Engine SELECT sql FROM  (SELECT * FROM sqlite_master UNION ALL   SELECT * FROM sqlite_temp_master) WHERE name = ? AND type = 'table'\n",
      "2022-11-01 16:15:11,441 INFO sqlalchemy.engine.Engine [raw sql] ('foo',)\n",
      "2022-11-01 16:15:11,443 INFO sqlalchemy.engine.Engine PRAGMA main.index_list(\"foo\")\n",
      "2022-11-01 16:15:11,444 INFO sqlalchemy.engine.Engine [raw sql] ()\n",
      "2022-11-01 16:15:11,449 INFO sqlalchemy.engine.Engine PRAGMA temp.index_list(\"foo\")\n",
      "2022-11-01 16:15:11,450 INFO sqlalchemy.engine.Engine [raw sql] ()\n",
      "2022-11-01 16:15:11,452 INFO sqlalchemy.engine.Engine PRAGMA main.index_list(\"foo\")\n",
      "2022-11-01 16:15:11,453 INFO sqlalchemy.engine.Engine [raw sql] ()\n",
      "2022-11-01 16:15:11,454 INFO sqlalchemy.engine.Engine PRAGMA temp.index_list(\"foo\")\n",
      "2022-11-01 16:15:11,455 INFO sqlalchemy.engine.Engine [raw sql] ()\n",
      "2022-11-01 16:15:11,455 INFO sqlalchemy.engine.Engine SELECT sql FROM  (SELECT * FROM sqlite_master UNION ALL   SELECT * FROM sqlite_temp_master) WHERE name = ? AND type = 'table'\n",
      "2022-11-01 16:15:11,456 INFO sqlalchemy.engine.Engine [raw sql] ('foo',)\n",
      "2022-11-01 16:15:11,459 INFO sqlalchemy.engine.Engine PRAGMA main.table_xinfo(\"bar\")\n",
      "2022-11-01 16:15:11,461 INFO sqlalchemy.engine.Engine [raw sql] ()\n",
      "2022-11-01 16:15:11,464 INFO sqlalchemy.engine.Engine SELECT sql FROM  (SELECT * FROM sqlite_master UNION ALL   SELECT * FROM sqlite_temp_master) WHERE name = ? AND type = 'table'\n",
      "2022-11-01 16:15:11,465 INFO sqlalchemy.engine.Engine [raw sql] ('bar',)\n",
      "2022-11-01 16:15:11,467 INFO sqlalchemy.engine.Engine PRAGMA main.foreign_key_list(\"bar\")\n",
      "2022-11-01 16:15:11,468 INFO sqlalchemy.engine.Engine [raw sql] ()\n",
      "2022-11-01 16:15:11,469 INFO sqlalchemy.engine.Engine SELECT sql FROM  (SELECT * FROM sqlite_master UNION ALL   SELECT * FROM sqlite_temp_master) WHERE name = ? AND type = 'table'\n",
      "2022-11-01 16:15:11,472 INFO sqlalchemy.engine.Engine [raw sql] ('bar',)\n",
      "2022-11-01 16:15:11,474 INFO sqlalchemy.engine.Engine PRAGMA main.index_list(\"bar\")\n",
      "2022-11-01 16:15:11,475 INFO sqlalchemy.engine.Engine [raw sql] ()\n",
      "2022-11-01 16:15:11,476 INFO sqlalchemy.engine.Engine PRAGMA temp.index_list(\"bar\")\n",
      "2022-11-01 16:15:11,478 INFO sqlalchemy.engine.Engine [raw sql] ()\n",
      "2022-11-01 16:15:11,481 INFO sqlalchemy.engine.Engine PRAGMA main.index_list(\"bar\")\n",
      "2022-11-01 16:15:11,482 INFO sqlalchemy.engine.Engine [raw sql] ()\n",
      "2022-11-01 16:15:11,484 INFO sqlalchemy.engine.Engine PRAGMA temp.index_list(\"bar\")\n",
      "2022-11-01 16:15:11,486 INFO sqlalchemy.engine.Engine [raw sql] ()\n",
      "2022-11-01 16:15:11,487 INFO sqlalchemy.engine.Engine SELECT sql FROM  (SELECT * FROM sqlite_master UNION ALL   SELECT * FROM sqlite_temp_master) WHERE name = ? AND type = 'table'\n",
      "2022-11-01 16:15:11,488 INFO sqlalchemy.engine.Engine [raw sql] ('bar',)\n",
      "2022-11-01 16:15:11,491 INFO sqlalchemy.engine.Engine ROLLBACK\n"
     ]
    }
   ],
   "source": [
    "Reflected.prepare(engine)"
   ]
  },
  {
   "cell_type": "markdown",
   "metadata": {},
   "source": [
    "The _purpose_ of the `Reflected` class is to __define the scope at which classes should be reflectively mapped__. The plugin will _search_ among the `subclass tree` of the target against which `.prepare()` is called and __reflect all tables which are named by declared classes__; tables in the _target database_ that are _not part of mappings_ and are _not related to the target tables via foreign key constraint_ __will not be reflected__."
   ]
  },
  {
   "cell_type": "markdown",
   "metadata": {},
   "source": [
    "##### Using Automap\n",
    "\n",
    "A more _automated solution_ to __mapping against an existing database__ where _table reflection_ is to be used is to use the `Automap` extension. This extension will __generate entire mapped classes from a database schema__, __including relationships between classes__ based on _observed_ `foreign key` _constraints_. While it _includes hooks for customization_, such as hooks that allow __custom class naming__ and __relationship naming__ schemes, `automap` is oriented towards an expedient __zero-configuration style of working__. If an application wishes to have a _fully explicit model_ that makes use of _table reflection_, the `Using DeferredReflection` may be _preferable_."
   ]
  },
  {
   "cell_type": "code",
   "execution_count": null,
   "metadata": {},
   "outputs": [],
   "source": []
  }
 ],
 "metadata": {
  "kernelspec": {
   "display_name": "Python 3.9.6 ('sql-env': venv)",
   "language": "python",
   "name": "python3"
  },
  "language_info": {
   "codemirror_mode": {
    "name": "ipython",
    "version": 3
   },
   "file_extension": ".py",
   "mimetype": "text/x-python",
   "name": "python",
   "nbconvert_exporter": "python",
   "pygments_lexer": "ipython3",
   "version": "3.9.6"
  },
  "orig_nbformat": 4,
  "vscode": {
   "interpreter": {
    "hash": "3b00ed0d5d9853c9f0267ee6e89091ab706130aa0b00cb1356a08ef47194a158"
   }
  }
 },
 "nbformat": 4,
 "nbformat_minor": 2
}
