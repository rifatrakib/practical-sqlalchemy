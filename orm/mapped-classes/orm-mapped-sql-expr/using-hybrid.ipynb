{
 "cells": [
  {
   "cell_type": "markdown",
   "metadata": {},
   "source": [
    "#### Using a Hybrid\n",
    "\n",
    "The _easiest_ and _most flexible_ way to __link relatively simple SQL expressions__ to a class is to use a so-called `\"hybrid attribute\"`, described in the section `Hybrid Attributes`. The _hybrid_ provides for an _expression_ that works at both the _Python level_ as well as at the _SQL expression level_. For example, below we map a class `User`, containing attributes _firstname_ and _lastname_, and _include a hybrid_ that will provide for us the _fullname_, which is the `string concatenation` of the two."
   ]
  },
  {
   "cell_type": "code",
   "execution_count": 1,
   "metadata": {},
   "outputs": [],
   "source": [
    "from sqlalchemy import Column, Integer, String\n",
    "from sqlalchemy.orm import declarative_base\n",
    "from sqlalchemy.sql import case\n",
    "from sqlalchemy.ext.hybrid import hybrid_property"
   ]
  },
  {
   "cell_type": "code",
   "execution_count": 2,
   "metadata": {},
   "outputs": [],
   "source": [
    "Base = declarative_base()"
   ]
  },
  {
   "cell_type": "code",
   "execution_count": 3,
   "metadata": {},
   "outputs": [],
   "source": [
    "class User(Base):\n",
    "    __tablename__ = \"user\"\n",
    "    \n",
    "    id = Column(Integer, primary_key=True)\n",
    "    firstname = Column(String(50))\n",
    "    lastname = Column(String(50))\n",
    "    \n",
    "    @hybrid_property\n",
    "    def fullname(self):\n",
    "        return f\"{self.firstname} {self.lastname}\""
   ]
  },
  {
   "cell_type": "markdown",
   "metadata": {},
   "source": [
    "Above, the _fullname_ attribute is __interpreted at both the instance and class level__, so that it is available from an instance.\n",
    "\n",
    "```\n",
    "some_user = session.query(User).first()\n",
    "print(some_user.fullname)\n",
    "```\n",
    "\n",
    "as well as usable within queries:\n",
    "\n",
    "```\n",
    "some_user = session.query(User).filter(User.fullname == \"John Smith\").first()\n",
    "```\n",
    "\n",
    "The _string concatenation_ example is a simple one, where the _Python expression_ __can be dual purposed__ at the _instance and class level_. Often, the _SQL expression_ __must be distinguished__ from the _Python expression_, which can be achieved using `hybrid_property.expression()`. Below we illustrate the case where a __conditional needs to be present inside the hybrid__, using the `if statement` in _Python_ and the `case()` construct for _SQL expressions_."
   ]
  },
  {
   "cell_type": "code",
   "execution_count": 4,
   "metadata": {},
   "outputs": [],
   "source": [
    "class UpgradedUser(Base):\n",
    "    __tablename__ = \"upgraded_user\"\n",
    "    \n",
    "    id = Column(Integer, primary_key=True)\n",
    "    firstname = Column(String(50))\n",
    "    lastname = Column(String(50))\n",
    "    \n",
    "    @hybrid_property\n",
    "    def fullname(self):\n",
    "        if self.firstname is not None:\n",
    "            return f\"{self.firstname} {self.lastname}\"\n",
    "        else:\n",
    "            return self.lastname\n",
    "    \n",
    "    @fullname.expression\n",
    "    def fullname(cls):\n",
    "        return case(\n",
    "            [(cls.firstname != None, f\"{cls.firstname} {cls.lastname}\")],\n",
    "            else_=cls.lastname,\n",
    "        )"
   ]
  },
  {
   "cell_type": "code",
   "execution_count": null,
   "metadata": {},
   "outputs": [],
   "source": []
  }
 ],
 "metadata": {
  "kernelspec": {
   "display_name": "Python 3.9.6 ('sql-env': venv)",
   "language": "python",
   "name": "python3"
  },
  "language_info": {
   "codemirror_mode": {
    "name": "ipython",
    "version": 3
   },
   "file_extension": ".py",
   "mimetype": "text/x-python",
   "name": "python",
   "nbconvert_exporter": "python",
   "pygments_lexer": "ipython3",
   "version": "3.9.6"
  },
  "orig_nbformat": 4,
  "vscode": {
   "interpreter": {
    "hash": "3b00ed0d5d9853c9f0267ee6e89091ab706130aa0b00cb1356a08ef47194a158"
   }
  }
 },
 "nbformat": 4,
 "nbformat_minor": 2
}
