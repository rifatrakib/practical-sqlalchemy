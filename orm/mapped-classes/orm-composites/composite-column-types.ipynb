{
 "cells": [
  {
   "cell_type": "markdown",
   "metadata": {},
   "source": [
    "## Composite Column Types\n",
    "\n",
    "_Sets of columns_ __can be associated__ with a _single user-defined datatype_. The ORM provides a _single attribute_ which __represents the group of columns__ using the class you provide.\n",
    "\n",
    "A simple example represents pairs of columns as a `Point` object. `Point` represents such a pair as _.x_ and _.y_."
   ]
  },
  {
   "cell_type": "code",
   "execution_count": 1,
   "metadata": {},
   "outputs": [],
   "source": [
    "from sqlalchemy import Column, Integer, Table\n",
    "from sqlalchemy.orm import declarative_base, composite, registry"
   ]
  },
  {
   "cell_type": "code",
   "execution_count": 2,
   "metadata": {},
   "outputs": [],
   "source": [
    "Base = declarative_base()\n",
    "mapper_registry = registry()"
   ]
  },
  {
   "cell_type": "code",
   "execution_count": 3,
   "metadata": {},
   "outputs": [],
   "source": [
    "class Point:\n",
    "    def __init__(self, x, y):\n",
    "        self.x = x\n",
    "        self.y = y\n",
    "    \n",
    "    def __composite_values__(self):\n",
    "        return self.x, self.y\n",
    "    \n",
    "    def __repr__(self):\n",
    "        return f\"Point(x={self.x!r}, y={self.y!r})\"\n",
    "    \n",
    "    def __eq__(self, other):\n",
    "        return isinstance(other, Point) and other.x == self.x and other.y == self.y\n",
    "    \n",
    "    def __ne__(self, other):\n",
    "        return not self.__eq__(other)"
   ]
  },
  {
   "cell_type": "markdown",
   "metadata": {},
   "source": [
    "The requirements for the _custom datatype class_ are that it have a `constructor` which __accepts positional arguments corresponding to its column format__, and also provides a method `__composite_values__()` which returns the state of the object as a _list_ or _tuple_, in order of its _column-based attributes_. It also should supply adequate `__eq__()` and `__ne__()` methods which test the equality of two instances.\n",
    "\n",
    "We will create a mapping to a table _vertices_, which __represents two points__ as `x1/y1` and `x2/y2`. These are created normally as `Column` objects. Then, the `composite()` function is used to __assign new attributes__ that will _represent sets of columns_ via the `Point` class."
   ]
  },
  {
   "cell_type": "code",
   "execution_count": 4,
   "metadata": {},
   "outputs": [],
   "source": [
    "class Vertex(Base):\n",
    "    __tablename__ = \"vertices\"\n",
    "    \n",
    "    id = Column(Integer, primary_key=True)\n",
    "    x1 = Column(Integer)\n",
    "    y1 = Column(Integer)\n",
    "    x2 = Column(Integer)\n",
    "    y2 = Column(Integer)\n",
    "    \n",
    "    start = composite(Point, x1, y1)\n",
    "    end = composite(Point, x2, y2)"
   ]
  },
  {
   "cell_type": "markdown",
   "metadata": {},
   "source": [
    "A _classical mapping_ above would define each `composite()` against the existing table."
   ]
  },
  {
   "cell_type": "code",
   "execution_count": 5,
   "metadata": {},
   "outputs": [],
   "source": [
    "vertices_table = Table(\n",
    "    \"vertices_table\",\n",
    "    Base.metadata,\n",
    "    Column(\"id\", Integer, primary_key=True),\n",
    "    Column(\"x1\", Integer),\n",
    "    Column(\"y1\", Integer),\n",
    "    Column(\"x2\", Integer),\n",
    "    Column(\"y2\", Integer),\n",
    ")"
   ]
  },
  {
   "cell_type": "code",
   "execution_count": 6,
   "metadata": {},
   "outputs": [],
   "source": [
    "class VertexMapper:\n",
    "    pass"
   ]
  },
  {
   "cell_type": "code",
   "execution_count": 7,
   "metadata": {},
   "outputs": [
    {
     "data": {
      "text/plain": [
       "<Mapper at 0x20b3fb65130; VertexMapper>"
      ]
     },
     "execution_count": 7,
     "metadata": {},
     "output_type": "execute_result"
    }
   ],
   "source": [
    "mapper_registry.map_imperatively(\n",
    "    VertexMapper,\n",
    "    vertices_table,\n",
    "    properties={\n",
    "        \"start\": composite(Point, vertices_table.c.x1, vertices_table.c.y1),\n",
    "        \"end\": composite(Point, vertices_table.c.x2, vertices_table.c.y2),\n",
    "    }\n",
    ")"
   ]
  },
  {
   "cell_type": "markdown",
   "metadata": {},
   "source": [
    "We can now _persist_ and use `Vertex` instances, as well as query for them, using the `.start` and `.end` attributes against _ad-hoc_ `Point` instances.\n",
    "\n",
    "```\n",
    "v = Vertex(start=Point(3, 4), end=Point(5, 6))\n",
    "session.add(v)\n",
    "q = session.query(Vertex).filter(Vertex.start == Point(3, 4))\n",
    "print(q.first().start)\n",
    "```"
   ]
  },
  {
   "cell_type": "code",
   "execution_count": null,
   "metadata": {},
   "outputs": [],
   "source": []
  }
 ],
 "metadata": {
  "kernelspec": {
   "display_name": "Python 3.9.6 ('sql-env': venv)",
   "language": "python",
   "name": "python3"
  },
  "language_info": {
   "codemirror_mode": {
    "name": "ipython",
    "version": 3
   },
   "file_extension": ".py",
   "mimetype": "text/x-python",
   "name": "python",
   "nbconvert_exporter": "python",
   "pygments_lexer": "ipython3",
   "version": "3.9.6"
  },
  "orig_nbformat": 4,
  "vscode": {
   "interpreter": {
    "hash": "3b00ed0d5d9853c9f0267ee6e89091ab706130aa0b00cb1356a08ef47194a158"
   }
  }
 },
 "nbformat": 4,
 "nbformat_minor": 2
}
