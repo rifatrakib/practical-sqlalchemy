{
 "cells": [
  {
   "cell_type": "markdown",
   "metadata": {},
   "source": [
    "#### Redefining Comparison Operations for Composites\n",
    "\n",
    "The `\"equals\"` comparison operation _by default_ produces an __AND__ of all corresponding columns equated to one another. This can be changed using the `comparator_factory` argument to `composite()`, where we specify a _custom_ `Comparator` class to __define existing or new operations__. Below we illustrate the `\"greater than\"` operator, implementing the same expression that the base `\"greater than\"` does."
   ]
  },
  {
   "cell_type": "code",
   "execution_count": 1,
   "metadata": {},
   "outputs": [],
   "source": [
    "from sqlalchemy import Column, Integer, sql\n",
    "from sqlalchemy.orm import CompositeProperty, declarative_base, composite"
   ]
  },
  {
   "cell_type": "code",
   "execution_count": 2,
   "metadata": {},
   "outputs": [],
   "source": [
    "Base = declarative_base()"
   ]
  },
  {
   "cell_type": "code",
   "execution_count": 3,
   "metadata": {},
   "outputs": [],
   "source": [
    "class Point:\n",
    "    def __init__(self, x, y):\n",
    "        self.x = x\n",
    "        self.y = y\n",
    "    \n",
    "    def __composite_values__(self):\n",
    "        return self.x, self.y\n",
    "    \n",
    "    def __repr__(self):\n",
    "        return f\"Point(x={self.x!r}, y={self.y!r})\"\n",
    "    \n",
    "    def __eq__(self, other):\n",
    "        return isinstance(other, Point) and other.x == self.x and other.y == self.y\n",
    "    \n",
    "    def __ne__(self, other):\n",
    "        return not self.__eq__(other)"
   ]
  },
  {
   "cell_type": "code",
   "execution_count": 4,
   "metadata": {},
   "outputs": [],
   "source": [
    "class PointComparator(CompositeProperty.Comparator):\n",
    "    def __gt__(self, other):\n",
    "        \"\"\"redefine the 'greater than' operation\"\"\"\n",
    "        return sql.and_(\n",
    "            *[\n",
    "                a > b for a, b in zip(\n",
    "                    self.__clause_element__().clauses,\n",
    "                    other.__composite_values__(),\n",
    "                )\n",
    "            ]\n",
    "        )"
   ]
  },
  {
   "cell_type": "code",
   "execution_count": 5,
   "metadata": {},
   "outputs": [],
   "source": [
    "class Vertex(Base):\n",
    "    __tablename__ = \"vertices\"\n",
    "    \n",
    "    id = Column(Integer, primary_key=True)\n",
    "    x1 = Column(Integer)\n",
    "    y1 = Column(Integer)\n",
    "    x2 = Column(Integer)\n",
    "    y2 = Column(Integer)\n",
    "    \n",
    "    start = composite(Point, x1, y1, comparator_factory=PointComparator)\n",
    "    end = composite(Point, x2, y2, comparator_factory=PointComparator)"
   ]
  },
  {
   "cell_type": "code",
   "execution_count": null,
   "metadata": {},
   "outputs": [],
   "source": []
  }
 ],
 "metadata": {
  "kernelspec": {
   "display_name": "Python 3.9.6 ('sql-env': venv)",
   "language": "python",
   "name": "python3"
  },
  "language_info": {
   "codemirror_mode": {
    "name": "ipython",
    "version": 3
   },
   "file_extension": ".py",
   "mimetype": "text/x-python",
   "name": "python",
   "nbconvert_exporter": "python",
   "pygments_lexer": "ipython3",
   "version": "3.9.6"
  },
  "orig_nbformat": 4,
  "vscode": {
   "interpreter": {
    "hash": "3b00ed0d5d9853c9f0267ee6e89091ab706130aa0b00cb1356a08ef47194a158"
   }
  }
 },
 "nbformat": 4,
 "nbformat_minor": 2
}
