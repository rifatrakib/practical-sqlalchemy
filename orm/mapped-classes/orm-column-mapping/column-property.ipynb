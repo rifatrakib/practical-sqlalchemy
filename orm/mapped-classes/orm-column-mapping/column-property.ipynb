{
 "cells": [
  {
   "cell_type": "markdown",
   "metadata": {},
   "source": [
    "#### Using column_property for column level options\n",
    "\n",
    "_Options_ can be specified when mapping a `Column` using the `column_property()` function. This function __explicitly creates the `ColumnProperty`__ used by the `mapper()` to __keep track of the `Column`__; normally, the `mapper()` creates this __automatically__. Using `column_property()`, we can _pass additional arguments_ about how we'd like the `Column` to be mapped. Below, we pass an option *active_history*, which specifies that a change to this column's value should result in the former value being loaded first."
   ]
  },
  {
   "cell_type": "code",
   "execution_count": 1,
   "metadata": {},
   "outputs": [],
   "source": [
    "from sqlalchemy import Column, ForeignKey, Integer, String, Table, MetaData\n",
    "from sqlalchemy.orm import declarative_base, column_property"
   ]
  },
  {
   "cell_type": "code",
   "execution_count": 2,
   "metadata": {},
   "outputs": [],
   "source": [
    "metadata_obj = MetaData()\n",
    "Base = declarative_base()"
   ]
  },
  {
   "cell_type": "code",
   "execution_count": 3,
   "metadata": {},
   "outputs": [],
   "source": [
    "class BaseUser(Base):\n",
    "    __tablename__ = \"base_user\"\n",
    "    \n",
    "    id = Column(Integer, primary_key=True)\n",
    "    name = column_property(Column(String(50)), active_history=True)"
   ]
  },
  {
   "cell_type": "markdown",
   "metadata": {},
   "source": [
    "`column_property()` is also used to __map a single attribute to multiple columns__. This use case arises when _mapping to_ a `join()` which has attributes which are equated to each other."
   ]
  },
  {
   "cell_type": "code",
   "execution_count": 4,
   "metadata": {},
   "outputs": [],
   "source": [
    "user_table = Table(\n",
    "    \"user\",\n",
    "    metadata_obj,\n",
    "    Column(\"id\", Integer, primary_key=True),\n",
    "    Column(\"name\", String),\n",
    ")"
   ]
  },
  {
   "cell_type": "code",
   "execution_count": 5,
   "metadata": {},
   "outputs": [],
   "source": [
    "address_table = Table(\n",
    "    \"address\",\n",
    "    metadata_obj,\n",
    "    Column(\"id\", Integer, primary_key=True),\n",
    "    Column(\"user_id\", Integer, ForeignKey(\"user.id\")),\n",
    "    Column(\"email_address\", String),\n",
    ")"
   ]
  },
  {
   "cell_type": "code",
   "execution_count": 6,
   "metadata": {},
   "outputs": [],
   "source": [
    "class User(Base):\n",
    "    __table__ = user_table.join(address_table)\n",
    "    \n",
    "    # assign \"user.id\", \"address.user_id\" to the \"id\" attribute\n",
    "    id = column_property(user_table.c.id, address_table.c.user_id)\n",
    "    address_id = address_table.c.id"
   ]
  },
  {
   "cell_type": "markdown",
   "metadata": {},
   "source": [
    "Another place where `column_property()` is needed is to __specify SQL expressions as mapped attributes__, such as below where we _create an attribute_ fullname that is the _string concatenation_ of the `firstname` and `lastname` columns."
   ]
  },
  {
   "cell_type": "code",
   "execution_count": 7,
   "metadata": {},
   "outputs": [],
   "source": [
    "class ConcatUser(Base):\n",
    "    __tablename__ = \"user\"\n",
    "    \n",
    "    id = Column(Integer, primary_key=True)\n",
    "    firstname = Column(String(50))\n",
    "    lastname = Column(String(50))\n",
    "    fullname = column_property(firstname + \" \" + lastname)"
   ]
  },
  {
   "cell_type": "code",
   "execution_count": null,
   "metadata": {},
   "outputs": [],
   "source": []
  }
 ],
 "metadata": {
  "kernelspec": {
   "display_name": "Python 3.9.6 ('sql-env': venv)",
   "language": "python",
   "name": "python3"
  },
  "language_info": {
   "codemirror_mode": {
    "name": "ipython",
    "version": 3
   },
   "file_extension": ".py",
   "mimetype": "text/x-python",
   "name": "python",
   "nbconvert_exporter": "python",
   "pygments_lexer": "ipython3",
   "version": "3.9.6"
  },
  "orig_nbformat": 4,
  "vscode": {
   "interpreter": {
    "hash": "3b00ed0d5d9853c9f0267ee6e89091ab706130aa0b00cb1356a08ef47194a158"
   }
  }
 },
 "nbformat": 4,
 "nbformat_minor": 2
}
