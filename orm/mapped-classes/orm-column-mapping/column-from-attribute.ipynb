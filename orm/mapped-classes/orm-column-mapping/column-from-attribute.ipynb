{
 "cells": [
  {
   "cell_type": "markdown",
   "metadata": {},
   "source": [
    "#### Naming Columns Distinctly from Attribute Names\n",
    "\n",
    "A mapping _by default shares the same name_ for a `Column` as that of the _mapped attribute_ - specifically it matches the `Column.key` attribute on `Column`, which __by default is the same__ as the `Column.name`.\n",
    "\n",
    "The _name_ assigned to the Python attribute which __maps__ to `Column` __can be different__ from either `Column.name` or `Column.key` __just by assigning it that way__, as we illustrate here in a `Declarative mapping`."
   ]
  },
  {
   "cell_type": "code",
   "execution_count": 1,
   "metadata": {},
   "outputs": [],
   "source": [
    "from sqlalchemy import Column, Integer, String, Table\n",
    "from sqlalchemy.orm import registry, declarative_base"
   ]
  },
  {
   "cell_type": "code",
   "execution_count": 2,
   "metadata": {},
   "outputs": [],
   "source": [
    "Base = declarative_base()"
   ]
  },
  {
   "cell_type": "code",
   "execution_count": 3,
   "metadata": {},
   "outputs": [],
   "source": [
    "class User(Base):\n",
    "    __tablename__ = \"user\"\n",
    "    \n",
    "    id = Column(\"user_id\", Integer, primary_key=True)\n",
    "    name = Column(\"user_name\", String(50))"
   ]
  },
  {
   "cell_type": "markdown",
   "metadata": {},
   "source": [
    "Where above `User.id` resolves to a column named `user_id` and `User.name` resolves to a column named `user_name`.\n",
    "\n",
    "When _mapping to an existing table_, the `Column` object __can be referenced directly__."
   ]
  },
  {
   "cell_type": "code",
   "execution_count": 4,
   "metadata": {},
   "outputs": [],
   "source": [
    "user_table = Table(\n",
    "    \"user_table\",\n",
    "    Base.metadata,\n",
    "    Column(\"user_id\", Integer, primary_key=True),\n",
    "    Column(\"user_name\", String),\n",
    ")"
   ]
  },
  {
   "cell_type": "code",
   "execution_count": 5,
   "metadata": {},
   "outputs": [],
   "source": [
    "class UserTable(Base):\n",
    "    __table__ = user_table\n",
    "    \n",
    "    id = user_table.c.user_id\n",
    "    name = user_table.c.user_name"
   ]
  },
  {
   "cell_type": "markdown",
   "metadata": {},
   "source": [
    "The corresponding technique for an _imperative mapping_ is to __place the desired key__ in the `mapper.properties` dictionary with the desired key."
   ]
  },
  {
   "cell_type": "code",
   "execution_count": 6,
   "metadata": {},
   "outputs": [],
   "source": [
    "mapper_registry = registry()"
   ]
  },
  {
   "cell_type": "code",
   "execution_count": 7,
   "metadata": {},
   "outputs": [],
   "source": [
    "class ImperativeUser:\n",
    "    pass"
   ]
  },
  {
   "cell_type": "code",
   "execution_count": 8,
   "metadata": {},
   "outputs": [],
   "source": [
    "imperative_user_table = Table(\n",
    "    \"imperative_user_table\",\n",
    "    mapper_registry.metadata,\n",
    "    Column(\"user_id\", Integer, primary_key=True),\n",
    "    Column(\"user_name\", String),\n",
    ")"
   ]
  },
  {
   "cell_type": "code",
   "execution_count": 9,
   "metadata": {},
   "outputs": [
    {
     "data": {
      "text/plain": [
       "<Mapper at 0x2384ac37af0; ImperativeUser>"
      ]
     },
     "execution_count": 9,
     "metadata": {},
     "output_type": "execute_result"
    }
   ],
   "source": [
    "mapper_registry.map_imperatively(\n",
    "    ImperativeUser,\n",
    "    imperative_user_table,\n",
    "    properties={\n",
    "        \"id\": imperative_user_table.c.user_id,\n",
    "        \"name\": imperative_user_table.c.user_name,\n",
    "    }\n",
    ")"
   ]
  },
  {
   "cell_type": "code",
   "execution_count": null,
   "metadata": {},
   "outputs": [],
   "source": []
  }
 ],
 "metadata": {
  "kernelspec": {
   "display_name": "Python 3.9.6 ('sql-env': venv)",
   "language": "python",
   "name": "python3"
  },
  "language_info": {
   "codemirror_mode": {
    "name": "ipython",
    "version": 3
   },
   "file_extension": ".py",
   "mimetype": "text/x-python",
   "name": "python",
   "nbconvert_exporter": "python",
   "pygments_lexer": "ipython3",
   "version": "3.9.6"
  },
  "orig_nbformat": 4,
  "vscode": {
   "interpreter": {
    "hash": "3b00ed0d5d9853c9f0267ee6e89091ab706130aa0b00cb1356a08ef47194a158"
   }
  }
 },
 "nbformat": 4,
 "nbformat_minor": 2
}
