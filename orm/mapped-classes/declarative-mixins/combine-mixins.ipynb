{
 "cells": [
  {
   "cell_type": "markdown",
   "metadata": {},
   "source": [
    "#### Combining Table/Mapper Arguments from Multiple Mixins\n",
    "\n",
    "In the case of `__table_args__` or `__mapper_args__` specified with _declarative mixins_, you may want to _combine some parameters from several mixins_ with those you wish to define on the class itself. The `declared_attr` decorator can be used here to __create user-defined collation routines that pull from multiple collections__."
   ]
  },
  {
   "cell_type": "code",
   "execution_count": 1,
   "metadata": {},
   "outputs": [],
   "source": [
    "from sqlalchemy import Column, Integer\n",
    "from sqlalchemy.orm import declared_attr, declarative_mixin, declarative_base"
   ]
  },
  {
   "cell_type": "code",
   "execution_count": 2,
   "metadata": {},
   "outputs": [],
   "source": [
    "Base = declarative_base()"
   ]
  },
  {
   "cell_type": "code",
   "execution_count": 3,
   "metadata": {},
   "outputs": [],
   "source": [
    "@declarative_mixin\n",
    "class MySQLMixin:\n",
    "    __table_args__ = {\"mysql_engine\": \"InnoDB\"}"
   ]
  },
  {
   "cell_type": "code",
   "execution_count": 4,
   "metadata": {},
   "outputs": [],
   "source": [
    "@declarative_mixin\n",
    "class InfoMixin:\n",
    "    __table_args__ = {\"info\": \"foo\"}"
   ]
  },
  {
   "cell_type": "code",
   "execution_count": 5,
   "metadata": {},
   "outputs": [],
   "source": [
    "class DatabaseModel(MySQLMixin, InfoMixin, Base):\n",
    "    __tablename__ = \"table\"\n",
    "    \n",
    "    @declared_attr\n",
    "    def __table_args__(cls):\n",
    "        args = dict()\n",
    "        args.update(MySQLMixin.__table_args__)\n",
    "        args.update(InfoMixin.__table_args__)\n",
    "        return args\n",
    "    \n",
    "    id = Column(Integer, primary_key=True)"
   ]
  },
  {
   "cell_type": "code",
   "execution_count": null,
   "metadata": {},
   "outputs": [],
   "source": []
  }
 ],
 "metadata": {
  "kernelspec": {
   "display_name": "Python 3.9.6 ('sql-env': venv)",
   "language": "python",
   "name": "python3"
  },
  "language_info": {
   "codemirror_mode": {
    "name": "ipython",
    "version": 3
   },
   "file_extension": ".py",
   "mimetype": "text/x-python",
   "name": "python",
   "nbconvert_exporter": "python",
   "pygments_lexer": "ipython3",
   "version": "3.9.6"
  },
  "orig_nbformat": 4,
  "vscode": {
   "interpreter": {
    "hash": "3b00ed0d5d9853c9f0267ee6e89091ab706130aa0b00cb1356a08ef47194a158"
   }
  }
 },
 "nbformat": 4,
 "nbformat_minor": 2
}
