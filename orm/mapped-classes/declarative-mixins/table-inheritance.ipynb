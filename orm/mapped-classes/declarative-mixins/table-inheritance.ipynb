{
 "cells": [
  {
   "cell_type": "markdown",
   "metadata": {},
   "source": [
    "#### Controlling table inheritance with mixins\n",
    "\n",
    "The `__tablename__` attribute may be used to _provide a function that will determine the name of the table_ used for each class in an __inheritance hierarchy__, as well as whether a class has its _own distinct table_.\n",
    "\n",
    "This is achieved using the `declared_attr` indicator __in conjunction with a method__ named `__tablename__()`. _Declarative_ will __always invoke__ `declared_attr` for the special names `__tablename__`, `__mapper_args__` and `__table_args__` function _for each mapped class in the hierarchy_, __except if overridden in a subclass__. The function therefore needs to _expect to receive_ __each class individually__ and to _provide_ the __correct answer for each__.\n",
    "\n",
    "For example, to _create a mixin_ that gives every class a __simple table name based on class name__."
   ]
  },
  {
   "cell_type": "code",
   "execution_count": 1,
   "metadata": {},
   "outputs": [],
   "source": [
    "from sqlalchemy import Column, Integer, String\n",
    "from sqlalchemy.orm import (\n",
    "    declared_attr, declarative_mixin, declarative_base, has_inherited_table\n",
    ")"
   ]
  },
  {
   "cell_type": "code",
   "execution_count": 2,
   "metadata": {},
   "outputs": [],
   "source": [
    "Base = declarative_base()"
   ]
  },
  {
   "cell_type": "code",
   "execution_count": 3,
   "metadata": {},
   "outputs": [],
   "source": [
    "@declarative_mixin\n",
    "class TablenameMixin:\n",
    "    @declared_attr\n",
    "    def __tablename__(cls):\n",
    "        return cls.__name__.lower()"
   ]
  },
  {
   "cell_type": "code",
   "execution_count": 4,
   "metadata": {},
   "outputs": [],
   "source": [
    "class Person(TablenameMixin, Base):\n",
    "    id = Column(Integer, primary_key=True)\n",
    "    discriminator = Column(\"type\", String(50))\n",
    "    \n",
    "    __mapper_args__ = {\"polymorphic_on\": discriminator}"
   ]
  },
  {
   "cell_type": "code",
   "execution_count": 5,
   "metadata": {},
   "outputs": [],
   "source": [
    "class Engineer(Person):\n",
    "    __tablename__ = None\n",
    "    __mapper_args__ = {\"polymorphic_identity\": \"engineer\"}\n",
    "    primary_language = Column(String(50))"
   ]
  },
  {
   "cell_type": "markdown",
   "metadata": {},
   "source": [
    "Alternatively, we can modify our `__tablename__` function to return `None` for _subclasses_, using `has_inherited_table()`. This has the _effect of those subclasses_ __being mapped with single table inheritance against the parent__."
   ]
  },
  {
   "cell_type": "code",
   "execution_count": 6,
   "metadata": {},
   "outputs": [],
   "source": [
    "@declarative_mixin\n",
    "class InheritedTablenameMixin:\n",
    "    @declared_attr\n",
    "    def __tablename__(cls):\n",
    "        if has_inherited_table(cls):\n",
    "            return None\n",
    "        return cls.__name__.lower()"
   ]
  },
  {
   "cell_type": "code",
   "execution_count": 7,
   "metadata": {},
   "outputs": [],
   "source": [
    "class PersonParent(InheritedTablenameMixin, Base):\n",
    "    id = Column(Integer, primary_key=True)\n",
    "    discriminator = Column(\"type\", String(50))\n",
    "    \n",
    "    __mapper_args__ = {\"polymorphic_on\": discriminator}"
   ]
  },
  {
   "cell_type": "code",
   "execution_count": 8,
   "metadata": {},
   "outputs": [],
   "source": [
    "class EngineerInheritor(PersonParent):\n",
    "    primary_language = Column(String(50))\n",
    "    __mapper_args__ = {\"polymorphic_identity\": \"engineerinheritor\"}"
   ]
  },
  {
   "cell_type": "code",
   "execution_count": null,
   "metadata": {},
   "outputs": [],
   "source": []
  }
 ],
 "metadata": {
  "kernelspec": {
   "display_name": "Python 3.9.6 ('sql-env': venv)",
   "language": "python",
   "name": "python3"
  },
  "language_info": {
   "codemirror_mode": {
    "name": "ipython",
    "version": 3
   },
   "file_extension": ".py",
   "mimetype": "text/x-python",
   "name": "python",
   "nbconvert_exporter": "python",
   "pygments_lexer": "ipython3",
   "version": "3.9.6"
  },
  "orig_nbformat": 4,
  "vscode": {
   "interpreter": {
    "hash": "3b00ed0d5d9853c9f0267ee6e89091ab706130aa0b00cb1356a08ef47194a158"
   }
  }
 },
 "nbformat": 4,
 "nbformat_minor": 2
}
