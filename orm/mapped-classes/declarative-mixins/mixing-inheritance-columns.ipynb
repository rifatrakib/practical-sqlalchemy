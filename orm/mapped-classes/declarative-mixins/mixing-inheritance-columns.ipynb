{
 "cells": [
  {
   "cell_type": "markdown",
   "metadata": {},
   "source": [
    "#### Mixing in Columns in Inheritance Scenarios\n",
    "\n",
    "In contrast to how `__tablename__` and _other special names_ are handled when used with `declared_attr`, when we _mix in columns and properties_ (e.g. `relationships`, `column properties`, etc.), the __function is invoked for the base class only in the hierarchy__. Below, __only__ the `Person` class will _receive a column called id_; the __mapping will fail__ on `Engineer`, which is _not given a primary key_.\n",
    "\n",
    "```\n",
    "@declarative_mixin\n",
    "class HasId:\n",
    "    @declared_attr\n",
    "    def id(cls):\n",
    "        return Column(\"id\", Integer, primary_key=True)\n",
    "\n",
    "\n",
    "class Person(HasId, Base):\n",
    "    __tablename__ = \"person\"\n",
    "    discriminator = Column(\"type\", String(50))\n",
    "    __mapper_args__ = {\"polymorphic_on\": discriminator}\n",
    "\n",
    "\n",
    "class Engineer(Person):\n",
    "    __tablename__ = \"engineer\"\n",
    "    primary_language = Column(String(50))\n",
    "    __mapper_args__ = {\"polymorphic_identity\": \"engineer\"}\n",
    "```\n",
    "\n",
    "It is usually the case in `joined-table inheritance` that we want __distinctly named columns on each subclass__. However in this case, we may want to have an _id column on every table_, and _have them refer to each other via foreign key_. We can achieve this as a _mixin_ by using the `declared_attr.cascading` _modifier_, which __indicates that the function should be invoked for each class in the hierarchy__, in _almost the same way_ (see warning below) as it does for `__tablename__`."
   ]
  },
  {
   "cell_type": "code",
   "execution_count": 1,
   "metadata": {},
   "outputs": [],
   "source": [
    "from sqlalchemy import Column, Integer, String, ForeignKey\n",
    "from sqlalchemy.orm import (\n",
    "    declared_attr, declarative_mixin, declarative_base, has_inherited_table,\n",
    ")"
   ]
  },
  {
   "cell_type": "code",
   "execution_count": 2,
   "metadata": {},
   "outputs": [],
   "source": [
    "Base = declarative_base()"
   ]
  },
  {
   "cell_type": "code",
   "execution_count": 3,
   "metadata": {},
   "outputs": [],
   "source": [
    "@declarative_mixin\n",
    "class HasIdMixin:\n",
    "    @declared_attr.cascading\n",
    "    def id(cls):\n",
    "        if has_inherited_table(cls):\n",
    "            return Column(ForeignKey(\"person.id\"), primary_key=True)\n",
    "        else:\n",
    "            return Column(Integer, primary_key=True)"
   ]
  },
  {
   "cell_type": "code",
   "execution_count": 4,
   "metadata": {},
   "outputs": [],
   "source": [
    "class Person(HasIdMixin, Base):\n",
    "    __tablename__ = \"person\"\n",
    "    discriminator = Column(\"type\", String(50))\n",
    "    __mapper_args__ = {\"polymorphic_on\": discriminator}"
   ]
  },
  {
   "cell_type": "code",
   "execution_count": 5,
   "metadata": {},
   "outputs": [],
   "source": [
    "class Engineer(Person):\n",
    "    __tablename__ = \"engineer\"\n",
    "    primary_language = Column(String(50))\n",
    "    __mapper_args__ = {\"polymorphic_identity\": \"engineer\"}"
   ]
  },
  {
   "cell_type": "markdown",
   "metadata": {},
   "source": [
    "> ##### Warning\n",
    "> \n",
    "> The `declared_attr.cascading` feature __currently does not allow for a subclass to override__ the attribute _with a different function or value_. This is a _current limitation_ in the mechanics of how `@declared_attr` is resolved, and a _warning is emitted_ if this condition is detected. This _limitation_ __does not exist for the special attribute__ names such as `__tablename__`, which __resolve in a different way internally__ than that of `declared_attr.cascading`."
   ]
  },
  {
   "cell_type": "code",
   "execution_count": null,
   "metadata": {},
   "outputs": [],
   "source": []
  }
 ],
 "metadata": {
  "kernelspec": {
   "display_name": "Python 3.9.6 ('sql-env': venv)",
   "language": "python",
   "name": "python3"
  },
  "language_info": {
   "codemirror_mode": {
    "name": "ipython",
    "version": 3
   },
   "file_extension": ".py",
   "mimetype": "text/x-python",
   "name": "python",
   "nbconvert_exporter": "python",
   "pygments_lexer": "ipython3",
   "version": "3.9.6"
  },
  "orig_nbformat": 4,
  "vscode": {
   "interpreter": {
    "hash": "3b00ed0d5d9853c9f0267ee6e89091ab706130aa0b00cb1356a08ef47194a158"
   }
  }
 },
 "nbformat": 4,
 "nbformat_minor": 2
}
