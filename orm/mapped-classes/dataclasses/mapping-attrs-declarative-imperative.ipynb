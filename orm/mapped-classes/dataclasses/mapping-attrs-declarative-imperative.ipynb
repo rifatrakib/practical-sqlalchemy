{
 "cells": [
  {
   "cell_type": "markdown",
   "metadata": {},
   "source": [
    "##### Mapping attrs with Declarative \"Imperative Table\"\n",
    "\n",
    "In the `\"Declarative with Imperative Table\"` style, a `Table` object is __declared inline__ with the _declarative class_. The `@define` decorator is __applied to the class first__, then the `registry.mapped()` decorator __second__."
   ]
  },
  {
   "cell_type": "code",
   "execution_count": 1,
   "metadata": {},
   "outputs": [],
   "source": [
    "from __future__ import annotations\n",
    "from typing import List, Optional\n",
    "from attrs import define\n",
    "from sqlalchemy import Column, ForeignKey, Integer, MetaData, String, Table\n",
    "from sqlalchemy.orm import registry, relationship"
   ]
  },
  {
   "cell_type": "code",
   "execution_count": 2,
   "metadata": {},
   "outputs": [],
   "source": [
    "mapper_registry = registry()"
   ]
  },
  {
   "cell_type": "code",
   "execution_count": 3,
   "metadata": {},
   "outputs": [],
   "source": [
    "@mapper_registry.mapped\n",
    "@define(slots=False)\n",
    "class User:\n",
    "    __table__ = Table(\n",
    "        \"user\",\n",
    "        mapper_registry.metadata,\n",
    "        Column(\"id\", Integer, primary_key=True),\n",
    "        Column(\"name\", String(50)),\n",
    "        Column(\"fullname\", String(50)),\n",
    "        Column(\"nickname\", String(12)),\n",
    "    )\n",
    "    \n",
    "    id: int\n",
    "    name: str\n",
    "    fullname: str\n",
    "    nickname: str\n",
    "    addresses: List[Address]\n",
    "    \n",
    "    __mapper_args__ = {\"properties\": {\"addresses\": relationship(\"Address\")}}"
   ]
  },
  {
   "cell_type": "code",
   "execution_count": 4,
   "metadata": {},
   "outputs": [],
   "source": [
    "@mapper_registry.mapped\n",
    "@define(slots=False)\n",
    "class Address:\n",
    "    __table__ = Table(\n",
    "        \"address\",\n",
    "        mapper_registry.metadata,\n",
    "        Column(\"id\", Integer, primary_key=True),\n",
    "        Column(\"user_id\", Integer, ForeignKey(\"user.id\")),\n",
    "        Column(\"email_address\", String(50)),\n",
    "    )\n",
    "    \n",
    "    id: int\n",
    "    user_id: int\n",
    "    email_address: Optional[str]"
   ]
  },
  {
   "cell_type": "markdown",
   "metadata": {},
   "source": [
    "> ##### Note\n",
    "> \n",
    "> The `attrs` `slots=True` option, which enables `__slots__` on a _mapped class_, __cannot be used__ with _SQLAlchemy mappings_ __without fully implementing alternative attribute instrumentation__, as _mapped classes_ __normally rely upon direct access to__ `__dict__` for _state storage_. Behavior is _undefined_ when _this option_ is __present__."
   ]
  },
  {
   "cell_type": "code",
   "execution_count": null,
   "metadata": {},
   "outputs": [],
   "source": []
  }
 ],
 "metadata": {
  "kernelspec": {
   "display_name": "Python 3.9.6 ('sql-env': venv)",
   "language": "python",
   "name": "python3"
  },
  "language_info": {
   "codemirror_mode": {
    "name": "ipython",
    "version": 3
   },
   "file_extension": ".py",
   "mimetype": "text/x-python",
   "name": "python",
   "nbconvert_exporter": "python",
   "pygments_lexer": "ipython3",
   "version": "3.9.6"
  },
  "orig_nbformat": 4,
  "vscode": {
   "interpreter": {
    "hash": "3b00ed0d5d9853c9f0267ee6e89091ab706130aa0b00cb1356a08ef47194a158"
   }
  }
 },
 "nbformat": 4,
 "nbformat_minor": 2
}
