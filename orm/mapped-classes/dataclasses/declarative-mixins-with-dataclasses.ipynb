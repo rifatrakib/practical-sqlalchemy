{
 "cells": [
  {
   "cell_type": "markdown",
   "metadata": {},
   "source": [
    "##### Using Declarative Mixins with Dataclasses\n",
    "\n",
    "In the section `Composing Mapped Hierarchies with Mixins`, _Declarative Mixin_ classes are introduced. One _requirement of declarative mixins_ is that __certain constructs that can't be easily duplicated must be given as `callables`__, using the `declared_attr` decorator, such as in the example at `Mixing in Relationships`."
   ]
  },
  {
   "cell_type": "code",
   "execution_count": 1,
   "metadata": {},
   "outputs": [],
   "source": [
    "from typing import List\n",
    "from __future__ import annotations\n",
    "from dataclasses import dataclass ,field\n",
    "\n",
    "from sqlalchemy import Column, ForeignKey, Integer, String\n",
    "from sqlalchemy.orm import registry, declared_attr, relationship"
   ]
  },
  {
   "cell_type": "code",
   "execution_count": 2,
   "metadata": {},
   "outputs": [],
   "source": [
    "mapper_registry = registry()"
   ]
  },
  {
   "cell_type": "code",
   "execution_count": 3,
   "metadata": {},
   "outputs": [],
   "source": [
    "class RefTargetMixin:\n",
    "    @declared_attr\n",
    "    def target_id(cls):\n",
    "        return Column(\"target_id\", ForeignKey(\"target.id\"))\n",
    "    \n",
    "    @declared_attr\n",
    "    def target(cls):\n",
    "        return relationship(\"Target\")"
   ]
  },
  {
   "cell_type": "markdown",
   "metadata": {},
   "source": [
    "This form is supported within the _Dataclasses_ `field()` object by using a `lambda` to __indicate the SQLAlchemy construct inside the `field()`__. Using `declared_attr()` to _surround the lambda_ is __optional__. If we wanted to produce our `User` class above where the _ORM fields came from a mixin_ that is itself a `dataclass`, the form would be as follows."
   ]
  },
  {
   "cell_type": "code",
   "execution_count": 4,
   "metadata": {},
   "outputs": [],
   "source": [
    "@dataclass\n",
    "class UserMixin:\n",
    "    __tablename__ = \"user\"\n",
    "    \n",
    "    __sa_dataclass_metadata_key__ = \"sa\"\n",
    "    \n",
    "    id: int = field(init=False, metadata={\"sa\": Column(Integer, primary_key=True)})\n",
    "    \n",
    "    addresses: List[Address] = field(\n",
    "        default_factory=list, metadata={\"sa\": lambda: relationship(\"Address\")},\n",
    "    )"
   ]
  },
  {
   "cell_type": "code",
   "execution_count": 5,
   "metadata": {},
   "outputs": [],
   "source": [
    "@dataclass\n",
    "class AddressMixin:\n",
    "    __tablename__ = \"address\"\n",
    "    \n",
    "    __sa_dataclass_metadata_key__ = \"sa\"\n",
    "    \n",
    "    id: int = field(init=False, metadata={\"sa\": Column(Integer, primary_key=True)})\n",
    "    user_id: int = field(init=False, metadata={\"sa\": lambda: Column(ForeignKey(\"user.id\"))})\n",
    "    email_address: str = field(default=None, metadata={\"sa\": Column(String(50))})"
   ]
  },
  {
   "cell_type": "code",
   "execution_count": 6,
   "metadata": {},
   "outputs": [],
   "source": [
    "@mapper_registry.mapped\n",
    "class User(UserMixin):\n",
    "    pass"
   ]
  },
  {
   "cell_type": "code",
   "execution_count": 7,
   "metadata": {},
   "outputs": [],
   "source": [
    "@mapper_registry.mapped\n",
    "class Address(AddressMixin):\n",
    "    pass"
   ]
  },
  {
   "cell_type": "code",
   "execution_count": null,
   "metadata": {},
   "outputs": [],
   "source": []
  }
 ],
 "metadata": {
  "kernelspec": {
   "display_name": "Python 3.9.6 ('sql-env': venv)",
   "language": "python",
   "name": "python3"
  },
  "language_info": {
   "codemirror_mode": {
    "name": "ipython",
    "version": 3
   },
   "file_extension": ".py",
   "mimetype": "text/x-python",
   "name": "python",
   "nbconvert_exporter": "python",
   "pygments_lexer": "ipython3",
   "version": "3.9.6"
  },
  "orig_nbformat": 4,
  "vscode": {
   "interpreter": {
    "hash": "3b00ed0d5d9853c9f0267ee6e89091ab706130aa0b00cb1356a08ef47194a158"
   }
  }
 },
 "nbformat": 4,
 "nbformat_minor": 2
}
