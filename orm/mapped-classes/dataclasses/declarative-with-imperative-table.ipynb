{
 "cells": [
  {
   "cell_type": "markdown",
   "metadata": {},
   "source": [
    "##### Mapping dataclasses using Declarative With Imperative Table\n",
    "\n",
    "An example of a mapping using `@dataclass` using `Declarative with Imperative Table` (a.k.a. _Hybrid Declarative_) is below. A __complete `Table` object__ is __constructed explicitly__ and assigned to the `__table__` attribute. _Instance fields_ are defined using _normal dataclass syntaxes_. Additional `MapperProperty` definitions such as `relationship()`, are placed in the `__mapper_args__` class-level dictionary underneath the properties key, corresponding to the `mapper.properties` parameter."
   ]
  },
  {
   "cell_type": "code",
   "execution_count": 1,
   "metadata": {},
   "outputs": [],
   "source": [
    "from typing import List, Optional\n",
    "from __future__ import annotations\n",
    "from dataclasses import dataclass, field\n",
    "\n",
    "from sqlalchemy import Column, ForeignKey, Integer, String, Table\n",
    "from sqlalchemy.orm import registry, relationship"
   ]
  },
  {
   "cell_type": "code",
   "execution_count": 2,
   "metadata": {},
   "outputs": [],
   "source": [
    "mapper_registry = registry()"
   ]
  },
  {
   "cell_type": "code",
   "execution_count": 3,
   "metadata": {},
   "outputs": [],
   "source": [
    "@mapper_registry.mapped\n",
    "@dataclass\n",
    "class User:\n",
    "    __table__ = Table(\n",
    "        \"user\",\n",
    "        mapper_registry.metadata,\n",
    "        Column(\"id\", Integer, primary_key=True),\n",
    "        Column(\"name\", String(50)),\n",
    "        Column(\"fullname\", String(50)),\n",
    "        Column(\"nickname\", String(12)),\n",
    "    )\n",
    "    \n",
    "    id: int = field(init=False)\n",
    "    name: Optional[str] = None\n",
    "    fullname: Optional[str] = None\n",
    "    nickname: Optional[str] = None\n",
    "    addresses: List[Address] = field(default_factory=list)\n",
    "    \n",
    "    __mapper_args__ = {\n",
    "        \"properties\": {\"addresses\": relationship(\"Address\")},\n",
    "    }"
   ]
  },
  {
   "cell_type": "code",
   "execution_count": 4,
   "metadata": {},
   "outputs": [],
   "source": [
    "@mapper_registry.mapped\n",
    "@dataclass\n",
    "class Address:\n",
    "    __table__ = Table(\n",
    "        \"address\",\n",
    "        mapper_registry.metadata,\n",
    "        Column(\"id\", Integer, primary_key=True),\n",
    "        Column(\"user_id\", Integer, ForeignKey(\"user.id\")),\n",
    "        Column(\"email_address\", String(50)),\n",
    "    )\n",
    "    \n",
    "    id: int = field(init=False)\n",
    "    user_id: int = field(init=False)\n",
    "    email_address: Optional[str] = None"
   ]
  },
  {
   "cell_type": "markdown",
   "metadata": {},
   "source": [
    "In the above example, the `User.id`, `Address.id`, and `Address.user_id` attributes are defined as `field(init=False)`. This means that _parameters for these_ __won't be added to `__init__()` methods__, but `Session` will still be able to __set them after getting their values during flush__ from _autoincrement_ or _other default value generator_. To allow them to be _specified in the constructor explicitly_, they would instead be __given a default value of None__.\n",
    "\n",
    "For a `relationship()` to be _declared separately_, it needs to be __specified directly__ within the `mapper.properties` dictionary which itself is specified within the `__mapper_args__` dictionary, so that it is passed to the `mapper()` construction function. An alternative to this approach is in the next example."
   ]
  },
  {
   "cell_type": "code",
   "execution_count": null,
   "metadata": {},
   "outputs": [],
   "source": []
  }
 ],
 "metadata": {
  "kernelspec": {
   "display_name": "Python 3.9.6 ('sql-env': venv)",
   "language": "python",
   "name": "python3"
  },
  "language_info": {
   "codemirror_mode": {
    "name": "ipython",
    "version": 3
   },
   "file_extension": ".py",
   "mimetype": "text/x-python",
   "name": "python",
   "nbconvert_exporter": "python",
   "pygments_lexer": "ipython3",
   "version": "3.9.6"
  },
  "orig_nbformat": 4,
  "vscode": {
   "interpreter": {
    "hash": "3b00ed0d5d9853c9f0267ee6e89091ab706130aa0b00cb1356a08ef47194a158"
   }
  }
 },
 "nbformat": 4,
 "nbformat_minor": 2
}
