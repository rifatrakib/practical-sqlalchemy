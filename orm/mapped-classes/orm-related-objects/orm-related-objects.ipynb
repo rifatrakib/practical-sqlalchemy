{
 "cells": [
  {
   "cell_type": "markdown",
   "metadata": {},
   "source": [
    "## Working with Related Objects\n",
    "\n",
    "In this section, we will cover one more _essential ORM concept_, which is __how the ORM interacts with mapped classes that refer to other objects__. In the section `Declaring Mapped Classes`, the _mapped class_ examples made use of a construct called `relationship()`. This construct __defines a linkage__ between _two different mapped classes_, or from a _mapped class to itself_, the _latter_ of which is called a __`self-referential relationship`__. To describe the _basic idea_ of `relationship()`, first we'll review the mapping in short form, omitting the _Column mappings_ and other directives."
   ]
  },
  {
   "cell_type": "code",
   "execution_count": 1,
   "metadata": {},
   "outputs": [],
   "source": [
    "from sqlalchemy import (\n",
    "    Column, Integer, String, ForeignKey, create_engine,\n",
    "    select, insert, bindparam,\n",
    ")\n",
    "from sqlalchemy.orm import (\n",
    "    Session, registry, aliased, with_parent, relationship,\n",
    "    selectinload, joinedload, contains_eager,\n",
    ")"
   ]
  },
  {
   "cell_type": "code",
   "execution_count": 2,
   "metadata": {},
   "outputs": [],
   "source": [
    "engine = create_engine(\"sqlite+pysqlite:///:memory:\", echo=True, future=True)\n",
    "mapped_registry = registry()\n",
    "Base = mapped_registry.generate_base()\n",
    "session = Session(engine)"
   ]
  },
  {
   "cell_type": "code",
   "execution_count": 3,
   "metadata": {},
   "outputs": [],
   "source": [
    "class User(Base):\n",
    "    __tablename__ = \"user_account\"\n",
    "    \n",
    "    id = Column(Integer, primary_key=True)\n",
    "    name = Column(String(30))\n",
    "    fullname = Column(String)\n",
    "    \n",
    "    addresses = relationship(\"Address\", back_populates=\"user\", lazy=\"selectin\")\n",
    "    \n",
    "    def __repr__(self):\n",
    "        return f\"User(id={self.id!r}, name={self.name!r}, fullname={self.fullname!r})\""
   ]
  },
  {
   "cell_type": "code",
   "execution_count": 4,
   "metadata": {},
   "outputs": [],
   "source": [
    "class Address(Base):\n",
    "    __tablename__ = \"address\"\n",
    "    \n",
    "    id = Column(Integer, primary_key=True)\n",
    "    email_address = Column(String, nullable=False)\n",
    "    user_id = Column(Integer, ForeignKey(\"user_account.id\"))\n",
    "    \n",
    "    user = relationship(\"User\", back_populates=\"addresses\")\n",
    "    \n",
    "    def __repr__(self):\n",
    "        return f\"Address(id={self.id!r}, email_address={self.email_address!r})\""
   ]
  },
  {
   "cell_type": "code",
   "execution_count": 5,
   "metadata": {},
   "outputs": [
    {
     "name": "stdout",
     "output_type": "stream",
     "text": [
      "2022-10-12 11:05:33,013 INFO sqlalchemy.engine.Engine BEGIN (implicit)\n",
      "2022-10-12 11:05:33,014 INFO sqlalchemy.engine.Engine PRAGMA main.table_info(\"user_account\")\n",
      "2022-10-12 11:05:33,016 INFO sqlalchemy.engine.Engine [raw sql] ()\n",
      "2022-10-12 11:05:33,017 INFO sqlalchemy.engine.Engine PRAGMA temp.table_info(\"user_account\")\n",
      "2022-10-12 11:05:33,018 INFO sqlalchemy.engine.Engine [raw sql] ()\n",
      "2022-10-12 11:05:33,021 INFO sqlalchemy.engine.Engine PRAGMA main.table_info(\"address\")\n",
      "2022-10-12 11:05:33,024 INFO sqlalchemy.engine.Engine [raw sql] ()\n",
      "2022-10-12 11:05:33,025 INFO sqlalchemy.engine.Engine PRAGMA temp.table_info(\"address\")\n",
      "2022-10-12 11:05:33,026 INFO sqlalchemy.engine.Engine [raw sql] ()\n",
      "2022-10-12 11:05:33,028 INFO sqlalchemy.engine.Engine \n",
      "CREATE TABLE user_account (\n",
      "\tid INTEGER NOT NULL, \n",
      "\tname VARCHAR(30), \n",
      "\tfullname VARCHAR, \n",
      "\tPRIMARY KEY (id)\n",
      ")\n",
      "\n",
      "\n",
      "2022-10-12 11:05:33,031 INFO sqlalchemy.engine.Engine [no key 0.00241s] ()\n",
      "2022-10-12 11:05:33,033 INFO sqlalchemy.engine.Engine \n",
      "CREATE TABLE address (\n",
      "\tid INTEGER NOT NULL, \n",
      "\temail_address VARCHAR NOT NULL, \n",
      "\tuser_id INTEGER, \n",
      "\tPRIMARY KEY (id), \n",
      "\tFOREIGN KEY(user_id) REFERENCES user_account (id)\n",
      ")\n",
      "\n",
      "\n",
      "2022-10-12 11:05:33,034 INFO sqlalchemy.engine.Engine [no key 0.00123s] ()\n",
      "2022-10-12 11:05:33,036 INFO sqlalchemy.engine.Engine COMMIT\n"
     ]
    }
   ],
   "source": [
    "mapped_registry.metadata.create_all(engine)"
   ]
  },
  {
   "cell_type": "code",
   "execution_count": 6,
   "metadata": {},
   "outputs": [],
   "source": [
    "spongebob = User(name=\"spongebob\", fullname=\"Spongebob Squarepants\")\n",
    "sandy = User(name=\"sandy\", fullname=\"Sandy Cheeks\")\n",
    "patrick = User(name=\"patrick\", fullname=\"Patrick Star\")\n",
    "squidward = User(name=\"squidward\", fullname=\"Squidward Tentacles\")\n",
    "krabs = User(name=\"ehkrabs\", fullname=\"Eugene H. Krabs\")"
   ]
  },
  {
   "cell_type": "code",
   "execution_count": 7,
   "metadata": {},
   "outputs": [],
   "source": [
    "session.add(spongebob)\n",
    "session.add(sandy)\n",
    "session.add(patrick)\n",
    "session.add(squidward)\n",
    "session.add(krabs)"
   ]
  },
  {
   "cell_type": "code",
   "execution_count": 8,
   "metadata": {},
   "outputs": [
    {
     "name": "stdout",
     "output_type": "stream",
     "text": [
      "2022-10-12 11:05:33,384 INFO sqlalchemy.engine.Engine BEGIN (implicit)\n",
      "2022-10-12 11:05:33,389 INFO sqlalchemy.engine.Engine INSERT INTO user_account (name, fullname) VALUES (?, ?)\n",
      "2022-10-12 11:05:33,390 INFO sqlalchemy.engine.Engine [generated in 0.00145s] ('spongebob', 'Spongebob Squarepants')\n",
      "2022-10-12 11:05:33,393 INFO sqlalchemy.engine.Engine INSERT INTO user_account (name, fullname) VALUES (?, ?)\n",
      "2022-10-12 11:05:33,395 INFO sqlalchemy.engine.Engine [cached since 0.005768s ago] ('sandy', 'Sandy Cheeks')\n",
      "2022-10-12 11:05:33,396 INFO sqlalchemy.engine.Engine INSERT INTO user_account (name, fullname) VALUES (?, ?)\n",
      "2022-10-12 11:05:33,399 INFO sqlalchemy.engine.Engine [cached since 0.009727s ago] ('patrick', 'Patrick Star')\n",
      "2022-10-12 11:05:33,400 INFO sqlalchemy.engine.Engine INSERT INTO user_account (name, fullname) VALUES (?, ?)\n",
      "2022-10-12 11:05:33,400 INFO sqlalchemy.engine.Engine [cached since 0.01144s ago] ('squidward', 'Squidward Tentacles')\n",
      "2022-10-12 11:05:33,402 INFO sqlalchemy.engine.Engine INSERT INTO user_account (name, fullname) VALUES (?, ?)\n",
      "2022-10-12 11:05:33,403 INFO sqlalchemy.engine.Engine [cached since 0.01369s ago] ('ehkrabs', 'Eugene H. Krabs')\n",
      "2022-10-12 11:05:33,405 INFO sqlalchemy.engine.Engine COMMIT\n"
     ]
    }
   ],
   "source": [
    "session.flush()\n",
    "session.commit()"
   ]
  },
  {
   "cell_type": "code",
   "execution_count": 9,
   "metadata": {},
   "outputs": [
    {
     "name": "stdout",
     "output_type": "stream",
     "text": [
      "2022-10-12 11:05:33,521 INFO sqlalchemy.engine.Engine BEGIN (implicit)\n",
      "2022-10-12 11:05:33,523 INFO sqlalchemy.engine.Engine INSERT INTO address (email_address, user_id) VALUES (?, (SELECT user_account.id \n",
      "FROM user_account \n",
      "WHERE user_account.name = ?))\n",
      "2022-10-12 11:05:33,524 INFO sqlalchemy.engine.Engine [generated in 0.00365s] (('spongebob@sqlalchemy.org', 'spongebob'), ('sandy@sqlalchemy.org', 'sandy'), ('sandy@squirrelpower.org', 'sandy'))\n",
      "2022-10-12 11:05:33,526 INFO sqlalchemy.engine.Engine COMMIT\n"
     ]
    }
   ],
   "source": [
    "addresses = [\n",
    "    {\"username\": \"spongebob\", \"email_address\": \"spongebob@sqlalchemy.org\"},\n",
    "    {\"username\": \"sandy\", \"email_address\": \"sandy@sqlalchemy.org\"},\n",
    "    {\"username\": \"sandy\", \"email_address\": \"sandy@squirrelpower.org\"},\n",
    "]\n",
    "scalar_subq = (\n",
    "    select(User.id).\n",
    "    where(User.name == bindparam(\"username\")).\n",
    "    scalar_subquery()\n",
    ")\n",
    "\n",
    "with engine.connect() as conn:\n",
    "    result = conn.execute(\n",
    "        insert(Address).values(user_id=scalar_subq),\n",
    "        [\n",
    "            {\"username\": 'spongebob', \"email_address\": \"spongebob@sqlalchemy.org\"},\n",
    "            {\"username\": 'sandy', \"email_address\": \"sandy@sqlalchemy.org\"},\n",
    "            {\"username\": 'sandy', \"email_address\": \"sandy@squirrelpower.org\"},\n",
    "        ]\n",
    "    )\n",
    "    conn.commit()"
   ]
  },
  {
   "cell_type": "markdown",
   "metadata": {},
   "source": [
    "Above, the `User` class now has an _attribute_ `User.addresses` and the `Address` class has an _attribute_ `Address.user`. The `relationship()` construct will be used to __inspect the table relationships__ between the `Table` objects that are __mapped__ to the `User` and `Address` classes. As the `Table` object representing the _address table_ has a `ForeignKeyConstraint` which refers to the *user_account table*, the `relationship()` can _determine_ __unambiguously__ that there is a __one to many relationship__ _from_ `User.addresses` _to_ `User`; _one particular row_ in the `user_account` table __may be referred towards__ by _many rows_ in the `address` table.\n",
    "\n",
    "_All one-to-many relationships_ __naturally correspond__ to a _many to one relationship_ in the _other direction_, in this case the one noted by `Address.user`. The `relationship.back_populates` parameter, seen above configured on both `relationship()` objects __referring__ to the _other name_, establishes that each of these two `relationship()` constructs should be __considered to be complimentary__ to _each other_; we will see how this plays out in the next section."
   ]
  },
  {
   "cell_type": "markdown",
   "metadata": {},
   "source": [
    "#### Persisting and Loading Relationships\n",
    "\n",
    "We can start by _illustrating_ what `relationship()` does to instances of objects. If we make a new `User` object, we can note that there is a _Python list_ when we access the `.addresses` element."
   ]
  },
  {
   "cell_type": "code",
   "execution_count": 10,
   "metadata": {},
   "outputs": [
    {
     "name": "stdout",
     "output_type": "stream",
     "text": [
      "u1.addresses = []\n"
     ]
    }
   ],
   "source": [
    "u1 = User(name=\"pkrabs\", fullname=\"Pearl Krabs\")\n",
    "print(f\"{u1.addresses = }\")"
   ]
  },
  {
   "cell_type": "markdown",
   "metadata": {},
   "source": [
    "This object is a _SQLAlchemy-specific version_ of _Python list_ which has the __ability to track and respond to changes__ made to it. The _collection_ also appeared __automatically__ when we _accessed the attribute_, even though we __never assigned__ it to the object. This is similar to the behavior noted at `Inserting Rows with the ORM` where it was observed that _column-based attributes_ to which we _don't explicitly assign a value_ also display as `None` __automatically__, rather than raising an `AttributeError` as would be Python's usual behavior.\n",
    "\n",
    "As the `u1` object is still __transient__ and the _list_ that we got from `u1.addresses` has __not been mutated__ (i.e. _appended or extended_), it's __not actually `associated` with the object__ yet, but as we _make changes_ to it, it will become _part of the state_ of the `User` object.\n",
    "\n",
    "The _collection_ is specific to the `Address` class which is the _only type of Python object_ that may be __persisted within it__. Using the `list.append()` method we may __add an Address object__."
   ]
  },
  {
   "cell_type": "code",
   "execution_count": 11,
   "metadata": {},
   "outputs": [],
   "source": [
    "a1 = Address(email_address=\"pearl.krabs@gmail.com\")\n",
    "u1.addresses.append(a1)"
   ]
  },
  {
   "cell_type": "markdown",
   "metadata": {},
   "source": [
    "At this point, the `u1.addresses` _collection_ as expected _contains_ the __new `Address` object__."
   ]
  },
  {
   "cell_type": "code",
   "execution_count": 12,
   "metadata": {},
   "outputs": [
    {
     "name": "stdout",
     "output_type": "stream",
     "text": [
      "u1.addresses = [Address(id=None, email_address='pearl.krabs@gmail.com')]\n"
     ]
    }
   ],
   "source": [
    "print(f\"{u1.addresses = }\")"
   ]
  },
  {
   "cell_type": "markdown",
   "metadata": {},
   "source": [
    "As we _associated_ the `Address` object with the `User.addresses` _collection_ of the `u1` instance, another behavior also occurred, which is that the `User.addresses` _relationship_ __synchronized itself__ with the `Address.user` _relationship_, such that we __can navigate__ not only from the _User object to the Address object_, we __can also navigate__ from the _Address object back to the \"parent\" User object_."
   ]
  },
  {
   "cell_type": "code",
   "execution_count": 13,
   "metadata": {},
   "outputs": [
    {
     "name": "stdout",
     "output_type": "stream",
     "text": [
      "a1.user = User(id=None, name='pkrabs', fullname='Pearl Krabs')\n"
     ]
    }
   ],
   "source": [
    "print(f\"{a1.user = }\")"
   ]
  },
  {
   "cell_type": "markdown",
   "metadata": {},
   "source": [
    "This _synchronization_ occurred as a result of our _use of the_ `relationship.back_populates` parameter between the two `relationship()` objects. This parameter __names__ _another_ `relationship()` for which _complementary attribute_ __assignment/list mutation__ should occur. It will __work equally well__ in the _other direction_, which is that if we _create another_ `Address` _object_ and assign to its `Address.user` attribute, that `Address` becomes part of the `User.addresses` _collection_ on that `User` object."
   ]
  },
  {
   "cell_type": "code",
   "execution_count": 14,
   "metadata": {},
   "outputs": [
    {
     "name": "stdout",
     "output_type": "stream",
     "text": [
      "u1.addresses = [Address(id=None, email_address='pearl.krabs@gmail.com'), Address(id=None, email_address='pearl@aol.com')]\n"
     ]
    }
   ],
   "source": [
    "a2 = Address(email_address=\"pearl@aol.com\", user=u1)\n",
    "print(f\"{u1.addresses = }\")"
   ]
  },
  {
   "cell_type": "markdown",
   "metadata": {},
   "source": [
    "We actually made use of the `user` parameter as a _keyword argument_ in the `Address` constructor, which is __accepted just like any other mapped attribute__ that was _declared_ on the `Address` class. It is __equivalent__ to _assignment_ of the `Address.user` attribute after the fact."
   ]
  },
  {
   "cell_type": "code",
   "execution_count": 15,
   "metadata": {},
   "outputs": [],
   "source": [
    "# equivalent effect as a2 = Address(user=u1)\n",
    "a2.user = u1"
   ]
  },
  {
   "cell_type": "markdown",
   "metadata": {},
   "source": [
    "##### Cascading Objects into the Session\n",
    "\n",
    "We now have a `User` and two `Address` objects that are _associated_ in a __bidirectional__ structure __in memory__, but as noted previously in `Inserting Rows with the ORM`, these objects are said to be in the __`transient state`__ until they are _associated_ with a `Session` object.\n",
    "\n",
    "We make use of the `Session` that's __still ongoing__, and note that when we apply the `Session.add()` method to the lead `User` object, the _related_ `Address` object __also gets added__ to that _same_ `Session`."
   ]
  },
  {
   "cell_type": "code",
   "execution_count": 16,
   "metadata": {},
   "outputs": [
    {
     "name": "stdout",
     "output_type": "stream",
     "text": [
      "u1 in session = True\n",
      "a1 in session = True\n",
      "a2 in session = True\n"
     ]
    }
   ],
   "source": [
    "session.add(u1)\n",
    "print(f\"{u1 in session = }\")\n",
    "print(f\"{a1 in session = }\")\n",
    "print(f\"{a2 in session = }\")"
   ]
  },
  {
   "cell_type": "markdown",
   "metadata": {},
   "source": [
    "The above behavior, where the `Session` _received_ a `User` object, and followed along the `User.addresses` _relationship_ to _locate a related_ `Address` object, is known as the __`save-update cascade`__.\n",
    "\n",
    "The _three objects_ are now in the __pending state__; this means they are __ready__ to be the _subject_ of an `INSERT` operation but this has __not yet proceeded__; all _three objects_ have __no `primary key` assigned__ yet, and in addition, the `a1` and `a2` objects have an _attribute_ called `user_id` which refers to the `Column` that has a `ForeignKeyConstraint` referring to the `user_account.id` column; these are also `None` as the _objects_ are __not yet associated__ with a real database row."
   ]
  },
  {
   "cell_type": "code",
   "execution_count": 17,
   "metadata": {},
   "outputs": [
    {
     "name": "stdout",
     "output_type": "stream",
     "text": [
      "u1.id = None\n",
      "a1.user_id = None\n"
     ]
    }
   ],
   "source": [
    "print(f\"{u1.id = }\")\n",
    "print(f\"{a1.user_id = }\")"
   ]
  },
  {
   "cell_type": "markdown",
   "metadata": {},
   "source": [
    "It's at this _stage_ that we can see the very _great utility_ that the `unit of work process` provides; recall in the section `INSERT` usually _generates_ the `\"values\"` clause __automatically__, rows were inserted into the `user_account` and `address` tables using _some elaborate syntaxes_ in order to __automatically associate__ the `address.user_id` columns with those of the `user_account` rows. Additionally, it was __necessary__ that we __emit__ `INSERT` for `user_account` rows __first__, _before those of_ `address`, since rows in `address` are __dependent__ on their _parent row_ in `user_account` for a value in their `user_id` column.\n",
    "\n",
    "When using the `Session`, all this _tedium_ is handled for us and even the most _die-hard_ SQL purist can __benefit from automation__ of `INSERT`, `UPDATE` and `DELETE` statements. When we `Session.commit()` the transaction _all steps invoke_ in the __correct order__, and furthermore the __newly generated `primary key`__ of the `user_account` row is applied to the `address.user_id` column _appropriately_."
   ]
  },
  {
   "cell_type": "code",
   "execution_count": 18,
   "metadata": {},
   "outputs": [
    {
     "name": "stdout",
     "output_type": "stream",
     "text": [
      "2022-10-12 11:05:34,743 INFO sqlalchemy.engine.Engine BEGIN (implicit)\n",
      "2022-10-12 11:05:34,744 INFO sqlalchemy.engine.Engine INSERT INTO user_account (name, fullname) VALUES (?, ?)\n",
      "2022-10-12 11:05:34,745 INFO sqlalchemy.engine.Engine [cached since 1.356s ago] ('pkrabs', 'Pearl Krabs')\n",
      "2022-10-12 11:05:34,746 INFO sqlalchemy.engine.Engine INSERT INTO address (email_address, user_id) VALUES (?, ?)\n",
      "2022-10-12 11:05:34,747 INFO sqlalchemy.engine.Engine [generated in 0.00073s] ('pearl.krabs@gmail.com', 6)\n",
      "2022-10-12 11:05:34,748 INFO sqlalchemy.engine.Engine INSERT INTO address (email_address, user_id) VALUES (?, ?)\n",
      "2022-10-12 11:05:34,749 INFO sqlalchemy.engine.Engine [cached since 0.002269s ago] ('pearl@aol.com', 6)\n",
      "2022-10-12 11:05:34,751 INFO sqlalchemy.engine.Engine COMMIT\n"
     ]
    }
   ],
   "source": [
    "session.commit()"
   ]
  },
  {
   "cell_type": "markdown",
   "metadata": {},
   "source": [
    "#### Loading Relationships\n",
    "\n",
    "In the last step, we called `Session.commit()` which emitted a `COMMIT` for the _transaction_, and then per `Session.commit.expire_on_commit` _expired all objects_ so that they __refresh__ for the _next transaction_.\n",
    "\n",
    "When we __next__ _access an attribute_ on these objects, we'll see the `SELECT` __emitted__ for the _primary attributes_ of the row, such as when we view the __newly generated `primary key`__ for the `u1` object."
   ]
  },
  {
   "cell_type": "code",
   "execution_count": 19,
   "metadata": {},
   "outputs": [
    {
     "name": "stdout",
     "output_type": "stream",
     "text": [
      "2022-10-12 11:05:34,866 INFO sqlalchemy.engine.Engine BEGIN (implicit)\n",
      "2022-10-12 11:05:34,869 INFO sqlalchemy.engine.Engine SELECT user_account.id AS user_account_id, user_account.name AS user_account_name, user_account.fullname AS user_account_fullname \n",
      "FROM user_account \n",
      "WHERE user_account.id = ?\n",
      "2022-10-12 11:05:34,871 INFO sqlalchemy.engine.Engine [generated in 0.00147s] (6,)\n",
      "2022-10-12 11:05:34,875 INFO sqlalchemy.engine.Engine SELECT address.id AS address_id, address.email_address AS address_email_address, address.user_id AS address_user_id \n",
      "FROM address \n",
      "WHERE ? = address.user_id\n",
      "2022-10-12 11:05:34,876 INFO sqlalchemy.engine.Engine [generated in 0.00131s] (6,)\n",
      "u1.id = 6\n"
     ]
    }
   ],
   "source": [
    "print(f\"{u1.id = }\")"
   ]
  },
  {
   "cell_type": "markdown",
   "metadata": {},
   "source": [
    "The _u1_ `User` object now has a _persistent collection_ `User.addresses` that we may also access. As this _collection_ consists of an _additional set of rows_ from the `address` table, when we _access this collection_ as well we again see a __lazy load emitted__ in order to __retrieve the objects__."
   ]
  },
  {
   "cell_type": "code",
   "execution_count": 20,
   "metadata": {},
   "outputs": [
    {
     "name": "stdout",
     "output_type": "stream",
     "text": [
      "u1.addresses = [Address(id=4, email_address='pearl.krabs@gmail.com'), Address(id=5, email_address='pearl@aol.com')]\n"
     ]
    }
   ],
   "source": [
    "print(f\"{u1.addresses = }\")"
   ]
  },
  {
   "cell_type": "markdown",
   "metadata": {},
   "source": [
    "_Collections_ and _related attributes_ in the SQLAlchemy ORM are __persistent in memory__; once the _collection_ or _attribute_ is `populated`, _SQL_ is __no longer emitted__ until that _collection_ or _attribute_ is `expired`. We __may access__ `u1.addresses` again as well as _add_ or _remove_ items and this __will not incur__ any new SQL calls."
   ]
  },
  {
   "cell_type": "code",
   "execution_count": 21,
   "metadata": {},
   "outputs": [
    {
     "name": "stdout",
     "output_type": "stream",
     "text": [
      "u1.addresses = [Address(id=4, email_address='pearl.krabs@gmail.com'), Address(id=5, email_address='pearl@aol.com')]\n"
     ]
    }
   ],
   "source": [
    "print(f\"{u1.addresses = }\")"
   ]
  },
  {
   "cell_type": "markdown",
   "metadata": {},
   "source": [
    "While the loading _emitted_ by __`lazy loading`__ can _quickly become expensive_ if we __don't take explicit steps__ to _optimize_ it, the _network of lazy loading_ at least is __fairly well optimized__ to __not perform redundant work__; as the `u1.addresses` collection was __refreshed__, per the _identity map_ these are in fact the __same `Address` instances__ as the `a1` and `a2` objects we've been dealing with already, so we're _done loading all attributes_ in this particular __object graph__."
   ]
  },
  {
   "cell_type": "code",
   "execution_count": 22,
   "metadata": {},
   "outputs": [
    {
     "name": "stdout",
     "output_type": "stream",
     "text": [
      "a1 = Address(id=4, email_address='pearl.krabs@gmail.com')\n",
      "a2 = Address(id=5, email_address='pearl@aol.com')\n"
     ]
    }
   ],
   "source": [
    "print(f\"{a1 = }\")\n",
    "print(f\"{a2 = }\")"
   ]
  },
  {
   "cell_type": "markdown",
   "metadata": {},
   "source": [
    "The issue of how `relationships` load, or not, is an entire subject onto itself. Some additional introduction to these concepts is later in this section at `Loader Strategies`."
   ]
  },
  {
   "cell_type": "markdown",
   "metadata": {},
   "source": [
    "#### Using Relationships in Queries\n",
    "\n",
    "The previous section introduced the _behavior_ of the `relationship()` construct when working with _instances of a mapped class_, above, the `u1`, `a1` and `a2` instances of the `User` and `Address` classes. In this section, we introduce the _behavior_ of `relationship()` as it applies to _class level behavior of a mapped class_, where it _serves_ in several ways to help __automate the construction of SQL queries__."
   ]
  },
  {
   "cell_type": "markdown",
   "metadata": {},
   "source": [
    "##### Using Relationships to Join\n",
    "\n",
    "The sections `Explicit FROM clauses and JOINs` and `Setting the ON Clause` introduced the usage of the `Select.join()` and `Select.join_from()` methods to __compose__ _SQL JOIN clauses_. In order to describe __how to join between tables__, these methods either __infer__ the `ON clause` based on the presence of a _single unambiguous_ `ForeignKeyConstraint` object within the _table metadata structure_ that links the two tables, or otherwise we may _provide_ an __explicit__ `SQL Expression construct` that __indicates a specific ON clause__.\n",
    "\n",
    "When _using ORM entities_, an _additional mechanism_ is available to help us set up the `ON clause` of a _join_, which is to make use of the `relationship()` objects that we set up in our user _mapping_, as was demonstrated at `Declaring Mapped Classes`. The _class-bound attribute_ corresponding to the `relationship()` may be passed as the __single argument__ to `Select.join()`, where it serves to __indicate both the `right side of the join` as well as the `ON clause` `at once`__."
   ]
  },
  {
   "cell_type": "code",
   "execution_count": 23,
   "metadata": {},
   "outputs": [
    {
     "name": "stdout",
     "output_type": "stream",
     "text": [
      "SELECT address.email_address \n",
      "FROM user_account JOIN address ON user_account.id = address.user_id\n"
     ]
    }
   ],
   "source": [
    "print(select(Address.email_address).select_from(User).join(User.addresses))"
   ]
  },
  {
   "cell_type": "markdown",
   "metadata": {},
   "source": [
    "The presence of an ORM `relationship()` on a _mapping_ is __not used__ by `Select.join()` or `Select.join_from()` _if we don't specify it_; it is __not used__ for `ON clause` _inference_. This means, if we _join from User to Address without an ON clause_, it __works__ because of the `ForeignKeyConstraint` _between the two mapped_ `Table` _objects_, __not because__ of the `relationship()` objects on the `User` and `Address` classes."
   ]
  },
  {
   "cell_type": "code",
   "execution_count": 24,
   "metadata": {},
   "outputs": [
    {
     "name": "stdout",
     "output_type": "stream",
     "text": [
      "SELECT address.email_address \n",
      "FROM user_account JOIN address ON user_account.id = address.user_id\n"
     ]
    }
   ],
   "source": [
    "print(select(Address.email_address).join_from(User, Address))"
   ]
  },
  {
   "cell_type": "markdown",
   "metadata": {},
   "source": [
    "##### Joining between Aliased targets\n",
    "\n",
    "In the section `ORM Entity Aliases` we introduced the `aliased()` construct, which is used to apply a _SQL alias_ to an _ORM entity_. When using a `relationship()` to help _construct SQL JOIN_, the use case where the _target of the join_ is to be an `aliased()` is suited by making use of the `PropComparator.of_type()` modifier. To demonstrate we will construct the same join illustrated at `ORM Entity Aliases` using the `relationship()` attributes to join instead."
   ]
  },
  {
   "cell_type": "code",
   "execution_count": 25,
   "metadata": {},
   "outputs": [],
   "source": [
    "address_alias_1 = aliased(Address)\n",
    "address_alias_2 = aliased(Address)"
   ]
  },
  {
   "cell_type": "code",
   "execution_count": 26,
   "metadata": {},
   "outputs": [
    {
     "name": "stdout",
     "output_type": "stream",
     "text": [
      "SELECT user_account.id, user_account.name, user_account.fullname \n",
      "FROM user_account JOIN address AS address_1 ON user_account.id = address_1.user_id JOIN address AS address_2 ON user_account.id = address_2.user_id \n",
      "WHERE address_1.email_address = :email_address_1 AND address_2.email_address = :email_address_2\n"
     ]
    }
   ],
   "source": [
    "print(\n",
    "    select(User).\n",
    "    join(User.addresses.of_type(address_alias_1)).\n",
    "    where(address_alias_1.email_address == \"patrick@aol.com\").\n",
    "    join(User.addresses.of_type(address_alias_2)).\n",
    "    where(address_alias_2.email_address == \"patrick@gmail.com\")\n",
    ")"
   ]
  },
  {
   "cell_type": "markdown",
   "metadata": {},
   "source": [
    "To make use of a `relationship()` to _construct a join_ from an __aliased entity__, the _attribute_ is __available__ from the `aliased()` construct directly."
   ]
  },
  {
   "cell_type": "code",
   "execution_count": 27,
   "metadata": {},
   "outputs": [
    {
     "name": "stdout",
     "output_type": "stream",
     "text": [
      "SELECT user_account_1.name \n",
      "FROM user_account AS user_account_1 JOIN address ON user_account_1.id = address.user_id\n"
     ]
    }
   ],
   "source": [
    "user_alias_1 = aliased(User)\n",
    "print(select(user_alias_1.name).join(user_alias_1.addresses))"
   ]
  },
  {
   "cell_type": "markdown",
   "metadata": {},
   "source": [
    "##### Augmenting the ON Criteria\n",
    "\n",
    "The `ON clause` generated by the `relationship()` construct may also be __augmented with additional criteria__. This is __useful__ both for _quick ways to limit the scope of a particular join over a relationship path_, and also for use cases like _configuring loader strategies_, introduced below at `Loader Strategies`. The `PropComparator.and_()` method accepts a _series of SQL expressions_ __positionally__ that will be joined to the `ON clause` of the _JOIN_ __via `AND`__. For example if we wanted to _JOIN from User to Address_ but also _limit the ON criteria_ to only _certain email addresses_."
   ]
  },
  {
   "cell_type": "code",
   "execution_count": 28,
   "metadata": {},
   "outputs": [
    {
     "name": "stdout",
     "output_type": "stream",
     "text": [
      "2022-10-12 11:05:36,053 INFO sqlalchemy.engine.Engine SELECT user_account.fullname \n",
      "FROM user_account JOIN address ON user_account.id = address.user_id AND address.email_address = ?\n",
      "2022-10-12 11:05:36,055 INFO sqlalchemy.engine.Engine [generated in 0.00170s] ('pearl.krabs@gmail.com',)\n"
     ]
    },
    {
     "data": {
      "text/plain": [
       "[('Pearl Krabs',)]"
      ]
     },
     "execution_count": 28,
     "metadata": {},
     "output_type": "execute_result"
    }
   ],
   "source": [
    "stmt = select(User.fullname).join(\n",
    "    User.addresses.and_(Address.email_address == \"pearl.krabs@gmail.com\")\n",
    ")\n",
    "session.execute(stmt).all()"
   ]
  },
  {
   "cell_type": "markdown",
   "metadata": {},
   "source": [
    "##### EXISTS forms: has()/any()\n",
    "\n",
    "In the section `EXISTS subqueries`, we introduced the `Exists` object that provides for the _SQL EXISTS keyword_ in _conjunction_ with a `scalar subquery`. The `relationship()` construct provides for some _helper methods_ that may be used to __generate some common EXISTS styles of queries in terms of the relationship__.\n",
    "\n",
    "For a _one-to-many relationship_ such as `User.addresses`, an `EXISTS` against the `address` table that __correlates back__ to the `user_account` table can be produced using `PropComparator.any()`. This method _accepts_ an __optional `WHERE` criteria__ to __limit the rows matched by the subquery__."
   ]
  },
  {
   "cell_type": "code",
   "execution_count": 29,
   "metadata": {},
   "outputs": [
    {
     "name": "stdout",
     "output_type": "stream",
     "text": [
      "2022-10-12 11:05:36,193 INFO sqlalchemy.engine.Engine SELECT user_account.fullname \n",
      "FROM user_account \n",
      "WHERE EXISTS (SELECT 1 \n",
      "FROM address \n",
      "WHERE user_account.id = address.user_id AND address.email_address = ?)\n",
      "2022-10-12 11:05:36,194 INFO sqlalchemy.engine.Engine [generated in 0.00107s] ('pearl.krabs@gmail.com',)\n"
     ]
    },
    {
     "data": {
      "text/plain": [
       "[('Pearl Krabs',)]"
      ]
     },
     "execution_count": 29,
     "metadata": {},
     "output_type": "execute_result"
    }
   ],
   "source": [
    "stmt = select(User.fullname).where(\n",
    "    User.addresses.any(Address.email_address == \"pearl.krabs@gmail.com\")\n",
    ")\n",
    "session.execute(stmt).all()"
   ]
  },
  {
   "cell_type": "markdown",
   "metadata": {},
   "source": [
    "As `EXISTS` tends to be _more efficient_ __for `negative lookups`__, a _common query_ is to _locate entities_ where there are __no related entities present__. This is __succinct__ using a phrase such as `~User.addresses.any()`, to select for `User` entities that have __no related `Address` rows__."
   ]
  },
  {
   "cell_type": "code",
   "execution_count": 30,
   "metadata": {},
   "outputs": [
    {
     "name": "stdout",
     "output_type": "stream",
     "text": [
      "2022-10-12 11:05:36,373 INFO sqlalchemy.engine.Engine SELECT user_account.fullname \n",
      "FROM user_account \n",
      "WHERE NOT (EXISTS (SELECT 1 \n",
      "FROM address \n",
      "WHERE user_account.id = address.user_id))\n",
      "2022-10-12 11:05:36,374 INFO sqlalchemy.engine.Engine [generated in 0.00130s] ()\n"
     ]
    },
    {
     "data": {
      "text/plain": [
       "[('Patrick Star',), ('Squidward Tentacles',), ('Eugene H. Krabs',)]"
      ]
     },
     "execution_count": 30,
     "metadata": {},
     "output_type": "execute_result"
    }
   ],
   "source": [
    "stmt = select(User.fullname).where(~User.addresses.any())\n",
    "session.execute(stmt).all()"
   ]
  },
  {
   "cell_type": "markdown",
   "metadata": {},
   "source": [
    "The `PropComparator.has()` method works in mostly the same way as `PropComparator.any()`, _except_ that it's __used for `many-to-one` relationships__, such as if we wanted to __locate all `Address` objects which belonged to `\"pearl\"`__."
   ]
  },
  {
   "cell_type": "code",
   "execution_count": 31,
   "metadata": {},
   "outputs": [
    {
     "name": "stdout",
     "output_type": "stream",
     "text": [
      "2022-10-12 11:05:36,494 INFO sqlalchemy.engine.Engine SELECT address.email_address \n",
      "FROM address \n",
      "WHERE EXISTS (SELECT 1 \n",
      "FROM user_account \n",
      "WHERE user_account.id = address.user_id AND user_account.name = ?)\n",
      "2022-10-12 11:05:36,496 INFO sqlalchemy.engine.Engine [generated in 0.00209s] ('pkrabs',)\n"
     ]
    },
    {
     "data": {
      "text/plain": [
       "[('pearl.krabs@gmail.com',), ('pearl@aol.com',)]"
      ]
     },
     "execution_count": 31,
     "metadata": {},
     "output_type": "execute_result"
    }
   ],
   "source": [
    "stmt = select(Address.email_address).where(Address.user.has(User.name == \"pkrabs\"))\n",
    "session.execute(stmt).all()"
   ]
  },
  {
   "cell_type": "markdown",
   "metadata": {},
   "source": [
    "##### Common Relationship Operators\n",
    "\n",
    "There are some _additional varieties_ of __SQL generation helpers__ that come with `relationship()`, including:\n",
    "\n",
    "* __many to one equals comparison__ - a specific _object instance_ can be compared to __many-to-one relationship__, to select rows where the `foreign key` of the _target entity_ __matches__ the _primary key_ value of the _object_ given."
   ]
  },
  {
   "cell_type": "code",
   "execution_count": 32,
   "metadata": {},
   "outputs": [
    {
     "name": "stdout",
     "output_type": "stream",
     "text": [
      "SELECT address.id, address.email_address, address.user_id \n",
      "FROM address \n",
      "WHERE :param_1 = address.user_id\n"
     ]
    }
   ],
   "source": [
    "print(select(Address).where(Address.user == u1))"
   ]
  },
  {
   "cell_type": "markdown",
   "metadata": {},
   "source": [
    "* __many to one not equals comparison__ - the _not equals operator_ may also be used."
   ]
  },
  {
   "cell_type": "code",
   "execution_count": 33,
   "metadata": {},
   "outputs": [
    {
     "name": "stdout",
     "output_type": "stream",
     "text": [
      "SELECT address.id, address.email_address, address.user_id \n",
      "FROM address \n",
      "WHERE address.user_id != :user_id_1 OR address.user_id IS NULL\n"
     ]
    }
   ],
   "source": [
    "print(select(Address).where(Address.user != u1))"
   ]
  },
  {
   "cell_type": "markdown",
   "metadata": {},
   "source": [
    "* __object is contained in a one-to-many collection__ - this is _essentially_ the __one-to-many version__ of the `\"equals\" comparison`, select rows where the _primary key_ __equals__ the value of the _foreign key_ in a _related object_."
   ]
  },
  {
   "cell_type": "code",
   "execution_count": 34,
   "metadata": {},
   "outputs": [
    {
     "name": "stdout",
     "output_type": "stream",
     "text": [
      "SELECT user_account.id, user_account.name, user_account.fullname \n",
      "FROM user_account \n",
      "WHERE user_account.id = :param_1\n"
     ]
    }
   ],
   "source": [
    "print(select(User).where(User.addresses.contains(a1)))"
   ]
  },
  {
   "cell_type": "markdown",
   "metadata": {},
   "source": [
    "* __An object has a particular parent from a one-to-many perspective__ - the `with_parent()` function __produces a comparison__ that _returns rows_ which are __referred towards__ by a _given parent_, this is _essentially_ the __same as__ using the `\"==\" operator` with the __`\"many-to-one\"`__ side."
   ]
  },
  {
   "cell_type": "code",
   "execution_count": 35,
   "metadata": {},
   "outputs": [
    {
     "name": "stdout",
     "output_type": "stream",
     "text": [
      "SELECT address.id, address.email_address, address.user_id \n",
      "FROM address \n",
      "WHERE :param_1 = address.user_id\n"
     ]
    }
   ],
   "source": [
    "print(select(Address).where(with_parent(u1, User.addresses)))"
   ]
  },
  {
   "cell_type": "markdown",
   "metadata": {},
   "source": [
    "#### Loader Strategies\n",
    "\n",
    "In the section `Loading Relationships` we introduced the concept that when we work with _instances of mapped objects_, _accessing the attributes_ that are mapped using `relationship()` in the _default case_ will __emit a lazy load__ when the _collection_ is __not populated__ in order to `load the objects` that _should be present_ in this _collection_.\n",
    "\n",
    "`Lazy loading` is one of the __most famous__ _ORM patterns_, and is also the one that is __most controversial__. When _several dozen ORM objects in memory_ each refer to a _handful of unloaded attributes_, `routine manipulation` of these objects can __spin off many additional queries__ that __`can add up`__ (otherwise known as the __`N plus one problem`__), and to make matters __`worse`__ they are __emitted implicitly__. These _implicit queries_ `may not be noticed`, may __cause errors__ when they are _attempted_ __after__ there's _no longer a database transaction available_, or when using __alternative concurrency patterns__ such as `asyncio`, they actually __won't work__ at all.\n",
    "\n",
    "At the same time, _lazy loading_ is a __vastly `popular` and `useful` pattern__ when it is _compatible_ with the __concurrency approach__ in use and __isn't otherwise causing problems__. For these reasons, SQLAlchemy's ORM places a _lot of emphasis_ on being able to `control` and `optimize` this _loading behavior_.\n",
    "\n",
    "Above all, the __first step__ in _using ORM lazy loading_ __`effectively`__ is to `test the application`, `turn on SQL echoing`, and `watch the SQL` that is __emitted__. If there seem to be _lots of redundant_ `SELECT statements` that _look very much like_ they could be __`rolled into one` much more efficiently__, if there are `loads` __occurring inappropriately__ for objects that have been __detached__ from their `Session`, that's when to _look into using_ __`loader strategies`__.\n",
    "\n",
    "_Loader strategies_ are represented as objects that __may be associated__ with a `SELECT statement` using the `Select.options()` method. They may be also __configured__ as _defaults_ for a `relationship()` using the `relationship.lazy` option."
   ]
  },
  {
   "cell_type": "code",
   "execution_count": 36,
   "metadata": {},
   "outputs": [
    {
     "name": "stdout",
     "output_type": "stream",
     "text": [
      "2022-10-12 11:05:37,197 INFO sqlalchemy.engine.Engine SELECT user_account.id, user_account.name, user_account.fullname \n",
      "FROM user_account\n",
      "2022-10-12 11:05:37,198 INFO sqlalchemy.engine.Engine [generated in 0.00154s] ()\n",
      "2022-10-12 11:05:37,203 INFO sqlalchemy.engine.Engine SELECT address.user_id AS address_user_id, address.id AS address_id, address.email_address AS address_email_address \n",
      "FROM address \n",
      "WHERE address.user_id IN (?, ?, ?, ?, ?, ?)\n",
      "2022-10-12 11:05:37,206 INFO sqlalchemy.engine.Engine [generated in 0.00351s] (1, 2, 3, 4, 5, 6)\n",
      "user_obj.addresses = [Address(id=1, email_address='spongebob@sqlalchemy.org')]\n",
      "user_obj.addresses = [Address(id=2, email_address='sandy@sqlalchemy.org'), Address(id=3, email_address='sandy@squirrelpower.org')]\n",
      "user_obj.addresses = []\n",
      "user_obj.addresses = []\n",
      "user_obj.addresses = []\n",
      "user_obj.addresses = [Address(id=4, email_address='pearl.krabs@gmail.com'), Address(id=5, email_address='pearl@aol.com')]\n"
     ]
    }
   ],
   "source": [
    "for user_obj in session.execute(\n",
    "    select(User).options(selectinload(User.addresses))\n",
    ").scalars():\n",
    "    print(f\"{user_obj.addresses = }\")"
   ]
  },
  {
   "cell_type": "markdown",
   "metadata": {},
   "source": [
    "Each _loader strategy_ object __adds some kind of information to the statement__ that will be __used later__ by the `Session` when it is _deciding how various attributes should be loaded and/or behave_ when they are accessed."
   ]
  },
  {
   "cell_type": "markdown",
   "metadata": {},
   "source": [
    "##### Selectin Load\n",
    "\n",
    "The __most useful loader__ in modern SQLAlchemy is the `selectinload()` _loader option_. This option _solves the most common form_ of the __`\"N plus one\"`__ problem which is that of a _set of objects_ that __refer to related collections__. `selectinload()` will _ensure_ that _a particular collection_ for a full series of objects are __loaded up front using a single query__. It does this using a `SELECT` form that in most cases can be __emitted__ _against the related table alone_, __without the introduction__ of `JOIN`s or `subqueries`, and __only queries__ for those _parent objects_ for which the __collection isn't already loaded__. Below we illustrate `selectinload()` by _loading all_ of the __`User` objects__ and _all_ of their __related `Address` objects__; while we invoke `Session.execute()` __only once__, given a `select()` construct, when the database is accessed, there are in fact _two_ `SELECT` statements __emitted__, the _second_ one being to _fetch_ the __related `Address` objects__."
   ]
  },
  {
   "cell_type": "code",
   "execution_count": 37,
   "metadata": {},
   "outputs": [
    {
     "name": "stdout",
     "output_type": "stream",
     "text": [
      "2022-10-12 11:05:37,324 INFO sqlalchemy.engine.Engine SELECT user_account.id, user_account.name, user_account.fullname \n",
      "FROM user_account ORDER BY user_account.id\n",
      "2022-10-12 11:05:37,326 INFO sqlalchemy.engine.Engine [generated in 0.00156s] ()\n",
      "2022-10-12 11:05:37,329 INFO sqlalchemy.engine.Engine SELECT address.user_id AS address_user_id, address.id AS address_id, address.email_address AS address_email_address \n",
      "FROM address \n",
      "WHERE address.user_id IN (?, ?, ?, ?, ?, ?)\n",
      "2022-10-12 11:05:37,330 INFO sqlalchemy.engine.Engine [cached since 0.1269s ago] (1, 2, 3, 4, 5, 6)\n",
      "spongebob (spongebob@sqlalchemy.org)\n",
      "sandy (sandy@sqlalchemy.org, sandy@squirrelpower.org)\n",
      "patrick ()\n",
      "squidward ()\n",
      "ehkrabs ()\n",
      "pkrabs (pearl.krabs@gmail.com, pearl@aol.com)\n"
     ]
    }
   ],
   "source": [
    "stmt = select(User).options(selectinload(User.addresses)).order_by(User.id)\n",
    "\n",
    "for row in session.execute(stmt):\n",
    "    print(f\"{row.User.name} ({', '.join(a.email_address for a in row.User.addresses)})\")"
   ]
  },
  {
   "cell_type": "markdown",
   "metadata": {},
   "source": [
    "##### Joined Load\n",
    "\n",
    "The `joinedload()` _eager load strategy_ is the __oldest__ _eager loader_ in SQLAlchemy, which __augments__ the `SELECT` statement that's being _passed to the database_ with a `JOIN` (which _may be an outer or an inner join_ depending on options), which can then __load in related objects__.\n",
    "\n",
    "The `joinedload()` strategy is _best suited_ towards __loading related `many-to-one` objects__, as this __`only requires`__ that _additional columns_ are __added to a primary entity row__ that would be __fetched in any case__. For _greater efficiency_, it also accepts an option `joinedload.innerjoin` so that an __`inner join` instead of an `outer join`__ may be used for a case such as below where we know that all `Address` objects have an _associated_ `User`."
   ]
  },
  {
   "cell_type": "code",
   "execution_count": 38,
   "metadata": {},
   "outputs": [
    {
     "name": "stdout",
     "output_type": "stream",
     "text": [
      "2022-10-12 11:05:37,463 INFO sqlalchemy.engine.Engine SELECT address.id, address.email_address, address.user_id, user_account_1.id AS id_1, user_account_1.name, user_account_1.fullname \n",
      "FROM address JOIN user_account AS user_account_1 ON user_account_1.id = address.user_id ORDER BY address.id\n",
      "2022-10-12 11:05:37,465 INFO sqlalchemy.engine.Engine [generated in 0.00138s] ()\n",
      "spongebob@sqlalchemy.org spongebob\n",
      "sandy@sqlalchemy.org sandy\n",
      "sandy@squirrelpower.org sandy\n",
      "pearl.krabs@gmail.com pkrabs\n",
      "pearl@aol.com pkrabs\n"
     ]
    }
   ],
   "source": [
    "stmt = (\n",
    "    select(Address).options(joinedload(Address.user, innerjoin=True)).\n",
    "    order_by(Address.id)\n",
    ")\n",
    "\n",
    "for row in session.execute(stmt):\n",
    "    print(f\"{row.Address.email_address} {row.Address.user.name}\")"
   ]
  },
  {
   "cell_type": "markdown",
   "metadata": {},
   "source": [
    "`joinedload()` also __works for collections__, meaning __`one-to-many`__ _relationships_, however it has the _effect of multiplying out primary rows per related item in a recursive way_ that __grows the amount of data__ sent for a result set by _orders of magnitude_ for _nested collections_ and/or _larger collections_, so _its use vs. another option_ such as `selectinload()` should be __evaluated on a per-case basis__.\n",
    "\n",
    "It's _important_ to note that the `WHERE` and `ORDER BY` criteria of the _enclosing_ `Select` statement __do not target the table rendered by `joinedload()`__. Above, it can be seen in the SQL that an __anonymous alias__ is applied to the `user_account` table such that is __not directly addressable__ in the query. This concept is discussed in more detail in the section `The Zen of Joined Eager Loading`.\n",
    "\n",
    "The `ON clause` rendered by `joinedload()` __may be affected directly__ by using the `PropComparator.and_()` method described previously at `Augmenting the ON Criteria`; examples of this technique with _loader strategies_ are further below at `Augmenting Loader Strategy Paths`. However, more generally, `\"joined eager loading\"` may be applied to a `Select` that uses `Select.join()` using the approach described in the next section, `Explicit Join + Eager load`.\n",
    "\n",
    "> ##### Tip\n",
    "> \n",
    "> It's important to note that _many-to-one_`eager loads` are __often not necessary__, as the __`\"N plus one\"`__ problem is _much less prevalent_ in the common case. When _many objects_ all __refer to the same related object__, such as _many_ `Address` objects that each refer to the _same_ `User`, `SQL` will be __emitted only once__ for that `User` object using _normal lazy loading_. The `lazy load routine` will _look up the related object_ __by primary key__ in the _current_ `Session` __without emitting any SQL when possible__."
   ]
  },
  {
   "cell_type": "markdown",
   "metadata": {},
   "source": [
    "##### Explicit Join + Eager load\n",
    "\n",
    "If we were to _load_ `Address` rows while _joining_ to the `user_account` table using a method such as `Select.join()` to __render the `JOIN`__, we _could also leverage_ that `JOIN` in order to __eagerly load__ the contents of the `Address.user` _attribute_ on each `Address` object returned. This is _essentially_ that we are using __`\"joined eager loading\"`__ but __rendering the `JOIN` ourselves__. This common use case is achieved by using the `contains_eager()` option. This option is __very similar__ to `joinedload()`, except that it _assumes_ we have __set up the `JOIN` ourselves__, and it instead _only indicates_ that _additional columns_ in the `COLUMNS` clause __should be loaded into related attributes__ on _each_ returned object."
   ]
  },
  {
   "cell_type": "code",
   "execution_count": 39,
   "metadata": {},
   "outputs": [
    {
     "name": "stdout",
     "output_type": "stream",
     "text": [
      "2022-10-12 11:05:37,574 INFO sqlalchemy.engine.Engine SELECT user_account.id, user_account.name, user_account.fullname, address.id AS id_1, address.email_address, address.user_id \n",
      "FROM address JOIN user_account ON user_account.id = address.user_id \n",
      "WHERE user_account.name = ? ORDER BY address.id\n",
      "2022-10-12 11:05:37,576 INFO sqlalchemy.engine.Engine [generated in 0.00170s] ('pkrabs',)\n",
      "pearl.krabs@gmail.com pkrabs\n",
      "pearl@aol.com pkrabs\n"
     ]
    }
   ],
   "source": [
    "stmt = (\n",
    "    select(Address).\n",
    "    join(Address.user).\n",
    "    where(User.name == \"pkrabs\").\n",
    "    options(contains_eager(Address.user)).\n",
    "    order_by(Address.id)\n",
    ")\n",
    "\n",
    "for row in session.execute(stmt):\n",
    "    print(f\"{row.Address.email_address} {row.Address.user.name}\")"
   ]
  },
  {
   "cell_type": "markdown",
   "metadata": {},
   "source": [
    "Above, we __both__ _filtered the rows_ on `user_account.name` and also __loaded rows__ from `user_account` into the `Address.user` attribute of the returned rows. If we had __applied `joinedload()` separately__, we would get a SQL query that __unnecessarily__ _joins twice_."
   ]
  },
  {
   "cell_type": "code",
   "execution_count": 40,
   "metadata": {},
   "outputs": [
    {
     "name": "stdout",
     "output_type": "stream",
     "text": [
      "SELECT address.id, address.email_address, address.user_id, user_account_1.id AS id_1, user_account_1.name, user_account_1.fullname \n",
      "FROM address JOIN user_account ON user_account.id = address.user_id LEFT OUTER JOIN user_account AS user_account_1 ON user_account_1.id = address.user_id \n",
      "WHERE user_account.name = :name_1 ORDER BY address.id\n"
     ]
    }
   ],
   "source": [
    "stmt = (\n",
    "    select(Address).\n",
    "    join(Address.user).\n",
    "    where(User.name == \"pkrabs\").\n",
    "    options(joinedload(Address.user)).\n",
    "    order_by(Address.id)\n",
    ")\n",
    "print(stmt)"
   ]
  },
  {
   "cell_type": "markdown",
   "metadata": {},
   "source": [
    "##### Augmenting Loader Strategy Paths\n",
    "\n",
    "In `Augmenting the ON Criteria` we illustrated __how to add arbitrary criteria__ to a `JOIN` _rendered with_ `relationship()` to also _include additional criteria_ in the `ON clause`. The `PropComparator.and_()` method is in fact __generally available__ for _most loader options_. For example, if we wanted to __re-load__ the _names of users_ and _their email addresses_, but __omitting__ the _email addresses_ with the `sqlalchemy.org` domain, we can apply `PropComparator.and_()` to the argument passed to `selectinload()` to _limit_ this criteria."
   ]
  },
  {
   "cell_type": "code",
   "execution_count": 41,
   "metadata": {},
   "outputs": [
    {
     "name": "stdout",
     "output_type": "stream",
     "text": [
      "2022-10-12 11:05:37,902 INFO sqlalchemy.engine.Engine SELECT user_account.id, user_account.name, user_account.fullname \n",
      "FROM user_account ORDER BY user_account.id\n",
      "2022-10-12 11:05:37,903 INFO sqlalchemy.engine.Engine [generated in 0.00152s] ()\n",
      "2022-10-12 11:05:37,910 INFO sqlalchemy.engine.Engine SELECT address.user_id AS address_user_id, address.id AS address_id, address.email_address AS address_email_address \n",
      "FROM address \n",
      "WHERE address.user_id IN (?, ?, ?, ?, ?, ?) AND (address.email_address NOT LIKE '%' || ?)\n",
      "2022-10-12 11:05:37,912 INFO sqlalchemy.engine.Engine [generated in 0.00149s] (1, 2, 3, 4, 5, 6, 'sqlalchemy.org')\n",
      "spongebob ()\n",
      "sandy (sandy@squirrelpower.org)\n",
      "patrick ()\n",
      "squidward ()\n",
      "ehkrabs ()\n",
      "pkrabs (pearl.krabs@gmail.com, pearl@aol.com)\n"
     ]
    }
   ],
   "source": [
    "stmt = (\n",
    "    select(User).\n",
    "    options(\n",
    "        selectinload(User.addresses.and_(~Address.email_address.endswith(\"sqlalchemy.org\")))\n",
    "    ).order_by(User.id).execution_options(populate_existing=True)\n",
    ")\n",
    "\n",
    "for row in session.execute(stmt):\n",
    "    print(f\"{row.User.name} ({', '.join(a.email_address for a in row.User.addresses)})\")"
   ]
  },
  {
   "cell_type": "markdown",
   "metadata": {},
   "source": [
    "A __very important__ thing to note above is that a `special option` is added with `.execution_options(populate_existing=True)`. This option which _takes effect when_ `rows` are _being fetched_ __indicates__ that the `loader option` we are using __should `replace` the `existing contents` of `collections` on the objects__, _if_ they are _already loaded_. As we are working with a _single_ `Session` __repeatedly__, the _objects_ we see __being loaded__ above are the __same `Python` instances__ as those that were _first persisted_ at the start of the ORM section of this notebook."
   ]
  },
  {
   "cell_type": "markdown",
   "metadata": {},
   "source": [
    "##### Raiseload\n",
    "\n",
    "One additional _loader strategy_ worth mentioning is `raiseload()`. This option is used to __completely block an application__ from having the `\"N plus one\"` problem __at all__ by causing what would _normally_ be a `lazy load` to __raise an error instead__. It has _two variants_ that are _controlled_ via the `raiseload.sql_only` option _to block_ either __lazy loads that require SQL__, versus __all `\"load\"` operations__ including those which __only__ need to __consult the current `Session`__.\n",
    "\n",
    "One way to use `raiseload()` is to _configure_ it on `relationship()` __itself__, by _setting_ `relationship.lazy` to the value `\"raise_on_sql\"`, so that for a particular _mapping_, a _certain relationship_ will __never try to emit SQL__."
   ]
  },
  {
   "cell_type": "code",
   "execution_count": 42,
   "metadata": {},
   "outputs": [],
   "source": [
    "class UserStrict(Base):\n",
    "    __tablename__ = \"user_strict\"\n",
    "    \n",
    "    id = Column(Integer, primary_key=True)\n",
    "    name = Column(String(30))\n",
    "    fullname = Column(String)\n",
    "    \n",
    "    addresses = relationship(\"AddressStrict\", back_populates=\"user\", lazy=\"raise_on_sql\")\n",
    "    \n",
    "    def __repr__(self):\n",
    "        return f\"User(id={self.id!r}, name={self.name!r}, fullname={self.fullname!r})\""
   ]
  },
  {
   "cell_type": "code",
   "execution_count": 43,
   "metadata": {},
   "outputs": [],
   "source": [
    "class AddressStrict(Base):\n",
    "    __tablename__ = \"address_strict\"\n",
    "    \n",
    "    id = Column(Integer, primary_key=True)\n",
    "    email_address = Column(String, nullable=False)\n",
    "    user_id = Column(Integer, ForeignKey(\"user_strict.id\"))\n",
    "    \n",
    "    user = relationship(\"UserStrict\", back_populates=\"addresses\", lazy=\"raise_on_sql\")\n",
    "    \n",
    "    def __repr__(self):\n",
    "        return f\"Address(id={self.id!r}, email_address={self.email_address!r})\""
   ]
  },
  {
   "cell_type": "code",
   "execution_count": 44,
   "metadata": {},
   "outputs": [
    {
     "name": "stdout",
     "output_type": "stream",
     "text": [
      "2022-10-12 11:05:38,341 INFO sqlalchemy.engine.Engine BEGIN (implicit)\n",
      "2022-10-12 11:05:38,343 INFO sqlalchemy.engine.Engine PRAGMA main.table_info(\"user_account\")\n",
      "2022-10-12 11:05:38,344 INFO sqlalchemy.engine.Engine [raw sql] ()\n",
      "2022-10-12 11:05:38,346 INFO sqlalchemy.engine.Engine PRAGMA main.table_info(\"address\")\n",
      "2022-10-12 11:05:38,347 INFO sqlalchemy.engine.Engine [raw sql] ()\n",
      "2022-10-12 11:05:38,348 INFO sqlalchemy.engine.Engine PRAGMA main.table_info(\"user_strict\")\n",
      "2022-10-12 11:05:38,349 INFO sqlalchemy.engine.Engine [raw sql] ()\n",
      "2022-10-12 11:05:38,351 INFO sqlalchemy.engine.Engine PRAGMA temp.table_info(\"user_strict\")\n",
      "2022-10-12 11:05:38,352 INFO sqlalchemy.engine.Engine [raw sql] ()\n",
      "2022-10-12 11:05:38,354 INFO sqlalchemy.engine.Engine PRAGMA main.table_info(\"address_strict\")\n",
      "2022-10-12 11:05:38,355 INFO sqlalchemy.engine.Engine [raw sql] ()\n",
      "2022-10-12 11:05:38,358 INFO sqlalchemy.engine.Engine PRAGMA temp.table_info(\"address_strict\")\n",
      "2022-10-12 11:05:38,359 INFO sqlalchemy.engine.Engine [raw sql] ()\n",
      "2022-10-12 11:05:38,360 INFO sqlalchemy.engine.Engine \n",
      "CREATE TABLE user_strict (\n",
      "\tid INTEGER NOT NULL, \n",
      "\tname VARCHAR(30), \n",
      "\tfullname VARCHAR, \n",
      "\tPRIMARY KEY (id)\n",
      ")\n",
      "\n",
      "\n",
      "2022-10-12 11:05:38,361 INFO sqlalchemy.engine.Engine [no key 0.00082s] ()\n",
      "2022-10-12 11:05:38,363 INFO sqlalchemy.engine.Engine \n",
      "CREATE TABLE address_strict (\n",
      "\tid INTEGER NOT NULL, \n",
      "\temail_address VARCHAR NOT NULL, \n",
      "\tuser_id INTEGER, \n",
      "\tPRIMARY KEY (id), \n",
      "\tFOREIGN KEY(user_id) REFERENCES user_strict (id)\n",
      ")\n",
      "\n",
      "\n",
      "2022-10-12 11:05:38,364 INFO sqlalchemy.engine.Engine [no key 0.00081s] ()\n",
      "2022-10-12 11:05:38,366 INFO sqlalchemy.engine.Engine COMMIT\n"
     ]
    }
   ],
   "source": [
    "mapped_registry.metadata.create_all(engine)"
   ]
  },
  {
   "cell_type": "markdown",
   "metadata": {},
   "source": [
    "Using such a _mapping_, the `application` is __blocked from `lazy loading`__, indicating that a particular query would __need to specify a loader strategy__."
   ]
  },
  {
   "cell_type": "code",
   "execution_count": 45,
   "metadata": {},
   "outputs": [
    {
     "name": "stdout",
     "output_type": "stream",
     "text": [
      "2022-10-12 11:05:38,469 INFO sqlalchemy.engine.Engine INSERT INTO user_strict (name, fullname) VALUES (?, ?)\n",
      "2022-10-12 11:05:38,471 INFO sqlalchemy.engine.Engine [generated in 0.00173s] ('spongebob', 'Spongebob Squarepants')\n",
      "2022-10-12 11:05:38,473 INFO sqlalchemy.engine.Engine INSERT INTO user_strict (name, fullname) VALUES (?, ?)\n",
      "2022-10-12 11:05:38,476 INFO sqlalchemy.engine.Engine [cached since 0.005309s ago] ('sandy', 'Sandy Cheeks')\n",
      "2022-10-12 11:05:38,476 INFO sqlalchemy.engine.Engine INSERT INTO user_strict (name, fullname) VALUES (?, ?)\n",
      "2022-10-12 11:05:38,477 INFO sqlalchemy.engine.Engine [cached since 0.008398s ago] ('patrick', 'Patrick Star')\n",
      "2022-10-12 11:05:38,479 INFO sqlalchemy.engine.Engine INSERT INTO user_strict (name, fullname) VALUES (?, ?)\n",
      "2022-10-12 11:05:38,480 INFO sqlalchemy.engine.Engine [cached since 0.01087s ago] ('squidward', 'Squidward Tentacles')\n",
      "2022-10-12 11:05:38,481 INFO sqlalchemy.engine.Engine INSERT INTO user_strict (name, fullname) VALUES (?, ?)\n",
      "2022-10-12 11:05:38,482 INFO sqlalchemy.engine.Engine [cached since 0.01275s ago] ('ehkrabs', 'Eugene H. Krabs')\n",
      "2022-10-12 11:05:38,483 INFO sqlalchemy.engine.Engine COMMIT\n"
     ]
    }
   ],
   "source": [
    "spongebob_strict = UserStrict(name=\"spongebob\", fullname=\"Spongebob Squarepants\")\n",
    "sandy_strict = UserStrict(name=\"sandy\", fullname=\"Sandy Cheeks\")\n",
    "patrick_strict = UserStrict(name=\"patrick\", fullname=\"Patrick Star\")\n",
    "squidward_strict = UserStrict(name=\"squidward\", fullname=\"Squidward Tentacles\")\n",
    "krabs_strict = UserStrict(name=\"ehkrabs\", fullname=\"Eugene H. Krabs\")\n",
    "\n",
    "session.add(spongebob_strict)\n",
    "session.add(sandy_strict)\n",
    "session.add(patrick_strict)\n",
    "session.add(squidward_strict)\n",
    "session.add(krabs_strict)\n",
    "\n",
    "session.flush()\n",
    "session.commit()"
   ]
  },
  {
   "cell_type": "code",
   "execution_count": 46,
   "metadata": {},
   "outputs": [
    {
     "name": "stdout",
     "output_type": "stream",
     "text": [
      "2022-10-12 11:05:38,643 INFO sqlalchemy.engine.Engine BEGIN (implicit)\n",
      "2022-10-12 11:05:38,644 INFO sqlalchemy.engine.Engine INSERT INTO address_strict (email_address, user_id) VALUES (?, (SELECT user_strict.id \n",
      "FROM user_strict \n",
      "WHERE user_strict.name = ?))\n",
      "2022-10-12 11:05:38,646 INFO sqlalchemy.engine.Engine [generated in 0.00363s] (('spongebob@sqlalchemy.org', 'spongebob'), ('sandy@sqlalchemy.org', 'sandy'), ('sandy@squirrelpower.org', 'sandy'))\n",
      "2022-10-12 11:05:38,647 INFO sqlalchemy.engine.Engine COMMIT\n"
     ]
    }
   ],
   "source": [
    "addresses = [\n",
    "    {\"username\": \"spongebob\", \"email_address\": \"spongebob@sqlalchemy.org\"},\n",
    "    {\"username\": \"sandy\", \"email_address\": \"sandy@sqlalchemy.org\"},\n",
    "    {\"username\": \"sandy\", \"email_address\": \"sandy@squirrelpower.org\"},\n",
    "]\n",
    "scalar_subq = (\n",
    "    select(UserStrict.id).\n",
    "    where(UserStrict.name == bindparam(\"username\")).\n",
    "    scalar_subquery()\n",
    ")\n",
    "\n",
    "with engine.connect() as conn:\n",
    "    result = conn.execute(\n",
    "        insert(AddressStrict).values(user_id=scalar_subq),\n",
    "        [\n",
    "            {\"username\": 'spongebob', \"email_address\": \"spongebob@sqlalchemy.org\"},\n",
    "            {\"username\": 'sandy', \"email_address\": \"sandy@sqlalchemy.org\"},\n",
    "            {\"username\": 'sandy', \"email_address\": \"sandy@squirrelpower.org\"},\n",
    "        ]\n",
    "    )\n",
    "    conn.commit()"
   ]
  },
  {
   "cell_type": "code",
   "execution_count": 47,
   "metadata": {},
   "outputs": [
    {
     "name": "stdout",
     "output_type": "stream",
     "text": [
      "2022-10-12 11:05:38,770 INFO sqlalchemy.engine.Engine BEGIN (implicit)\n",
      "2022-10-12 11:05:38,773 INFO sqlalchemy.engine.Engine SELECT user_strict.id, user_strict.name, user_strict.fullname \n",
      "FROM user_strict\n",
      "2022-10-12 11:05:38,775 INFO sqlalchemy.engine.Engine [generated in 0.00201s] ()\n",
      "<class 'sqlalchemy.exc.InvalidRequestError'>\n",
      "'UserStrict.addresses' is not available due to lazy='raise_on_sql'\n"
     ]
    }
   ],
   "source": [
    "try:\n",
    "    u1 = session.execute(select(UserStrict)).scalars().first()\n",
    "    print(f\"{u1.addresses = }\")\n",
    "except Exception as e:\n",
    "    print(f\"{type(e)}\")\n",
    "    print(f\"{str(e)}\")"
   ]
  },
  {
   "cell_type": "markdown",
   "metadata": {},
   "source": [
    "The `exception` would _indicate_ that this collection should be __loaded up front instead__."
   ]
  },
  {
   "cell_type": "code",
   "execution_count": 48,
   "metadata": {},
   "outputs": [
    {
     "name": "stdout",
     "output_type": "stream",
     "text": [
      "2022-10-12 11:07:15,158 INFO sqlalchemy.engine.Engine SELECT user_strict.id, user_strict.name, user_strict.fullname \n",
      "FROM user_strict\n",
      "2022-10-12 11:07:15,160 INFO sqlalchemy.engine.Engine [generated in 0.00208s] ()\n",
      "2022-10-12 11:07:15,165 INFO sqlalchemy.engine.Engine SELECT address_strict.user_id AS address_strict_user_id, address_strict.id AS address_strict_id, address_strict.email_address AS address_strict_email_address \n",
      "FROM address_strict \n",
      "WHERE address_strict.user_id IN (?, ?, ?, ?, ?)\n",
      "2022-10-12 11:07:15,167 INFO sqlalchemy.engine.Engine [generated in 0.00155s] (1, 2, 3, 4, 5)\n",
      "u1 = User(id=1, name='spongebob', fullname='Spongebob Squarepants')\n"
     ]
    }
   ],
   "source": [
    "u1 = session.execute(select(UserStrict).options(selectinload(UserStrict.addresses))).scalars().first()\n",
    "print(f\"{u1 = }\")"
   ]
  },
  {
   "cell_type": "markdown",
   "metadata": {},
   "source": [
    "The `lazy=\"raise_on_sql\"` option __tries to be smart__ about `many-to-one relationships` as well; above, if the `Address.user` attribute of an `Address` object were _not loaded_, but that `User` object _were locally present_ in the __same `Session`__, the `\"raiseload\"` strategy __would not raise an error__."
   ]
  },
  {
   "cell_type": "code",
   "execution_count": null,
   "metadata": {},
   "outputs": [],
   "source": []
  }
 ],
 "metadata": {
  "kernelspec": {
   "display_name": "Python 3.9.6 ('sql-env': venv)",
   "language": "python",
   "name": "python3"
  },
  "language_info": {
   "codemirror_mode": {
    "name": "ipython",
    "version": 3
   },
   "file_extension": ".py",
   "mimetype": "text/x-python",
   "name": "python",
   "nbconvert_exporter": "python",
   "pygments_lexer": "ipython3",
   "version": "3.9.6"
  },
  "orig_nbformat": 4,
  "vscode": {
   "interpreter": {
    "hash": "3b00ed0d5d9853c9f0267ee6e89091ab706130aa0b00cb1356a08ef47194a158"
   }
  }
 },
 "nbformat": 4,
 "nbformat_minor": 2
}
