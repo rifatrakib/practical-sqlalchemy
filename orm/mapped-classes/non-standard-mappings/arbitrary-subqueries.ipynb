{
 "cells": [
  {
   "cell_type": "markdown",
   "metadata": {},
   "source": [
    "#### Mapping a Class against Arbitrary Subqueries\n",
    "\n",
    "Similar to _mapping against a join_, a plain `select()` object __can be used with a mapper__ as well. The example fragment below illustrates mapping a class called _Customer_ to a `select()` which __includes a join to a subquery__."
   ]
  },
  {
   "cell_type": "code",
   "execution_count": 3,
   "metadata": {},
   "outputs": [],
   "source": [
    "from sqlalchemy import Column, ForeignKey, Integer, String, Table, select, func\n",
    "from sqlalchemy.orm import declarative_base"
   ]
  },
  {
   "cell_type": "code",
   "execution_count": 2,
   "metadata": {},
   "outputs": [],
   "source": [
    "Base = declarative_base()"
   ]
  },
  {
   "cell_type": "code",
   "execution_count": 4,
   "metadata": {},
   "outputs": [],
   "source": [
    "customers = Table(\n",
    "    \"customers\",\n",
    "    Base.metadata,\n",
    "    Column(\"id\", Integer, primary_key=True),\n",
    "    Column(\"name\", String),\n",
    ")"
   ]
  },
  {
   "cell_type": "code",
   "execution_count": 5,
   "metadata": {},
   "outputs": [],
   "source": [
    "orders = Table(\n",
    "    \"orders\",\n",
    "    Base.metadata,\n",
    "    Column(\"id\", Integer, primary_key=True),\n",
    "    Column(\"customer_id\", Integer, ForeignKey(\"customers.id\")),\n",
    "    Column(\"price\", Integer),\n",
    ")"
   ]
  },
  {
   "cell_type": "code",
   "execution_count": 6,
   "metadata": {},
   "outputs": [],
   "source": [
    "subq = (\n",
    "    select(\n",
    "        func.count(orders.c.id).label(\"order_count\"),\n",
    "        func.max(orders.c.price).label(\"highest_order\"),\n",
    "        orders.c.customer_id,\n",
    "    ).group_by(orders.c.customer_id).subquery()\n",
    ")"
   ]
  },
  {
   "cell_type": "code",
   "execution_count": 7,
   "metadata": {},
   "outputs": [],
   "source": [
    "customer_select = (\n",
    "    select(customers, subq).\n",
    "    join_from(customers, subq, customers.c.id == subq.c.customer_id).\n",
    "    subquery()\n",
    ")"
   ]
  },
  {
   "cell_type": "code",
   "execution_count": 8,
   "metadata": {},
   "outputs": [],
   "source": [
    "class Customer(Base):\n",
    "    __table__ = customer_select"
   ]
  },
  {
   "cell_type": "markdown",
   "metadata": {},
   "source": [
    "Above, the full row represented by *customer_select* will be _all the columns of the customers table_, in addition to those __columns exposed by the `subq` subquery__, which are *order_count*, *highest_order*, and *customer_id*. Mapping the _Customer_ class to this _selectable_ then __creates a class which will contain those attributes__.\n",
    "\n",
    "When the _ORM_ __persists__ _new instances_ of `Customer`, __only the customers table will actually receive an INSERT__. This is because the _primary key_ of the _orders_ table is __not represented in the mapping__; the _ORM_ will __only emit an INSERT__ into a table for which it has _mapped the primary key_.\n",
    "\n",
    "> ##### Note\n",
    ">\n",
    "> The practice of _mapping to arbitrary SELECT statements_, especially _complex ones_ as above, is __almost never needed__; it _necessarily_ tends to produce _complex queries_ which are __often less efficient__ than that which would be produced by _direct query construction_. The practice is to some degree based on the very early history of SQLAlchemy where the `mapper()` construct was meant to _represent the primary querying interface_; in modern usage, the _Query_ object can be used to __construct virtually any SELECT statement__, including _complex composites_, and __should be favored__ over the `\"map-to-selectable\" approach`."
   ]
  },
  {
   "cell_type": "code",
   "execution_count": null,
   "metadata": {},
   "outputs": [],
   "source": []
  }
 ],
 "metadata": {
  "kernelspec": {
   "display_name": "Python 3.9.6 ('sql-env': venv)",
   "language": "python",
   "name": "python3"
  },
  "language_info": {
   "codemirror_mode": {
    "name": "ipython",
    "version": 3
   },
   "file_extension": ".py",
   "mimetype": "text/x-python",
   "name": "python",
   "nbconvert_exporter": "python",
   "pygments_lexer": "ipython3",
   "version": "3.9.6"
  },
  "orig_nbformat": 4,
  "vscode": {
   "interpreter": {
    "hash": "3b00ed0d5d9853c9f0267ee6e89091ab706130aa0b00cb1356a08ef47194a158"
   }
  }
 },
 "nbformat": 4,
 "nbformat_minor": 2
}
