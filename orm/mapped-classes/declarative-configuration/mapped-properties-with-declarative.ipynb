{
 "cells": [
  {
   "cell_type": "markdown",
   "metadata": {},
   "source": [
    "#### Defining Mapped Properties with Declarative\n",
    "\n",
    "The examples given at `Table Configuration with Declarative` illustrate _mappings against table-bound columns_; the _mapping_ of an _individual column_ to an `ORM class attribute` is __represented internally__ by the `ColumnProperty` construct. There are _many other varieties_ of `mapper` properties, the _most common_ being the `relationship()` construct. Other kinds of properties include _synonyms to columns_ which are defined using the `synonym()` construct, SQL expressions that are defined using the `column_property()` construct, and _deferred columns_ and `SQL expressions` which _load only when accessed_, defined using the `deferred()` construct.\n",
    "\n",
    "While an _imperative mapping_ makes use of the `properties dictionary` to establish all the __mapped class attributes__, in the _declarative mapping_, these properties are all __specified inline__ with the _class definition_, which in the case of a _declarative table mapping_ are __inline__ with the `Column` objects that will be used to _generate_ a `Table` object.\n",
    "\n",
    "Working with the example mapping of `User` and `Address`, we may illustrate a _declarative table mapping_ that __includes not just `Column` objects but also `relationships` and `SQL` expressions__."
   ]
  },
  {
   "cell_type": "code",
   "execution_count": 1,
   "metadata": {},
   "outputs": [],
   "source": [
    "from sqlalchemy import Column, ForeignKey, Integer, String, Text, Table\n",
    "from sqlalchemy.orm import (\n",
    "    column_property, declarative_base, deferred, relationship,\n",
    ")"
   ]
  },
  {
   "cell_type": "code",
   "execution_count": 2,
   "metadata": {},
   "outputs": [],
   "source": [
    "Base = declarative_base()"
   ]
  },
  {
   "cell_type": "code",
   "execution_count": 3,
   "metadata": {},
   "outputs": [],
   "source": [
    "class User(Base):\n",
    "    __tablename__ = \"user\"\n",
    "    \n",
    "    id = Column(Integer, primary_key=True)\n",
    "    name = Column(String)\n",
    "    firstname = Column(String(50))\n",
    "    lastname = Column(String(50))\n",
    "    \n",
    "    fullname = column_property(firstname + \" \" + lastname)\n",
    "    \n",
    "    addresses = relationship(\"Address\", back_populates=\"user\")"
   ]
  },
  {
   "cell_type": "code",
   "execution_count": 4,
   "metadata": {},
   "outputs": [],
   "source": [
    "class Address(Base):\n",
    "    __tablename__ = \"address\"\n",
    "    \n",
    "    id = Column(Integer, primary_key=True)\n",
    "    user_id = Column(ForeignKey(\"user.id\"))\n",
    "    email_address = Column(String)\n",
    "    \n",
    "    address_statistics = deferred(Column(Text))\n",
    "    \n",
    "    user = relationship(\"User\", back_populates=\"addresses\")"
   ]
  },
  {
   "cell_type": "markdown",
   "metadata": {},
   "source": [
    "The above _declarative table mapping_ features two tables, each with a `relationship()` referring to the other, as well as a __simple `SQL` expression__ _mapped_ by `column_property()`, and an _additional_ `Column` that will be __loaded on a `\"deferred\"` basis__ as defined by the `deferred()` construct. More documentation on these particular concepts may be found at `Basic Relationship Patterns`, `Using column_property`, and `Deferred Column Loading`.\n",
    "\n",
    "Properties may be specified with a _declarative mapping_ as above using __\"hybrid table\" style__ as well; the `Column` objects that are __directly part of a table__ move into the `Table` definition but everything else, including composed SQL expressions, would __still be inline__ with the class definition. _Constructs_ that _need to refer_ to a `Column` __directly__ would reference it in terms of the `Table` object. To illustrate the above mapping using _hybrid table style_."
   ]
  },
  {
   "cell_type": "code",
   "execution_count": 5,
   "metadata": {},
   "outputs": [],
   "source": [
    "class HybridUser(Base):\n",
    "    __table__ = Table(\n",
    "        \"hybrid_user\",\n",
    "        Base.metadata,\n",
    "        Column(\"id\", Integer, primary_key=True),\n",
    "        Column(\"name\", String),\n",
    "        Column(\"firstname\", String(50)),\n",
    "        Column(\"lastname\", String(50)),\n",
    "    )\n",
    "    \n",
    "    fullname = column_property(__table__.c.firstname + \" \" + __table__.c.lastname)\n",
    "    \n",
    "    addresses = relationship(\"HybridAddress\", back_populates=\"user\")"
   ]
  },
  {
   "cell_type": "code",
   "execution_count": 6,
   "metadata": {},
   "outputs": [],
   "source": [
    "class HybridAddress(Base):\n",
    "    __table__ = Table(\n",
    "        \"hybrid_address\",\n",
    "        Base.metadata,\n",
    "        Column(\"id\", Integer, primary_key=True),\n",
    "        Column(\"user_id\", ForeignKey(\"user.id\")),\n",
    "        Column(\"email_address\", String),\n",
    "        Column(\"address_statistics\", Text),\n",
    "    )\n",
    "    \n",
    "    address_statistics = deferred(__table__.c.address_statistics)\n",
    "    \n",
    "    user = relationship(\"HybridUser\", back_populates=\"addresses\")"
   ]
  },
  {
   "cell_type": "markdown",
   "metadata": {},
   "source": [
    "Things to note above:\n",
    "\n",
    "* The _address_ `Table` contains a _column_ called `address_statistics`, however we __re-map__ this column under the __same attribute name__ to be under the control of a `deferred()` construct.\n",
    "\n",
    "* With both _declararative table_ and _hybrid table_ mappings, when we define a `ForeignKey` construct, we _always name the target table_ using the __table name__, and __not the mapped class name__.\n",
    "\n",
    "* When we define `relationship()` constructs, as these constructs __create a linkage between two mapped classes__ where __one necessarily is defined before the other__, we can refer to the _remote class_ using its __string name__. This _functionality_ also __extends__ into the area of _other arguments_ specified on the `relationship()` such as the `\"primary join\"` and `\"order by\"` arguments. See the section `Late-Evaluation of Relationship Arguments` for details on this."
   ]
  },
  {
   "cell_type": "code",
   "execution_count": null,
   "metadata": {},
   "outputs": [],
   "source": []
  }
 ],
 "metadata": {
  "kernelspec": {
   "display_name": "Python 3.9.6 ('sql-env': venv)",
   "language": "python",
   "name": "python3"
  },
  "language_info": {
   "codemirror_mode": {
    "name": "ipython",
    "version": 3
   },
   "file_extension": ".py",
   "mimetype": "text/x-python",
   "name": "python",
   "nbconvert_exporter": "python",
   "pygments_lexer": "ipython3",
   "version": "3.9.6"
  },
  "orig_nbformat": 4,
  "vscode": {
   "interpreter": {
    "hash": "3b00ed0d5d9853c9f0267ee6e89091ab706130aa0b00cb1356a08ef47194a158"
   }
  }
 },
 "nbformat": 4,
 "nbformat_minor": 2
}
