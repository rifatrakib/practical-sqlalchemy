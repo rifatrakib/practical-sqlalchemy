{
 "cells": [
  {
   "cell_type": "markdown",
   "metadata": {},
   "source": [
    "#### Mapper Configuration Options with Declarative\n",
    "\n",
    "With _all_ mapping forms, the `mapping of the class` is __configured through parameters__ that become part of the `Mapper` object. The _function_ which __ultimately receives these arguments__ is the `mapper()` function, and are _delivered_ to it from one of the _front-facing mapping functions_ defined on the `registry` object.\n",
    "\n",
    "For the _declarative form_ of mapping, mapper arguments are specified using the `__mapper_args__` declarative class variable, which is a __dictionary that is passed as keyword arguments__ to the `mapper()` function."
   ]
  },
  {
   "cell_type": "code",
   "execution_count": 1,
   "metadata": {},
   "outputs": [],
   "source": [
    "from sqlalchemy import Column, String, Integer, DateTime, select\n",
    "from sqlalchemy.orm import declared_attr, declarative_base\n",
    "from datetime import datetime"
   ]
  },
  {
   "cell_type": "code",
   "execution_count": 2,
   "metadata": {},
   "outputs": [],
   "source": [
    "Base = declarative_base()"
   ]
  },
  {
   "cell_type": "markdown",
   "metadata": {},
   "source": [
    "##### Map Specific Primary Key Columns\n",
    "\n",
    "The example below illustrates _Declarative-level settings_ for the `mapper.primary_key` parameter, which __establishes__ particular columns as part of what the `ORM` _should consider_ to be a __primary key for the class__, _independently_ of schema-level `primary key constraints`."
   ]
  },
  {
   "cell_type": "code",
   "execution_count": 3,
   "metadata": {},
   "outputs": [],
   "source": [
    "class GroupUsers(Base):\n",
    "    __tablename__ = \"group_users\"\n",
    "    \n",
    "    user_id = Column(String(40))\n",
    "    group_id = Column(String(40))\n",
    "    \n",
    "    __mapper_args__ = {\"primary_key\": [user_id, group_id]}"
   ]
  },
  {
   "cell_type": "markdown",
   "metadata": {},
   "source": [
    "##### Version ID Column\n",
    "\n",
    "The example below illustrates _Declarative-level settings_ for the `mapper.version_id_col` and `mapper.version_id_generator` parameters, which __configure an ORM-maintained version counter__ that is _updated and checked_ within the unit of work `flush process`."
   ]
  },
  {
   "cell_type": "code",
   "execution_count": 4,
   "metadata": {},
   "outputs": [],
   "source": [
    "class Widget(Base):\n",
    "    __tablename__ = \"widgets\"\n",
    "    \n",
    "    id = Column(Integer, primary_key=True)\n",
    "    timestamp = Column(DateTime, nullable=False)\n",
    "    \n",
    "    __mapper_args__ = {\n",
    "        \"version_id_col\": timestamp,\n",
    "        \"version_id_generator\": lambda v: datetime.now(),\n",
    "    }"
   ]
  },
  {
   "cell_type": "markdown",
   "metadata": {},
   "source": [
    "##### Single Table Inheritance\n",
    "\n",
    "The example below illustrates _Declarative-level settings_ for the `mapper.polymorphic_on` and `mapper.polymorphic_identity` parameters, which are used when __configuring a single-table inheritance mapping__."
   ]
  },
  {
   "cell_type": "code",
   "execution_count": 5,
   "metadata": {},
   "outputs": [],
   "source": [
    "class Person(Base):\n",
    "    __tablename__ = \"person\"\n",
    "    \n",
    "    person_id = Column(Integer, primary_key=True)\n",
    "    type = Column(String, nullable=False)\n",
    "    \n",
    "    __mapper_args__ = {\n",
    "        \"polymorphic_on\": type,\n",
    "        \"polymorphic_identity\": \"person\",\n",
    "    }"
   ]
  },
  {
   "cell_type": "code",
   "execution_count": 6,
   "metadata": {},
   "outputs": [],
   "source": [
    "class Employee(Person):\n",
    "    __mapper_args__ = {\n",
    "        \"polymorphic_identity\": \"employee\",\n",
    "    }"
   ]
  },
  {
   "cell_type": "markdown",
   "metadata": {},
   "source": [
    "##### Constructing mapper arguments dynamically\n",
    "\n",
    "The `__mapper_args__` dictionary _may be generated_ from a __class-bound descriptor method__ rather than from a _fixed dictionary_ by making use of the `declared_attr()` construct. This is __useful to create arguments for mappers that are programmatically derived__ from the _table configuration or other aspects_ of the `mapped class`. A __dynamic `__mapper_args__` attribute__ will typically be useful when using a `Declarative Mixin` or `abstract base class`.\n",
    "\n",
    "For example, to __omit from the mapping__ _any columns that have a special_ `Column.info` value, a _mixin_ can use a `__mapper_args__` method that __scans for these columns__ from the `cls.__table__` attribute and passes them to the `mapper.exclude_properties` collection."
   ]
  },
  {
   "cell_type": "code",
   "execution_count": 7,
   "metadata": {},
   "outputs": [],
   "source": [
    "class ExcludeColsWFlag:\n",
    "    @declared_attr\n",
    "    def __mapper_args__(cls):\n",
    "        return {\n",
    "            \"exclude_properties\": [\n",
    "                column.key for column in cls.__table__.c\n",
    "                if column.info.get(\"exclude\", False)\n",
    "            ]\n",
    "        }"
   ]
  },
  {
   "cell_type": "code",
   "execution_count": 8,
   "metadata": {},
   "outputs": [],
   "source": [
    "class Data(ExcludeColsWFlag, Base):\n",
    "    __tablename__ = \"data\"\n",
    "    \n",
    "    id = Column(Integer, primary_key=True)\n",
    "    data = Column(String)\n",
    "    \n",
    "    not_needed = Column(String, info={\"exclude\": True})"
   ]
  },
  {
   "cell_type": "markdown",
   "metadata": {},
   "source": [
    "Above, the `ExcludeColsWFlag` _mixin_ provides a __per-class `__mapper_args__` hook__ that will _scan_ for `Column` objects that __include the `key/value` `\"exclude\": True`__ passed to the `Column.info` parameter, and then add their string `\"key\"` name to the `mapper.exclude_properties` collection which will __prevent the resulting `Mapper` from considering these columns__ for any SQL operations."
   ]
  },
  {
   "cell_type": "code",
   "execution_count": null,
   "metadata": {},
   "outputs": [],
   "source": []
  }
 ],
 "metadata": {
  "kernelspec": {
   "display_name": "Python 3.9.6 ('sql-env': venv)",
   "language": "python",
   "name": "python3"
  },
  "language_info": {
   "codemirror_mode": {
    "name": "ipython",
    "version": 3
   },
   "file_extension": ".py",
   "mimetype": "text/x-python",
   "name": "python",
   "nbconvert_exporter": "python",
   "pygments_lexer": "ipython3",
   "version": "3.9.6"
  },
  "orig_nbformat": 4,
  "vscode": {
   "interpreter": {
    "hash": "3b00ed0d5d9853c9f0267ee6e89091ab706130aa0b00cb1356a08ef47194a158"
   }
  }
 },
 "nbformat": 4,
 "nbformat_minor": 2
}
