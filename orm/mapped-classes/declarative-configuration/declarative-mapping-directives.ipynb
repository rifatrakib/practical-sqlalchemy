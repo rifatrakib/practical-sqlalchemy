{
 "cells": [
  {
   "cell_type": "markdown",
   "metadata": {},
   "source": [
    "#### Other Declarative Mapping Directives\n",
    "\n",
    "* `__declare_last__()`: The `__declare_last__()` _hook_ __allows definition of a class level function__ that is _automatically called_ by the `MapperEvents.after_configured()` event, which occurs __after mappings are assumed to be completed__ and the __`\"configure\"` step has finished__."
   ]
  },
  {
   "cell_type": "code",
   "execution_count": 1,
   "metadata": {},
   "outputs": [],
   "source": [
    "from sqlalchemy import Column, Integer, String, Table, MetaData, PrimaryKeyConstraint\n",
    "from sqlalchemy.orm import declared_attr, registry, declarative_base"
   ]
  },
  {
   "cell_type": "code",
   "execution_count": 2,
   "metadata": {},
   "outputs": [],
   "source": [
    "Base = declarative_base()"
   ]
  },
  {
   "cell_type": "code",
   "execution_count": 3,
   "metadata": {},
   "outputs": [],
   "source": [
    "class AfterUserClass(Base):\n",
    "    __tablename__ = \"after_user\"\n",
    "    \n",
    "    id = Column(Integer, primary_key=True)\n",
    "    name = Column(String)\n",
    "    firstname = Column(String(50))\n",
    "    lastname = Column(String(50))\n",
    "    \n",
    "    @classmethod\n",
    "    def __declare_last__(cls):\n",
    "        print(\"configured already\")"
   ]
  },
  {
   "cell_type": "markdown",
   "metadata": {},
   "source": [
    "* `__declare_first__()`: Like `__declare_last__()`, but is called at the __beginning of mapper configuration__ via the `MapperEvents.before_configured()` event."
   ]
  },
  {
   "cell_type": "code",
   "execution_count": 4,
   "metadata": {},
   "outputs": [],
   "source": [
    "class BeforeUserClass(Base):\n",
    "    __tablename__ = \"before_user\"\n",
    "    \n",
    "    id = Column(Integer, primary_key=True)\n",
    "    name = Column(String)\n",
    "    firstname = Column(String(50))\n",
    "    lastname = Column(String(50))\n",
    "    \n",
    "    @classmethod\n",
    "    def __declare_first__(cls):\n",
    "        print(\"initializing configuration\")"
   ]
  },
  {
   "cell_type": "markdown",
   "metadata": {},
   "source": [
    "* `metadata`: The `MetaData` collection _normally used to assign_ a __new `Table`__ is the `registry.metadata` attribute _associated with_ the `registry` object in use. When using a _declarative base class_ such as that __generated__ by `declarative_base()` as well as `registry.generate_base()`, this `MetaData` is also _normally present_ also as an _attribute_ named `.metadata` that's __directly on the base class__, and thus also on the __mapped class via inheritance__. _Declarative uses this attribute_, when present, in order to __determine the target `MetaData` collection__, or if _not present_, uses the `MetaData` __associated directly with the registry__.\n",
    "\n",
    "This _attribute_ may also be _assigned towards_ in order to __affect the `MetaData` collection__ to be used on a __per-mapped-hierarchy basis for a single base and/or registry__. This _takes effect whether a declarative base class is used_ or if the `registry.mapped()` _decorator is used directly_, thus _allowing patterns_ such as the `metadata-per-abstract base` example in the next section, `__abstract__`. A _similar pattern_ can be illustrated using `registry.mapped()` as follows."
   ]
  },
  {
   "cell_type": "code",
   "execution_count": 5,
   "metadata": {},
   "outputs": [],
   "source": [
    "reg = registry()"
   ]
  },
  {
   "cell_type": "code",
   "execution_count": 6,
   "metadata": {},
   "outputs": [],
   "source": [
    "class BaseOne:\n",
    "    metadata = MetaData()"
   ]
  },
  {
   "cell_type": "code",
   "execution_count": 7,
   "metadata": {},
   "outputs": [],
   "source": [
    "class BaseTwo:\n",
    "    metadata = MetaData()"
   ]
  },
  {
   "cell_type": "code",
   "execution_count": 8,
   "metadata": {},
   "outputs": [],
   "source": [
    "@reg.mapped\n",
    "class ClassOne:\n",
    "    __tablename__ = \"t1\"  # will use reg.metadata\n",
    "    \n",
    "    id = Column(Integer, primary_key=True)"
   ]
  },
  {
   "cell_type": "code",
   "execution_count": 9,
   "metadata": {},
   "outputs": [],
   "source": [
    "@reg.mapped\n",
    "class ClassTwo(BaseOne):\n",
    "    __tablename__ = \"t2\"  # will use BaseOne.metadata\n",
    "    \n",
    "    id = Column(Integer, primary_key=True)"
   ]
  },
  {
   "cell_type": "code",
   "execution_count": 10,
   "metadata": {},
   "outputs": [],
   "source": [
    "@reg.mapped\n",
    "class ClassThree(BaseTwo):\n",
    "    __tablename__ = \"t3\"  # will use BaseTwo.metadata\n",
    "    \n",
    "    id = Column(Integer, primary_key=True)"
   ]
  },
  {
   "cell_type": "markdown",
   "metadata": {},
   "source": [
    "* `__abstract__`: `__abstract__` causes declarative to _skip the production of a table or mapper_ for the class __entirely__. A _class can be added within a hierarchy_ in the same way as `mixin` (see `Mixin and Custom Base Classes`), __allowing subclasses to extend just from the special class__."
   ]
  },
  {
   "cell_type": "code",
   "execution_count": 11,
   "metadata": {},
   "outputs": [],
   "source": [
    "class AbstractUserClass(Base):\n",
    "    __astract__ = True\n",
    "    __tablename__ = \"abstract_user\"\n",
    "    \n",
    "    id = Column(Integer, primary_key=True)\n",
    "    name = Column(String)\n",
    "    firstname = Column(String(50))\n",
    "    lastname = Column(String(50))\n",
    "    \n",
    "    def helpful_abstract_method(self):\n",
    "        print(\"inside abstract method\")\n",
    "    \n",
    "    @declared_attr\n",
    "    def __mapper_args__(cls):\n",
    "        return {\n",
    "            \"exclude_properties\": [\n",
    "                column.key for column in cls.__table__.c\n",
    "                if column.info.get(\"exclude\", False)\n",
    "            ]\n",
    "        }"
   ]
  },
  {
   "cell_type": "code",
   "execution_count": 12,
   "metadata": {},
   "outputs": [],
   "source": [
    "class MappedUserClass(AbstractUserClass):\n",
    "    pass"
   ]
  },
  {
   "cell_type": "markdown",
   "metadata": {},
   "source": [
    "_One possible use_ of `__abstract__` is to __use a distinct `MetaData` for different bases__."
   ]
  },
  {
   "cell_type": "code",
   "execution_count": 13,
   "metadata": {},
   "outputs": [],
   "source": [
    "class DefaultBase(Base):\n",
    "    __abstract__ = True\n",
    "    metadata = MetaData()"
   ]
  },
  {
   "cell_type": "code",
   "execution_count": 14,
   "metadata": {},
   "outputs": [],
   "source": [
    "class OtherBase(Base):\n",
    "    __abstract__ = True\n",
    "    metadata = MetaData()"
   ]
  },
  {
   "cell_type": "markdown",
   "metadata": {},
   "source": [
    "Above, _classes which inherit from_ `DefaultBase` will use one `MetaData` as the __registry of tables__, and _those which inherit from_ `OtherBase` will __use a different one__. The _tables themselves_ can then be __created perhaps within distinct databases__.\n",
    "\n",
    "```\n",
    "DefaultBase.metadata.create_all(engine_one)\n",
    "OtherBase.metadata.create_all(engine_two)\n",
    "```"
   ]
  },
  {
   "cell_type": "markdown",
   "metadata": {},
   "source": [
    "* `__table_cls__`: Allows the _callable/class_ used to _generate_ a `Table` to be __customized__. This is a very `open-ended hook` that can __allow special customizations__ to a `Table` that one generates here."
   ]
  },
  {
   "cell_type": "code",
   "execution_count": 15,
   "metadata": {},
   "outputs": [],
   "source": [
    "class CustomMixin(object):\n",
    "    @classmethod\n",
    "    def __table_cls__(cls, name, metadata_obj, *args, **kwargs):\n",
    "        return Table(f\"custom_{name}\", metadata_obj, *args, **kwargs)"
   ]
  },
  {
   "cell_type": "markdown",
   "metadata": {},
   "source": [
    "The above _mixin_ would cause _all_ `Table` _objects_ generated to __include the prefix `\"custom_\"`, followed by the name__ normally specified using the `__tablename__` attribute.\n",
    "\n",
    "`__table_cls__` also _supports_ the case of _returning_ `None`, which _causes the class_ to be __considered as single-table inheritance vs. its subclass__. This _may be useful in some customization schemes_ to determine that `single-table inheritance` should take place based on the _arguments for the table itself_, such as, define as _single-inheritance_ if there is __no primary key present__."
   ]
  },
  {
   "cell_type": "code",
   "execution_count": 16,
   "metadata": {},
   "outputs": [],
   "source": [
    "class AutoTable(object):\n",
    "    @declared_attr\n",
    "    def __tablename__(cls):\n",
    "        return cls.__name__\n",
    "    \n",
    "    @classmethod\n",
    "    def __table_cls__(cls, *args, **kwargs):\n",
    "        for obj in args[1:]:\n",
    "            if (isinstance(obj, Column) and obj.primary_key) or isinstance(obj, PrimaryKeyConstraint):\n",
    "                return Table(*args, **kwargs)\n",
    "        return None"
   ]
  },
  {
   "cell_type": "code",
   "execution_count": 17,
   "metadata": {},
   "outputs": [],
   "source": [
    "class Person(AutoTable, Base):\n",
    "    id = Column(Integer, primary_key=True)"
   ]
  },
  {
   "cell_type": "code",
   "execution_count": 18,
   "metadata": {},
   "outputs": [],
   "source": [
    "class Employee(Person):\n",
    "    employee_name = Column(String)"
   ]
  },
  {
   "cell_type": "markdown",
   "metadata": {},
   "source": [
    "The above `Employee` class would be __mapped as single-table inheritance against__ `Person`; the `employee_name` column would be _added as a member_ of the `Person` table."
   ]
  },
  {
   "cell_type": "code",
   "execution_count": null,
   "metadata": {},
   "outputs": [],
   "source": []
  }
 ],
 "metadata": {
  "kernelspec": {
   "display_name": "Python 3.9.6 ('sql-env': venv)",
   "language": "python",
   "name": "python3"
  },
  "language_info": {
   "codemirror_mode": {
    "name": "ipython",
    "version": 3
   },
   "file_extension": ".py",
   "mimetype": "text/x-python",
   "name": "python",
   "nbconvert_exporter": "python",
   "pygments_lexer": "ipython3",
   "version": "3.9.6"
  },
  "orig_nbformat": 4,
  "vscode": {
   "interpreter": {
    "hash": "3b00ed0d5d9853c9f0267ee6e89091ab706130aa0b00cb1356a08ef47194a158"
   }
  }
 },
 "nbformat": 4,
 "nbformat_minor": 2
}
