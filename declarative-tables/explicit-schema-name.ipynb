{
 "cells": [
  {
   "cell_type": "code",
   "execution_count": 1,
   "metadata": {},
   "outputs": [],
   "source": [
    "from sqlalchemy import Column, Integer, String, MetaData\n",
    "from sqlalchemy.orm import declarative_base"
   ]
  },
  {
   "cell_type": "code",
   "execution_count": 2,
   "metadata": {},
   "outputs": [],
   "source": [
    "Base = declarative_base()"
   ]
  },
  {
   "cell_type": "markdown",
   "metadata": {},
   "source": [
    "#### Explicit Schema Name with Declarative Table\n",
    "\n",
    "The _schema name_ for a `Table` as documented at `Specifying the Schema Name` is __applied to an individual `Table`__ using the `Table.schema` argument. When using `Declarative tables`, this option is __passed like any other__ to the `__table_args__` dictionary."
   ]
  },
  {
   "cell_type": "code",
   "execution_count": 3,
   "metadata": {},
   "outputs": [],
   "source": [
    "class User(Base):\n",
    "    __tablename__ = \"user\"\n",
    "    __table_args__ = {\"schema\": \"some_schema\"}\n",
    "    \n",
    "    id = Column(Integer, primary_key=True)\n",
    "    name = Column(String)\n",
    "    fullname = Column(String)\n",
    "    nickname = Column(String)"
   ]
  },
  {
   "cell_type": "markdown",
   "metadata": {},
   "source": [
    "The _schema name_ can also be __applied to all `Table` objects globally__ by using the `MetaData.schema` parameter documented at `Specifying a Default Schema Name with MetaData`. The `MetaData` object may be __constructed separately__ and _passed_ either to `registry()` or `declarative_base()`."
   ]
  },
  {
   "cell_type": "code",
   "execution_count": 4,
   "metadata": {},
   "outputs": [],
   "source": [
    "metadata_obj = MetaData(schema=\"some_schema\")\n",
    "Base = declarative_base(metadata=metadata_obj)"
   ]
  },
  {
   "cell_type": "code",
   "execution_count": 5,
   "metadata": {},
   "outputs": [],
   "source": [
    "class UserGlobal(Base):\n",
    "    __tablename__ = \"user_global\"\n",
    "    \n",
    "    id = Column(Integer, primary_key=True)\n",
    "    name = Column(String)\n",
    "    fullname = Column(String)\n",
    "    nickname = Column(String)"
   ]
  },
  {
   "cell_type": "markdown",
   "metadata": {},
   "source": [
    "##### Appending additional columns to an existing Declarative mapped class\n",
    "\n",
    "A _declarative table configuration_ __allows the addition__ of _new_ `Column` objects to an _existing mapping_ __after__ the `Table` metadata has _already been generated_.\n",
    "\n",
    "For a `declarative class` that is _declared_ using a `declarative base class`, the _underlying metaclass_ `DeclarativeMeta` includes a `__setattr__()` method that will __intercept additional `Column` objects__ and __add them to both__ the `Table` using `Table.append_column()` as well as to the __existing Mapper__ using `Mapper.add_property()`."
   ]
  },
  {
   "cell_type": "code",
   "execution_count": 6,
   "metadata": {},
   "outputs": [],
   "source": [
    "UserGlobal.username = Column(\"username\", String)"
   ]
  },
  {
   "cell_type": "markdown",
   "metadata": {},
   "source": [
    "_Additional_ `Column` _objects_ may also be __added to a mapping__ in the specific circumstance of using __`single table inheritance`__, where _additional columns_ are __present on mapped subclasses__ that have __no `Table` of their own__. This is illustrated in the section `Single Table Inheritance`."
   ]
  },
  {
   "cell_type": "code",
   "execution_count": null,
   "metadata": {},
   "outputs": [],
   "source": []
  }
 ],
 "metadata": {
  "kernelspec": {
   "display_name": "Python 3.9.6 ('sql-env': venv)",
   "language": "python",
   "name": "python3"
  },
  "language_info": {
   "codemirror_mode": {
    "name": "ipython",
    "version": 3
   },
   "file_extension": ".py",
   "mimetype": "text/x-python",
   "name": "python",
   "nbconvert_exporter": "python",
   "pygments_lexer": "ipython3",
   "version": "3.9.6"
  },
  "orig_nbformat": 4,
  "vscode": {
   "interpreter": {
    "hash": "3b00ed0d5d9853c9f0267ee6e89091ab706130aa0b00cb1356a08ef47194a158"
   }
  }
 },
 "nbformat": 4,
 "nbformat_minor": 2
}
