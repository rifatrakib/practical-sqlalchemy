{
 "cells": [
  {
   "cell_type": "markdown",
   "metadata": {},
   "source": [
    "#### Declarative with Imperative Table (a.k.a. Hybrid Declarative)\n",
    "\n",
    "`Declarative mappings` may also be provided with a _pre-existing_ `Table` object, or otherwise a `Table` or other arbitrary `FromClause` construct (such as a `Join` or `Subquery`) that is __constructed separately__.\n",
    "\n",
    "This is referred to as a __`\"hybrid declarative\" mapping`__, as the class is mapped using the _declarative style_ for everything involving the `mapper configuration`, however the _mapped_ `Table` _object_ is __produced separately__ and _passed_ to the `declarative process` __directly__."
   ]
  },
  {
   "cell_type": "code",
   "execution_count": 7,
   "metadata": {},
   "outputs": [],
   "source": [
    "from sqlalchemy import Column, ForeignKey, Integer, String, Table, func, select\n",
    "from sqlalchemy.orm import declarative_base"
   ]
  },
  {
   "cell_type": "code",
   "execution_count": 2,
   "metadata": {},
   "outputs": [],
   "source": [
    "Base = declarative_base()"
   ]
  },
  {
   "cell_type": "code",
   "execution_count": 3,
   "metadata": {},
   "outputs": [],
   "source": [
    "# construct a Table directly\n",
    "# the Base.metadata collection is usually a good choice\n",
    "# for MetaData but any MetaData collection may be used\n",
    "user_table = Table(\n",
    "    \"user\",\n",
    "    Base.metadata,\n",
    "    Column(\"id\", Integer, primary_key=True),\n",
    "    Column(\"name\", String),\n",
    "    Column(\"fullname\", String),\n",
    "    Column(\"nickname\", String),\n",
    ")"
   ]
  },
  {
   "cell_type": "code",
   "execution_count": 4,
   "metadata": {},
   "outputs": [],
   "source": [
    "# construct the User class using this table.\n",
    "class User(Base):\n",
    "    __table__ = user_table"
   ]
  },
  {
   "cell_type": "markdown",
   "metadata": {},
   "source": [
    "Above, a `Table` object is constructed using the approach described at `Describing Databases with MetaData`. It __can then be applied directly__ to a class that is `declaratively mapped`. The `__tablename__` and `__table_args__` _declarative class attributes_ are __not used__ in this form. The above _configuration_ is __often more readable__ as an _inline definition_."
   ]
  },
  {
   "cell_type": "code",
   "execution_count": 5,
   "metadata": {},
   "outputs": [],
   "source": [
    "class UserInline(Base):\n",
    "    __table__ = Table(\n",
    "        \"user_inline\",\n",
    "        Base.metadata,\n",
    "        Column(\"id\", Integer, primary_key=True),\n",
    "        Column(\"name\", String),\n",
    "        Column(\"fullname\", String),\n",
    "        Column(\"nickname\", String),\n",
    "    )"
   ]
  },
  {
   "cell_type": "markdown",
   "metadata": {},
   "source": [
    "A _natural effect_ of the above style is that the `__table__` attribute is itself __defined within the `class definition block`__. As such it __may be immediately referred__ towards _within subsequent attributes_, such as the example below which illustrates _referring to the type column_ in a __polymorphic__ `mapper configuration`."
   ]
  },
  {
   "cell_type": "code",
   "execution_count": 6,
   "metadata": {},
   "outputs": [],
   "source": [
    "class Person(Base):\n",
    "    __table__ = Table(\n",
    "        \"person\",\n",
    "        Base.metadata,\n",
    "        Column(\"id\", Integer, primary_key=True),\n",
    "        Column(\"name\", String(50)),\n",
    "        Column(\"type\", String(50)),\n",
    "    )\n",
    "    \n",
    "    __mapper_args__ = {\n",
    "        \"polymorphic_on\": __table__.c.type,\n",
    "        \"polymorphic_identity\": \"person\",\n",
    "    }"
   ]
  },
  {
   "cell_type": "markdown",
   "metadata": {},
   "source": [
    "The __`\"imperative table\"`__ form is also used when a __non-`Table` construct__, such as a `Join` or `Subquery` object, is _to be mapped_. An example below."
   ]
  },
  {
   "cell_type": "markdown",
   "metadata": {},
   "source": [
    "```\n",
    "subq = (\n",
    "    select(\n",
    "        func.count(orders.c.id).label(\"order_count\"),\n",
    "        func.max(orders.c.price).label(\"highest_order\"),\n",
    "        orders.c.customer_id,\n",
    "    ).group_by(orders.c.customer_id).subquery()\n",
    ")\n",
    "\n",
    "customer_select = (\n",
    "    select(customers, subq).\n",
    "    join_from(customers, subq, customers.c.id == subq.c.customer_id).\n",
    "    subquery()\n",
    ")\n",
    "\n",
    "\n",
    "class Customer(Base):\n",
    "    __table__ = customer_select\n",
    "```"
   ]
  },
  {
   "cell_type": "markdown",
   "metadata": {},
   "source": [
    "For _background_ on `mapping to non-Table constructs` see the sections `Mapping a Class against Multiple Tables` and `Mapping a Class against Arbitrary Subqueries`.\n",
    "\n",
    "The `\"imperative table\"` form is of particular use __when the class itself is using an alternative form of attribute declaration__, such as `Python dataclasses`. See the section `Applying ORM Mappings to an existing dataclass` for detail."
   ]
  },
  {
   "cell_type": "code",
   "execution_count": null,
   "metadata": {},
   "outputs": [],
   "source": []
  }
 ],
 "metadata": {
  "kernelspec": {
   "display_name": "Python 3.9.6 ('sql-env': venv)",
   "language": "python",
   "name": "python3"
  },
  "language_info": {
   "codemirror_mode": {
    "name": "ipython",
    "version": 3
   },
   "file_extension": ".py",
   "mimetype": "text/x-python",
   "name": "python",
   "nbconvert_exporter": "python",
   "pygments_lexer": "ipython3",
   "version": "3.9.6"
  },
  "orig_nbformat": 4,
  "vscode": {
   "interpreter": {
    "hash": "3b00ed0d5d9853c9f0267ee6e89091ab706130aa0b00cb1356a08ef47194a158"
   }
  }
 },
 "nbformat": 4,
 "nbformat_minor": 2
}
