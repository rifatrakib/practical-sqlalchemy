{
 "cells": [
  {
   "cell_type": "markdown",
   "metadata": {},
   "source": [
    "#### Mapping Declaratively with Reflected Tables\n",
    "\n",
    "There are _several patterns available_ which provide for producing _mapped classes_ against a _series_ of `Table` objects that were __introspected from the database__, using the _reflection process_ described at `Reflecting Database Objects`.\n",
    "\n",
    "A _very simple way_ to __map a class to a table reflected from the database__ is to use a `declarative hybrid mapping`, passing the `Table.autoload_with` parameter to the `Table`."
   ]
  },
  {
   "cell_type": "code",
   "execution_count": 1,
   "metadata": {},
   "outputs": [],
   "source": [
    "from sqlalchemy import Column, Integer, String, Table, create_engine\n",
    "from sqlalchemy.orm import declarative_base"
   ]
  },
  {
   "cell_type": "code",
   "execution_count": 2,
   "metadata": {},
   "outputs": [],
   "source": [
    "engine = create_engine(\"sqlite+pysqlite:///:memory:\", echo=True, future=True)\n",
    "Base = declarative_base()"
   ]
  },
  {
   "cell_type": "code",
   "execution_count": 4,
   "metadata": {},
   "outputs": [],
   "source": [
    "class UserInline(Base):\n",
    "    __table__ = Table(\n",
    "        \"user\",\n",
    "        Base.metadata,\n",
    "        Column(\"id\", Integer, primary_key=True),\n",
    "        Column(\"name\", String),\n",
    "        Column(\"fullname\", String),\n",
    "        Column(\"nickname\", String),\n",
    "    )"
   ]
  },
  {
   "cell_type": "code",
   "execution_count": 5,
   "metadata": {},
   "outputs": [
    {
     "name": "stdout",
     "output_type": "stream",
     "text": [
      "2022-11-01 15:20:12,814 INFO sqlalchemy.engine.Engine BEGIN (implicit)\n",
      "2022-11-01 15:20:12,816 INFO sqlalchemy.engine.Engine PRAGMA main.table_info(\"user\")\n",
      "2022-11-01 15:20:12,816 INFO sqlalchemy.engine.Engine [raw sql] ()\n",
      "2022-11-01 15:20:12,818 INFO sqlalchemy.engine.Engine PRAGMA temp.table_info(\"user\")\n",
      "2022-11-01 15:20:12,819 INFO sqlalchemy.engine.Engine [raw sql] ()\n",
      "2022-11-01 15:20:12,821 INFO sqlalchemy.engine.Engine \n",
      "CREATE TABLE user (\n",
      "\tid INTEGER NOT NULL, \n",
      "\tname VARCHAR, \n",
      "\tfullname VARCHAR, \n",
      "\tnickname VARCHAR, \n",
      "\tPRIMARY KEY (id)\n",
      ")\n",
      "\n",
      "\n",
      "2022-11-01 15:20:12,823 INFO sqlalchemy.engine.Engine [no key 0.00204s] ()\n",
      "2022-11-01 15:20:12,826 INFO sqlalchemy.engine.Engine COMMIT\n"
     ]
    }
   ],
   "source": [
    "Base.metadata.create_all(engine)"
   ]
  },
  {
   "cell_type": "code",
   "execution_count": 6,
   "metadata": {},
   "outputs": [],
   "source": [
    "class User(Base):\n",
    "    __table__ = Table(\n",
    "        \"user\",\n",
    "        Base.metadata,\n",
    "        autoload_with=engine,\n",
    "    )"
   ]
  },
  {
   "cell_type": "markdown",
   "metadata": {},
   "source": [
    "A _variant_ on the above pattern that __scales much better__ is to use the `MetaData.reflect()` method to __reflect a full set of `Table` objects at once__, then refer to them from the `MetaData`."
   ]
  },
  {
   "cell_type": "code",
   "execution_count": 7,
   "metadata": {},
   "outputs": [
    {
     "name": "stdout",
     "output_type": "stream",
     "text": [
      "2022-11-01 15:21:22,256 INFO sqlalchemy.engine.Engine BEGIN (implicit)\n",
      "2022-11-01 15:21:22,258 INFO sqlalchemy.engine.Engine SELECT name FROM sqlite_master WHERE type='table' ORDER BY name\n",
      "2022-11-01 15:21:22,259 INFO sqlalchemy.engine.Engine [raw sql] ()\n",
      "2022-11-01 15:21:22,263 INFO sqlalchemy.engine.Engine ROLLBACK\n"
     ]
    }
   ],
   "source": [
    "Base.metadata.reflect(engine)"
   ]
  },
  {
   "cell_type": "code",
   "execution_count": 8,
   "metadata": {},
   "outputs": [],
   "source": [
    "class ReflectedUser(Base):\n",
    "    __table__ = Base.metadata.tables[\"user\"]"
   ]
  },
  {
   "cell_type": "markdown",
   "metadata": {},
   "source": [
    "A __major downside__ to the above approach is that the _mapped classes cannot be declared until the tables have been reflected_, which __requires__ the `database connectivity source` __to be present__ while the `application classes` are _being declared_; it's _typical_ that _classes are declared as the modules of an application are being imported_, but `database connectivity` __isn't available until the application starts__ running code so that it can _consume configuration information_ and __create an engine__. There are _currently_ `two approaches` to __working around__ this."
   ]
  },
  {
   "cell_type": "code",
   "execution_count": null,
   "metadata": {},
   "outputs": [],
   "source": []
  }
 ],
 "metadata": {
  "kernelspec": {
   "display_name": "Python 3.9.6 ('sql-env': venv)",
   "language": "python",
   "name": "python3"
  },
  "language_info": {
   "codemirror_mode": {
    "name": "ipython",
    "version": 3
   },
   "file_extension": ".py",
   "mimetype": "text/x-python",
   "name": "python",
   "nbconvert_exporter": "python",
   "pygments_lexer": "ipython3",
   "version": "3.9.6"
  },
  "orig_nbformat": 4,
  "vscode": {
   "interpreter": {
    "hash": "3b00ed0d5d9853c9f0267ee6e89091ab706130aa0b00cb1356a08ef47194a158"
   }
  }
 },
 "nbformat": 4,
 "nbformat_minor": 2
}
