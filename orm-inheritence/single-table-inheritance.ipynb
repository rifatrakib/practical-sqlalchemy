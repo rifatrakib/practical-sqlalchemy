{
 "cells": [
  {
   "cell_type": "markdown",
   "metadata": {},
   "source": [
    "#### Single Table Inheritance\n",
    "\n",
    "`Single table inheritance` represents _all attributes of all subclasses_ __within a single table__. A particular _subclass_ that has __attributes unique to that class__ will _persist them within columns_ in the table that are otherwise `NULL` if the row refers to a different kind of object.\n",
    "\n",
    "__Querying__ for a particular _subclass_ in the hierarchy will render as a `SELECT` _against the base table_, which will include a `WHERE` clause that _limits rows_ to those with a particular value or values present in the __discriminator column or expression__.\n",
    "\n",
    "`Single table inheritance` has the __advantage of simplicity__ compared to _joined table inheritance_; _queries_ are __much more efficient__ as only one table needs to be involved in order to load objects of every represented class.\n",
    "\n",
    "_Single table inheritance configuration_ looks much like `joined-table inheritance`, except only the _base class_ specifies `__tablename__`. A _discriminator column_ is also __required on the base table__ so that _classes can be differentiated from each other_.\n",
    "\n",
    "Even though _subclasses share the base table for all of their attributes_, when using _Declarative_, `Column` objects __may still be specified on subclasses__, indicating that the _column_ is to be __mapped only to that subclass__; the `Column` will be applied to the __same base `Table` object__."
   ]
  },
  {
   "cell_type": "code",
   "execution_count": 1,
   "metadata": {},
   "outputs": [],
   "source": [
    "from sqlalchemy import Column, DateTime, ForeignKey, Integer, String\n",
    "from sqlalchemy.orm import declared_attr, declarative_base, relationship"
   ]
  },
  {
   "cell_type": "code",
   "execution_count": 2,
   "metadata": {},
   "outputs": [],
   "source": [
    "Base = declarative_base()"
   ]
  },
  {
   "cell_type": "code",
   "execution_count": 3,
   "metadata": {},
   "outputs": [],
   "source": [
    "# class Employee(Base):\n",
    "#     __tablename__ = \"employee\"\n",
    "    \n",
    "#     id = Column(Integer, primary_key=True)\n",
    "#     name = Column(String(50))\n",
    "#     type = Column(String(20))\n",
    "    \n",
    "#     __mapper_args__ = {\n",
    "#         \"polymorphic_on\": type,\n",
    "#         \"polymorphic_identity\": \"employee\",\n",
    "#     }"
   ]
  },
  {
   "cell_type": "code",
   "execution_count": 4,
   "metadata": {},
   "outputs": [],
   "source": [
    "# class Manager(Employee):\n",
    "#     manager_date = Column(String(50))\n",
    "    \n",
    "#     __mapper_args__ = {\n",
    "#         \"polymorphic_identity\": \"manager\",\n",
    "#     }"
   ]
  },
  {
   "cell_type": "code",
   "execution_count": 5,
   "metadata": {},
   "outputs": [],
   "source": [
    "# class Engineer(Employee):\n",
    "#     engineer_date = Column(String(50))\n",
    "    \n",
    "#     __mapper_args__ = {\n",
    "#         \"polymorphic_identity\": \"engineer\",\n",
    "#     }"
   ]
  },
  {
   "cell_type": "markdown",
   "metadata": {},
   "source": [
    "Note that the _mappers for the derived classes_ `Manager` and `Engineer` __omit the `__tablename__`__, indicating they __do not have a mapped table of their own__."
   ]
  },
  {
   "cell_type": "markdown",
   "metadata": {},
   "source": [
    "##### Resolving Column Conflicts\n",
    "\n",
    "Note in the previous section that the *manager_name* and *engineer_info* columns are __\"moved up\"__ to be applied to `Employee.__table__`, as a result of their _declaration on a subclass that has no table of its own_. A _tricky case_ comes up when _two subclasses want to specify the same column_."
   ]
  },
  {
   "cell_type": "code",
   "execution_count": 6,
   "metadata": {},
   "outputs": [],
   "source": [
    "# class Manager(Employee):\n",
    "#     manager_data = Column(String(50))\n",
    "#     start_date = Column(DateTime)\n",
    "    \n",
    "#     __mapper_args__ = {\n",
    "#         \"polymorphic_identity\": \"manager\",\n",
    "#     }"
   ]
  },
  {
   "cell_type": "code",
   "execution_count": 7,
   "metadata": {},
   "outputs": [],
   "source": [
    "# class Engineer(Employee):\n",
    "#     engineer_data = Column(String(50))\n",
    "#     start_date = Column(DateTime)\n",
    "    \n",
    "#     __mapper_args__ = {\n",
    "#         \"polymorphic_identity\": \"engineer\",\n",
    "#     }"
   ]
  },
  {
   "cell_type": "markdown",
   "metadata": {},
   "source": [
    "Above, the `start_date` column declared on both _Engineer_ and _Manager_ will result in an error:\n",
    "\n",
    "```\n",
    "sqlalchemy.exc.ArgumentError: Column 'start_date' on class\n",
    "<class '__main__.Manager'> conflicts with existing\n",
    "column 'employee.start_date'\n",
    "```\n",
    "\n",
    "The above scenario presents an _ambiguity_ to the _Declarative mapping system_ that may be __resolved__ by using `declared_attr` to __define the `Column` conditionally__, taking care to return the existing column via the parent `__table__` if it already exists."
   ]
  },
  {
   "cell_type": "code",
   "execution_count": 8,
   "metadata": {},
   "outputs": [],
   "source": [
    "# class Engineer(Employee):\n",
    "#     __mapper_args__ = {\n",
    "#         \"polymorphic_identity\": \"engineer\",\n",
    "#     }\n",
    "    \n",
    "#     @declared_attr\n",
    "#     def start_date(cls):\n",
    "#         \"\"\"Start date column, if not present already\"\"\"\n",
    "#         return Employee.__table__.c.get(\"start_date\", Column(DateTime))"
   ]
  },
  {
   "cell_type": "code",
   "execution_count": 9,
   "metadata": {},
   "outputs": [],
   "source": [
    "# class Manager(Employee):\n",
    "#     __mapper_args__ = {\n",
    "#         \"polymorphic_identity\": \"manager\",\n",
    "#     }\n",
    "    \n",
    "#     @declared_attr\n",
    "#     def start_date(cls):\n",
    "#         \"\"\"Start date column, if not present already\"\"\"\n",
    "#         return Employee.__table__.c.get(\"start_date\", Column(DateTime))"
   ]
  },
  {
   "cell_type": "markdown",
   "metadata": {},
   "source": [
    "Above, when _Manager_ is mapped, the `start_date` column is _already present_ on the _Employee_ class; by returning the existing Column object, the _declarative system_ recognizes that this is the __same column to be mapped to the two different subclasses separately__.\n",
    "\n",
    "A _similar concept_ can be used with _mixin classes_ (see `Composing Mapped Hierarchies with Mixins`) to define a _particular series of columns and/or other mapped attributes_ from a __reusable mixin class__."
   ]
  },
  {
   "cell_type": "code",
   "execution_count": 10,
   "metadata": {},
   "outputs": [],
   "source": [
    "# class Employee(Base):\n",
    "#     __tablename__ = \"employee\"\n",
    "    \n",
    "#     id = Column(Integer, primary_key=True)\n",
    "#     name = Column(String(50))\n",
    "#     type = Column(String(20))\n",
    "    \n",
    "#     __mapper_args__ = {\n",
    "#         \"polymorphic_on\": type,\n",
    "#         \"polymorphic_identity\": \"employee\",\n",
    "#     }\n",
    "\n",
    "\n",
    "# class HasStartDate:\n",
    "#     @declared_attr\n",
    "#     def start_date(cls):\n",
    "#         return cls.__table__.c.get(\"start_date\", Column(DateTime))\n",
    "\n",
    "\n",
    "# class Engineer(HasStartDate, Employee):\n",
    "#     __mapper_args__ = {\n",
    "#         \"polymorphic_identity\": \"engineer\",\n",
    "#     }\n",
    "\n",
    "\n",
    "# class Manager(HasStartDate, Employee):\n",
    "#     __mapper_args__ = {\n",
    "#         \"polymorphic_identity\": \"manager\",\n",
    "#     }"
   ]
  },
  {
   "cell_type": "markdown",
   "metadata": {},
   "source": [
    "##### Relationships with Single Table Inheritance\n",
    "\n",
    "_Relationships_ are __fully supported__ with `single table inheritance`. _Configuration_ is done in the __same manner__ as that of `joined inheritance`; a _foreign key attribute_ should be __on the same class__ that's the __\"foreign\" side of the relationship__."
   ]
  },
  {
   "cell_type": "code",
   "execution_count": 11,
   "metadata": {},
   "outputs": [],
   "source": [
    "# class Company(Base):\n",
    "#     __tablename__ = \"company\"\n",
    "    \n",
    "#     id = Column(Integer, primary_key=True)\n",
    "#     name = Column(String(50))\n",
    "#     employees = relationship(\"Employee\", back_populates=\"company\")"
   ]
  },
  {
   "cell_type": "code",
   "execution_count": 12,
   "metadata": {},
   "outputs": [],
   "source": [
    "# class Employee(Base):\n",
    "#     __tablename__ = \"employee\"\n",
    "    \n",
    "#     id = Column(Integer, primary_key=True)\n",
    "#     name = Column(String(50))\n",
    "#     type = Column(String(50))\n",
    "    \n",
    "#     company_id = Column(ForeignKey(\"company.id\"))\n",
    "#     company = relationship(\"Company\", back_populates=\"employees\")\n",
    "    \n",
    "#     __mapper_args__ = {\n",
    "#         \"polymorphic_identity\": \"employee\",\n",
    "#         \"polymorphic_on\": type,\n",
    "#     }"
   ]
  },
  {
   "cell_type": "code",
   "execution_count": 13,
   "metadata": {},
   "outputs": [],
   "source": [
    "# class Manager(Employee):\n",
    "#     manager_data = Column(String(50))\n",
    "    \n",
    "#     __mapper_args__ = {\n",
    "#         \"polymorphic_identity\": \"manager\",\n",
    "#     }"
   ]
  },
  {
   "cell_type": "code",
   "execution_count": 14,
   "metadata": {},
   "outputs": [],
   "source": [
    "# class Engineer(Employee):\n",
    "#     engineer_info = Column(String(50))\n",
    "    \n",
    "#     __mapper_args__ = {\n",
    "#         \"polymorphic_identity\": \"engineer\",\n",
    "#     }"
   ]
  },
  {
   "cell_type": "markdown",
   "metadata": {},
   "source": [
    "Also, like the case of _joined inheritance_, we can create `relationships` that involve a specific subclass. When queried, the `SELECT` statement will include a `WHERE` clause that __limits the class selection to that subclass or subclasses__."
   ]
  },
  {
   "cell_type": "code",
   "execution_count": 15,
   "metadata": {},
   "outputs": [],
   "source": [
    "class Company(Base):\n",
    "    __tablename__ = \"company\"\n",
    "    \n",
    "    id = Column(Integer, primary_key=True)\n",
    "    name = Column(String(50))\n",
    "    managers = relationship(\"Manager\", back_populates=\"company\")"
   ]
  },
  {
   "cell_type": "code",
   "execution_count": 16,
   "metadata": {},
   "outputs": [],
   "source": [
    "class Employee(Base):\n",
    "    __tablename__ = \"employee\"\n",
    "    \n",
    "    id = Column(Integer, primary_key=True)\n",
    "    name = Column(String(50))\n",
    "    type = Column(String(50))\n",
    "    \n",
    "    __mapper_args__ = {\n",
    "        \"polymorphic_identity\": \"employee\",\n",
    "        \"polymorphic_on\": type,\n",
    "    }"
   ]
  },
  {
   "cell_type": "code",
   "execution_count": 17,
   "metadata": {},
   "outputs": [],
   "source": [
    "class Manager(Employee):\n",
    "    manager_name = Column(String(30))\n",
    "    \n",
    "    company_id = Column(ForeignKey(\"company.id\"))\n",
    "    company = relationship(\"Company\", back_populates=\"managers\")\n",
    "    \n",
    "    __mapper_args__ = {\n",
    "        \"polymorphic_identity\": \"manager\",\n",
    "    }"
   ]
  },
  {
   "cell_type": "code",
   "execution_count": 18,
   "metadata": {},
   "outputs": [],
   "source": [
    "class Engineer(Employee):\n",
    "    engineer_info = Column(String(50))\n",
    "    \n",
    "    __mapper_args__ = {\n",
    "        \"polymorphic_identity\": \"engineer\",\n",
    "    }"
   ]
  },
  {
   "cell_type": "markdown",
   "metadata": {},
   "source": [
    "Above, the _Manager_ class will have a `Manager.company` attribute; _Company_ will have a `Company.managers` attribute that __always loads against the employee__ with an _additional_ `WHERE` clause that __limits rows__ to those with `type = 'manager'`."
   ]
  },
  {
   "cell_type": "markdown",
   "metadata": {},
   "source": [
    "##### Loading Single Inheritance Mappings\n",
    "\n",
    "The _loading techniques_ for `single-table inheritance` are __mostly identical__ to those used for _joined-table inheritance_, and a _high degree of abstraction_ is provided between these two mapping types such that it is __easy to switch__ between them as well as to __intermix__ them in a _single hierarchy_ (just __omit `__tablename__` from whichever subclasses are to be single-inheriting__). See the sections `Loading Inheritance Hierarchies` and `Loading objects with single table inheritance` for documentation on inheritance loading techniques, including configuration of classes to be queried both at mapper configuration time as well as query time."
   ]
  },
  {
   "cell_type": "code",
   "execution_count": null,
   "metadata": {},
   "outputs": [],
   "source": []
  }
 ],
 "metadata": {
  "kernelspec": {
   "display_name": "Python 3.9.6 ('sql-env': venv)",
   "language": "python",
   "name": "python3"
  },
  "language_info": {
   "codemirror_mode": {
    "name": "ipython",
    "version": 3
   },
   "file_extension": ".py",
   "mimetype": "text/x-python",
   "name": "python",
   "nbconvert_exporter": "python",
   "pygments_lexer": "ipython3",
   "version": "3.9.6"
  },
  "orig_nbformat": 4,
  "vscode": {
   "interpreter": {
    "hash": "3b00ed0d5d9853c9f0267ee6e89091ab706130aa0b00cb1356a08ef47194a158"
   }
  }
 },
 "nbformat": 4,
 "nbformat_minor": 2
}
