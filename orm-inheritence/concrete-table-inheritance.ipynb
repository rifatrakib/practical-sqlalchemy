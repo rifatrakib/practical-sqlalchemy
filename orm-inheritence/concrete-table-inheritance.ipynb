{
 "cells": [
  {
   "cell_type": "markdown",
   "metadata": {},
   "source": [
    "#### Concrete Table Inheritance\n",
    "\n",
    "`Concrete inheritance` __maps each subclass to its own distinct table__, each of which contains __all columns necessary__ to produce an instance of that class. A _concrete inheritance configuration_ by default __queries non-polymorphically__; a query for a particular class will only query that class' table and only return instances of that class. _Polymorphic loading of concrete classes_ is enabled by __configuring within the mapper__ a _special_ `SELECT` that typically is produced as a `UNION` of _all the tables_.\n",
    "\n",
    "> ##### Warning\n",
    ">\n",
    "> _Concrete table inheritance_ is __much more complicated__ than _joined or single table inheritance_, and is __much more limited in functionality__ especially pertaining to _using it with relationships_, `eager loading`, and `polymorphic loading`. When used _polymorphically_ it produces _very large queries with UNIONS_ that __won't perform as well as simple joins__. It is strongly advised that if _flexibility_ in `relationship loading` and `polymorphic loading` is required, that _joined or single table inheritance_ be used if at all possible. If `polymorphic loading` isn't required, then _plain non-inheriting mappings_ can be used if each class refers to its own table completely.\n",
    "\n",
    "Whereas _joined and single table inheritance_ are __fluent__ in `\"polymorphic\" loading`, it is a _more awkward affair_ in `concrete inheritance`. For this reason, _concrete inheritance_ is __more appropriate__ when __polymorphic loading is not required__. Establishing relationships that involve concrete inheritance classes is also more awkward.\n",
    "\n",
    "To establish a class as using _concrete inheritance_, add the `mapper.concrete` parameter within the `__mapper_args__`. This indicates to _Declarative_ as well as the mapping that the _superclass table_ __should not be considered as part of the mapping__."
   ]
  },
  {
   "cell_type": "code",
   "execution_count": 1,
   "metadata": {},
   "outputs": [],
   "source": [
    "from sqlalchemy import Column, ForeignKey, Integer, String, Table\n",
    "from sqlalchemy.orm import registry, declarative_base, polymorphic_union, relationship\n",
    "from sqlalchemy.ext.declarative import ConcreteBase, AbstractConcreteBase"
   ]
  },
  {
   "cell_type": "code",
   "execution_count": 2,
   "metadata": {},
   "outputs": [],
   "source": [
    "Base = declarative_base()\n",
    "mapper_registry = registry()"
   ]
  },
  {
   "cell_type": "code",
   "execution_count": 3,
   "metadata": {},
   "outputs": [],
   "source": [
    "class Employee(Base):\n",
    "    __tablename__ = \"employee\"\n",
    "    \n",
    "    id = Column(Integer, primary_key=True)\n",
    "    name = Column(String(50))"
   ]
  },
  {
   "cell_type": "code",
   "execution_count": 4,
   "metadata": {},
   "outputs": [],
   "source": [
    "class Manager(Employee):\n",
    "    __tablename__ = \"manager\"\n",
    "    \n",
    "    id = Column(Integer, primary_key=True)\n",
    "    name = Column(String(50))\n",
    "    manager_data = Column(String(50))\n",
    "    \n",
    "    __mapper_args__ = {\n",
    "        \"concrete\": True,\n",
    "    }"
   ]
  },
  {
   "cell_type": "code",
   "execution_count": 5,
   "metadata": {},
   "outputs": [],
   "source": [
    "class Engineer(Employee):\n",
    "    __tablename__ = \"engineer\"\n",
    "    \n",
    "    id = Column(Integer, primary_key=True)\n",
    "    name = Column(String(50))\n",
    "    engineer_info = Column(String(50))\n",
    "    \n",
    "    __mapper_args__ = {\n",
    "        \"concrete\": True,\n",
    "    }"
   ]
  },
  {
   "cell_type": "markdown",
   "metadata": {},
   "source": [
    "_Two critical points_ should be noted:\n",
    "\n",
    "* We must __define all columns explicitly__ on _each subclass_, even those of the same name. A column such as `Employee.name` here is __not copied out__ to the tables mapped by _Manager_ or _Engineer_ for us.\n",
    "\n",
    "* while the _Engineer_ and _Manager_ classes are _mapped in an inheritance relationship_ with _Employee_, they still __do not include polymorphic loading__. Meaning, if we query for _Employee_ objects, the _manager_ and _engineer_ tables are __not queried at all__."
   ]
  },
  {
   "cell_type": "markdown",
   "metadata": {},
   "source": [
    "##### Concrete Polymorphic Loading Configuration\n",
    "\n",
    "_Polymorphic loading with concrete inheritance_ requires that a _specialized_ `SELECT` is __configured against each base class that should have polymorphic loading__. This `SELECT` needs to be __capable of accessing all the mapped tables individually__, and is typically a `UNION` statement that is constructed using a SQLAlchemy helper `polymorphic_union()`.\n",
    "\n",
    "As discussed in `Loading Inheritance Hierarchies`, _mapper inheritance configurations_ of any type __can be configured__ to _load from a special selectable_ by default using the `mapper.with_polymorphic` argument. Current public API requires that this argument is set on a _Mapper_ when it is first constructed.\n",
    "\n",
    "However, in the case of _Declarative_, both the _mapper_ and the _Table that is mapped_ are __created at once__, the moment the mapped class is defined. This means that the `mapper.with_polymorphic` argument __cannot be provided yet__, since the _Table_ objects that correspond to the subclasses _haven't yet been defined_.\n",
    "\n",
    "There are a few strategies available to resolve this cycle, however _Declarative_ provides _helper classes_ `ConcreteBase` and `AbstractConcreteBase` which handle this issue behind the scenes.\n",
    "\n",
    "Using `ConcreteBase`, we can set up our concrete mapping in almost the same way as we do other forms of inheritance mappings."
   ]
  },
  {
   "cell_type": "code",
   "execution_count": 6,
   "metadata": {},
   "outputs": [],
   "source": [
    "class ConcreteEmployee(ConcreteBase, Base):\n",
    "    __tablename__ = \"concrete_employee\"\n",
    "    \n",
    "    id = Column(Integer, primary_key=True)\n",
    "    name = Column(String(50))\n",
    "    \n",
    "    __mapper_args__ = {\n",
    "        \"polymorphic_identity\": \"concrete_employee\",\n",
    "        \"concrete\": True,\n",
    "    }"
   ]
  },
  {
   "cell_type": "code",
   "execution_count": 7,
   "metadata": {},
   "outputs": [],
   "source": [
    "class ConcreteManager(ConcreteEmployee):\n",
    "    __tablename__ = \"concrete_manager\"\n",
    "    \n",
    "    id = Column(Integer, primary_key=True)\n",
    "    name = Column(String(50))\n",
    "    manager_data = Column(String(40))\n",
    "    \n",
    "    __mapper_args__ = {\n",
    "        \"polymorphic_identity\": \"concrete_manager\",\n",
    "        \"concrete\": True,\n",
    "    }"
   ]
  },
  {
   "cell_type": "code",
   "execution_count": 8,
   "metadata": {},
   "outputs": [],
   "source": [
    "class ConcreteEngineer(ConcreteEmployee):\n",
    "    __tablename__ = \"concrete_engineer\"\n",
    "    \n",
    "    id = Column(Integer, primary_key=True)\n",
    "    name = Column(String(50))\n",
    "    engineer_info = Column(String(40))\n",
    "    \n",
    "    __mapper_args__ = {\n",
    "        \"polymorphic_identity\": \"concrete_engineer\",\n",
    "        \"concrete\": True,\n",
    "    }"
   ]
  },
  {
   "cell_type": "markdown",
   "metadata": {},
   "source": [
    "Above, _Declarative_ sets up the __polymorphic selectable__ for the _Employee_ class at __mapper `\"initialization\"` time__; this is the _late-configuration step_ for mappers that __resolves__ other _dependent mappers_. The `ConcreteBase` helper uses the `polymorphic_union()` function to _create a UNION of all concrete-mapped tables_ after all the other classes are set up, and then _configures_ this statement with the __already existing base-class mapper__.\n",
    "\n",
    "Upon _select_, the `polymorphic union` produces a query like this:\n",
    "\n",
    "```\n",
    "session.query(Employee).all()\n",
    "\n",
    "SELECT\n",
    "    pjoin.id AS pjoin_id,\n",
    "    pjoin.name AS pjoin_name,\n",
    "    pjoin.type AS pjoin_type,\n",
    "    pjoin.manager_data AS pjoin_manager_data,\n",
    "    pjoin.engineer_info AS pjoin_engineer_info\n",
    "FROM (\n",
    "    SELECT\n",
    "        employee.id AS id,\n",
    "        employee.name AS name,\n",
    "        CAST(NULL AS VARCHAR(50)) AS manager_data,\n",
    "        CAST(NULL AS VARCHAR(50)) AS engineer_info,\n",
    "        'employee' AS type\n",
    "    FROM employee\n",
    "    UNION ALL\n",
    "    SELECT\n",
    "        manager.id AS id,\n",
    "        manager.name AS name,\n",
    "        manager.manager_data AS manager_data,\n",
    "        CAST(NULL AS VARCHAR(50)) AS engineer_info,\n",
    "        'manager' AS type\n",
    "    FROM manager\n",
    "    UNION ALL\n",
    "    SELECT\n",
    "        engineer.id AS id,\n",
    "        engineer.name AS name,\n",
    "        CAST(NULL AS VARCHAR(50)) AS manager_data,\n",
    "        engineer.engineer_info AS engineer_info,\n",
    "        'engineer' AS type\n",
    "    FROM engineer\n",
    ") AS pjoin\n",
    "```\n",
    "\n",
    "The above _UNION_ query needs to manufacture `\"NULL\"` columns for _each subtable_ in order to __accommodate for those columns__ that _aren't members of that particular subclass_."
   ]
  },
  {
   "cell_type": "markdown",
   "metadata": {},
   "source": [
    "##### Abstract Concrete Classes\n",
    "\n",
    "The _concrete mappings_ illustrated thus far show both the _subclasses_ as well as the _base class_ mapped to individual tables. In the _concrete inheritance_ use case, it is __common__ that the __base class is not represented within the database, only the subclasses__. In other words, the _base class_ is `\"abstract\"`.\n",
    "\n",
    "Normally, when one would like to _map two different subclasses to individual tables_, and __leave the base class unmapped__, this can be achieved very easily. When using _Declarative_, just declare the base class with the `__abstract__` indicator."
   ]
  },
  {
   "cell_type": "code",
   "execution_count": 9,
   "metadata": {},
   "outputs": [],
   "source": [
    "class AbstractEmployee(Base):\n",
    "    __abstract__ = True"
   ]
  },
  {
   "cell_type": "code",
   "execution_count": 10,
   "metadata": {},
   "outputs": [],
   "source": [
    "class AbstractManager(AbstractEmployee):\n",
    "    __tablename__ = \"abstract_manager\"\n",
    "    \n",
    "    id = Column(Integer, primary_key=True)\n",
    "    name = Column(String(50))\n",
    "    manager_data = Column(String(40))"
   ]
  },
  {
   "cell_type": "code",
   "execution_count": 11,
   "metadata": {},
   "outputs": [],
   "source": [
    "class AbstractEngineer(AbstractEmployee):\n",
    "    __tablename__ = \"abstract_engineer\"\n",
    "    \n",
    "    id = Column(Integer, primary_key=True)\n",
    "    name = Column(String(50))\n",
    "    engineer_info = Column(String(40))"
   ]
  },
  {
   "cell_type": "markdown",
   "metadata": {},
   "source": [
    "Above, we are __not actually__ making use of SQLAlchemy's inheritance mapping facilities; we can _load and persist_ instances of _AbstractManager_ and _AbstractEngineer_ normally. The situation changes however when we need to _query polymorphically_, that is, we'd like to _emit_ `session.query(AbstractEmployee)` and get back a _collection of AbstractManager and AbstractEngineer instances_. This brings us back into the domain of _concrete inheritance_, and we must __build a special mapper__ against _AbstractEmployee_ in order to achieve this.\n",
    "\n",
    "To modify our _concrete inheritance_ example to illustrate an `\"abstract\" base` that is capable of _polymorphic loading_, we will have only an _engineer_ and a _manager_ table and __no employee table__, however the _AbstractEmployee_ mapper will be __mapped directly to the \"polymorphic union\"__, rather than specifying it locally to the `mapper.with_polymorphic` parameter.\n",
    "\n",
    "To help with this, _Declarative_ offers a variant of the `ConcreteBase` class called `AbstractConcreteBase` which achieves this __automatically__."
   ]
  },
  {
   "cell_type": "code",
   "execution_count": 12,
   "metadata": {},
   "outputs": [],
   "source": [
    "class AbstractConcreteEmployee(AbstractConcreteBase, Base):\n",
    "    pass"
   ]
  },
  {
   "cell_type": "code",
   "execution_count": 13,
   "metadata": {},
   "outputs": [],
   "source": [
    "class AbstractConcreteManager(AbstractConcreteEmployee):\n",
    "    __tablename__ = \"abstract_concrete_manager\"\n",
    "    \n",
    "    id = Column(Integer, primary_key=True)\n",
    "    name = Column(String(50))\n",
    "    manager_data = Column(String(40))\n",
    "    \n",
    "    __mapper_args__ = {\n",
    "        \"polymorphic_identity\": \"abstract_concrete_manager\",\n",
    "        \"concrete\": True,\n",
    "    }"
   ]
  },
  {
   "cell_type": "code",
   "execution_count": 14,
   "metadata": {},
   "outputs": [],
   "source": [
    "class AbstractConcreteEngineer(AbstractConcreteEmployee):\n",
    "    __tablename__ = \"abstract_concrete_engineer\"\n",
    "    \n",
    "    id = Column(Integer, primary_key=True)\n",
    "    name = Column(String(50))\n",
    "    engineer_info = Column(String(40))\n",
    "    \n",
    "    __mapper_args__ = {\n",
    "        \"polymorphic_identity\": \"abstract_concrete_engineer\",\n",
    "        \"concrete\": True,\n",
    "    }"
   ]
  },
  {
   "cell_type": "code",
   "execution_count": 15,
   "metadata": {},
   "outputs": [],
   "source": [
    "# Base.registry.configure()"
   ]
  },
  {
   "cell_type": "markdown",
   "metadata": {},
   "source": [
    "Above, the `registry.configure()` method is invoked, which will __trigger__ the _Employee_ class to be __actually mapped__; _before the configuration step_, the class has __no mapping__ as the _sub-tables_ which it will query from __have not yet been defined__. This process is __more complex__ than that of _ConcreteBase_, in that the __entire mapping of the base class must be delayed until all the subclasses have been declared__. With a mapping like the above, only instances of _Manager_ and _Engineer_ __may be persisted__; _querying against the Employee_ class will __always produce__ _Manager_ and _Engineer_ objects."
   ]
  },
  {
   "cell_type": "markdown",
   "metadata": {},
   "source": [
    "##### Classical and Semi-Classical Concrete Polymorphic Configuration\n",
    "\n",
    "The _Declarative configurations_ illustrated with `ConcreteBase` and `AbstractConcreteBase` are _equivalent to two other forms of configuration_ that __make use of `polymorphic_union()` explicitly__. These configurational forms _make use of_ the `Table` object __explicitly__ so that the `\"polymorphic union\"` can be __created first, then applied to the mappings__. These are illustrated here to clarify the role of the `polymorphic_union()` function in terms of mapping.\n",
    "\n",
    "A _semi-classical mapping_ for example makes use of _Declarative_, but __establishes the `Table` objects separately__."
   ]
  },
  {
   "cell_type": "code",
   "execution_count": 16,
   "metadata": {},
   "outputs": [],
   "source": [
    "metadata_obj = Base.metadata"
   ]
  },
  {
   "cell_type": "code",
   "execution_count": 17,
   "metadata": {},
   "outputs": [],
   "source": [
    "employees_table = Table(\n",
    "    \"semi_classic_employee\",\n",
    "    metadata_obj,\n",
    "    Column(\"id\", Integer, primary_key=True),\n",
    "    Column(\"name\", String(50)),\n",
    ")"
   ]
  },
  {
   "cell_type": "code",
   "execution_count": 18,
   "metadata": {},
   "outputs": [],
   "source": [
    "managers_table = Table(\n",
    "    \"semi_classic_manager\",\n",
    "    metadata_obj,\n",
    "    Column(\"id\", Integer, primary_key=True),\n",
    "    Column(\"name\", String(50)),\n",
    "    Column(\"manager_data\", String(50)),\n",
    ")"
   ]
  },
  {
   "cell_type": "code",
   "execution_count": 19,
   "metadata": {},
   "outputs": [],
   "source": [
    "engineers_table = Table(\n",
    "    \"semi_classic_engineer\",\n",
    "    metadata_obj,\n",
    "    Column(\"id\", Integer, primary_key=True),\n",
    "    Column(\"name\", String(50)),\n",
    "    Column(\"engineer_info\", String(50)),\n",
    ")"
   ]
  },
  {
   "cell_type": "markdown",
   "metadata": {},
   "source": [
    "Next, the _UNION_ is produced using `polymorphic_union()`."
   ]
  },
  {
   "cell_type": "code",
   "execution_count": 20,
   "metadata": {},
   "outputs": [],
   "source": [
    "pjoin = polymorphic_union(\n",
    "    {\n",
    "        \"employee\": employees_table,\n",
    "        \"manager\": managers_table,\n",
    "        \"engineer\": engineers_table,\n",
    "    },\n",
    "    \"type\",\n",
    "    \"pjoin\",\n",
    ")"
   ]
  },
  {
   "cell_type": "markdown",
   "metadata": {},
   "source": [
    "With the above `Table` objects, the _mappings_ can be produced using `\"semi-classical\" style`, where we use _Declarative_ in conjunction with the `__table__` argument; our _polymorphic union_ above is passed via `__mapper_args__` to the `mapper.with_polymorphic` parameter."
   ]
  },
  {
   "cell_type": "code",
   "execution_count": 21,
   "metadata": {},
   "outputs": [],
   "source": [
    "class PjoinEmployee(Base):\n",
    "    __table__ = employees_table\n",
    "    \n",
    "    __mapper_args__ = {\n",
    "        \"polymorphic_on\": pjoin.c.type,\n",
    "        \"with_polymorphic\": (\"*\", pjoin),\n",
    "        \"polymorphic_identity\": \"employee\",\n",
    "    }"
   ]
  },
  {
   "cell_type": "code",
   "execution_count": 22,
   "metadata": {},
   "outputs": [],
   "source": [
    "class PjoinEngineer(Employee):\n",
    "    __table__ = engineers_table\n",
    "    __mapper_args__ = {\n",
    "        \"polymorphic_identity\": \"engineer\",\n",
    "        \"concrete\": True,\n",
    "    }"
   ]
  },
  {
   "cell_type": "code",
   "execution_count": 23,
   "metadata": {},
   "outputs": [],
   "source": [
    "class PjoinManager(Employee):\n",
    "    __table__ = managers_table\n",
    "    __mapper_args__ = {\n",
    "        \"polymorphic_identity\": \"manager\",\n",
    "        \"concrete\": True,\n",
    "    }"
   ]
  },
  {
   "cell_type": "markdown",
   "metadata": {},
   "source": [
    "Alternatively, the same `Table` objects can be used in __fully `\"classical\"` style__, without using _Declarative_ at all. A constructor similar to that supplied by _Declarative_ is illustrated."
   ]
  },
  {
   "cell_type": "code",
   "execution_count": 24,
   "metadata": {},
   "outputs": [],
   "source": [
    "class ClassicalEmployee:\n",
    "    def __init__(self, **kw):\n",
    "        for k in kw:\n",
    "            setattr(self, k, kw[k])"
   ]
  },
  {
   "cell_type": "code",
   "execution_count": 25,
   "metadata": {},
   "outputs": [],
   "source": [
    "class ClassicalManager(ClassicalEmployee):\n",
    "    pass"
   ]
  },
  {
   "cell_type": "code",
   "execution_count": 26,
   "metadata": {},
   "outputs": [],
   "source": [
    "class ClassicalEngineer(ClassicalEmployee):\n",
    "    pass"
   ]
  },
  {
   "cell_type": "code",
   "execution_count": 27,
   "metadata": {},
   "outputs": [],
   "source": [
    "employee_mapper = mapper_registry.map_imperatively(\n",
    "    ClassicalEmployee,\n",
    "    pjoin,\n",
    "    with_polymorphic=(\"*\", pjoin),\n",
    "    polymorphic_on=pjoin.c.type,\n",
    ")"
   ]
  },
  {
   "cell_type": "code",
   "execution_count": 28,
   "metadata": {},
   "outputs": [],
   "source": [
    "manager_mapper = mapper_registry.map_imperatively(\n",
    "    ClassicalManager,\n",
    "    managers_table,\n",
    "    inherits=employee_mapper,\n",
    "    concrete=True,\n",
    "    polymorphic_identity=\"manager\",\n",
    ")"
   ]
  },
  {
   "cell_type": "code",
   "execution_count": 29,
   "metadata": {},
   "outputs": [],
   "source": [
    "engineer_mapper = mapper_registry.map_imperatively(\n",
    "    ClassicalEngineer,\n",
    "    engineers_table,\n",
    "    inherits=employee_mapper,\n",
    "    concrete=True,\n",
    "    polymorphic_identity=\"engineer\",\n",
    ")"
   ]
  },
  {
   "cell_type": "markdown",
   "metadata": {},
   "source": [
    "The `\"abstract\"` example can also be mapped using `\"semi-classical\"` or `\"classical\"` style. The difference is that instead of applying the `\"polymorphic union\"` to the `mapper.with_polymorphic` parameter, we __apply it directly__ as the _mapped selectable_ on our _basemost mapper_. The _semi-classical mapping_ is illustrated below."
   ]
  },
  {
   "cell_type": "code",
   "execution_count": 30,
   "metadata": {},
   "outputs": [],
   "source": [
    "pjoin = polymorphic_union(\n",
    "    {\n",
    "        \"manager\": managers_table,\n",
    "        \"engineer\": engineers_table,\n",
    "    },\n",
    "    \"type\",\n",
    "    \"pjoin\",\n",
    ")"
   ]
  },
  {
   "cell_type": "code",
   "execution_count": 31,
   "metadata": {},
   "outputs": [],
   "source": [
    "class SelectableEmployee(Base):\n",
    "    __table__ = pjoin\n",
    "    \n",
    "    __mapper_args__ = {\n",
    "        \"polymorphic_on\": pjoin.c.type,\n",
    "        \"with_polymorphic\": \"*\",\n",
    "        \"polymorphic_identity\": \"employee\",\n",
    "    }"
   ]
  },
  {
   "cell_type": "code",
   "execution_count": 32,
   "metadata": {},
   "outputs": [],
   "source": [
    "class SelectableEngineer(SelectableEmployee):\n",
    "    __table__ = engineers_table\n",
    "    \n",
    "    __mapper_args__ = {\n",
    "        \"polymorphic_identity\": \"engineer\",\n",
    "        \"concrete\": True,\n",
    "    }"
   ]
  },
  {
   "cell_type": "code",
   "execution_count": 33,
   "metadata": {},
   "outputs": [],
   "source": [
    "class SelectableManager(SelectableEmployee):\n",
    "    __table__ = managers_table\n",
    "    \n",
    "    __mapper_args__ = {\n",
    "        \"polymorphic_identity\": \"manager\",\n",
    "        \"concrete\": True,\n",
    "    }"
   ]
  },
  {
   "cell_type": "markdown",
   "metadata": {},
   "source": [
    "Above, we use `polymorphic_union()` in the same manner as before, except that we __omit the employee table__."
   ]
  },
  {
   "cell_type": "markdown",
   "metadata": {},
   "source": [
    "##### Relationships with Concrete Inheritance\n",
    "\n",
    "In a _concrete inheritance_ scenario, _mapping relationships_ is `challenging` since the __distinct classes do not share a table__. If the relationships only involve specific classes, such as a relationship between _Company_ in our previous examples and _Manager_, special steps aren't needed as these are just two related tables.\n",
    "\n",
    "However, if _Company_ is to have a `one-to-many relationship` to _Employee_, indicating that the collection may include both _Engineer_ and _Manager_ objects, that implies that _Employee_ __must have polymorphic loading capabilities__ and also that __each table to be related must have a foreign key back to the company table__. An example of such a configuration is as follows."
   ]
  },
  {
   "cell_type": "code",
   "execution_count": 34,
   "metadata": {},
   "outputs": [],
   "source": [
    "class InheritenceCompany(Base):\n",
    "    __tablename__ = \"inheritence_company\"\n",
    "    \n",
    "    id = Column(Integer, primary_key=True)\n",
    "    name = Column(String(50))\n",
    "    employees = relationship(\"InheritenceEmployee\")"
   ]
  },
  {
   "cell_type": "code",
   "execution_count": 35,
   "metadata": {},
   "outputs": [],
   "source": [
    "class InheritenceEmployee(ConcreteBase, Base):\n",
    "    __tablename__ = \"inheritence_employee\"\n",
    "    \n",
    "    id = Column(Integer, primary_key=True)\n",
    "    name = Column(String(50))\n",
    "    company_id = Column(ForeignKey(\"inheritence_company.id\"))\n",
    "    \n",
    "    __mapper_args__ = {\n",
    "        \"polymorphic_identity\": \"inheritence_employee\",\n",
    "        \"concrete\": True,\n",
    "    }"
   ]
  },
  {
   "cell_type": "code",
   "execution_count": 36,
   "metadata": {},
   "outputs": [],
   "source": [
    "class InheritenceManager(Employee):\n",
    "    __tablename__ = \"inheritence_manager\"\n",
    "    \n",
    "    id = Column(Integer, primary_key=True)\n",
    "    name = Column(String(50))\n",
    "    manager_data = Column(String(40))\n",
    "    company_id = Column(ForeignKey(\"inheritence_company.id\"))\n",
    "    \n",
    "    __mapper_args__ = {\n",
    "        \"polymorphic_identity\": \"inheritence_manager\",\n",
    "        \"concrete\": True,\n",
    "    }"
   ]
  },
  {
   "cell_type": "code",
   "execution_count": 37,
   "metadata": {},
   "outputs": [],
   "source": [
    "class InheritenceEngineer(Employee):\n",
    "    __tablename__ = \"inheritence_engineer\"\n",
    "    \n",
    "    id = Column(Integer, primary_key=True)\n",
    "    name = Column(String(50))\n",
    "    engineer_info = Column(String(40))\n",
    "    company_id = Column(ForeignKey(\"inheritence_company.id\"))\n",
    "    \n",
    "    __mapper_args__ = {\n",
    "        \"polymorphic_identity\": \"inheritence_engineer\",\n",
    "        \"concrete\": True,\n",
    "    }"
   ]
  },
  {
   "cell_type": "markdown",
   "metadata": {},
   "source": [
    "The next complexity with _concrete inheritance_ and _relationships_ involves when we'd like _one or all_ of `Employee`, `Manager` and `Engineer` to themselves __refer back to `Company`__. For this case, SQLAlchemy has __special behavior__ in that a `relationship()` placed on _Employee_ which __links to__ _Company_ __does not work against the `Manager` and `Engineer` classes__, when _exercised_ at the _instance level_. Instead, a __distinct__ `relationship()` must be applied to each class. In order to achieve __bi-directional behavior__ in terms of _three separate relationships_ which serve as the opposite of `Company.employees`, the `relationship.back_populates` parameter is used between each of the relationships."
   ]
  },
  {
   "cell_type": "code",
   "execution_count": 38,
   "metadata": {},
   "outputs": [],
   "source": [
    "class BackCompany(Base):\n",
    "    __tablename__ = \"back_company\"\n",
    "    \n",
    "    id = Column(Integer, primary_key=True)\n",
    "    name = Column(String(50))\n",
    "    employees = relationship(\"BackEmployee\", back_populates=\"company\")"
   ]
  },
  {
   "cell_type": "code",
   "execution_count": 39,
   "metadata": {},
   "outputs": [],
   "source": [
    "class BackEmployee(ConcreteBase, Base):\n",
    "    __tablename__ = \"back_employee\"\n",
    "    \n",
    "    id = Column(Integer, primary_key=True)\n",
    "    name = Column(String(50))\n",
    "    company_id = Column(ForeignKey(\"back_company.id\"))\n",
    "    company = relationship(\"BackCompany\", back_populates=\"employees\")\n",
    "    \n",
    "    __mapper_args__ = {\n",
    "        \"polymorphic_identity\": \"back_employee\",\n",
    "        \"concrete\": True,\n",
    "    }"
   ]
  },
  {
   "cell_type": "code",
   "execution_count": 40,
   "metadata": {},
   "outputs": [],
   "source": [
    "class BackManager(BackEmployee):\n",
    "    __tablename__ = \"back_manager\"\n",
    "    \n",
    "    id = Column(Integer, primary_key=True)\n",
    "    name = Column(String(50))\n",
    "    manager_data = Column(String(40))\n",
    "    company_id = Column(ForeignKey(\"back_company.id\"))\n",
    "    company = relationship(\"BackCompany\", back_populates=\"employees\")\n",
    "    \n",
    "    __mapper_args__ = {\n",
    "        \"polymorphic_identity\": \"back_manager\",\n",
    "        \"concrete\": True,\n",
    "    }"
   ]
  },
  {
   "cell_type": "code",
   "execution_count": 41,
   "metadata": {},
   "outputs": [],
   "source": [
    "class BackEngineer(BackEmployee):\n",
    "    __tablename__ = \"back_engineer\"\n",
    "    \n",
    "    id = Column(Integer, primary_key=True)\n",
    "    name = Column(String(50))\n",
    "    engineer_info = Column(String(40))\n",
    "    company_id = Column(ForeignKey(\"back_company.id\"))\n",
    "    company = relationship(\"BackCompany\", back_populates=\"employees\")\n",
    "    \n",
    "    __mapper_args__ = {\n",
    "        \"polymorphic_identity\": \"back_engineer\",\n",
    "        \"concrete\": True,\n",
    "    }"
   ]
  },
  {
   "cell_type": "markdown",
   "metadata": {},
   "source": [
    "The above __limitation__ is related to the current implementation, including that _concrete inheriting classes_ __do not share any of the attributes of the superclass__ and therefore __need distinct relationships__ to be set up."
   ]
  },
  {
   "cell_type": "markdown",
   "metadata": {},
   "source": [
    "##### Loading Concrete Inheritance Mappings\n",
    "\n",
    "The _options_ for _loading with concrete inheritance_ are __limited__; generally, if _polymorphic loading_ is __configured on the mapper__ using one of the _declarative concrete mixins_, it __can't be modified at query time__ in current SQLAlchemy versions. Normally, the `with_polymorphic()` function would be __able to override__ the _style of loading used by concrete_, however due to _current limitations_ this is __not yet supported__."
   ]
  },
  {
   "cell_type": "code",
   "execution_count": null,
   "metadata": {},
   "outputs": [],
   "source": []
  }
 ],
 "metadata": {
  "kernelspec": {
   "display_name": "Python 3.9.6 ('sql-env': venv)",
   "language": "python",
   "name": "python3"
  },
  "language_info": {
   "codemirror_mode": {
    "name": "ipython",
    "version": 3
   },
   "file_extension": ".py",
   "mimetype": "text/x-python",
   "name": "python",
   "nbconvert_exporter": "python",
   "pygments_lexer": "ipython3",
   "version": "3.9.6"
  },
  "orig_nbformat": 4,
  "vscode": {
   "interpreter": {
    "hash": "3b00ed0d5d9853c9f0267ee6e89091ab706130aa0b00cb1356a08ef47194a158"
   }
  }
 },
 "nbformat": 4,
 "nbformat_minor": 2
}
