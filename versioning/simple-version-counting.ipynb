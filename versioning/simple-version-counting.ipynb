{
 "cells": [
  {
   "cell_type": "markdown",
   "metadata": {},
   "source": [
    "#### Simple Version Counting\n",
    "\n",
    "The most _straightforward_ way to __track versions__ is to _add an integer column_ to the mapped table, then establish it as the `version_id_col` within the mapper options."
   ]
  },
  {
   "cell_type": "code",
   "execution_count": 1,
   "metadata": {},
   "outputs": [],
   "source": [
    "from sqlalchemy import Column, Integer, String\n",
    "from sqlalchemy.orm import declarative_base"
   ]
  },
  {
   "cell_type": "code",
   "execution_count": 2,
   "metadata": {},
   "outputs": [],
   "source": [
    "Base = declarative_base()"
   ]
  },
  {
   "cell_type": "code",
   "execution_count": 3,
   "metadata": {},
   "outputs": [],
   "source": [
    "class User(Base):\n",
    "    __tablename__ = \"user\"\n",
    "    \n",
    "    id = Column(Integer, primary_key=True)\n",
    "    version_id = Column(Integer, nullable=False)\n",
    "    name = Column(String(50), nullable=False)\n",
    "    \n",
    "    __mapper_args__ = {\"version_id_col\": version_id}"
   ]
  },
  {
   "cell_type": "markdown",
   "metadata": {},
   "source": [
    "> ##### Note\n",
    ">\n",
    "> It is __strongly recommended__ that the `version_id` column be made _NOT NULL_. The _versioning feature_ __does not support a NULL value in the versioning column__.\n",
    "\n",
    "Above, the _User_ mapping __tracks integer versions__ using the column `version_id`. When an object of type _User_ is _first flushed_, the `version_id` column will be given a value of `\"1\"`. Then, an _UPDATE_ of the table later on __will always be emitted__ in a manner similar to the following:\n",
    "\n",
    "```\n",
    "UPDATE user SET version_id=:version_id, name=:name\n",
    "WHERE user.id = :user_id AND user.version_id = :user_version_id\n",
    "{\"name\": \"new name\", \"version_id\": 2, \"user_id\": 1, \"user_version_id\": 1}\n",
    "```\n",
    "\n",
    "The above _UPDATE_ statement is updating the row that not only matches `user.id = 1`, it also is __requiring__ that `user.version_id = 1`, where `\"1\"` is the __last version identifier__ we've been known to use on this object. If a transaction elsewhere has modified the row independently, this _version id_ will no longer match, and the _UPDATE_ statement will __report that no rows matched__; this is the condition that SQLAlchemy tests, that __exactly one row matched our UPDATE (or DELETE) statement__. If _zero rows match_, that _indicates_ our version of the data is __stale__, and a `StaleDataError` is raised."
   ]
  },
  {
   "cell_type": "code",
   "execution_count": null,
   "metadata": {},
   "outputs": [],
   "source": []
  }
 ],
 "metadata": {
  "kernelspec": {
   "display_name": "Python 3.9.6 ('sql-env': venv)",
   "language": "python",
   "name": "python3"
  },
  "language_info": {
   "codemirror_mode": {
    "name": "ipython",
    "version": 3
   },
   "file_extension": ".py",
   "mimetype": "text/x-python",
   "name": "python",
   "nbconvert_exporter": "python",
   "pygments_lexer": "ipython3",
   "version": "3.9.6"
  },
  "orig_nbformat": 4,
  "vscode": {
   "interpreter": {
    "hash": "3b00ed0d5d9853c9f0267ee6e89091ab706130aa0b00cb1356a08ef47194a158"
   }
  }
 },
 "nbformat": 4,
 "nbformat_minor": 2
}
