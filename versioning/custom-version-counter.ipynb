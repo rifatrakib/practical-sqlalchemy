{
 "cells": [
  {
   "cell_type": "markdown",
   "metadata": {},
   "source": [
    "#### Custom Version Counters/Types\n",
    "\n",
    "Other kinds of values or _counters_ can be used for _versioning_. Common types include `dates` and `GUIDs`. When using an _alternate type or counter scheme_, SQLAlchemy provides a _hook_ for this scheme using the `version_id_generator` argument, which _accepts_ a `version generation callable`. This callable is passed the value of the _current known version_, and is expected to __return the subsequent version__.\n",
    "\n",
    "For example, if we wanted to _track the versioning_ of our _User_ class using a _randomly generated GUID_, we could do this (note that some backends support a native GUID type, but we illustrate here using a simple string)."
   ]
  },
  {
   "cell_type": "code",
   "execution_count": 1,
   "metadata": {},
   "outputs": [],
   "source": [
    "from sqlalchemy import Column, Integer, String\n",
    "from sqlalchemy.orm import declarative_base\n",
    "\n",
    "import uuid"
   ]
  },
  {
   "cell_type": "code",
   "execution_count": 2,
   "metadata": {},
   "outputs": [],
   "source": [
    "Base = declarative_base()"
   ]
  },
  {
   "cell_type": "code",
   "execution_count": 3,
   "metadata": {},
   "outputs": [],
   "source": [
    "class User(Base):\n",
    "    __tablename__ = \"user\"\n",
    "    \n",
    "    id = Column(Integer, primary_key=True)\n",
    "    version_uuid = Column(String(32), nullable=False)\n",
    "    name = Column(String(50), nullable=False)\n",
    "    \n",
    "    __mapper_args__ = {\n",
    "        \"version_id_col\": version_uuid,\n",
    "        \"version_id_generator\": lambda version: uuid.uuid4().hex,\n",
    "    }"
   ]
  },
  {
   "cell_type": "markdown",
   "metadata": {},
   "source": [
    "The _persistence engine_ will call upon `uuid.uuid4()` each time a _User_ object is __subject to an INSERT or an UPDATE__. In this case, our _version generation function_ can __disregard__ the _incoming value of version_, as the `uuid4()` function __generates identifiers without any prerequisite value__. If we were using a _sequential versioning scheme_ such as numeric or a special character system, we could make use of the given version in order to help determine the subsequent value."
   ]
  },
  {
   "cell_type": "code",
   "execution_count": null,
   "metadata": {},
   "outputs": [],
   "source": []
  }
 ],
 "metadata": {
  "kernelspec": {
   "display_name": "Python 3.9.6 ('sql-env': venv)",
   "language": "python",
   "name": "python3"
  },
  "language_info": {
   "codemirror_mode": {
    "name": "ipython",
    "version": 3
   },
   "file_extension": ".py",
   "mimetype": "text/x-python",
   "name": "python",
   "nbconvert_exporter": "python",
   "pygments_lexer": "ipython3",
   "version": "3.9.6"
  },
  "orig_nbformat": 4,
  "vscode": {
   "interpreter": {
    "hash": "3b00ed0d5d9853c9f0267ee6e89091ab706130aa0b00cb1356a08ef47194a158"
   }
  }
 },
 "nbformat": 4,
 "nbformat_minor": 2
}
