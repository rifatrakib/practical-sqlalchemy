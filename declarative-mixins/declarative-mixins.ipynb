{
 "cells": [
  {
   "cell_type": "markdown",
   "metadata": {},
   "source": [
    "#### Composing Mapped Hierarchies with Mixins\n",
    "\n",
    "A common need when _mapping classes using the Declarative style_ is to __share some functionality__, such as a `set of common columns`, `some common table options`, or `other mapped properties`, __across many classes__. The __standard Python idioms__ for this is to have the __classes inherit from a superclass__ which _includes these common features_.\n",
    "\n",
    "When _using declarative mappings_, this idiom is __allowed via the usage of mixin classes__, as well as __via augmenting the declarative base__ produced by either the `registry.generate_base()` method or `declarative_base()` functions.\n",
    "\n",
    "When using _mixins_ or _abstract base classes_ with `Declarative`, a _decorator_ known as `declared_attr()` is __frequently used__. This _decorator_ allows the __creation of class methods__ that _produce a parameter or ORM construct_ that will be part of a _declarative mapping_. _Generating constructs using a callable_ allows for `Declarative` to get a _new copy of a particular kind of object each time it calls_ upon the `mixin` or `abstract base` on behalf of a __new class that's being mapped__."
   ]
  },
  {
   "cell_type": "code",
   "execution_count": 1,
   "metadata": {},
   "outputs": [],
   "source": [
    "from sqlalchemy import Column, Integer, String\n",
    "from sqlalchemy.orm import declared_attr, declarative_mixin, declarative_base"
   ]
  },
  {
   "cell_type": "code",
   "execution_count": 2,
   "metadata": {},
   "outputs": [],
   "source": [
    "Base = declarative_base()"
   ]
  },
  {
   "cell_type": "code",
   "execution_count": 3,
   "metadata": {},
   "outputs": [],
   "source": [
    "@declarative_mixin\n",
    "class CustomMixin:\n",
    "    @declared_attr\n",
    "    def __tablename__(cls):\n",
    "        return cls.__name__\n",
    "    \n",
    "    __table_args__ = {\"mysql_engine\": \"InnoDB\"}\n",
    "    __mapper_args__ = {\"always_refresh\": True}\n",
    "    \n",
    "    id = Column(Integer, primary_key=True)\n",
    "    name = Column(String)\n",
    "    fullname = Column(String)\n",
    "    nickname = Column(String)"
   ]
  },
  {
   "cell_type": "code",
   "execution_count": 4,
   "metadata": {},
   "outputs": [],
   "source": [
    "class UserModel(CustomMixin, Base):\n",
    "    age = Column(Integer)"
   ]
  },
  {
   "cell_type": "markdown",
   "metadata": {},
   "source": [
    "Where above, the class `UserModel` will contain an `\"id\"` column as the `primary key`, a `__tablename__` attribute that __derives from the name of the class itself__, as well as `__table_args__` and `__mapper_args__` defined by the `CustomMixin` _mixin class_. The `declared_attr()` _decorator_ applied to a _classmethod_ called `def __tablename__(cls):` has the effect of _turning the method into a classmethod_ while also indicating to `Declarative` that _this attribute_ is __significant within the mapping__.\n",
    "\n",
    "\n",
    "> ##### Tip\n",
    "> \n",
    "> The use of the `declarative_mixin()` _class decorator_ __marks a particular class as providing the service of providing SQLAlchemy declarative assignments__ as a mixin for other classes. This decorator is _currently only necessary to provide a hint to the Mypy plugin_ that this class should be handled as part of __declarative mappings__.\n",
    "\n",
    "There's __no fixed convention__ over whether __`CustomMixin` precedes `Base` or not__. _Normal Python method resolution rules_ __apply__, and the above example would work just as well with:\n",
    "\n",
    "```\n",
    "class UserModel(Base, CustomMixin):\n",
    "    age = Column(Integer)\n",
    "```\n",
    "\n",
    "This works because `Base` here __doesn't define any of the variables that `CustomMixin` defines__, i.e. `__tablename__`, `__table_args__`, `id`, etc. __If the `Base` did define an attribute of the same name__, the _class placed first_ in the _inherits list_ would __determine which attribute is used__ on the _newly defined class_."
   ]
  },
  {
   "cell_type": "code",
   "execution_count": null,
   "metadata": {},
   "outputs": [],
   "source": []
  }
 ],
 "metadata": {
  "kernelspec": {
   "display_name": "Python 3.9.6 ('sql-env': venv)",
   "language": "python",
   "name": "python3"
  },
  "language_info": {
   "codemirror_mode": {
    "name": "ipython",
    "version": 3
   },
   "file_extension": ".py",
   "mimetype": "text/x-python",
   "name": "python",
   "nbconvert_exporter": "python",
   "pygments_lexer": "ipython3",
   "version": "3.9.6"
  },
  "orig_nbformat": 4,
  "vscode": {
   "interpreter": {
    "hash": "3b00ed0d5d9853c9f0267ee6e89091ab706130aa0b00cb1356a08ef47194a158"
   }
  }
 },
 "nbformat": 4,
 "nbformat_minor": 2
}
