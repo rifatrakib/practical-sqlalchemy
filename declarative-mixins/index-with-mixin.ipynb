{
 "cells": [
  {
   "cell_type": "markdown",
   "metadata": {},
   "source": [
    "#### Creating Indexes with Mixins\n",
    "\n",
    "To define a _named, potentially multicolumn_ `Index` that __applies to all tables derived from a mixin__, use the `\"inline\"` form of `Index` and establish it as _part of_ `__table_args__`."
   ]
  },
  {
   "cell_type": "code",
   "execution_count": 1,
   "metadata": {},
   "outputs": [],
   "source": [
    "from sqlalchemy import Column, Integer, Index\n",
    "from sqlalchemy.orm import declared_attr, declarative_base, declarative_mixin"
   ]
  },
  {
   "cell_type": "code",
   "execution_count": 2,
   "metadata": {},
   "outputs": [],
   "source": [
    "Base = declarative_base()"
   ]
  },
  {
   "cell_type": "code",
   "execution_count": 3,
   "metadata": {},
   "outputs": [],
   "source": [
    "@declarative_mixin\n",
    "class IndexMixin:\n",
    "    a = Column(Integer)\n",
    "    b = Column(Integer)\n",
    "    \n",
    "    @declared_attr\n",
    "    def __table_args__(cls):\n",
    "        return (Index(f\"test_idx_{cls.__tablename__}\", \"a\", \"b\"), )"
   ]
  },
  {
   "cell_type": "code",
   "execution_count": 4,
   "metadata": {},
   "outputs": [],
   "source": [
    "class MyModel(IndexMixin, Base):\n",
    "    __tablename__ = \"atable\"\n",
    "    \n",
    "    c = Column(Integer, primary_key=True)"
   ]
  },
  {
   "cell_type": "code",
   "execution_count": null,
   "metadata": {},
   "outputs": [],
   "source": []
  }
 ],
 "metadata": {
  "kernelspec": {
   "display_name": "Python 3.9.6 ('sql-env': venv)",
   "language": "python",
   "name": "python3"
  },
  "language_info": {
   "codemirror_mode": {
    "name": "ipython",
    "version": 3
   },
   "file_extension": ".py",
   "mimetype": "text/x-python",
   "name": "python",
   "nbconvert_exporter": "python",
   "pygments_lexer": "ipython3",
   "version": "3.9.6"
  },
  "orig_nbformat": 4,
  "vscode": {
   "interpreter": {
    "hash": "3b00ed0d5d9853c9f0267ee6e89091ab706130aa0b00cb1356a08ef47194a158"
   }
  }
 },
 "nbformat": 4,
 "nbformat_minor": 2
}
