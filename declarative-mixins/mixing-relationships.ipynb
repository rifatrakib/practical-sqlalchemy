{
 "cells": [
  {
   "cell_type": "markdown",
   "metadata": {},
   "source": [
    "#### Mixing in Relationships\n",
    "\n",
    "_Relationships_ created by `relationship()` are provided with _declarative mixin classes_ __exclusively__ using the `declared_attr` approach, __eliminating any ambiguity__ which could arise when _copying a relationship_ and its possibly _column-bound contents_. Below is an example which __combines a foreign key column and a relationship__ so that _two classes_ `Foo` and `Bar` can both be __configured to reference a common target class via many-to-one__."
   ]
  },
  {
   "cell_type": "code",
   "execution_count": 1,
   "metadata": {},
   "outputs": [],
   "source": [
    "from sqlalchemy import Column, Integer, ForeignKey\n",
    "from sqlalchemy.orm import declared_attr, declarative_base, declarative_mixin, relationship"
   ]
  },
  {
   "cell_type": "code",
   "execution_count": 2,
   "metadata": {},
   "outputs": [],
   "source": [
    "Base = declarative_base()"
   ]
  },
  {
   "cell_type": "code",
   "execution_count": 3,
   "metadata": {},
   "outputs": [],
   "source": [
    "@declarative_mixin\n",
    "class RefTargetMixin:\n",
    "    @declared_attr\n",
    "    def target_id(cls):\n",
    "        return Column(\"target_id\", ForeignKey(\"target.id\"))\n",
    "    \n",
    "    @declared_attr\n",
    "    def target(cls):\n",
    "        return relationship(\"Target\")"
   ]
  },
  {
   "cell_type": "code",
   "execution_count": 4,
   "metadata": {},
   "outputs": [],
   "source": [
    "class Foo(RefTargetMixin, Base):\n",
    "    __tablename__ = \"foo\"\n",
    "    \n",
    "    id = Column(Integer, primary_key=True)"
   ]
  },
  {
   "cell_type": "code",
   "execution_count": 5,
   "metadata": {},
   "outputs": [],
   "source": [
    "class Bar(RefTargetMixin, Base):\n",
    "    __tablename__ = \"bar\"\n",
    "    \n",
    "    id = Column(Integer, primary_key=True)"
   ]
  },
  {
   "cell_type": "code",
   "execution_count": 6,
   "metadata": {},
   "outputs": [],
   "source": [
    "class Target(Base):\n",
    "    __tablename__ = \"target\"\n",
    "    \n",
    "    id = Column(Integer, primary_key=True)"
   ]
  },
  {
   "cell_type": "markdown",
   "metadata": {},
   "source": [
    "##### Using Advanced Relationship Arguments (e.g. primaryjoin, etc.)\n",
    "\n",
    "`relationship()` definitions which require *explicit primaryjoin, order_by etc. expressions* should in _all but the most simplistic cases_ use __late bound forms__ for these arguments, meaning, using either the __string form or a function/lambda__. The reason for this is that the related `Column` objects which are to be __configured using `@declared_attr`__ are _not available to another_ `@declared_attr` attribute; while the _methods will work and return_ __new `Column` objects__, those are __not__ the `Column` objects that _Declarative_ will be using as it _calls the methods on its own_, thus using __different__ `Column` objects.\n",
    "\n",
    "The _canonical_ example is the `primaryjoin` condition that __depends upon another mixed-in column__."
   ]
  },
  {
   "cell_type": "code",
   "execution_count": 7,
   "metadata": {},
   "outputs": [],
   "source": [
    "@declarative_mixin\n",
    "class WrongParamRefTargetMixin:\n",
    "    @declared_attr\n",
    "    def target_id(cls):\n",
    "        return Column(\"target_id\", ForeignKey(\"target.id\"))\n",
    "    \n",
    "    @declared_attr\n",
    "    def target(cls):\n",
    "        return relationship(Target, primaryjoin=Target.id == cls.target_id) # this is *incorrect*"
   ]
  },
  {
   "cell_type": "markdown",
   "metadata": {},
   "source": [
    "_Mapping_ a class using the above _mixin_, we __will get an error__ like:\n",
    "\n",
    "```\n",
    "sqlalchemy.exc.InvalidRequestError: this ForeignKey's parent column is not\n",
    "yet associated with a Table.\n",
    "```\n",
    "\n",
    "This is because the *target_id* `Column` we've called upon in our `target()` method is __not the same `Column`__ that _declarative_ is __actually going to map to our table__.\n",
    "\n",
    "The condition above is _resolved_ using a `lambda`:"
   ]
  },
  {
   "cell_type": "code",
   "execution_count": 8,
   "metadata": {},
   "outputs": [],
   "source": [
    "@declarative_mixin\n",
    "class ParamRefTargetMixin:\n",
    "    @declared_attr\n",
    "    def target_id(cls):\n",
    "        return Column(\"target_id\", ForeignKey(\"target.id\"))\n",
    "    \n",
    "    @declared_attr\n",
    "    def target(cls):\n",
    "        return relationship(Target, primaryjoin=lambda: Target.id == cls.target_id)"
   ]
  },
  {
   "cell_type": "markdown",
   "metadata": {},
   "source": [
    "or alternatively, the `string form` (which _ultimately generates_ a `lambda`):"
   ]
  },
  {
   "cell_type": "code",
   "execution_count": 9,
   "metadata": {},
   "outputs": [],
   "source": [
    "@declarative_mixin\n",
    "class AlternativeParamRefTargetMixin:\n",
    "    @declared_attr\n",
    "    def target_id(cls):\n",
    "        return Column(\"target_id\", ForeignKey(\"target.id\"))\n",
    "    \n",
    "    @declared_attr\n",
    "    def target(cls):\n",
    "        return relationship(Target, primaryjoin=f\"Target.id == {cls.__name__}.target_id\")"
   ]
  },
  {
   "cell_type": "code",
   "execution_count": null,
   "metadata": {},
   "outputs": [],
   "source": []
  }
 ],
 "metadata": {
  "kernelspec": {
   "display_name": "Python 3.9.6 ('sql-env': venv)",
   "language": "python",
   "name": "python3"
  },
  "language_info": {
   "codemirror_mode": {
    "name": "ipython",
    "version": 3
   },
   "file_extension": ".py",
   "mimetype": "text/x-python",
   "name": "python",
   "nbconvert_exporter": "python",
   "pygments_lexer": "ipython3",
   "version": "3.9.6"
  },
  "orig_nbformat": 4,
  "vscode": {
   "interpreter": {
    "hash": "3b00ed0d5d9853c9f0267ee6e89091ab706130aa0b00cb1356a08ef47194a158"
   }
  }
 },
 "nbformat": 4,
 "nbformat_minor": 2
}
