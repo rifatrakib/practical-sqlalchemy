{
 "cells": [
  {
   "cell_type": "markdown",
   "metadata": {},
   "source": [
    "#### Mixing in deferred(), column_property(), and other MapperProperty classes\n",
    "\n",
    "Like `relationship()`, __all `MapperProperty` subclasses__ such as `deferred()`, `column_property()`, etc. ultimately _involve references to columns_, and therefore, when used with _declarative mixins_, have the `declared_attr` requirement so that __no reliance on copying is needed__."
   ]
  },
  {
   "cell_type": "code",
   "execution_count": 1,
   "metadata": {},
   "outputs": [],
   "source": [
    "from sqlalchemy import Column, Integer\n",
    "from sqlalchemy.orm import (\n",
    "    declared_attr, declarative_base, declarative_mixin, deferred, column_property\n",
    ")"
   ]
  },
  {
   "cell_type": "code",
   "execution_count": 2,
   "metadata": {},
   "outputs": [],
   "source": [
    "Base = declarative_base()"
   ]
  },
  {
   "cell_type": "code",
   "execution_count": 3,
   "metadata": {},
   "outputs": [],
   "source": [
    "@declarative_mixin\n",
    "class SomethingMixin:\n",
    "    @declared_attr\n",
    "    def dprop(cls):\n",
    "        return deferred(Column(Integer))"
   ]
  },
  {
   "cell_type": "code",
   "execution_count": 4,
   "metadata": {},
   "outputs": [],
   "source": [
    "class SomethingModel(SomethingMixin, Base):\n",
    "    __tablename__ = \"something\"\n",
    "    \n",
    "    id = Column(Integer, primary_key=True)"
   ]
  },
  {
   "cell_type": "markdown",
   "metadata": {},
   "source": [
    "The `column_property()` or _other construct_ may __refer to other columns from the mixin__. These are __copied ahead of time__ before the `declared_attr` is invoked."
   ]
  },
  {
   "cell_type": "code",
   "execution_count": 5,
   "metadata": {},
   "outputs": [],
   "source": [
    "@declarative_mixin\n",
    "class AdditionalMixin:\n",
    "    x = Column(Integer)\n",
    "    y = Column(Integer)\n",
    "    \n",
    "    @declared_attr\n",
    "    def x_plus_y(cls):\n",
    "        return column_property(cls.x + cls.y)"
   ]
  },
  {
   "cell_type": "code",
   "execution_count": null,
   "metadata": {},
   "outputs": [],
   "source": []
  }
 ],
 "metadata": {
  "kernelspec": {
   "display_name": "Python 3.9.6 ('sql-env': venv)",
   "language": "python",
   "name": "python3"
  },
  "language_info": {
   "codemirror_mode": {
    "name": "ipython",
    "version": 3
   },
   "file_extension": ".py",
   "mimetype": "text/x-python",
   "name": "python",
   "nbconvert_exporter": "python",
   "pygments_lexer": "ipython3",
   "version": "3.9.6"
  },
  "orig_nbformat": 4,
  "vscode": {
   "interpreter": {
    "hash": "3b00ed0d5d9853c9f0267ee6e89091ab706130aa0b00cb1356a08ef47194a158"
   }
  }
 },
 "nbformat": 4,
 "nbformat_minor": 2
}
